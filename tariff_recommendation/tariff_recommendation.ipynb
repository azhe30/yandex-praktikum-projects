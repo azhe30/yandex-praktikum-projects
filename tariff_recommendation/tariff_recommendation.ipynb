{
 "cells": [
  {
   "cell_type": "markdown",
   "metadata": {},
   "source": [
    "# Рекомендация тарифов"
   ]
  },
  {
   "cell_type": "markdown",
   "metadata": {},
   "source": [
    "## Обзор данных"
   ]
  },
  {
   "cell_type": "code",
   "execution_count": 1,
   "metadata": {},
   "outputs": [],
   "source": [
    "import pandas as pd #импорт библиотеки pandas\n",
    "\n",
    "from sklearn.model_selection import train_test_split #импорт функции train_test_split из библиотеки sklearn\n",
    "#импорт функций accuracy_score, precision_score и recall_score из библиотеки sklearn\n",
    "from sklearn.metrics import accuracy_score, precision_score, recall_score \n",
    "from sklearn.tree import DecisionTreeClassifier #импорт модели DecisionTreeClassifier из библиотеки sklearn\n",
    "from sklearn.ensemble import RandomForestClassifier #импорт модели RandomForestClassifier из библиотеки sklearn\n",
    "from sklearn.linear_model import LogisticRegression #импорт модели LogisticRegression из библиотеки sklearn"
   ]
  },
  {
   "cell_type": "code",
   "execution_count": 2,
   "metadata": {},
   "outputs": [],
   "source": [
    "#чтение файла `users_behavior.csv` и сохранение в переменной `df`\n",
    "df = pd.read_csv('users_behavior.csv')"
   ]
  },
  {
   "cell_type": "code",
   "execution_count": 3,
   "metadata": {},
   "outputs": [
    {
     "data": {
      "text/html": [
       "<div>\n",
       "<style scoped>\n",
       "    .dataframe tbody tr th:only-of-type {\n",
       "        vertical-align: middle;\n",
       "    }\n",
       "\n",
       "    .dataframe tbody tr th {\n",
       "        vertical-align: top;\n",
       "    }\n",
       "\n",
       "    .dataframe thead th {\n",
       "        text-align: right;\n",
       "    }\n",
       "</style>\n",
       "<table border=\"1\" class=\"dataframe\">\n",
       "  <thead>\n",
       "    <tr style=\"text-align: right;\">\n",
       "      <th></th>\n",
       "      <th>calls</th>\n",
       "      <th>minutes</th>\n",
       "      <th>messages</th>\n",
       "      <th>mb_used</th>\n",
       "      <th>is_ultra</th>\n",
       "    </tr>\n",
       "  </thead>\n",
       "  <tbody>\n",
       "    <tr>\n",
       "      <th>3120</th>\n",
       "      <td>93.0</td>\n",
       "      <td>727.11</td>\n",
       "      <td>11.0</td>\n",
       "      <td>17723.74</td>\n",
       "      <td>0</td>\n",
       "    </tr>\n",
       "    <tr>\n",
       "      <th>609</th>\n",
       "      <td>51.0</td>\n",
       "      <td>368.20</td>\n",
       "      <td>30.0</td>\n",
       "      <td>20699.67</td>\n",
       "      <td>0</td>\n",
       "    </tr>\n",
       "    <tr>\n",
       "      <th>739</th>\n",
       "      <td>36.0</td>\n",
       "      <td>314.67</td>\n",
       "      <td>16.0</td>\n",
       "      <td>16476.83</td>\n",
       "      <td>0</td>\n",
       "    </tr>\n",
       "    <tr>\n",
       "      <th>1686</th>\n",
       "      <td>102.0</td>\n",
       "      <td>714.82</td>\n",
       "      <td>34.0</td>\n",
       "      <td>18341.56</td>\n",
       "      <td>0</td>\n",
       "    </tr>\n",
       "    <tr>\n",
       "      <th>1813</th>\n",
       "      <td>25.0</td>\n",
       "      <td>180.63</td>\n",
       "      <td>20.0</td>\n",
       "      <td>6854.94</td>\n",
       "      <td>0</td>\n",
       "    </tr>\n",
       "    <tr>\n",
       "      <th>3188</th>\n",
       "      <td>78.0</td>\n",
       "      <td>514.37</td>\n",
       "      <td>42.0</td>\n",
       "      <td>16543.09</td>\n",
       "      <td>1</td>\n",
       "    </tr>\n",
       "    <tr>\n",
       "      <th>3183</th>\n",
       "      <td>74.0</td>\n",
       "      <td>540.66</td>\n",
       "      <td>18.0</td>\n",
       "      <td>12415.10</td>\n",
       "      <td>0</td>\n",
       "    </tr>\n",
       "    <tr>\n",
       "      <th>44</th>\n",
       "      <td>98.0</td>\n",
       "      <td>665.56</td>\n",
       "      <td>106.0</td>\n",
       "      <td>19538.83</td>\n",
       "      <td>0</td>\n",
       "    </tr>\n",
       "    <tr>\n",
       "      <th>3052</th>\n",
       "      <td>48.0</td>\n",
       "      <td>359.71</td>\n",
       "      <td>127.0</td>\n",
       "      <td>13830.49</td>\n",
       "      <td>0</td>\n",
       "    </tr>\n",
       "    <tr>\n",
       "      <th>2110</th>\n",
       "      <td>44.0</td>\n",
       "      <td>355.66</td>\n",
       "      <td>33.0</td>\n",
       "      <td>17906.06</td>\n",
       "      <td>0</td>\n",
       "    </tr>\n",
       "  </tbody>\n",
       "</table>\n",
       "</div>"
      ],
      "text/plain": [
       "      calls  minutes  messages   mb_used  is_ultra\n",
       "3120   93.0   727.11      11.0  17723.74         0\n",
       "609    51.0   368.20      30.0  20699.67         0\n",
       "739    36.0   314.67      16.0  16476.83         0\n",
       "1686  102.0   714.82      34.0  18341.56         0\n",
       "1813   25.0   180.63      20.0   6854.94         0\n",
       "3188   78.0   514.37      42.0  16543.09         1\n",
       "3183   74.0   540.66      18.0  12415.10         0\n",
       "44     98.0   665.56     106.0  19538.83         0\n",
       "3052   48.0   359.71     127.0  13830.49         0\n",
       "2110   44.0   355.66      33.0  17906.06         0"
      ]
     },
     "execution_count": 3,
     "metadata": {},
     "output_type": "execute_result"
    }
   ],
   "source": [
    "df.sample(10) # просмотр данных датасета `df`"
   ]
  },
  {
   "cell_type": "code",
   "execution_count": 4,
   "metadata": {},
   "outputs": [
    {
     "name": "stdout",
     "output_type": "stream",
     "text": [
      "<class 'pandas.core.frame.DataFrame'>\n",
      "RangeIndex: 3214 entries, 0 to 3213\n",
      "Data columns (total 5 columns):\n",
      " #   Column    Non-Null Count  Dtype  \n",
      "---  ------    --------------  -----  \n",
      " 0   calls     3214 non-null   float64\n",
      " 1   minutes   3214 non-null   float64\n",
      " 2   messages  3214 non-null   float64\n",
      " 3   mb_used   3214 non-null   float64\n",
      " 4   is_ultra  3214 non-null   int64  \n",
      "dtypes: float64(4), int64(1)\n",
      "memory usage: 125.7 KB\n"
     ]
    }
   ],
   "source": [
    "df.info() #получение общей информации о таблице `df`"
   ]
  },
  {
   "cell_type": "markdown",
   "metadata": {},
   "source": [
    "Итак, в таблице 5 столбцов. Типы данных в столбцах: float64 и int64.\n",
    "\n",
    "Согласно документации к данным:\n",
    "* `сalls` — количество звонков,\n",
    "* `minutes` — суммарная длительность звонков в минутах,\n",
    "* `messages` — количество sms-сообщений,\n",
    "* `mb_used` — израсходованный интернет-трафик в Мб,\n",
    "* `is_ultra` — каким тарифом пользовался в течение месяца («Ультра» — 1, «Смарт» — 0).\n",
    "\n",
    "Каждый объект в наборе данных — это информация о поведении одного пользователя за месяц.\n",
    "\n",
    "Названия колонок указаны в соответствие с хорошим стилем написания. Количество значений в столбцах одинаковое, значит, в данных нет пропущенных значений. Предобработка данных уже выполнена."
   ]
  },
  {
   "cell_type": "markdown",
   "metadata": {},
   "source": [
    "### Выводы"
   ]
  },
  {
   "cell_type": "markdown",
   "metadata": {},
   "source": [
    "В каждой строке таблицы - данные о поведении одного пользователя за месяц. Часть колонок рассказывает о характеристиках расходуемого трафика: количество звонков, объём минут, количество отправленных сообщений, объём интернет- трафика. Другая часть - о действующем тарифе пользователя: «Смарт» или «Ультра».\n",
    "\n",
    "Предварительно можно утверждать, что, данных достаточно для построения модели для классификации пользователей с целью их перевода с архивных тарифов на тарифы «Смарт» или «Ультра».\n",
    "\n",
    "Предобработка данных уже выполнена."
   ]
  },
  {
   "cell_type": "markdown",
   "metadata": {},
   "source": [
    "## Подготовка выборок для обучения и тестирования моделей"
   ]
  },
  {
   "cell_type": "markdown",
   "metadata": {},
   "source": [
    "Так как спрятанной тестовой выборки у нас нет, данные необходимо разбить на три части: обучающую, валидационную и тестовую выборки. Разделим исходный датасет в соотношении 3:1:1 - 60% обучающая выборка и по 20% валидационная и тестовая выборки. Используем для этого функцию train_test_split."
   ]
  },
  {
   "cell_type": "code",
   "execution_count": 5,
   "metadata": {},
   "outputs": [],
   "source": [
    "# разделим сначала датасет на обучающую выборку и всё остальное, а затем вторую выборку на валидационною и тестовую\n",
    "df_train, df_valid_test = train_test_split(df, test_size=0.4, random_state=12345)"
   ]
  },
  {
   "cell_type": "code",
   "execution_count": 6,
   "metadata": {},
   "outputs": [
    {
     "name": "stdout",
     "output_type": "stream",
     "text": [
      "(1928, 5)\n",
      "(1286, 5)\n"
     ]
    }
   ],
   "source": [
    "# проверим размеры получившихся выборок\n",
    "print(df_train.shape)\n",
    "print(df_valid_test.shape)"
   ]
  },
  {
   "cell_type": "code",
   "execution_count": 7,
   "metadata": {},
   "outputs": [],
   "source": [
    "# теперь разделим выборку df_valid_test на валидационною и тестовую\n",
    "df_valid, df_test = train_test_split(df_valid_test, test_size=0.5, random_state=12345)"
   ]
  },
  {
   "cell_type": "code",
   "execution_count": 8,
   "metadata": {},
   "outputs": [
    {
     "name": "stdout",
     "output_type": "stream",
     "text": [
      "(643, 5)\n",
      "(643, 5)\n"
     ]
    }
   ],
   "source": [
    "# проверим размеры получившихся выборок\n",
    "print(df_valid.shape)\n",
    "print(df_test.shape)"
   ]
  },
  {
   "cell_type": "markdown",
   "metadata": {},
   "source": [
    "Также сразу на основе сформированных выборок подготовим отдельные таблицы с признаками, определяющими целевой признак, и целевым признаком."
   ]
  },
  {
   "cell_type": "code",
   "execution_count": 9,
   "metadata": {},
   "outputs": [],
   "source": [
    "features_train = df_train.drop(['is_ultra'], axis=1)\n",
    "target_train = df_train['is_ultra']\n",
    "\n",
    "features_valid = df_valid.drop(['is_ultra'], axis=1)\n",
    "target_valid = df_valid['is_ultra']\n",
    "\n",
    "features_test = df_valid.drop(['is_ultra'], axis=1)\n",
    "target_test = df_valid['is_ultra']"
   ]
  },
  {
   "cell_type": "markdown",
   "metadata": {},
   "source": [
    "### Выводы"
   ]
  },
  {
   "cell_type": "markdown",
   "metadata": {},
   "source": [
    "На данном этапе мы разделили исходные данные на обучающую, валидационную и тестовую выборки, а также подготовили таблицы с признаками, определяющими целевой признак, и целевым признаком."
   ]
  },
  {
   "cell_type": "markdown",
   "metadata": {},
   "source": [
    "## Исследование моделей"
   ]
  },
  {
   "cell_type": "markdown",
   "metadata": {},
   "source": [
    "Наш целевой признак (тариф, который будет предлагаться клиентам «Мегалайн» для перехода с архивного тарифа) является категориальным, поэтому мы будем подбирать модель для решения задачи классификации. Так как в нашем случае признака всего два (тарифы «Смарт» или «Ультра»), то нас интересует бинарная классификация."
   ]
  },
  {
   "cell_type": "markdown",
   "metadata": {},
   "source": [
    "### Решающее дерево"
   ]
  },
  {
   "cell_type": "markdown",
   "metadata": {},
   "source": [
    "Используем модель Решающее дерево, попробуем сразу несколько значений гиперпараметра `max_depth` и рассчитаем `accuracy`. Выберем значение `max_depth` при котором получается наилучшее значение `accuracy`."
   ]
  },
  {
   "cell_type": "code",
   "execution_count": 10,
   "metadata": {},
   "outputs": [
    {
     "name": "stdout",
     "output_type": "stream",
     "text": [
      "Accuracy лучшей модели: 0.7853810264385692 Глубина дерева: 3\n"
     ]
    }
   ],
   "source": [
    "best_model = None\n",
    "best_result = 0\n",
    "best_depth = 0\n",
    "for depth in range(1, 6):\n",
    "    model = DecisionTreeClassifier(random_state=12345, max_depth=depth) # обучим модель с заданной глубиной дерева\n",
    "    model.fit(features_train, target_train) # обучим модель на тренировочной выборке\n",
    "    predictions_valid = model.predict(features_valid) # получим предсказания модели на валидационной выборке\n",
    "    result = accuracy_score(target_valid, predictions_valid) # посчитайте качество модели на валидационной выборке\n",
    "    if result > best_result:\n",
    "        best_model = model # сохраним наилучшую модель\n",
    "        best_result = result # сохраним наилучшее значение метрики accuracy на валидационных данных\n",
    "        best_depth = depth # сохраним значение depth\n",
    "        \n",
    "print(\"Accuracy лучшей модели:\", best_result, \"Глубина дерева:\", best_depth)"
   ]
  },
  {
   "cell_type": "markdown",
   "metadata": {},
   "source": [
    "**Вывод**\n",
    "\n",
    "При использовании модели Решающее дерево наилучшее значение `accuracy` получается 0.79 при значении гиперпараметра Глубина дерева = 3."
   ]
  },
  {
   "cell_type": "markdown",
   "metadata": {},
   "source": [
    "### Случайный лес"
   ]
  },
  {
   "cell_type": "markdown",
   "metadata": {},
   "source": [
    "Теперь используем модель Случайный лес, попробуем сразу несколько значений гиперпараметра `n_estimators` и рассчитаем `accuracy`. Выберем значение `n_estimators` при котором получается наилучшее значение `accuracy`."
   ]
  },
  {
   "cell_type": "code",
   "execution_count": 11,
   "metadata": {
    "scrolled": true
   },
   "outputs": [
    {
     "name": "stdout",
     "output_type": "stream",
     "text": [
      "Accuracy наилучшей модели на валидационной выборке: 0.7853810264385692 Количество деревьев в лесу: 10\n"
     ]
    }
   ],
   "source": [
    "best_model = None\n",
    "best_result = 0\n",
    "best_estimators = 0\n",
    "for est in range(1, 11):\n",
    "    model = RandomForestClassifier(random_state=12345, n_estimators=est) # обучим модель с заданным количеством деревьев\n",
    "    model.fit(features_train, target_train) # обучим модель на тренировочной выборке\n",
    "    predictions_valid = model.predict(features_valid) # получим предсказания модели на валидационной выборке\n",
    "    result = accuracy_score(target_valid, predictions_valid) # посчитаем качество модели на валидационной выборке\n",
    "    if result > best_result:\n",
    "        best_model = model # сохраним наилучшую модель\n",
    "        best_result = result # сохраним наилучшее значение метрики accuracy на валидационных данных\n",
    "        best_estimators = est # сохраним значение n_estimators\n",
    "\n",
    "print(\"Accuracy наилучшей модели на валидационной выборке:\", best_result, \"Количество деревьев в лесу:\", best_estimators)"
   ]
  },
  {
   "cell_type": "markdown",
   "metadata": {},
   "source": [
    "**Вывод**\n",
    "\n",
    "При использовании модели Случайный лес наилучшее значение `accuracy` получается 0.79 при значении гиперпараметра Количество деревьев в лесу = 10."
   ]
  },
  {
   "cell_type": "markdown",
   "metadata": {},
   "source": [
    "### Логистическая регрессия"
   ]
  },
  {
   "cell_type": "markdown",
   "metadata": {},
   "source": [
    "Используем модель Логистическая регрессия, попробуем сразу несколько значений гиперпараметра `max_iter` и рассчитаем `accuracy`. Выберем значение `max_iter` при котором получается наилучшее значение `accuracy`. Используем алгоритм 'lbfgs'."
   ]
  },
  {
   "cell_type": "code",
   "execution_count": 12,
   "metadata": {
    "scrolled": true
   },
   "outputs": [
    {
     "name": "stdout",
     "output_type": "stream",
     "text": [
      "Accuracy наилучшей модели на валидационной выборке: 0.7107309486780715 Максимальное количество итераций обучения: 100\n"
     ]
    }
   ],
   "source": [
    "best_model = None\n",
    "best_result = 0\n",
    "best_iter = 0\n",
    "for m_iter in range(100, 1001, 100):\n",
    "    # обучим модель с заданным количеством деревьев\n",
    "    model = LogisticRegression(random_state=12345, solver='lbfgs', max_iter=m_iter) \n",
    "    model.fit(features_train, target_train) # обучим модель на тренировочной выборке\n",
    "    predictions_valid = model.predict(features_valid) # получим предсказания модели на валидационной выборке\n",
    "    result = accuracy_score(target_valid, predictions_valid) # посчитаем качество модели на валидационной выборке\n",
    "    if result > best_result:\n",
    "        best_model = model # сохраним наилучшую модель\n",
    "        best_result = result # сохраним наилучшее значение метрики accuracy на валидационных данных\n",
    "        best_iter = m_iter # сохраним значение n_estimators\n",
    "\n",
    "print(\"Accuracy наилучшей модели на валидационной выборке:\", best_result, \n",
    "      \"Максимальное количество итераций обучения:\", best_iter)"
   ]
  },
  {
   "cell_type": "markdown",
   "metadata": {},
   "source": [
    "**Вывод**\n",
    "\n",
    "При использовании модели Логистическая регрессия наилучшее значение `accuracy` получается 0.71 при значении гиперпараметра Максимальное количество итераций обучения = 100."
   ]
  },
  {
   "cell_type": "code",
   "execution_count": 13,
   "metadata": {},
   "outputs": [
    {
     "data": {
      "text/html": [
       "<div>\n",
       "<style scoped>\n",
       "    .dataframe tbody tr th:only-of-type {\n",
       "        vertical-align: middle;\n",
       "    }\n",
       "\n",
       "    .dataframe tbody tr th {\n",
       "        vertical-align: top;\n",
       "    }\n",
       "\n",
       "    .dataframe thead th {\n",
       "        text-align: right;\n",
       "    }\n",
       "</style>\n",
       "<table border=\"1\" class=\"dataframe\">\n",
       "  <thead>\n",
       "    <tr style=\"text-align: right;\">\n",
       "      <th></th>\n",
       "      <th>name</th>\n",
       "      <th>accuracy</th>\n",
       "      <th>speed</th>\n",
       "    </tr>\n",
       "  </thead>\n",
       "  <tbody>\n",
       "    <tr>\n",
       "      <th>0</th>\n",
       "      <td>Решающее дерево</td>\n",
       "      <td>0.79</td>\n",
       "      <td>Высокая</td>\n",
       "    </tr>\n",
       "    <tr>\n",
       "      <th>1</th>\n",
       "      <td>Случайный лес</td>\n",
       "      <td>0.79</td>\n",
       "      <td>Низкая</td>\n",
       "    </tr>\n",
       "    <tr>\n",
       "      <th>2</th>\n",
       "      <td>Логистическая регрессия</td>\n",
       "      <td>0.71</td>\n",
       "      <td>Высокая</td>\n",
       "    </tr>\n",
       "  </tbody>\n",
       "</table>\n",
       "</div>"
      ],
      "text/plain": [
       "                      name  accuracy    speed\n",
       "0          Решающее дерево      0.79  Высокая\n",
       "1            Случайный лес      0.79   Низкая\n",
       "2  Логистическая регрессия      0.71  Высокая"
      ]
     },
     "execution_count": 13,
     "metadata": {},
     "output_type": "execute_result"
    }
   ],
   "source": [
    "# составим таблицу сравнения моделей\n",
    "final = pd.DataFrame({'name': ['Решающее дерево', 'Случайный лес', 'Логистическая регрессия'], \n",
    "                      'accuracy': [0.79, 0.79, 0.71],\n",
    "                     'speed': ['Высокая', 'Низкая', 'Высокая']})\n",
    "final"
   ]
  },
  {
   "cell_type": "markdown",
   "metadata": {},
   "source": [
    "### Выводы"
   ]
  },
  {
   "cell_type": "markdown",
   "metadata": {},
   "source": [
    "На данном этапе мы исследовали качество разных моделей, меняя их гиперпараметры. Исходя из полученных результатов наилучшей является модель Решающее дерево при значении гиперпараметра Глубина дерева = 3, однако перед принятием окончательного решения о выборе модели требуется проверка моделей на тестовой выборке."
   ]
  },
  {
   "cell_type": "markdown",
   "metadata": {},
   "source": [
    "## Проверка модели на тестовой выборке"
   ]
  },
  {
   "cell_type": "code",
   "execution_count": 14,
   "metadata": {},
   "outputs": [
    {
     "data": {
      "text/plain": [
       "0.7853810264385692"
      ]
     },
     "execution_count": 14,
     "metadata": {},
     "output_type": "execute_result"
    }
   ],
   "source": [
    "# проверим модель Решающее дерево на тестовой выборке\n",
    "model = DecisionTreeClassifier(random_state=12345, max_depth=3)\n",
    "model.fit(features_train, target_train)\n",
    "predictions_test = model.predict(features_test)\n",
    "result = accuracy_score(target_test, predictions_test)\n",
    "result"
   ]
  },
  {
   "cell_type": "code",
   "execution_count": 15,
   "metadata": {},
   "outputs": [
    {
     "data": {
      "text/plain": [
       "0.7853810264385692"
      ]
     },
     "execution_count": 15,
     "metadata": {},
     "output_type": "execute_result"
    }
   ],
   "source": [
    "# проверим модель Случайный лес на тестовой выборке\n",
    "model = RandomForestClassifier(random_state=12345, n_estimators=10)\n",
    "model.fit(features_train, target_train)\n",
    "predictions_test = model.predict(features_test)\n",
    "result = accuracy_score(target_test, predictions_test)\n",
    "result"
   ]
  },
  {
   "cell_type": "code",
   "execution_count": 16,
   "metadata": {},
   "outputs": [
    {
     "data": {
      "text/plain": [
       "0.7107309486780715"
      ]
     },
     "execution_count": 16,
     "metadata": {},
     "output_type": "execute_result"
    }
   ],
   "source": [
    "# проверим модель Логистическая регрессия на тестовой выборке\n",
    "model = LogisticRegression(random_state=12345, solver='lbfgs') \n",
    "model.fit(features_train, target_train)\n",
    "predictions_test = model.predict(features_test)\n",
    "result = accuracy_score(target_test, predictions_test)\n",
    "result"
   ]
  },
  {
   "cell_type": "markdown",
   "metadata": {},
   "source": [
    "### Выводы"
   ]
  },
  {
   "cell_type": "markdown",
   "metadata": {},
   "source": [
    "Значения `accuracy` на тестовой выборке получились такими же как и на валидационной, соответственно вывод не меняется - наилучшей является модель Решающее дерево при значении параметра Глубина дерева = 3."
   ]
  },
  {
   "cell_type": "markdown",
   "metadata": {},
   "source": [
    "## Проверка модели на адекватность"
   ]
  },
  {
   "cell_type": "markdown",
   "metadata": {},
   "source": [
    "Для проверки модели на адекватность посчитаем дополнительные метрики precision и recall."
   ]
  },
  {
   "cell_type": "code",
   "execution_count": 17,
   "metadata": {},
   "outputs": [
    {
     "data": {
      "text/plain": [
       "0.7217391304347827"
      ]
     },
     "execution_count": 17,
     "metadata": {},
     "output_type": "execute_result"
    }
   ],
   "source": [
    "# посчитаем precision для модели Решающее дерево на тестовой выборке\n",
    "model = DecisionTreeClassifier(random_state=12345, max_depth=3)\n",
    "model.fit(features_train, target_train)\n",
    "predictions_test = model.predict(features_test)\n",
    "precision_score(target_test, predictions_test)"
   ]
  },
  {
   "cell_type": "code",
   "execution_count": 18,
   "metadata": {},
   "outputs": [
    {
     "data": {
      "text/plain": [
       "0.6946564885496184"
      ]
     },
     "execution_count": 18,
     "metadata": {},
     "output_type": "execute_result"
    }
   ],
   "source": [
    "# посчитаем precision для модели Случайный лес на тестовой выборке\n",
    "model = RandomForestClassifier(random_state=12345, n_estimators=10)\n",
    "model.fit(features_train, target_train)\n",
    "predictions_test = model.predict(features_test)\n",
    "precision_score(target_test, predictions_test)"
   ]
  },
  {
   "cell_type": "code",
   "execution_count": 19,
   "metadata": {},
   "outputs": [
    {
     "data": {
      "text/plain": [
       "0.5882352941176471"
      ]
     },
     "execution_count": 19,
     "metadata": {},
     "output_type": "execute_result"
    }
   ],
   "source": [
    "# посчитаем precision для модели Логистическая регрессия на тестовой выборке\n",
    "model = LogisticRegression(random_state=12345, solver='lbfgs') \n",
    "model.fit(features_train, target_train)\n",
    "predictions_test = model.predict(features_test)\n",
    "precision_score(target_test, predictions_test)"
   ]
  },
  {
   "cell_type": "code",
   "execution_count": 20,
   "metadata": {},
   "outputs": [
    {
     "data": {
      "text/plain": [
       "0.43915343915343913"
      ]
     },
     "execution_count": 20,
     "metadata": {},
     "output_type": "execute_result"
    }
   ],
   "source": [
    "# посчитаем recall для модели Решающее дерево на тестовой выборке\n",
    "model = DecisionTreeClassifier(random_state=12345, max_depth=3)\n",
    "model.fit(features_train, target_train)\n",
    "predictions_test = model.predict(features_test)\n",
    "recall_score(target_test, predictions_test)"
   ]
  },
  {
   "cell_type": "code",
   "execution_count": 21,
   "metadata": {},
   "outputs": [
    {
     "data": {
      "text/plain": [
       "0.48148148148148145"
      ]
     },
     "execution_count": 21,
     "metadata": {},
     "output_type": "execute_result"
    }
   ],
   "source": [
    "# посчитаем recall для модели Случайный лес на тестовой выборке\n",
    "model = RandomForestClassifier(random_state=12345, n_estimators=10)\n",
    "model.fit(features_train, target_train)\n",
    "predictions_test = model.predict(features_test)\n",
    "recall_score(target_test, predictions_test)"
   ]
  },
  {
   "cell_type": "code",
   "execution_count": 22,
   "metadata": {},
   "outputs": [
    {
     "data": {
      "text/plain": [
       "0.05291005291005291"
      ]
     },
     "execution_count": 22,
     "metadata": {},
     "output_type": "execute_result"
    }
   ],
   "source": [
    "# посчитаем recall для модели Логистическая регрессия на тестовой выборке\n",
    "model = LogisticRegression(random_state=12345, solver='lbfgs') \n",
    "model.fit(features_train, target_train)\n",
    "predictions_test = model.predict(features_test)\n",
    "recall_score(target_test, predictions_test)"
   ]
  },
  {
   "cell_type": "code",
   "execution_count": 23,
   "metadata": {},
   "outputs": [
    {
     "data": {
      "text/html": [
       "<div>\n",
       "<style scoped>\n",
       "    .dataframe tbody tr th:only-of-type {\n",
       "        vertical-align: middle;\n",
       "    }\n",
       "\n",
       "    .dataframe tbody tr th {\n",
       "        vertical-align: top;\n",
       "    }\n",
       "\n",
       "    .dataframe thead th {\n",
       "        text-align: right;\n",
       "    }\n",
       "</style>\n",
       "<table border=\"1\" class=\"dataframe\">\n",
       "  <thead>\n",
       "    <tr style=\"text-align: right;\">\n",
       "      <th></th>\n",
       "      <th>name</th>\n",
       "      <th>accuracy</th>\n",
       "      <th>speed</th>\n",
       "      <th>precision</th>\n",
       "      <th>recall</th>\n",
       "    </tr>\n",
       "  </thead>\n",
       "  <tbody>\n",
       "    <tr>\n",
       "      <th>0</th>\n",
       "      <td>Решающее дерево</td>\n",
       "      <td>0.79</td>\n",
       "      <td>Высокая</td>\n",
       "      <td>0.72</td>\n",
       "      <td>0.44</td>\n",
       "    </tr>\n",
       "    <tr>\n",
       "      <th>1</th>\n",
       "      <td>Случайный лес</td>\n",
       "      <td>0.79</td>\n",
       "      <td>Низкая</td>\n",
       "      <td>0.69</td>\n",
       "      <td>0.48</td>\n",
       "    </tr>\n",
       "    <tr>\n",
       "      <th>2</th>\n",
       "      <td>Логистическая регрессия</td>\n",
       "      <td>0.71</td>\n",
       "      <td>Высокая</td>\n",
       "      <td>0.58</td>\n",
       "      <td>0.05</td>\n",
       "    </tr>\n",
       "  </tbody>\n",
       "</table>\n",
       "</div>"
      ],
      "text/plain": [
       "                      name  accuracy    speed  precision  recall\n",
       "0          Решающее дерево      0.79  Высокая       0.72    0.44\n",
       "1            Случайный лес      0.79   Низкая       0.69    0.48\n",
       "2  Логистическая регрессия      0.71  Высокая       0.58    0.05"
      ]
     },
     "execution_count": 23,
     "metadata": {},
     "output_type": "execute_result"
    }
   ],
   "source": [
    "# соберём значения всех метрик в общую таблицу\n",
    "final['precision'] = ([0.72, 0.69, 0.58])\n",
    "final['recall'] = ([0.44, 0.48, 0.05])\n",
    "final"
   ]
  },
  {
   "cell_type": "code",
   "execution_count": 24,
   "metadata": {
    "scrolled": true
   },
   "outputs": [
    {
     "data": {
      "text/html": [
       "<div>\n",
       "<style scoped>\n",
       "    .dataframe tbody tr th:only-of-type {\n",
       "        vertical-align: middle;\n",
       "    }\n",
       "\n",
       "    .dataframe tbody tr th {\n",
       "        vertical-align: top;\n",
       "    }\n",
       "\n",
       "    .dataframe thead th {\n",
       "        text-align: right;\n",
       "    }\n",
       "</style>\n",
       "<table border=\"1\" class=\"dataframe\">\n",
       "  <thead>\n",
       "    <tr style=\"text-align: right;\">\n",
       "      <th></th>\n",
       "      <th>name</th>\n",
       "      <th>accuracy</th>\n",
       "      <th>precision</th>\n",
       "      <th>recall</th>\n",
       "      <th>speed</th>\n",
       "    </tr>\n",
       "  </thead>\n",
       "  <tbody>\n",
       "    <tr>\n",
       "      <th>0</th>\n",
       "      <td>Решающее дерево</td>\n",
       "      <td>0.79</td>\n",
       "      <td>0.72</td>\n",
       "      <td>0.44</td>\n",
       "      <td>Высокая</td>\n",
       "    </tr>\n",
       "    <tr>\n",
       "      <th>1</th>\n",
       "      <td>Случайный лес</td>\n",
       "      <td>0.79</td>\n",
       "      <td>0.69</td>\n",
       "      <td>0.48</td>\n",
       "      <td>Низкая</td>\n",
       "    </tr>\n",
       "    <tr>\n",
       "      <th>2</th>\n",
       "      <td>Логистическая регрессия</td>\n",
       "      <td>0.71</td>\n",
       "      <td>0.58</td>\n",
       "      <td>0.05</td>\n",
       "      <td>Высокая</td>\n",
       "    </tr>\n",
       "  </tbody>\n",
       "</table>\n",
       "</div>"
      ],
      "text/plain": [
       "                      name  accuracy  precision  recall    speed\n",
       "0          Решающее дерево      0.79       0.72    0.44  Высокая\n",
       "1            Случайный лес      0.79       0.69    0.48   Низкая\n",
       "2  Логистическая регрессия      0.71       0.58    0.05  Высокая"
      ]
     },
     "execution_count": 24,
     "metadata": {},
     "output_type": "execute_result"
    }
   ],
   "source": [
    "# изменим порядок столбцов для удобства чтения\n",
    "final = final[['name', 'accuracy', 'precision', 'recall', 'speed']]\n",
    "final"
   ]
  },
  {
   "cell_type": "markdown",
   "metadata": {},
   "source": [
    "### Выводы"
   ]
  },
  {
   "cell_type": "markdown",
   "metadata": {},
   "source": [
    "По итогам сравнения значений метрик `accuracy`, `precision`, `recall` и с учётом скорости работы модели выбираем модель Решающее дерево."
   ]
  },
  {
   "cell_type": "markdown",
   "metadata": {},
   "source": [
    "## Общий вывод"
   ]
  },
  {
   "cell_type": "markdown",
   "metadata": {},
   "source": [
    "Исследование проводилось в пять этапов:\n",
    "* На этапе Обзор данных мы ознакомились с данными в предоставленной таблице, убедились, что предобработка данных выполнена, и зафиксировали, что предварительно данных для проведения исследования достаточно;\n",
    "* На этапе Подготовка выборок для обучения и тестирования моделей мы разделили исходный датасет на 3 выборки: обучающую, валидационную и тестовую выборки, а также подготовили таблицы с признаками, определяющими целевой признак, и целевым признаком;\n",
    "* На этапе Исследование моделей мы исследовали качество моделей Решающее дерево, Случайный лес и Логистическая регрессия с разными значениями их гиперпараметров и определили, что наилучшей является модель Решающее дерево при значении гиперпараметра Глубина дерева = 3;\n",
    "* На этапе  Проверка модели на тестовой выборке рассчитали метрику `accuracy` на каждой модели для тестовой выборки и получили те же значения, что и для валидационной выборки;\n",
    "* На этапе Проверка модели на адекватность рассчитали ещё дополнительные метрики `precision`, `recall` и свели все значения в общую таблицу.\n",
    "\n",
    "По итогам всех проделанных этапов наилучшей моделью для задачи классификации поведения клиентов на архивных тарифах и подбора им подходящего нового тарифа: «Смарт» или «Ультра» - является иодель Решающее дерево при значении гиперпараметра Глубина дерева = 3. В этом случае значением `accuracy` = 0.79. Для модели Случайный лес также получается достичь такого значения `accuracy`, но выбираем модель Решающее дерево по критерию скорости работы."
   ]
  }
 ],
 "metadata": {
  "kernelspec": {
   "display_name": "Python 3 (ipykernel)",
   "language": "python",
   "name": "python3"
  },
  "language_info": {
   "codemirror_mode": {
    "name": "ipython",
    "version": 3
   },
   "file_extension": ".py",
   "mimetype": "text/x-python",
   "name": "python",
   "nbconvert_exporter": "python",
   "pygments_lexer": "ipython3",
   "version": "3.9.7"
  },
  "toc": {
   "base_numbering": 1,
   "nav_menu": {},
   "number_sections": true,
   "sideBar": true,
   "skip_h1_title": true,
   "title_cell": "Table of Contents",
   "title_sidebar": "Contents",
   "toc_cell": false,
   "toc_position": {},
   "toc_section_display": true,
   "toc_window_display": true
  }
 },
 "nbformat": 4,
 "nbformat_minor": 2
}
