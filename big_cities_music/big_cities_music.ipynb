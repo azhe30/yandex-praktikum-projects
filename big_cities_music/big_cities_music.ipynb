{
 "cells": [
  {
   "cell_type": "markdown",
   "metadata": {
    "id": "Ml1hmfXC_Zcs"
   },
   "source": [
    "## Обзор данных\n",
    "\n",
    "Составьте первое представление о данных Яндекс.Музыки.\n",
    "\n",
    "\n"
   ]
  },
  {
   "cell_type": "code",
   "execution_count": 1,
   "metadata": {
    "id": "AXN7PHPN_Zcs"
   },
   "outputs": [],
   "source": [
    "import pandas as pd #импорт библиотеки pandas"
   ]
  },
  {
   "cell_type": "code",
   "execution_count": 2,
   "metadata": {
    "id": "fFVu7vqh_Zct"
   },
   "outputs": [],
   "source": [
    "#чтение файла yandex_music_project.csv и сохранение в переменной df\n",
    "df = pd.read_csv('yandex_music_project.csv')"
   ]
  },
  {
   "cell_type": "code",
   "execution_count": 3,
   "metadata": {
    "id": "oWTVX3gW_Zct"
   },
   "outputs": [
    {
     "data": {
      "text/html": [
       "<div>\n",
       "<style scoped>\n",
       "    .dataframe tbody tr th:only-of-type {\n",
       "        vertical-align: middle;\n",
       "    }\n",
       "\n",
       "    .dataframe tbody tr th {\n",
       "        vertical-align: top;\n",
       "    }\n",
       "\n",
       "    .dataframe thead th {\n",
       "        text-align: right;\n",
       "    }\n",
       "</style>\n",
       "<table border=\"1\" class=\"dataframe\">\n",
       "  <thead>\n",
       "    <tr style=\"text-align: right;\">\n",
       "      <th></th>\n",
       "      <th>userID</th>\n",
       "      <th>Track</th>\n",
       "      <th>artist</th>\n",
       "      <th>genre</th>\n",
       "      <th>City</th>\n",
       "      <th>time</th>\n",
       "      <th>Day</th>\n",
       "    </tr>\n",
       "  </thead>\n",
       "  <tbody>\n",
       "    <tr>\n",
       "      <th>0</th>\n",
       "      <td>FFB692EC</td>\n",
       "      <td>Kamigata To Boots</td>\n",
       "      <td>The Mass Missile</td>\n",
       "      <td>rock</td>\n",
       "      <td>Saint-Petersburg</td>\n",
       "      <td>20:28:33</td>\n",
       "      <td>Wednesday</td>\n",
       "    </tr>\n",
       "    <tr>\n",
       "      <th>1</th>\n",
       "      <td>55204538</td>\n",
       "      <td>Delayed Because of Accident</td>\n",
       "      <td>Andreas Rönnberg</td>\n",
       "      <td>rock</td>\n",
       "      <td>Moscow</td>\n",
       "      <td>14:07:09</td>\n",
       "      <td>Friday</td>\n",
       "    </tr>\n",
       "    <tr>\n",
       "      <th>2</th>\n",
       "      <td>20EC38</td>\n",
       "      <td>Funiculì funiculà</td>\n",
       "      <td>Mario Lanza</td>\n",
       "      <td>pop</td>\n",
       "      <td>Saint-Petersburg</td>\n",
       "      <td>20:58:07</td>\n",
       "      <td>Wednesday</td>\n",
       "    </tr>\n",
       "    <tr>\n",
       "      <th>3</th>\n",
       "      <td>A3DD03C9</td>\n",
       "      <td>Dragons in the Sunset</td>\n",
       "      <td>Fire + Ice</td>\n",
       "      <td>folk</td>\n",
       "      <td>Saint-Petersburg</td>\n",
       "      <td>08:37:09</td>\n",
       "      <td>Monday</td>\n",
       "    </tr>\n",
       "    <tr>\n",
       "      <th>4</th>\n",
       "      <td>E2DC1FAE</td>\n",
       "      <td>Soul People</td>\n",
       "      <td>Space Echo</td>\n",
       "      <td>dance</td>\n",
       "      <td>Moscow</td>\n",
       "      <td>08:34:34</td>\n",
       "      <td>Monday</td>\n",
       "    </tr>\n",
       "    <tr>\n",
       "      <th>5</th>\n",
       "      <td>842029A1</td>\n",
       "      <td>Преданная</td>\n",
       "      <td>IMPERVTOR</td>\n",
       "      <td>rusrap</td>\n",
       "      <td>Saint-Petersburg</td>\n",
       "      <td>13:09:41</td>\n",
       "      <td>Friday</td>\n",
       "    </tr>\n",
       "    <tr>\n",
       "      <th>6</th>\n",
       "      <td>4CB90AA5</td>\n",
       "      <td>True</td>\n",
       "      <td>Roman Messer</td>\n",
       "      <td>dance</td>\n",
       "      <td>Moscow</td>\n",
       "      <td>13:00:07</td>\n",
       "      <td>Wednesday</td>\n",
       "    </tr>\n",
       "    <tr>\n",
       "      <th>7</th>\n",
       "      <td>F03E1C1F</td>\n",
       "      <td>Feeling This Way</td>\n",
       "      <td>Polina Griffith</td>\n",
       "      <td>dance</td>\n",
       "      <td>Moscow</td>\n",
       "      <td>20:47:49</td>\n",
       "      <td>Wednesday</td>\n",
       "    </tr>\n",
       "    <tr>\n",
       "      <th>8</th>\n",
       "      <td>8FA1D3BE</td>\n",
       "      <td>И вновь продолжается бой</td>\n",
       "      <td>NaN</td>\n",
       "      <td>ruspop</td>\n",
       "      <td>Moscow</td>\n",
       "      <td>09:17:40</td>\n",
       "      <td>Friday</td>\n",
       "    </tr>\n",
       "    <tr>\n",
       "      <th>9</th>\n",
       "      <td>E772D5C0</td>\n",
       "      <td>Pessimist</td>\n",
       "      <td>NaN</td>\n",
       "      <td>dance</td>\n",
       "      <td>Saint-Petersburg</td>\n",
       "      <td>21:20:49</td>\n",
       "      <td>Wednesday</td>\n",
       "    </tr>\n",
       "  </tbody>\n",
       "</table>\n",
       "</div>"
      ],
      "text/plain": [
       "     userID                        Track            artist   genre  \\\n",
       "0  FFB692EC            Kamigata To Boots  The Mass Missile    rock   \n",
       "1  55204538  Delayed Because of Accident  Andreas Rönnberg    rock   \n",
       "2    20EC38            Funiculì funiculà       Mario Lanza     pop   \n",
       "3  A3DD03C9        Dragons in the Sunset        Fire + Ice    folk   \n",
       "4  E2DC1FAE                  Soul People        Space Echo   dance   \n",
       "5  842029A1                    Преданная         IMPERVTOR  rusrap   \n",
       "6  4CB90AA5                         True      Roman Messer   dance   \n",
       "7  F03E1C1F             Feeling This Way   Polina Griffith   dance   \n",
       "8  8FA1D3BE     И вновь продолжается бой               NaN  ruspop   \n",
       "9  E772D5C0                    Pessimist               NaN   dance   \n",
       "\n",
       "             City        time        Day  \n",
       "0  Saint-Petersburg  20:28:33  Wednesday  \n",
       "1            Moscow  14:07:09     Friday  \n",
       "2  Saint-Petersburg  20:58:07  Wednesday  \n",
       "3  Saint-Petersburg  08:37:09     Monday  \n",
       "4            Moscow  08:34:34     Monday  \n",
       "5  Saint-Petersburg  13:09:41     Friday  \n",
       "6            Moscow  13:00:07  Wednesday  \n",
       "7            Moscow  20:47:49  Wednesday  \n",
       "8            Moscow  09:17:40     Friday  \n",
       "9  Saint-Petersburg  21:20:49  Wednesday  "
      ]
     },
     "execution_count": 3,
     "metadata": {},
     "output_type": "execute_result"
    }
   ],
   "source": [
    "# просмотр первых 10 строк таблицы df\n",
    "df.head(10)"
   ]
  },
  {
   "cell_type": "code",
   "execution_count": 4,
   "metadata": {
    "id": "DSf2kIb-_Zct"
   },
   "outputs": [
    {
     "name": "stdout",
     "output_type": "stream",
     "text": [
      "<class 'pandas.core.frame.DataFrame'>\n",
      "RangeIndex: 65079 entries, 0 to 65078\n",
      "Data columns (total 7 columns):\n",
      " #   Column    Non-Null Count  Dtype \n",
      "---  ------    --------------  ----- \n",
      " 0     userID  65079 non-null  object\n",
      " 1   Track     63848 non-null  object\n",
      " 2   artist    57876 non-null  object\n",
      " 3   genre     63881 non-null  object\n",
      " 4     City    65079 non-null  object\n",
      " 5   time      65079 non-null  object\n",
      " 6   Day       65079 non-null  object\n",
      "dtypes: object(7)\n",
      "memory usage: 3.5+ MB\n"
     ]
    }
   ],
   "source": [
    "df.info() #получение общей информации о таблице df"
   ]
  },
  {
   "cell_type": "markdown",
   "metadata": {
    "id": "TaQ2Iwbr_Zct"
   },
   "source": [
    "Итак, в таблице семь столбцов. Тип данных во всех столбцах — `object`.\n",
    "\n",
    "Согласно документации к данным:\n",
    "* `userID` — идентификатор пользователя;\n",
    "* `Track` — название трека;  \n",
    "* `artist` — имя исполнителя;\n",
    "* `genre` — название жанра;\n",
    "* `City` — город пользователя;\n",
    "* `time` — время начала прослушивания;\n",
    "* `Day` — день недели.\n",
    "\n",
    "В названиях колонок видны три нарушения стиля:\n",
    "1. Строчные буквы сочетаются с прописными.\n",
    "2. Встречаются пробелы.\n",
    "3. Встречаются названия, состоящие из нескольких слов, написанные слитно.\n",
    "\n",
    "\n",
    "\n",
    "Количество значений в столбцах различается. Значит, в данных есть пропущенные значения.\n"
   ]
  },
  {
   "cell_type": "markdown",
   "metadata": {
    "id": "MCB6-dXG_Zct"
   },
   "source": [
    "**Выводы**\n",
    "\n",
    "В каждой строке таблицы — данные о прослушанном треке. Часть колонок описывает саму композицию: название, исполнителя и жанр. Остальные данные рассказывают о пользователе: из какого он города, когда он слушал музыку. \n",
    "\n",
    "Предварительно можно утверждать, что, данных достаточно для проверки гипотез. Но встречаются пропуски в данных, а в названиях колонок — расхождения с хорошим стилем.\n",
    "\n",
    "Чтобы двигаться дальше, нужно устранить проблемы в данных."
   ]
  },
  {
   "cell_type": "markdown",
   "metadata": {
    "id": "SjYF6Ub9_Zct"
   },
   "source": [
    "## Предобработка данных\n",
    "Исправьте стиль в заголовках столбцов, исключите пропуски. Затем проверьте данные на дубликаты."
   ]
  },
  {
   "cell_type": "markdown",
   "metadata": {
    "id": "dIaKXr29_Zct"
   },
   "source": [
    "### Стиль заголовков\n",
    "Выведите на экран названия столбцов:"
   ]
  },
  {
   "cell_type": "code",
   "execution_count": 5,
   "metadata": {
    "id": "oKOTdF_Q_Zct"
   },
   "outputs": [
    {
     "data": {
      "text/plain": [
       "Index(['  userID', 'Track', 'artist', 'genre', '  City  ', 'time', 'Day'], dtype='object')"
      ]
     },
     "execution_count": 5,
     "metadata": {},
     "output_type": "execute_result"
    }
   ],
   "source": [
    "df.columns #просмотр названий столбцов таблицы"
   ]
  },
  {
   "cell_type": "markdown",
   "metadata": {
    "id": "zj5534cv_Zct"
   },
   "source": [
    "Приведите названия в соответствие с хорошим стилем:\n",
    "* несколько слов в названии запишите в «змеином_регистре»,\n",
    "* все символы сделайте строчными,\n",
    "* устраните пробелы.\n",
    "\n",
    "Для этого переименуйте колонки так:\n",
    "* `'  userID'` → `'user_id'`;\n",
    "* `'Track'` → `'track'`;\n",
    "* `'  City  '` → `'city'`;\n",
    "* `'Day'` → `'day'`."
   ]
  },
  {
   "cell_type": "code",
   "execution_count": 6,
   "metadata": {},
   "outputs": [
    {
     "data": {
      "text/plain": [
       "Index(['  userid', 'track', 'artist', 'genre', '  city  ', 'time', 'day'], dtype='object')"
      ]
     },
     "execution_count": 6,
     "metadata": {},
     "output_type": "execute_result"
    }
   ],
   "source": [
    "# переведём названия в нижний регистр\n",
    "df.columns = df.columns.str.lower()\n",
    "df.columns"
   ]
  },
  {
   "cell_type": "code",
   "execution_count": 7,
   "metadata": {
    "id": "ISlFqs5y_Zct"
   },
   "outputs": [
    {
     "data": {
      "text/plain": [
       "Index(['user_id', 'track', 'artist', 'genre', 'city', 'time', 'day'], dtype='object')"
      ]
     },
     "execution_count": 7,
     "metadata": {},
     "output_type": "execute_result"
    }
   ],
   "source": [
    "# используем зменный регистр и уберём пропуски\n",
    "df.columns = ['user_id', 'track', 'artist', 'genre', 'city', 'time', 'day']\n",
    "df.columns"
   ]
  },
  {
   "cell_type": "markdown",
   "metadata": {
    "id": "5ISfbcfY_Zct"
   },
   "source": [
    "### Пропуски значений\n",
    "Сначала посчитайте, сколько в таблице пропущенных значений. Для этого достаточно двух методов `pandas`:"
   ]
  },
  {
   "cell_type": "code",
   "execution_count": 8,
   "metadata": {
    "id": "RskX29qr_Zct"
   },
   "outputs": [
    {
     "data": {
      "text/plain": [
       "user_id       0\n",
       "track      1231\n",
       "artist     7203\n",
       "genre      1198\n",
       "city          0\n",
       "time          0\n",
       "day           0\n",
       "dtype: int64"
      ]
     },
     "execution_count": 8,
     "metadata": {},
     "output_type": "execute_result"
    }
   ],
   "source": [
    "df.isna().sum() #информация о количестве пропущенных значений в каждом из столбцов таблицы"
   ]
  },
  {
   "cell_type": "markdown",
   "metadata": {
    "id": "qubhgnlO_Zct"
   },
   "source": [
    "Не все пропущенные значения влияют на исследование. Так в `track` и `artist` пропуски не важны для вашей работы. Достаточно заменить их явными обозначениями.\n",
    "\n",
    "Но пропуски в `genre` могут помешать сравнению музыкальных вкусов в Москве и Санкт-Петербурге. На практике было бы правильно установить причину пропусков и восстановить данные. Такой возможности нет в учебном проекте. Придётся:\n",
    "* заполнить и эти пропуски явными обозначениями,\n",
    "* оценить, насколько они повредят расчётам. "
   ]
  },
  {
   "cell_type": "markdown",
   "metadata": {
    "id": "fSv2laPA_Zct"
   },
   "source": [
    "Замените пропущенные значения в столбцах `track`, `artist` и `genre` на строку `'unknown'`. Для этого создайте список `columns_to_replace`, переберите его элементы циклом `for` и для каждого столбца выполните замену пропущенных значений:"
   ]
  },
  {
   "cell_type": "code",
   "execution_count": 9,
   "metadata": {
    "id": "KplB5qWs_Zct"
   },
   "outputs": [],
   "source": [
    "#замена пропущенных значений в таблице на строку 'unknown'\n",
    "columns_to_replace = ['track', 'artist', 'genre']\n",
    "for item in columns_to_replace:\n",
    "    df[item] = df[item].fillna('unknown')"
   ]
  },
  {
   "cell_type": "markdown",
   "metadata": {
    "id": "Ilsm-MZo_Zct"
   },
   "source": [
    "Убедитесь, что в таблице не осталось пропусков. Для этого ещё раз посчитайте пропущенные значения."
   ]
  },
  {
   "cell_type": "code",
   "execution_count": 10,
   "metadata": {
    "id": "Tq4nYRX4_Zct",
    "scrolled": true
   },
   "outputs": [
    {
     "data": {
      "text/plain": [
       "user_id    0\n",
       "track      0\n",
       "artist     0\n",
       "genre      0\n",
       "city       0\n",
       "time       0\n",
       "day        0\n",
       "dtype: int64"
      ]
     },
     "execution_count": 10,
     "metadata": {},
     "output_type": "execute_result"
    }
   ],
   "source": [
    "df.isna().sum() #проверка успешности замены пропущенных значений"
   ]
  },
  {
   "cell_type": "code",
   "execution_count": 11,
   "metadata": {
    "id": "36eES_S0_Zct"
   },
   "outputs": [
    {
     "name": "stdout",
     "output_type": "stream",
     "text": [
      "3826\n"
     ]
    }
   ],
   "source": [
    "#проверка количества явных дубликатов в таблице\n",
    "print(df.duplicated().sum())"
   ]
  },
  {
   "cell_type": "code",
   "execution_count": 12,
   "metadata": {
    "id": "exFHq6tt_Zct"
   },
   "outputs": [],
   "source": [
    "# удаление явных дубликатов (с удалением старых индексов и формированием новых)\n",
    "df = df.drop_duplicates().reset_index(drop=True)"
   ]
  },
  {
   "cell_type": "code",
   "execution_count": 13,
   "metadata": {
    "id": "-8PuNWQ0_Zct"
   },
   "outputs": [
    {
     "name": "stdout",
     "output_type": "stream",
     "text": [
      "0\n"
     ]
    }
   ],
   "source": [
    "print(df.duplicated().sum()) # проверка на отсутствие дубликатов"
   ]
  },
  {
   "cell_type": "markdown",
   "metadata": {
    "id": "QlFBsxAr_Zct"
   },
   "source": [
    "Теперь избавьтесь от неявных дубликатов в колонке `genre`. Например, название одного и того же жанра может быть записано немного по-разному. Такие ошибки тоже повлияют на результат исследования."
   ]
  },
  {
   "cell_type": "code",
   "execution_count": 14,
   "metadata": {
    "id": "JIUcqzZN_Zct",
    "scrolled": false
   },
   "outputs": [
    {
     "data": {
      "text/plain": [
       "array(['acid', 'acoustic', 'action', 'adult', 'africa', 'afrikaans',\n",
       "       'alternative', 'alternativepunk', 'ambient', 'americana',\n",
       "       'animated', 'anime', 'arabesk', 'arabic', 'arena',\n",
       "       'argentinetango', 'art', 'audiobook', 'author', 'avantgarde',\n",
       "       'axé', 'baile', 'balkan', 'beats', 'bigroom', 'black', 'bluegrass',\n",
       "       'blues', 'bollywood', 'bossa', 'brazilian', 'breakbeat', 'breaks',\n",
       "       'broadway', 'cantautori', 'cantopop', 'canzone', 'caribbean',\n",
       "       'caucasian', 'celtic', 'chamber', 'chanson', 'children', 'chill',\n",
       "       'chinese', 'choral', 'christian', 'christmas', 'classical',\n",
       "       'classicmetal', 'club', 'colombian', 'comedy', 'conjazz',\n",
       "       'contemporary', 'country', 'cuban', 'dance', 'dancehall',\n",
       "       'dancepop', 'dark', 'death', 'deep', 'deutschrock', 'deutschspr',\n",
       "       'dirty', 'disco', 'dnb', 'documentary', 'downbeat', 'downtempo',\n",
       "       'drum', 'dub', 'dubstep', 'eastern', 'easy', 'electronic',\n",
       "       'electropop', 'emo', 'entehno', 'epicmetal', 'estrada', 'ethnic',\n",
       "       'eurofolk', 'european', 'experimental', 'extrememetal', 'fado',\n",
       "       'fairytail', 'film', 'fitness', 'flamenco', 'folk', 'folklore',\n",
       "       'folkmetal', 'folkrock', 'folktronica', 'forró', 'frankreich',\n",
       "       'französisch', 'french', 'funk', 'future', 'gangsta', 'garage',\n",
       "       'german', 'ghazal', 'gitarre', 'glitch', 'gospel', 'gothic',\n",
       "       'grime', 'grunge', 'gypsy', 'handsup', \"hard'n'heavy\", 'hardcore',\n",
       "       'hardstyle', 'hardtechno', 'hip', 'hip-hop', 'hiphop',\n",
       "       'historisch', 'holiday', 'hop', 'horror', 'house', 'hymn', 'idm',\n",
       "       'independent', 'indian', 'indie', 'indipop', 'industrial',\n",
       "       'inspirational', 'instrumental', 'international', 'irish', 'jam',\n",
       "       'japanese', 'jazz', 'jewish', 'jpop', 'jungle', 'k-pop',\n",
       "       'karadeniz', 'karaoke', 'kayokyoku', 'korean', 'laiko', 'latin',\n",
       "       'latino', 'leftfield', 'local', 'lounge', 'loungeelectronic',\n",
       "       'lovers', 'malaysian', 'mandopop', 'marschmusik', 'meditative',\n",
       "       'mediterranean', 'melodic', 'metal', 'metalcore', 'mexican',\n",
       "       'middle', 'minimal', 'miscellaneous', 'modern', 'mood', 'mpb',\n",
       "       'muslim', 'native', 'neoklassik', 'neue', 'new', 'newage',\n",
       "       'newwave', 'nu', 'nujazz', 'numetal', 'oceania', 'old', 'opera',\n",
       "       'orchestral', 'other', 'piano', 'podcasts', 'pop', 'popdance',\n",
       "       'popelectronic', 'popeurodance', 'poprussian', 'post',\n",
       "       'posthardcore', 'postrock', 'power', 'progmetal', 'progressive',\n",
       "       'psychedelic', 'punjabi', 'punk', 'quebecois', 'ragga', 'ram',\n",
       "       'rancheras', 'rap', 'rave', 'reggae', 'reggaeton', 'regional',\n",
       "       'relax', 'religious', 'retro', 'rhythm', 'rnb', 'rnr', 'rock',\n",
       "       'rockabilly', 'rockalternative', 'rockindie', 'rockother',\n",
       "       'romance', 'roots', 'ruspop', 'rusrap', 'rusrock', 'russian',\n",
       "       'salsa', 'samba', 'scenic', 'schlager', 'self', 'sertanejo',\n",
       "       'shanson', 'shoegazing', 'showtunes', 'singer', 'ska', 'skarock',\n",
       "       'slow', 'smooth', 'soft', 'soul', 'soulful', 'sound', 'soundtrack',\n",
       "       'southern', 'specialty', 'speech', 'spiritual', 'sport',\n",
       "       'stonerrock', 'surf', 'swing', 'synthpop', 'synthrock',\n",
       "       'sängerportrait', 'tango', 'tanzorchester', 'taraftar', 'tatar',\n",
       "       'tech', 'techno', 'teen', 'thrash', 'top', 'traditional',\n",
       "       'tradjazz', 'trance', 'tribal', 'trip', 'triphop', 'tropical',\n",
       "       'türk', 'türkçe', 'ukrrock', 'unknown', 'urban', 'uzbek',\n",
       "       'variété', 'vi', 'videogame', 'vocal', 'western', 'world',\n",
       "       'worldbeat', 'ïîï', 'электроника'], dtype=object)"
      ]
     },
     "execution_count": 14,
     "metadata": {},
     "output_type": "execute_result"
    }
   ],
   "source": [
    "df['genre'].sort_values().unique() # Просмотр уникальных названий жанров"
   ]
  },
  {
   "cell_type": "code",
   "execution_count": 15,
   "metadata": {
    "id": "ErNDkmns_Zct"
   },
   "outputs": [],
   "source": [
    "def replace_wrong_genres(wrong_genres, correct_genre): # Функция для замены неявных дубликатов\n",
    "    for wrong_genre in wrong_genres:\n",
    "        df['genre'] = df['genre'].replace(wrong_genres, correct_genre)"
   ]
  },
  {
   "cell_type": "markdown",
   "metadata": {
    "id": "aDoBJxbA_Zct"
   },
   "source": [
    "Вызовите `replace_wrong_genres()` и передайте ей такие аргументы, чтобы она устранила неявные дубликаты: вместо `hip`, `hop` и `hip-hop` в таблице должно быть значение `hiphop`:"
   ]
  },
  {
   "cell_type": "code",
   "execution_count": 16,
   "metadata": {
    "id": "YN5i2hpmSo09"
   },
   "outputs": [],
   "source": [
    "# Устранение неявных дубликатов\n",
    "replace_wrong_genres(['hip', 'hip-hop', 'hop'], 'hiphop')\n",
    "replace_wrong_genres(['электроника'], 'electronic')"
   ]
  },
  {
   "cell_type": "code",
   "execution_count": 17,
   "metadata": {
    "id": "wvixALnFG15m",
    "scrolled": false
   },
   "outputs": [
    {
     "data": {
      "text/plain": [
       "array(['acid', 'acoustic', 'action', 'adult', 'africa', 'afrikaans',\n",
       "       'alternative', 'alternativepunk', 'ambient', 'americana',\n",
       "       'animated', 'anime', 'arabesk', 'arabic', 'arena',\n",
       "       'argentinetango', 'art', 'audiobook', 'author', 'avantgarde',\n",
       "       'axé', 'baile', 'balkan', 'beats', 'bigroom', 'black', 'bluegrass',\n",
       "       'blues', 'bollywood', 'bossa', 'brazilian', 'breakbeat', 'breaks',\n",
       "       'broadway', 'cantautori', 'cantopop', 'canzone', 'caribbean',\n",
       "       'caucasian', 'celtic', 'chamber', 'chanson', 'children', 'chill',\n",
       "       'chinese', 'choral', 'christian', 'christmas', 'classical',\n",
       "       'classicmetal', 'club', 'colombian', 'comedy', 'conjazz',\n",
       "       'contemporary', 'country', 'cuban', 'dance', 'dancehall',\n",
       "       'dancepop', 'dark', 'death', 'deep', 'deutschrock', 'deutschspr',\n",
       "       'dirty', 'disco', 'dnb', 'documentary', 'downbeat', 'downtempo',\n",
       "       'drum', 'dub', 'dubstep', 'eastern', 'easy', 'electronic',\n",
       "       'electropop', 'emo', 'entehno', 'epicmetal', 'estrada', 'ethnic',\n",
       "       'eurofolk', 'european', 'experimental', 'extrememetal', 'fado',\n",
       "       'fairytail', 'film', 'fitness', 'flamenco', 'folk', 'folklore',\n",
       "       'folkmetal', 'folkrock', 'folktronica', 'forró', 'frankreich',\n",
       "       'französisch', 'french', 'funk', 'future', 'gangsta', 'garage',\n",
       "       'german', 'ghazal', 'gitarre', 'glitch', 'gospel', 'gothic',\n",
       "       'grime', 'grunge', 'gypsy', 'handsup', \"hard'n'heavy\", 'hardcore',\n",
       "       'hardstyle', 'hardtechno', 'hiphop', 'historisch', 'holiday',\n",
       "       'horror', 'house', 'hymn', 'idm', 'independent', 'indian', 'indie',\n",
       "       'indipop', 'industrial', 'inspirational', 'instrumental',\n",
       "       'international', 'irish', 'jam', 'japanese', 'jazz', 'jewish',\n",
       "       'jpop', 'jungle', 'k-pop', 'karadeniz', 'karaoke', 'kayokyoku',\n",
       "       'korean', 'laiko', 'latin', 'latino', 'leftfield', 'local',\n",
       "       'lounge', 'loungeelectronic', 'lovers', 'malaysian', 'mandopop',\n",
       "       'marschmusik', 'meditative', 'mediterranean', 'melodic', 'metal',\n",
       "       'metalcore', 'mexican', 'middle', 'minimal', 'miscellaneous',\n",
       "       'modern', 'mood', 'mpb', 'muslim', 'native', 'neoklassik', 'neue',\n",
       "       'new', 'newage', 'newwave', 'nu', 'nujazz', 'numetal', 'oceania',\n",
       "       'old', 'opera', 'orchestral', 'other', 'piano', 'podcasts', 'pop',\n",
       "       'popdance', 'popelectronic', 'popeurodance', 'poprussian', 'post',\n",
       "       'posthardcore', 'postrock', 'power', 'progmetal', 'progressive',\n",
       "       'psychedelic', 'punjabi', 'punk', 'quebecois', 'ragga', 'ram',\n",
       "       'rancheras', 'rap', 'rave', 'reggae', 'reggaeton', 'regional',\n",
       "       'relax', 'religious', 'retro', 'rhythm', 'rnb', 'rnr', 'rock',\n",
       "       'rockabilly', 'rockalternative', 'rockindie', 'rockother',\n",
       "       'romance', 'roots', 'ruspop', 'rusrap', 'rusrock', 'russian',\n",
       "       'salsa', 'samba', 'scenic', 'schlager', 'self', 'sertanejo',\n",
       "       'shanson', 'shoegazing', 'showtunes', 'singer', 'ska', 'skarock',\n",
       "       'slow', 'smooth', 'soft', 'soul', 'soulful', 'sound', 'soundtrack',\n",
       "       'southern', 'specialty', 'speech', 'spiritual', 'sport',\n",
       "       'stonerrock', 'surf', 'swing', 'synthpop', 'synthrock',\n",
       "       'sängerportrait', 'tango', 'tanzorchester', 'taraftar', 'tatar',\n",
       "       'tech', 'techno', 'teen', 'thrash', 'top', 'traditional',\n",
       "       'tradjazz', 'trance', 'tribal', 'trip', 'triphop', 'tropical',\n",
       "       'türk', 'türkçe', 'ukrrock', 'unknown', 'urban', 'uzbek',\n",
       "       'variété', 'vi', 'videogame', 'vocal', 'western', 'world',\n",
       "       'worldbeat', 'ïîï'], dtype=object)"
      ]
     },
     "execution_count": 17,
     "metadata": {},
     "output_type": "execute_result"
    }
   ],
   "source": [
    "df['genre'].sort_values().unique() # Проверка на неявные дубликаты"
   ]
  },
  {
   "cell_type": "markdown",
   "metadata": {
    "id": "jz6a9-7HQUDd"
   },
   "source": [
    "**Выводы**\n",
    "\n",
    "Предобработка обнаружила три проблемы в данных:\n",
    "\n",
    "- нарушения в стиле заголовков,\n",
    "- пропущенные значения,\n",
    "- дубликаты — явные и неявные.\n",
    "\n",
    "Вы исправили заголовки, чтобы упростить работу с таблицей. Без дубликатов исследование станет более точным.\n",
    "\n",
    "Пропущенные значения вы заменили на `'unknown'`. Ещё предстоит увидеть, не повредят ли исследованию пропуски в колонке `genre`.\n",
    "\n",
    "Теперь можно перейти к проверке гипотез. "
   ]
  },
  {
   "cell_type": "markdown",
   "metadata": {
    "id": "WttZHXH0SqKk"
   },
   "source": [
    "## Проверка гипотез"
   ]
  },
  {
   "cell_type": "markdown",
   "metadata": {
    "id": "Im936VVi_Zcu"
   },
   "source": [
    "### Сравнение поведения пользователей двух столиц"
   ]
  },
  {
   "cell_type": "markdown",
   "metadata": {
    "id": "nwt_MuaL_Zcu"
   },
   "source": [
    "Первая гипотеза утверждает, что пользователи по-разному слушают музыку в Москве и Санкт-Петербурге. Проверьте это предположение по данным о трёх днях недели — понедельнике, среде и пятнице. Для этого:\n",
    "\n",
    "* Разделите пользователей Москвы и Санкт-Петербурга\n",
    "* Сравните, сколько треков послушала каждая группа пользователей в понедельник, среду и пятницу.\n"
   ]
  },
  {
   "cell_type": "markdown",
   "metadata": {
    "id": "8Dw_YMmT_Zcu"
   },
   "source": [
    "Для тренировки сначала выполните каждый из расчётов по отдельности. \n",
    "\n",
    "Оцените активность пользователей в каждом городе. Сгруппируйте данные по городу и посчитайте прослушивания в каждой группе.\n",
    "\n"
   ]
  },
  {
   "cell_type": "code",
   "execution_count": 23,
   "metadata": {
    "id": "0_Qs96oh_Zcu"
   },
   "outputs": [
    {
     "name": "stdout",
     "output_type": "stream",
     "text": [
      "city\n",
      "Moscow              42741\n",
      "Saint-Petersburg    18512\n",
      "Name: track, dtype: int64\n"
     ]
    }
   ],
   "source": [
    "# Подсчёт прослушиваний в каждом городе\n",
    "track_counting_city = df.groupby('city')['track'].count()\n",
    "print(track_counting_city)"
   ]
  },
  {
   "cell_type": "markdown",
   "metadata": {
    "id": "dzli3w8o_Zcu"
   },
   "source": [
    "В Москве прослушиваний больше, чем в Петербурге. Из этого не следует, что московские пользователи чаще слушают музыку. Просто самих пользователей в Москве больше.\n",
    "\n",
    "Теперь сгруппируйте данные по дню недели и подсчитайте прослушивания в понедельник, среду и пятницу. Учтите, что в данных есть информация только о прослушиваниях только за эти дни.\n"
   ]
  },
  {
   "cell_type": "code",
   "execution_count": 24,
   "metadata": {
    "id": "uZMKjiJz_Zcu",
    "scrolled": true
   },
   "outputs": [
    {
     "name": "stdout",
     "output_type": "stream",
     "text": [
      "day\n",
      "Friday       21840\n",
      "Monday       21354\n",
      "Wednesday    18059\n",
      "Name: track, dtype: int64\n"
     ]
    }
   ],
   "source": [
    "# Подсчёт прослушиваний в каждый из трёх дней\n",
    "track_counting_day = df.groupby('day')['track'].count()\n",
    "print(track_counting_day)"
   ]
  },
  {
   "cell_type": "markdown",
   "metadata": {
    "id": "cC2tNrlL_Zcu"
   },
   "source": [
    "В среднем пользователи из двух городов менее активны по средам. Но картина может измениться, если рассмотреть каждый город в отдельности."
   ]
  },
  {
   "cell_type": "markdown",
   "metadata": {
    "id": "POzs8bGa_Zcu"
   },
   "source": [
    "Вы видели, как работает группировка по городу и по дням недели. Теперь напишите функцию, которая объединит два эти расчёта.\n",
    "\n",
    "Создайте функцию `number_tracks()`, которая посчитает прослушивания для заданного дня и города. Ей понадобятся два параметра:\n",
    "* день недели,\n",
    "* название города.\n",
    "\n",
    "В функции сохраните в переменную строки исходной таблицы, у которых значение:\n",
    "  * в колонке `day` равно параметру `day`,\n",
    "  * в колонке `city` равно параметру `city`.\n",
    "\n",
    "Для этого примените последовательную фильтрацию с логической индексацией.\n",
    "\n",
    "Затем посчитайте значения в столбце `user_id` получившейся таблицы. Результат сохраните в новую переменную. Верните эту переменную из функции."
   ]
  },
  {
   "cell_type": "code",
   "execution_count": 25,
   "metadata": {
    "id": "Nz3GdQB1_Zcu"
   },
   "outputs": [],
   "source": [
    "# <создание функции number_tracks()>\n",
    "# Объявляется функция с двумя параметрами: day, city.\n",
    "# В переменной track_list сохраняются те строки таблицы df, для которых \n",
    "# значение в столбце 'day' равно параметру day и одновременно значение\n",
    "# в столбце 'city' равно параметру city (используйте последовательную фильтрацию\n",
    "# с помощью логической индексации).\n",
    "# В переменной track_list_count сохраняется число значений столбца 'user_id',\n",
    "# рассчитанное методом count() для таблицы track_list.\n",
    "# Функция возвращает число - значение track_list_count.\n",
    "\n",
    "# Функция для подсчёта прослушиваний для конкретного города и дня.\n",
    "# С помощью последовательной фильтрации с логической индексацией она \n",
    "# сначала получит из исходной таблицы строки с нужным днём,\n",
    "# затем из результата отфильтрует строки с нужным городом,\n",
    "# методом count() посчитает количество значений в колонке user_id. \n",
    "# Это количество функция вернёт в качестве результата\n",
    "def number_tracks(day, city):\n",
    "    track_list = df.loc[df.loc[:, 'day'] == day]\n",
    "    track_list = track_list.loc[track_list.loc[:, 'city'] == city]\n",
    "    track_list_count = track_list['user_id'].count()\n",
    "    return track_list_count"
   ]
  },
  {
   "cell_type": "markdown",
   "metadata": {
    "id": "ytf7xFrFJQ2r"
   },
   "source": [
    "Вызовите `number_tracks()` шесть раз, меняя значение параметров — так, чтобы получить данные для каждого города в каждый из трёх дней."
   ]
  },
  {
   "cell_type": "code",
   "execution_count": 26,
   "metadata": {
    "id": "rJcRATNQ_Zcu"
   },
   "outputs": [
    {
     "data": {
      "text/plain": [
       "15740"
      ]
     },
     "execution_count": 26,
     "metadata": {},
     "output_type": "execute_result"
    }
   ],
   "source": [
    "number_tracks('Monday', 'Moscow') # количество прослушиваний в Москве по понедельникам"
   ]
  },
  {
   "cell_type": "code",
   "execution_count": 27,
   "metadata": {
    "id": "hq_ncZ5T_Zcu"
   },
   "outputs": [
    {
     "data": {
      "text/plain": [
       "5614"
      ]
     },
     "execution_count": 27,
     "metadata": {},
     "output_type": "execute_result"
    }
   ],
   "source": [
    "number_tracks('Monday', 'Saint-Petersburg') # количество прослушиваний в Санкт-Петербурге по понедельникам"
   ]
  },
  {
   "cell_type": "code",
   "execution_count": 28,
   "metadata": {
    "id": "_NTy2VPU_Zcu"
   },
   "outputs": [
    {
     "data": {
      "text/plain": [
       "11056"
      ]
     },
     "execution_count": 28,
     "metadata": {},
     "output_type": "execute_result"
    }
   ],
   "source": [
    "number_tracks('Wednesday', 'Moscow') # количество прослушиваний в Москве по средам"
   ]
  },
  {
   "cell_type": "code",
   "execution_count": 29,
   "metadata": {
    "id": "j2y3TAwo_Zcu",
    "scrolled": true
   },
   "outputs": [
    {
     "data": {
      "text/plain": [
       "7003"
      ]
     },
     "execution_count": 29,
     "metadata": {},
     "output_type": "execute_result"
    }
   ],
   "source": [
    "number_tracks('Wednesday', 'Saint-Petersburg') # количество прослушиваний в Санкт-Петербурге по средам"
   ]
  },
  {
   "cell_type": "code",
   "execution_count": 30,
   "metadata": {
    "id": "vYDw5u_K_Zcu"
   },
   "outputs": [
    {
     "data": {
      "text/plain": [
       "15945"
      ]
     },
     "execution_count": 30,
     "metadata": {},
     "output_type": "execute_result"
    }
   ],
   "source": [
    "number_tracks('Friday', 'Moscow') # количество прослушиваний в Москве по пятницам"
   ]
  },
  {
   "cell_type": "code",
   "execution_count": 31,
   "metadata": {
    "id": "8_yzFtW3_Zcu"
   },
   "outputs": [
    {
     "data": {
      "text/plain": [
       "5895"
      ]
     },
     "execution_count": 31,
     "metadata": {},
     "output_type": "execute_result"
    }
   ],
   "source": [
    "number_tracks('Friday', 'Saint-Petersburg') # количество прослушиваний в Санкт-Петербурге по пятницам"
   ]
  },
  {
   "cell_type": "markdown",
   "metadata": {
    "id": "7QXffbO-_Zcu"
   },
   "source": [
    "Создайте c помощью конструктора `pd.DataFrame` таблицу, где\n",
    "* названия колонок — `['city', 'monday', 'wednesday', 'friday']`;\n",
    "* данные — результаты, которые вы получили с помощью `number_tracks`."
   ]
  },
  {
   "cell_type": "code",
   "execution_count": 32,
   "metadata": {
    "id": "APAcLpOr_Zcu"
   },
   "outputs": [
    {
     "data": {
      "text/html": [
       "<div>\n",
       "<style scoped>\n",
       "    .dataframe tbody tr th:only-of-type {\n",
       "        vertical-align: middle;\n",
       "    }\n",
       "\n",
       "    .dataframe tbody tr th {\n",
       "        vertical-align: top;\n",
       "    }\n",
       "\n",
       "    .dataframe thead th {\n",
       "        text-align: right;\n",
       "    }\n",
       "</style>\n",
       "<table border=\"1\" class=\"dataframe\">\n",
       "  <thead>\n",
       "    <tr style=\"text-align: right;\">\n",
       "      <th></th>\n",
       "      <th>city</th>\n",
       "      <th>monday</th>\n",
       "      <th>wednesday</th>\n",
       "      <th>friday</th>\n",
       "    </tr>\n",
       "  </thead>\n",
       "  <tbody>\n",
       "    <tr>\n",
       "      <td>0</td>\n",
       "      <td>Moscow</td>\n",
       "      <td>15740</td>\n",
       "      <td>11056</td>\n",
       "      <td>15945</td>\n",
       "    </tr>\n",
       "    <tr>\n",
       "      <td>1</td>\n",
       "      <td>Saint-Petersburg</td>\n",
       "      <td>5614</td>\n",
       "      <td>7003</td>\n",
       "      <td>5895</td>\n",
       "    </tr>\n",
       "  </tbody>\n",
       "</table>\n",
       "</div>"
      ],
      "text/plain": [
       "               city  monday  wednesday  friday\n",
       "0            Moscow   15740      11056   15945\n",
       "1  Saint-Petersburg    5614       7003    5895"
      ]
     },
     "metadata": {},
     "output_type": "display_data"
    }
   ],
   "source": [
    "# Таблица с результатами\n",
    "columns = ['city', 'monday', 'wednesday', 'friday']\n",
    "numbers = [\n",
    "    ['Moscow', 15740, 11056, 15945],\n",
    "    ['Saint-Petersburg', 5614, 7003, 5895]\n",
    "]\n",
    "num_tracks = pd.DataFrame(data=numbers, columns=columns)\n",
    "display(num_tracks)"
   ]
  },
  {
   "cell_type": "markdown",
   "metadata": {
    "id": "-EgPIHYu_Zcu"
   },
   "source": [
    "**Выводы**\n",
    "\n",
    "Данные показывают разницу поведения пользователей:\n",
    "\n",
    "- В Москве пик прослушиваний приходится на понедельник и пятницу, а в среду заметен спад.\n",
    "- В Петербурге, наоборот, больше слушают музыку по средам. Активность в понедельник и пятницу здесь почти в равной мере уступает среде.\n",
    "\n",
    "Значит, данные говорят в пользу первой гипотезы."
   ]
  },
  {
   "cell_type": "markdown",
   "metadata": {
    "id": "atZAxtq4_Zcu"
   },
   "source": [
    "### Музыка в начале и в конце недели"
   ]
  },
  {
   "cell_type": "markdown",
   "metadata": {
    "id": "eXrQqXFH_Zcu"
   },
   "source": [
    "Согласно второй гипотезе, утром в понедельник в Москве преобладают одни жанры, а в Петербурге — другие. Так же и вечером пятницы преобладают разные жанры — в зависимости от города."
   ]
  },
  {
   "cell_type": "markdown",
   "metadata": {
    "id": "S8UcW6Hw_Zcu"
   },
   "source": [
    "Сохраните таблицы с данными в две переменные:\n",
    "* по Москве — в `moscow_general`;\n",
    "* по Санкт-Петербургу — в `spb_general`."
   ]
  },
  {
   "cell_type": "code",
   "execution_count": 33,
   "metadata": {
    "id": "qeaFfM_P_Zcu"
   },
   "outputs": [],
   "source": [
    "# получение таблицы moscow_general из тех строк таблицы df, \n",
    "# для которых значение в столбце 'city' равно 'Moscow'\n",
    "moscow_general = df.loc[df.loc[:, 'city'] == 'Moscow']"
   ]
  },
  {
   "cell_type": "code",
   "execution_count": 34,
   "metadata": {
    "id": "ORaVRKto_Zcu"
   },
   "outputs": [],
   "source": [
    "# получение таблицы spb_general из тех строк таблицы df,\n",
    "# для которых значение в столбце 'city' равно 'Saint-Petersburg'\n",
    "spb_general = df.loc[df.loc[:, 'city'] == 'Saint-Petersburg']"
   ]
  },
  {
   "cell_type": "markdown",
   "metadata": {
    "id": "MEJV-CX2_Zcu"
   },
   "source": [
    "Создайте функцию `genre_weekday()` с четырьмя параметрами:\n",
    "* таблица (датафрейм) с данными,\n",
    "* день недели,\n",
    "* начальная временная метка в формате 'hh:mm', \n",
    "* последняя временная метка в формате 'hh:mm'.\n",
    "\n",
    "Функция должна вернуть информацию о топ-10 жанров тех треков, которые прослушивали в указанный день, в промежутке между двумя отметками времени."
   ]
  },
  {
   "cell_type": "code",
   "execution_count": 35,
   "metadata": {
    "id": "laJT9BYl_Zcu"
   },
   "outputs": [],
   "source": [
    "# Объявление функции genre_weekday() с параметрами table, day, time1, time2,\n",
    "# которая возвращает информацию о самых популярных жанрах в указанный день в\n",
    "# заданное время:\n",
    "# 1) в переменную genre_df сохраняются те строки переданного датафрейма table, для\n",
    "#    которых одновременно:\n",
    "#    - значение в столбце day равно значению аргумента day\n",
    "#    - значение в столбце time больше значения аргумента time1\n",
    "#    - значение в столбце time меньше значения аргумента time2\n",
    "#    Используйте последовательную фильтрацию с помощью логической индексации.\n",
    "# 2) сгруппировать датафрейм genre_df по столбцу genre, взять один из его\n",
    "#    столбцов и посчитать методом count() количество записей для каждого из\n",
    "#    присутствующих жанров, получившийся Series записать в переменную\n",
    "#    genre_df_count\n",
    "# 3) отсортировать genre_df_count по убыванию встречаемости и сохранить\n",
    "#    в переменную genre_df_sorted\n",
    "# 4) вернуть Series из 10 первых значений genre_df_sorted, это будут топ-10\n",
    "#    популярных жанров (в указанный день, в заданное время)\n",
    "def genre_weekday(table, day, time1, time2):\n",
    "    genre_df = table[(table['day'] == day) & (table['time'] > time1) & (table['time'] < time2)]\n",
    "    genre_grouping = genre_df.groupby('genre')\n",
    "    genre_df_count = genre_grouping['track'].count()\n",
    "    genre_df_sorted = genre_df_count.sort_values(ascending=False)\n",
    "    return genre_df_sorted.head(10)"
   ]
  },
  {
   "cell_type": "markdown",
   "metadata": {
    "id": "la2s2_PF_Zcu"
   },
   "source": [
    "Cравните результаты функции `genre_weekday()` для Москвы и Санкт-Петербурга в понедельник утром (с 7:00 до 11:00) и в пятницу вечером (с 17:00 до 23:00):"
   ]
  },
  {
   "cell_type": "code",
   "execution_count": 36,
   "metadata": {
    "id": "yz7itPUQ_Zcu",
    "scrolled": true
   },
   "outputs": [
    {
     "data": {
      "text/plain": [
       "genre\n",
       "pop            781\n",
       "dance          549\n",
       "electronic     480\n",
       "rock           474\n",
       "hiphop         286\n",
       "ruspop         186\n",
       "world          181\n",
       "rusrap         175\n",
       "alternative    164\n",
       "unknown        161\n",
       "Name: track, dtype: int64"
      ]
     },
     "execution_count": 36,
     "metadata": {},
     "output_type": "execute_result"
    }
   ],
   "source": [
    "# вызов функции для утра понедельника в Москве (вместо df — таблица moscow_general)\n",
    "# объекты, хранящие время, являются строками и сравниваются как строки\n",
    "# пример вызова: genre_weekday(moscow_general, 'Monday', '07:00', '11:00')\n",
    "genre_weekday(moscow_general, 'Monday', '07:00', '11:00')"
   ]
  },
  {
   "cell_type": "code",
   "execution_count": 37,
   "metadata": {
    "id": "kwUcHPdy_Zcu",
    "scrolled": true
   },
   "outputs": [
    {
     "data": {
      "text/plain": [
       "genre\n",
       "pop            218\n",
       "dance          182\n",
       "rock           162\n",
       "electronic     147\n",
       "hiphop          80\n",
       "ruspop          64\n",
       "alternative     58\n",
       "rusrap          55\n",
       "jazz            44\n",
       "classical       40\n",
       "Name: track, dtype: int64"
      ]
     },
     "execution_count": 37,
     "metadata": {},
     "output_type": "execute_result"
    }
   ],
   "source": [
    "# вызов функции для утра понедельника в Петербурге (вместо df — таблица spb_general)\n",
    "genre_weekday(spb_general, 'Monday', '07:00', '11:00')"
   ]
  },
  {
   "cell_type": "code",
   "execution_count": 38,
   "metadata": {
    "id": "EzXVRE1o_Zcu",
    "scrolled": true
   },
   "outputs": [
    {
     "data": {
      "text/plain": [
       "genre\n",
       "pop            713\n",
       "rock           517\n",
       "dance          495\n",
       "electronic     482\n",
       "hiphop         273\n",
       "world          208\n",
       "ruspop         170\n",
       "alternative    163\n",
       "classical      163\n",
       "rusrap         142\n",
       "Name: track, dtype: int64"
      ]
     },
     "execution_count": 38,
     "metadata": {},
     "output_type": "execute_result"
    }
   ],
   "source": [
    "# вызов функции для вечера пятницы в Москве\n",
    "genre_weekday(moscow_general, 'Friday', '17:00', '23:00')"
   ]
  },
  {
   "cell_type": "code",
   "execution_count": 39,
   "metadata": {
    "id": "JZaEKu5v_Zcu",
    "scrolled": true
   },
   "outputs": [
    {
     "data": {
      "text/plain": [
       "genre\n",
       "pop            256\n",
       "rock           216\n",
       "electronic     216\n",
       "dance          210\n",
       "hiphop          97\n",
       "alternative     63\n",
       "jazz            61\n",
       "classical       60\n",
       "rusrap          59\n",
       "world           54\n",
       "Name: track, dtype: int64"
      ]
     },
     "execution_count": 39,
     "metadata": {},
     "output_type": "execute_result"
    }
   ],
   "source": [
    "# вызов функции для вечера пятницы в Петербурге\n",
    "genre_weekday(spb_general, 'Friday', '17:00', '23:00')"
   ]
  },
  {
   "cell_type": "markdown",
   "metadata": {
    "id": "wrCe4MNX_Zcu"
   },
   "source": [
    "**Выводы**\n",
    "\n",
    "Если сравнить топ-10 жанров в понедельник утром, можно сделать такие выводы:\n",
    "\n",
    "1. В Москве и Петербурге слушают похожую музыку. Единственное отличие — в московский рейтинг вошёл жанр “world”, а в петербургский — джаз и классика.\n",
    "\n",
    "2. В Москве пропущенных значений оказалось так много, что значение `'unknown'` заняло десятое место среди самых популярных жанров. Значит, пропущенные значения занимают существенную долю в данных и угрожают достоверности исследования.\n",
    "\n",
    "Вечер пятницы не меняет эту картину. Некоторые жанры поднимаются немного выше, другие спускаются, но в целом топ-10 остаётся тем же самым.\n",
    "\n",
    "Таким образом, вторая гипотеза подтвердилась лишь частично:\n",
    "* Пользователи слушают похожую музыку в начале недели и в конце.\n",
    "* Разница между Москвой и Петербургом не слишком выражена. В Москве чаще слушают русскую популярную музыку, в Петербурге — джаз.\n",
    "\n",
    "Однако пропуски в данных ставят под сомнение этот результат. В Москве их так много, что рейтинг топ-10 мог бы выглядеть иначе, если бы не утерянные  данные о жанрах."
   ]
  },
  {
   "cell_type": "markdown",
   "metadata": {
    "id": "JolODAqr_Zcu"
   },
   "source": [
    "### Жанровые предпочтения в Москве и Петербурге\n",
    "\n",
    "Гипотеза: Петербург — столица рэпа, музыку этого жанра там слушают чаще, чем в Москве.  А Москва — город контрастов, в котором, тем не менее, преобладает поп-музыка."
   ]
  },
  {
   "cell_type": "markdown",
   "metadata": {
    "id": "DlegSvaT_Zcu"
   },
   "source": [
    "Сгруппируйте таблицу `moscow_general` по жанру и посчитайте прослушивания треков каждого жанра методом `count()`. Затем отсортируйте результат в порядке убывания и сохраните его в таблице `moscow_genres`."
   ]
  },
  {
   "cell_type": "code",
   "execution_count": 40,
   "metadata": {
    "id": "r19lIPke_Zcu"
   },
   "outputs": [],
   "source": [
    "# одной строкой: группировка таблицы moscow_general по столбцу 'genre', \n",
    "# подсчёт числа значений 'genre' в этой группировке методом count(), \n",
    "# сортировка получившегося Series в порядке убывания и сохранение в moscow_genres\n",
    "moscow_genres = moscow_general.groupby('genre')['genre'].count().sort_values(ascending=False)"
   ]
  },
  {
   "cell_type": "markdown",
   "metadata": {
    "id": "6kMuomxTiIr8"
   },
   "source": [
    "Выведите на экран первые десять строк `moscow_genres`:"
   ]
  },
  {
   "cell_type": "code",
   "execution_count": 41,
   "metadata": {
    "id": "WhCSooF8_Zcv"
   },
   "outputs": [
    {
     "data": {
      "text/plain": [
       "genre\n",
       "pop            5892\n",
       "dance          4435\n",
       "rock           3965\n",
       "electronic     3786\n",
       "hiphop         2096\n",
       "classical      1616\n",
       "world          1432\n",
       "alternative    1379\n",
       "ruspop         1372\n",
       "rusrap         1161\n",
       "Name: genre, dtype: int64"
      ]
     },
     "metadata": {},
     "output_type": "display_data"
    }
   ],
   "source": [
    "# просмотр первых 10 строк moscow_genres\n",
    "display(moscow_genres.head(10))"
   ]
  },
  {
   "cell_type": "markdown",
   "metadata": {
    "id": "cnPG2vnN_Zcv"
   },
   "source": [
    "Теперь повторите то же и для Петербурга.\n",
    "\n",
    "Сгруппируйте таблицу `spb_general` по жанру. Посчитайте прослушивания треков каждого жанра. Результат отсортируйте в порядке убывания и сохраните в таблице `spb_genres`:\n"
   ]
  },
  {
   "cell_type": "code",
   "execution_count": 42,
   "metadata": {
    "id": "gluLIpE7_Zcv"
   },
   "outputs": [],
   "source": [
    "# одной строкой: группировка таблицы spb_general по столбцу 'genre', \n",
    "# подсчёт числа значений 'genre' в этой группировке методом count(), \n",
    "# сортировка получившегося Series в порядке убывания и сохранение в spb_genres\n",
    "spb_genres = spb_general.groupby('genre')['genre'].count().sort_values(ascending=False)"
   ]
  },
  {
   "cell_type": "markdown",
   "metadata": {
    "id": "5Doha_ODgyQ8"
   },
   "source": [
    "Выведите на экран первые десять строк `spb_genres`:"
   ]
  },
  {
   "cell_type": "code",
   "execution_count": 43,
   "metadata": {
    "id": "uaGJHjVU_Zcv"
   },
   "outputs": [
    {
     "data": {
      "text/plain": [
       "genre\n",
       "pop            2431\n",
       "dance          1932\n",
       "rock           1879\n",
       "electronic     1737\n",
       "hiphop          960\n",
       "alternative     649\n",
       "classical       646\n",
       "rusrap          564\n",
       "ruspop          538\n",
       "world           515\n",
       "Name: genre, dtype: int64"
      ]
     },
     "metadata": {},
     "output_type": "display_data"
    }
   ],
   "source": [
    "# просмотр первых 10 строк spb_genres\n",
    "display(spb_genres.head(10))"
   ]
  },
  {
   "cell_type": "markdown",
   "metadata": {
    "id": "RY51YJYu_Zcv"
   },
   "source": [
    "**Выводы**"
   ]
  },
  {
   "cell_type": "markdown",
   "metadata": {
    "id": "nVhnJEm__Zcv"
   },
   "source": [
    "Гипотеза частично подтвердилась:\n",
    "* Поп-музыка — самый популярный жанр в Москве, как и предполагала гипотеза. Более того, в топ-10 жанров встречается близкий жанр — русская популярная музыка.\n",
    "* Вопреки ожиданиям, рэп одинаково популярен в Москве и Петербурге. \n"
   ]
  },
  {
   "cell_type": "markdown",
   "metadata": {
    "id": "ykKQ0N65_Zcv"
   },
   "source": [
    "## Итоги исследования"
   ]
  },
  {
   "cell_type": "markdown",
   "metadata": {
    "id": "tjUwbHb3_Zcv"
   },
   "source": [
    "Вы проверили три гипотезы и установили:\n",
    "\n",
    "1. День недели по-разному влияет на активность пользователей в Москве и Петербурге. \n",
    "\n",
    "Первая гипотеза полностью подтвердилась.\n",
    "\n",
    "2. Музыкальные предпочтения не сильно меняются в течение недели — будь то Москва или Петербург. Небольшие различия заметны в начале недели, по понедельникам:\n",
    "* в Москве слушают музыку жанра “world”,\n",
    "* в Петербурге — джаз и классику.\n",
    "\n",
    "Таким образом, вторая гипотеза подтвердилась лишь отчасти. Этот результат мог оказаться иным, если бы не пропуски в данных.\n",
    "\n",
    "3. Во вкусах пользователей Москвы и Петербурга больше общего чем различий. Вопреки ожиданиям, предпочтения жанров в Петербурге напоминают московские.\n",
    "\n",
    "Третья гипотеза не подтвердилась. Если различия в предпочтениях и существуют, на основной массе пользователей они незаметны.\n",
    "\n",
    "**На практике исследования содержат проверки статистических гипотез.**\n",
    "Из данных одного сервиса не всегда можно сделать вывод о всех жителях города.\n",
    "Проверки статистических гипотез покажут, насколько они достоверны, исходя из имеющихся данных. \n",
    "С методами проверок гипотез вы ещё познакомитесь в следующих темах."
   ]
  }
 ],
 "metadata": {
  "ExecuteTimeLog": [
   {
    "duration": 614,
    "start_time": "2022-01-22T09:22:38.851Z"
   },
   {
    "duration": 155,
    "start_time": "2022-01-22T09:25:11.837Z"
   },
   {
    "duration": 19,
    "start_time": "2022-01-22T09:25:38.957Z"
   },
   {
    "duration": 538,
    "start_time": "2022-01-22T09:27:09.044Z"
   },
   {
    "duration": 936,
    "start_time": "2022-01-22T09:27:30.841Z"
   },
   {
    "duration": 153,
    "start_time": "2022-01-22T09:29:48.934Z"
   },
   {
    "duration": 14,
    "start_time": "2022-01-22T09:29:53.647Z"
   },
   {
    "duration": 25,
    "start_time": "2022-01-22T09:30:08.980Z"
   },
   {
    "duration": 394,
    "start_time": "2022-01-22T09:39:45.871Z"
   },
   {
    "duration": 4,
    "start_time": "2022-01-22T09:40:30.331Z"
   },
   {
    "duration": 18,
    "start_time": "2022-01-22T09:44:00.048Z"
   },
   {
    "duration": 4,
    "start_time": "2022-01-22T09:44:26.527Z"
   },
   {
    "duration": 81,
    "start_time": "2022-01-22T09:45:48.637Z"
   },
   {
    "duration": 24,
    "start_time": "2022-01-22T09:46:21.659Z"
   },
   {
    "duration": 16,
    "start_time": "2022-01-22T09:50:37.302Z"
   },
   {
    "duration": 24,
    "start_time": "2022-01-22T09:51:06.215Z"
   },
   {
    "duration": 57,
    "start_time": "2022-01-22T09:51:56.431Z"
   },
   {
    "duration": 62,
    "start_time": "2022-01-22T09:55:20.950Z"
   },
   {
    "duration": 60,
    "start_time": "2022-01-22T09:55:32.731Z"
   },
   {
    "duration": 9,
    "start_time": "2022-01-22T09:58:53.268Z"
   },
   {
    "duration": 4,
    "start_time": "2022-01-22T10:03:48.422Z"
   },
   {
    "duration": 15,
    "start_time": "2022-01-22T10:07:08.424Z"
   },
   {
    "duration": 6,
    "start_time": "2022-01-22T10:07:38.024Z"
   },
   {
    "duration": 13,
    "start_time": "2022-01-22T10:14:41.799Z"
   },
   {
    "duration": 10,
    "start_time": "2022-01-22T10:14:59.306Z"
   },
   {
    "duration": 11,
    "start_time": "2022-01-22T10:15:07.670Z"
   },
   {
    "duration": 11,
    "start_time": "2022-01-22T10:16:29.327Z"
   },
   {
    "duration": 12,
    "start_time": "2022-01-22T10:16:48.702Z"
   },
   {
    "duration": 290,
    "start_time": "2022-01-22T10:28:53.831Z"
   },
   {
    "duration": 13,
    "start_time": "2022-01-22T10:30:57.111Z"
   },
   {
    "duration": 16,
    "start_time": "2022-01-22T10:32:04.350Z"
   },
   {
    "duration": 19,
    "start_time": "2022-01-22T10:32:26.512Z"
   },
   {
    "duration": 12,
    "start_time": "2022-01-22T10:32:38.261Z"
   },
   {
    "duration": 12,
    "start_time": "2022-01-22T10:32:50.589Z"
   },
   {
    "duration": 19,
    "start_time": "2022-01-22T10:33:04.759Z"
   },
   {
    "duration": 21,
    "start_time": "2022-01-22T10:33:17.055Z"
   },
   {
    "duration": 20,
    "start_time": "2022-01-22T10:33:39.989Z"
   },
   {
    "duration": 17,
    "start_time": "2022-01-22T10:33:50.436Z"
   },
   {
    "duration": 22,
    "start_time": "2022-01-22T10:35:09.324Z"
   },
   {
    "duration": 23,
    "start_time": "2022-01-22T10:35:19.497Z"
   },
   {
    "duration": 25,
    "start_time": "2022-01-22T10:39:50.536Z"
   },
   {
    "duration": 3,
    "start_time": "2022-01-22T10:41:02.200Z"
   },
   {
    "duration": 17,
    "start_time": "2022-01-22T10:42:11.473Z"
   },
   {
    "duration": 14,
    "start_time": "2022-01-22T10:43:05.248Z"
   },
   {
    "duration": 16,
    "start_time": "2022-01-22T10:43:31.956Z"
   },
   {
    "duration": 18,
    "start_time": "2022-01-22T10:43:52.001Z"
   },
   {
    "duration": 17,
    "start_time": "2022-01-22T10:44:20.156Z"
   },
   {
    "duration": 15,
    "start_time": "2022-01-22T10:44:44.292Z"
   },
   {
    "duration": 244,
    "start_time": "2022-01-22T10:52:25.138Z"
   },
   {
    "duration": 9,
    "start_time": "2022-01-22T10:54:48.129Z"
   },
   {
    "duration": 15,
    "start_time": "2022-01-22T10:58:53.456Z"
   },
   {
    "duration": 75,
    "start_time": "2022-01-22T11:01:18.511Z"
   },
   {
    "duration": 18,
    "start_time": "2022-01-22T11:02:24.596Z"
   },
   {
    "duration": 63,
    "start_time": "2022-01-22T11:02:49.898Z"
   },
   {
    "duration": 57,
    "start_time": "2022-01-22T11:02:53.519Z"
   },
   {
    "duration": 6,
    "start_time": "2022-01-22T11:02:57.565Z"
   },
   {
    "duration": 3,
    "start_time": "2022-01-22T11:03:04.576Z"
   },
   {
    "duration": 15,
    "start_time": "2022-01-22T11:03:08.206Z"
   },
   {
    "duration": 7,
    "start_time": "2022-01-22T11:03:13.151Z"
   },
   {
    "duration": 11,
    "start_time": "2022-01-22T11:03:20.932Z"
   },
   {
    "duration": 12,
    "start_time": "2022-01-22T11:03:25.156Z"
   },
   {
    "duration": 4,
    "start_time": "2022-01-22T11:03:31.469Z"
   },
   {
    "duration": 18,
    "start_time": "2022-01-22T11:03:36.058Z"
   },
   {
    "duration": 15,
    "start_time": "2022-01-22T11:03:37.770Z"
   },
   {
    "duration": 15,
    "start_time": "2022-01-22T11:03:38.538Z"
   },
   {
    "duration": 16,
    "start_time": "2022-01-22T11:03:39.196Z"
   },
   {
    "duration": 17,
    "start_time": "2022-01-22T11:03:40.140Z"
   },
   {
    "duration": 16,
    "start_time": "2022-01-22T11:03:40.934Z"
   },
   {
    "duration": 9,
    "start_time": "2022-01-22T11:03:44.635Z"
   },
   {
    "duration": 17,
    "start_time": "2022-01-22T11:03:50.830Z"
   },
   {
    "duration": 13,
    "start_time": "2022-01-22T11:04:22.271Z"
   },
   {
    "duration": 15,
    "start_time": "2022-01-22T11:05:12.841Z"
   },
   {
    "duration": 10,
    "start_time": "2022-01-22T11:05:24.403Z"
   },
   {
    "duration": 3,
    "start_time": "2022-01-22T11:09:55.955Z"
   },
   {
    "duration": 227,
    "start_time": "2022-01-23T09:41:44.603Z"
   },
   {
    "duration": 533,
    "start_time": "2022-01-23T09:42:19.277Z"
   },
   {
    "duration": 132,
    "start_time": "2022-01-23T09:42:19.812Z"
   },
   {
    "duration": 15,
    "start_time": "2022-01-23T09:42:19.946Z"
   },
   {
    "duration": 24,
    "start_time": "2022-01-23T09:42:19.963Z"
   },
   {
    "duration": 3,
    "start_time": "2022-01-23T09:42:19.989Z"
   },
   {
    "duration": 23,
    "start_time": "2022-01-23T09:42:20.012Z"
   },
   {
    "duration": 16,
    "start_time": "2022-01-23T09:42:20.037Z"
   },
   {
    "duration": 35,
    "start_time": "2022-01-23T09:42:20.055Z"
   },
   {
    "duration": 20,
    "start_time": "2022-01-23T09:42:20.092Z"
   },
   {
    "duration": 20,
    "start_time": "2022-01-23T09:42:20.114Z"
   },
   {
    "duration": 55,
    "start_time": "2022-01-23T09:42:20.136Z"
   },
   {
    "duration": 84,
    "start_time": "2022-01-23T09:42:20.193Z"
   },
   {
    "duration": 56,
    "start_time": "2022-01-23T09:42:20.278Z"
   },
   {
    "duration": 6,
    "start_time": "2022-01-23T09:42:20.336Z"
   },
   {
    "duration": 6,
    "start_time": "2022-01-23T09:42:20.343Z"
   },
   {
    "duration": 19,
    "start_time": "2022-01-23T09:42:20.351Z"
   },
   {
    "duration": 6,
    "start_time": "2022-01-23T09:42:20.371Z"
   },
   {
    "duration": 11,
    "start_time": "2022-01-23T09:42:20.378Z"
   },
   {
    "duration": 10,
    "start_time": "2022-01-23T09:42:20.413Z"
   },
   {
    "duration": 3,
    "start_time": "2022-01-23T09:42:20.425Z"
   },
   {
    "duration": 24,
    "start_time": "2022-01-23T09:42:20.430Z"
   },
   {
    "duration": 14,
    "start_time": "2022-01-23T09:42:20.455Z"
   },
   {
    "duration": 13,
    "start_time": "2022-01-23T09:42:20.472Z"
   },
   {
    "duration": 37,
    "start_time": "2022-01-23T09:42:20.487Z"
   },
   {
    "duration": 15,
    "start_time": "2022-01-23T09:42:20.526Z"
   },
   {
    "duration": 13,
    "start_time": "2022-01-23T09:42:20.543Z"
   },
   {
    "duration": 7,
    "start_time": "2022-01-23T09:42:20.558Z"
   },
   {
    "duration": 11,
    "start_time": "2022-01-23T09:42:20.567Z"
   },
   {
    "duration": 37,
    "start_time": "2022-01-23T09:42:20.580Z"
   },
   {
    "duration": 4,
    "start_time": "2022-01-23T09:42:20.619Z"
   },
   {
    "duration": 21,
    "start_time": "2022-01-23T09:42:26.280Z"
   },
   {
    "duration": 21,
    "start_time": "2022-01-23T09:42:56.135Z"
   },
   {
    "duration": 20,
    "start_time": "2022-01-23T09:43:32.659Z"
   },
   {
    "duration": 61,
    "start_time": "2022-01-23T09:43:40.117Z"
   },
   {
    "duration": 58,
    "start_time": "2022-01-23T09:44:11.379Z"
   },
   {
    "duration": 54,
    "start_time": "2022-01-23T09:44:21.100Z"
   },
   {
    "duration": 23,
    "start_time": "2022-01-23T09:44:48.235Z"
   },
   {
    "duration": 23,
    "start_time": "2022-01-23T09:45:01.829Z"
   },
   {
    "duration": 22,
    "start_time": "2022-01-23T09:47:00.237Z"
   },
   {
    "duration": 22,
    "start_time": "2022-01-23T09:47:13.133Z"
   },
   {
    "duration": 18,
    "start_time": "2022-01-23T09:48:17.697Z"
   },
   {
    "duration": 19,
    "start_time": "2022-01-23T09:48:26.488Z"
   },
   {
    "duration": 18,
    "start_time": "2022-01-23T09:49:35.755Z"
   },
   {
    "duration": 20,
    "start_time": "2022-01-23T09:49:52.872Z"
   },
   {
    "duration": 17,
    "start_time": "2022-01-23T09:51:53.125Z"
   },
   {
    "duration": 6252,
    "start_time": "2022-01-23T09:54:14.150Z"
   },
   {
    "duration": 5429,
    "start_time": "2022-01-23T09:54:47.834Z"
   },
   {
    "duration": 19,
    "start_time": "2022-01-23T09:55:55.932Z"
   },
   {
    "duration": 4,
    "start_time": "2022-01-23T09:57:16.841Z"
   },
   {
    "duration": 26,
    "start_time": "2022-01-23T09:58:36.885Z"
   },
   {
    "duration": 12,
    "start_time": "2022-01-23T09:59:06.236Z"
   },
   {
    "duration": 16,
    "start_time": "2022-01-23T10:00:33.642Z"
   },
   {
    "duration": 12,
    "start_time": "2022-01-23T10:01:18.683Z"
   },
   {
    "duration": 11,
    "start_time": "2022-01-23T10:06:39.000Z"
   },
   {
    "duration": 8,
    "start_time": "2022-01-23T10:07:01.654Z"
   },
   {
    "duration": 4,
    "start_time": "2022-01-23T10:07:04.667Z"
   },
   {
    "duration": 5,
    "start_time": "2022-01-23T10:07:57.022Z"
   },
   {
    "duration": 4,
    "start_time": "2022-01-23T10:08:35.240Z"
   },
   {
    "duration": 4,
    "start_time": "2022-01-23T10:08:49.811Z"
   },
   {
    "duration": 18,
    "start_time": "2022-01-23T10:14:07.664Z"
   },
   {
    "duration": 6,
    "start_time": "2022-01-23T10:14:13.903Z"
   },
   {
    "duration": 5,
    "start_time": "2022-01-23T10:14:36.152Z"
   },
   {
    "duration": 13,
    "start_time": "2022-01-23T10:14:36.159Z"
   },
   {
    "duration": 8,
    "start_time": "2022-01-23T10:14:36.174Z"
   },
   {
    "duration": 3,
    "start_time": "2022-01-23T10:14:36.184Z"
   },
   {
    "duration": 17,
    "start_time": "2022-01-23T10:14:36.189Z"
   },
   {
    "duration": 13,
    "start_time": "2022-01-23T10:14:36.207Z"
   },
   {
    "duration": 13,
    "start_time": "2022-01-23T10:14:36.222Z"
   },
   {
    "duration": 12,
    "start_time": "2022-01-23T10:14:36.237Z"
   },
   {
    "duration": 15,
    "start_time": "2022-01-23T10:14:36.250Z"
   },
   {
    "duration": 46,
    "start_time": "2022-01-23T10:14:36.266Z"
   },
   {
    "duration": 7,
    "start_time": "2022-01-23T10:14:36.314Z"
   },
   {
    "duration": 12,
    "start_time": "2022-01-23T10:14:36.323Z"
   },
   {
    "duration": 7,
    "start_time": "2022-01-23T10:14:36.337Z"
   },
   {
    "duration": 3,
    "start_time": "2022-01-23T10:14:36.346Z"
   },
   {
    "duration": 19,
    "start_time": "2022-01-23T10:14:36.351Z"
   },
   {
    "duration": 11,
    "start_time": "2022-01-23T10:14:36.371Z"
   },
   {
    "duration": 18,
    "start_time": "2022-01-23T10:14:36.412Z"
   },
   {
    "duration": 11,
    "start_time": "2022-01-23T10:14:36.431Z"
   },
   {
    "duration": 7,
    "start_time": "2022-01-23T10:14:36.445Z"
   },
   {
    "duration": 4,
    "start_time": "2022-01-23T10:14:36.453Z"
   },
   {
    "duration": 6,
    "start_time": "2022-01-23T10:14:36.459Z"
   },
   {
    "duration": 4,
    "start_time": "2022-01-23T10:14:36.467Z"
   },
   {
    "duration": 4,
    "start_time": "2022-01-23T10:16:05.246Z"
   },
   {
    "duration": 16,
    "start_time": "2022-01-23T10:16:11.113Z"
   },
   {
    "duration": 17,
    "start_time": "2022-01-23T10:16:18.980Z"
   },
   {
    "duration": 13,
    "start_time": "2022-01-23T10:16:18.998Z"
   },
   {
    "duration": 14,
    "start_time": "2022-01-23T10:16:19.013Z"
   },
   {
    "duration": 12,
    "start_time": "2022-01-23T10:16:19.029Z"
   },
   {
    "duration": 14,
    "start_time": "2022-01-23T10:16:19.042Z"
   },
   {
    "duration": 13,
    "start_time": "2022-01-23T10:16:19.058Z"
   },
   {
    "duration": 41,
    "start_time": "2022-01-23T10:16:19.072Z"
   },
   {
    "duration": 12,
    "start_time": "2022-01-23T10:16:19.116Z"
   },
   {
    "duration": 9,
    "start_time": "2022-01-23T10:16:19.130Z"
   },
   {
    "duration": 5,
    "start_time": "2022-01-23T10:16:19.140Z"
   },
   {
    "duration": 21,
    "start_time": "2022-01-23T10:16:19.146Z"
   },
   {
    "duration": 12,
    "start_time": "2022-01-23T10:16:19.169Z"
   },
   {
    "duration": 16,
    "start_time": "2022-01-23T10:16:19.213Z"
   },
   {
    "duration": 11,
    "start_time": "2022-01-23T10:16:19.230Z"
   },
   {
    "duration": 7,
    "start_time": "2022-01-23T10:16:19.242Z"
   },
   {
    "duration": 4,
    "start_time": "2022-01-23T10:16:19.251Z"
   },
   {
    "duration": 6,
    "start_time": "2022-01-23T10:16:19.256Z"
   },
   {
    "duration": 4,
    "start_time": "2022-01-23T10:16:19.264Z"
   },
   {
    "duration": 10,
    "start_time": "2022-01-23T10:30:34.649Z"
   },
   {
    "duration": 21,
    "start_time": "2022-01-23T10:31:24.556Z"
   },
   {
    "duration": 3,
    "start_time": "2022-01-23T10:37:09.710Z"
   },
   {
    "duration": 134,
    "start_time": "2022-01-23T10:37:09.753Z"
   },
   {
    "duration": 9,
    "start_time": "2022-01-23T10:37:09.889Z"
   },
   {
    "duration": 23,
    "start_time": "2022-01-23T10:37:09.912Z"
   },
   {
    "duration": 3,
    "start_time": "2022-01-23T10:37:09.937Z"
   },
   {
    "duration": 19,
    "start_time": "2022-01-23T10:37:09.941Z"
   },
   {
    "duration": 3,
    "start_time": "2022-01-23T10:37:09.962Z"
   },
   {
    "duration": 50,
    "start_time": "2022-01-23T10:37:09.966Z"
   },
   {
    "duration": 18,
    "start_time": "2022-01-23T10:37:10.018Z"
   },
   {
    "duration": 21,
    "start_time": "2022-01-23T10:37:10.038Z"
   },
   {
    "duration": 73,
    "start_time": "2022-01-23T10:37:10.060Z"
   },
   {
    "duration": 58,
    "start_time": "2022-01-23T10:37:10.134Z"
   },
   {
    "duration": 64,
    "start_time": "2022-01-23T10:37:10.194Z"
   },
   {
    "duration": 6,
    "start_time": "2022-01-23T10:37:10.260Z"
   },
   {
    "duration": 3,
    "start_time": "2022-01-23T10:37:10.267Z"
   },
   {
    "duration": 19,
    "start_time": "2022-01-23T10:37:10.272Z"
   },
   {
    "duration": 22,
    "start_time": "2022-01-23T10:37:10.292Z"
   },
   {
    "duration": 12,
    "start_time": "2022-01-23T10:37:10.315Z"
   },
   {
    "duration": 11,
    "start_time": "2022-01-23T10:37:10.328Z"
   },
   {
    "duration": 3,
    "start_time": "2022-01-23T10:37:10.340Z"
   },
   {
    "duration": 19,
    "start_time": "2022-01-23T10:37:10.345Z"
   },
   {
    "duration": 54,
    "start_time": "2022-01-23T10:37:10.365Z"
   },
   {
    "duration": 12,
    "start_time": "2022-01-23T10:37:10.421Z"
   },
   {
    "duration": 13,
    "start_time": "2022-01-23T10:37:10.436Z"
   },
   {
    "duration": 14,
    "start_time": "2022-01-23T10:37:10.451Z"
   },
   {
    "duration": 12,
    "start_time": "2022-01-23T10:37:10.467Z"
   },
   {
    "duration": 36,
    "start_time": "2022-01-23T10:37:10.481Z"
   },
   {
    "duration": 15,
    "start_time": "2022-01-23T10:37:10.519Z"
   },
   {
    "duration": 10,
    "start_time": "2022-01-23T10:37:10.535Z"
   },
   {
    "duration": 4,
    "start_time": "2022-01-23T10:37:10.546Z"
   },
   {
    "duration": 22,
    "start_time": "2022-01-23T10:37:10.552Z"
   },
   {
    "duration": 37,
    "start_time": "2022-01-23T10:37:10.575Z"
   },
   {
    "duration": 16,
    "start_time": "2022-01-23T10:37:10.614Z"
   },
   {
    "duration": 11,
    "start_time": "2022-01-23T10:37:10.631Z"
   },
   {
    "duration": 7,
    "start_time": "2022-01-23T10:37:10.643Z"
   },
   {
    "duration": 4,
    "start_time": "2022-01-23T10:37:10.651Z"
   },
   {
    "duration": 7,
    "start_time": "2022-01-23T10:37:10.657Z"
   },
   {
    "duration": 4,
    "start_time": "2022-01-23T10:37:10.665Z"
   },
   {
    "duration": 572,
    "start_time": "2022-01-29T13:14:26.424Z"
   },
   {
    "duration": 145,
    "start_time": "2022-01-29T13:14:26.998Z"
   },
   {
    "duration": 26,
    "start_time": "2022-01-29T13:14:27.146Z"
   },
   {
    "duration": 37,
    "start_time": "2022-01-29T13:14:27.174Z"
   },
   {
    "duration": 3,
    "start_time": "2022-01-29T13:14:27.213Z"
   },
   {
    "duration": 28,
    "start_time": "2022-01-29T13:14:27.218Z"
   },
   {
    "duration": 8,
    "start_time": "2022-01-29T13:14:27.248Z"
   },
   {
    "duration": 48,
    "start_time": "2022-01-29T13:14:27.258Z"
   },
   {
    "duration": 20,
    "start_time": "2022-01-29T13:14:27.310Z"
   },
   {
    "duration": 23,
    "start_time": "2022-01-29T13:14:27.333Z"
   },
   {
    "duration": 93,
    "start_time": "2022-01-29T13:14:27.358Z"
   },
   {
    "duration": 80,
    "start_time": "2022-01-29T13:14:27.453Z"
   },
   {
    "duration": 63,
    "start_time": "2022-01-29T13:14:27.535Z"
   },
   {
    "duration": 6,
    "start_time": "2022-01-29T13:14:27.600Z"
   },
   {
    "duration": 6,
    "start_time": "2022-01-29T13:14:27.608Z"
   },
   {
    "duration": 24,
    "start_time": "2022-01-29T13:14:27.616Z"
   },
   {
    "duration": 5,
    "start_time": "2022-01-29T13:14:27.642Z"
   },
   {
    "duration": 13,
    "start_time": "2022-01-29T13:14:27.649Z"
   },
   {
    "duration": 45,
    "start_time": "2022-01-29T13:14:27.664Z"
   },
   {
    "duration": 5,
    "start_time": "2022-01-29T13:14:27.711Z"
   },
   {
    "duration": 30,
    "start_time": "2022-01-29T13:14:27.719Z"
   },
   {
    "duration": 24,
    "start_time": "2022-01-29T13:14:27.751Z"
   },
   {
    "duration": 18,
    "start_time": "2022-01-29T13:14:27.799Z"
   },
   {
    "duration": 16,
    "start_time": "2022-01-29T13:14:27.819Z"
   },
   {
    "duration": 20,
    "start_time": "2022-01-29T13:14:27.837Z"
   },
   {
    "duration": 50,
    "start_time": "2022-01-29T13:14:27.859Z"
   },
   {
    "duration": 8,
    "start_time": "2022-01-29T13:14:27.913Z"
   },
   {
    "duration": 20,
    "start_time": "2022-01-29T13:14:27.924Z"
   },
   {
    "duration": 10,
    "start_time": "2022-01-29T13:14:27.954Z"
   },
   {
    "duration": 34,
    "start_time": "2022-01-29T13:14:27.966Z"
   },
   {
    "duration": 27,
    "start_time": "2022-01-29T13:14:28.002Z"
   },
   {
    "duration": 12,
    "start_time": "2022-01-29T13:14:28.031Z"
   },
   {
    "duration": 19,
    "start_time": "2022-01-29T13:14:28.045Z"
   },
   {
    "duration": 35,
    "start_time": "2022-01-29T13:14:28.065Z"
   },
   {
    "duration": 8,
    "start_time": "2022-01-29T13:14:28.101Z"
   },
   {
    "duration": 6,
    "start_time": "2022-01-29T13:14:28.111Z"
   },
   {
    "duration": 12,
    "start_time": "2022-01-29T13:14:28.120Z"
   },
   {
    "duration": 7,
    "start_time": "2022-01-29T13:14:28.134Z"
   },
   {
    "duration": 484,
    "start_time": "2022-01-29T14:07:28.556Z"
   },
   {
    "duration": 768,
    "start_time": "2022-01-29T14:07:37.333Z"
   },
   {
    "duration": 183,
    "start_time": "2022-01-29T14:07:41.189Z"
   },
   {
    "duration": 15,
    "start_time": "2022-01-29T14:07:44.364Z"
   },
   {
    "duration": 108,
    "start_time": "2022-01-29T14:11:54.397Z"
   },
   {
    "duration": 98,
    "start_time": "2022-01-29T14:13:14.055Z"
   },
   {
    "duration": 229,
    "start_time": "2022-01-29T14:14:08.939Z"
   },
   {
    "duration": 99,
    "start_time": "2022-01-29T14:15:00.887Z"
   },
   {
    "duration": 34,
    "start_time": "2022-01-29T14:19:49.446Z"
   },
   {
    "duration": 14,
    "start_time": "2022-01-29T14:20:29.872Z"
   },
   {
    "duration": 26,
    "start_time": "2022-01-29T14:22:27.414Z"
   },
   {
    "duration": 5,
    "start_time": "2022-01-29T14:22:29.647Z"
   },
   {
    "duration": 46,
    "start_time": "2022-01-29T14:22:32.146Z"
   },
   {
    "duration": 22,
    "start_time": "2022-01-29T14:22:35.715Z"
   },
   {
    "duration": 30,
    "start_time": "2022-01-29T14:22:38.642Z"
   },
   {
    "duration": 82,
    "start_time": "2022-01-29T14:22:41.948Z"
   },
   {
    "duration": 96,
    "start_time": "2022-01-29T14:22:46.164Z"
   },
   {
    "duration": 75,
    "start_time": "2022-01-29T14:22:49.136Z"
   },
   {
    "duration": 8,
    "start_time": "2022-01-29T14:22:54.055Z"
   },
   {
    "duration": 54,
    "start_time": "2022-01-29T14:25:21.204Z"
   },
   {
    "duration": 55,
    "start_time": "2022-01-29T14:26:17.245Z"
   },
   {
    "duration": 5,
    "start_time": "2022-01-29T14:29:02.809Z"
   },
   {
    "duration": 49,
    "start_time": "2022-01-29T14:29:06.094Z"
   },
   {
    "duration": 23,
    "start_time": "2022-01-29T14:30:01.155Z"
   },
   {
    "duration": 55,
    "start_time": "2022-01-29T14:31:16.726Z"
   },
   {
    "duration": 16,
    "start_time": "2022-01-29T14:31:38.052Z"
   },
   {
    "duration": 16,
    "start_time": "2022-01-29T14:31:40.713Z"
   },
   {
    "duration": 5,
    "start_time": "2022-01-29T14:31:46.735Z"
   },
   {
    "duration": 21,
    "start_time": "2022-01-29T14:31:49.939Z"
   },
   {
    "duration": 21,
    "start_time": "2022-01-29T14:31:53.885Z"
   },
   {
    "duration": 18,
    "start_time": "2022-01-29T14:31:56.428Z"
   },
   {
    "duration": 20,
    "start_time": "2022-01-29T14:32:00.358Z"
   },
   {
    "duration": 24,
    "start_time": "2022-01-29T14:32:02.174Z"
   },
   {
    "duration": 22,
    "start_time": "2022-01-29T14:32:03.329Z"
   },
   {
    "duration": 14,
    "start_time": "2022-01-29T14:32:06.906Z"
   },
   {
    "duration": 15,
    "start_time": "2022-01-29T14:34:33.812Z"
   },
   {
    "duration": 12,
    "start_time": "2022-01-29T14:34:35.221Z"
   },
   {
    "duration": 6,
    "start_time": "2022-01-29T14:36:09.135Z"
   },
   {
    "duration": 29,
    "start_time": "2022-01-29T14:36:19.594Z"
   },
   {
    "duration": 21,
    "start_time": "2022-01-29T14:36:25.546Z"
   },
   {
    "duration": 26,
    "start_time": "2022-01-29T14:36:29.482Z"
   },
   {
    "duration": 20,
    "start_time": "2022-01-29T14:36:32.041Z"
   },
   {
    "duration": 704,
    "start_time": "2022-01-29T14:37:44.486Z"
   },
   {
    "duration": 186,
    "start_time": "2022-01-29T14:37:45.193Z"
   },
   {
    "duration": 11,
    "start_time": "2022-01-29T14:37:45.382Z"
   },
   {
    "duration": 35,
    "start_time": "2022-01-29T14:37:45.395Z"
   },
   {
    "duration": 12,
    "start_time": "2022-01-29T14:37:45.449Z"
   },
   {
    "duration": 38,
    "start_time": "2022-01-29T14:37:45.463Z"
   },
   {
    "duration": 12,
    "start_time": "2022-01-29T14:37:45.504Z"
   },
   {
    "duration": 48,
    "start_time": "2022-01-29T14:37:45.520Z"
   },
   {
    "duration": 26,
    "start_time": "2022-01-29T14:37:45.571Z"
   },
   {
    "duration": 28,
    "start_time": "2022-01-29T14:37:45.600Z"
   },
   {
    "duration": 99,
    "start_time": "2022-01-29T14:37:45.650Z"
   },
   {
    "duration": 111,
    "start_time": "2022-01-29T14:37:45.752Z"
   },
   {
    "duration": 73,
    "start_time": "2022-01-29T14:37:45.865Z"
   },
   {
    "duration": 56,
    "start_time": "2022-01-29T14:37:45.949Z"
   },
   {
    "duration": 5,
    "start_time": "2022-01-29T14:37:46.007Z"
   },
   {
    "duration": 49,
    "start_time": "2022-01-29T14:37:46.014Z"
   },
   {
    "duration": 55,
    "start_time": "2022-01-29T14:37:46.066Z"
   },
   {
    "duration": 31,
    "start_time": "2022-01-29T14:37:46.124Z"
   },
   {
    "duration": 16,
    "start_time": "2022-01-29T14:37:46.158Z"
   },
   {
    "duration": 6,
    "start_time": "2022-01-29T14:37:46.176Z"
   },
   {
    "duration": 65,
    "start_time": "2022-01-29T14:37:46.185Z"
   },
   {
    "duration": 19,
    "start_time": "2022-01-29T14:37:46.253Z"
   },
   {
    "duration": 19,
    "start_time": "2022-01-29T14:37:46.277Z"
   },
   {
    "duration": 51,
    "start_time": "2022-01-29T14:37:46.299Z"
   },
   {
    "duration": 21,
    "start_time": "2022-01-29T14:37:46.353Z"
   },
   {
    "duration": 18,
    "start_time": "2022-01-29T14:37:46.377Z"
   },
   {
    "duration": 15,
    "start_time": "2022-01-29T14:37:46.397Z"
   },
   {
    "duration": 18,
    "start_time": "2022-01-29T14:37:46.449Z"
   },
   {
    "duration": 14,
    "start_time": "2022-01-29T14:37:46.469Z"
   },
   {
    "duration": 6,
    "start_time": "2022-01-29T14:37:46.485Z"
   },
   {
    "duration": 55,
    "start_time": "2022-01-29T14:37:46.493Z"
   },
   {
    "duration": 17,
    "start_time": "2022-01-29T14:37:46.551Z"
   },
   {
    "duration": 22,
    "start_time": "2022-01-29T14:37:46.570Z"
   },
   {
    "duration": 16,
    "start_time": "2022-01-29T14:37:46.595Z"
   },
   {
    "duration": 43,
    "start_time": "2022-01-29T14:37:46.614Z"
   },
   {
    "duration": 6,
    "start_time": "2022-01-29T14:37:46.660Z"
   },
   {
    "duration": 11,
    "start_time": "2022-01-29T14:37:46.669Z"
   },
   {
    "duration": 8,
    "start_time": "2022-01-29T14:37:46.682Z"
   },
   {
    "duration": 10,
    "start_time": "2022-01-29T15:11:54.754Z"
   },
   {
    "duration": 683,
    "start_time": "2022-01-29T15:12:00.092Z"
   },
   {
    "duration": 182,
    "start_time": "2022-01-29T15:12:00.778Z"
   },
   {
    "duration": 8,
    "start_time": "2022-01-29T15:12:00.963Z"
   },
   {
    "duration": 40,
    "start_time": "2022-01-29T15:12:00.974Z"
   },
   {
    "duration": 25,
    "start_time": "2022-01-29T15:12:01.017Z"
   },
   {
    "duration": 19,
    "start_time": "2022-01-29T15:12:01.045Z"
   },
   {
    "duration": 21,
    "start_time": "2022-01-29T15:12:01.066Z"
   },
   {
    "duration": 41,
    "start_time": "2022-01-29T15:12:01.091Z"
   },
   {
    "duration": 51,
    "start_time": "2022-01-29T15:12:01.136Z"
   },
   {
    "duration": 17,
    "start_time": "2022-01-29T15:12:01.190Z"
   },
   {
    "duration": 48,
    "start_time": "2022-01-29T15:12:01.212Z"
   },
   {
    "duration": 18,
    "start_time": "2022-01-29T15:12:01.262Z"
   },
   {
    "duration": 38,
    "start_time": "2022-01-29T15:12:01.282Z"
   },
   {
    "duration": 27,
    "start_time": "2022-01-29T15:12:01.322Z"
   },
   {
    "duration": 28,
    "start_time": "2022-01-29T15:12:01.351Z"
   },
   {
    "duration": 108,
    "start_time": "2022-01-29T15:12:01.381Z"
   },
   {
    "duration": 116,
    "start_time": "2022-01-29T15:12:01.491Z"
   },
   {
    "duration": 61,
    "start_time": "2022-01-29T15:12:01.610Z"
   },
   {
    "duration": 61,
    "start_time": "2022-01-29T15:12:01.674Z"
   },
   {
    "duration": 3,
    "start_time": "2022-01-29T15:12:01.737Z"
   },
   {
    "duration": 25,
    "start_time": "2022-01-29T15:12:01.742Z"
   },
   {
    "duration": 73,
    "start_time": "2022-01-29T15:12:01.769Z"
   },
   {
    "duration": 21,
    "start_time": "2022-01-29T15:12:01.849Z"
   },
   {
    "duration": 42,
    "start_time": "2022-01-29T15:12:01.874Z"
   },
   {
    "duration": 6,
    "start_time": "2022-01-29T15:12:01.919Z"
   },
   {
    "duration": 46,
    "start_time": "2022-01-29T15:12:01.928Z"
   },
   {
    "duration": 39,
    "start_time": "2022-01-29T15:12:01.976Z"
   },
   {
    "duration": 24,
    "start_time": "2022-01-29T15:12:02.017Z"
   },
   {
    "duration": 18,
    "start_time": "2022-01-29T15:12:02.043Z"
   },
   {
    "duration": 61,
    "start_time": "2022-01-29T15:12:02.063Z"
   },
   {
    "duration": 29,
    "start_time": "2022-01-29T15:12:02.127Z"
   },
   {
    "duration": 39,
    "start_time": "2022-01-29T15:12:02.159Z"
   },
   {
    "duration": 13,
    "start_time": "2022-01-29T15:12:02.200Z"
   },
   {
    "duration": 23,
    "start_time": "2022-01-29T15:12:02.215Z"
   },
   {
    "duration": 13,
    "start_time": "2022-01-29T15:12:02.241Z"
   },
   {
    "duration": 36,
    "start_time": "2022-01-29T15:12:02.256Z"
   },
   {
    "duration": 31,
    "start_time": "2022-01-29T15:12:02.294Z"
   },
   {
    "duration": 21,
    "start_time": "2022-01-29T15:12:02.327Z"
   },
   {
    "duration": 15,
    "start_time": "2022-01-29T15:12:02.351Z"
   },
   {
    "duration": 31,
    "start_time": "2022-01-29T15:12:02.368Z"
   },
   {
    "duration": 15,
    "start_time": "2022-01-29T15:12:02.401Z"
   },
   {
    "duration": 20,
    "start_time": "2022-01-29T15:12:02.419Z"
   },
   {
    "duration": 17,
    "start_time": "2022-01-29T15:12:02.441Z"
   },
   {
    "duration": 4,
    "start_time": "2022-01-29T15:13:12.491Z"
   }
  ],
  "colab": {
   "collapsed_sections": [
    "E0vqbgi9ay0H",
    "VUC88oWjTJw2"
   ],
   "name": "yandex_music_project_2021.2.ipynb",
   "provenance": []
  },
  "kernelspec": {
   "display_name": "Python 3 (ipykernel)",
   "language": "python",
   "name": "python3"
  },
  "language_info": {
   "codemirror_mode": {
    "name": "ipython",
    "version": 3
   },
   "file_extension": ".py",
   "mimetype": "text/x-python",
   "name": "python",
   "nbconvert_exporter": "python",
   "pygments_lexer": "ipython3",
   "version": "3.9.7"
  },
  "toc": {
   "base_numbering": 1,
   "nav_menu": {},
   "number_sections": true,
   "sideBar": true,
   "skip_h1_title": true,
   "title_cell": "Table of Contents",
   "title_sidebar": "Contents",
   "toc_cell": false,
   "toc_position": {},
   "toc_section_display": true,
   "toc_window_display": true
  }
 },
 "nbformat": 4,
 "nbformat_minor": 1
}
