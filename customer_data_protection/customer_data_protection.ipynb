{
 "cells": [
  {
   "cell_type": "markdown",
   "metadata": {},
   "source": [
    "# Защита персональных данных клиентов"
   ]
  },
  {
   "cell_type": "markdown",
   "metadata": {},
   "source": [
    "## Обзор данных"
   ]
  },
  {
   "cell_type": "code",
   "execution_count": 1,
   "metadata": {},
   "outputs": [],
   "source": [
    "import pandas as pd #импорт библиотеки pandas\n",
    "import numpy as np #импорт библиотеки numpy\n",
    "\n",
    "from sklearn.linear_model import LinearRegression #импортируем LinearRegression из библиотеки sklearn\n",
    "from sklearn.metrics import r2_score #импортируем r2_score из библиотеки sklearn"
   ]
  },
  {
   "cell_type": "code",
   "execution_count": 2,
   "metadata": {},
   "outputs": [],
   "source": [
    "df = pd.read_csv('insurance.csv') #чтение файла `insurance.csv` и сохранение в переменной `df`"
   ]
  },
  {
   "cell_type": "code",
   "execution_count": 3,
   "metadata": {
    "scrolled": true
   },
   "outputs": [
    {
     "data": {
      "text/html": [
       "<div>\n",
       "<style scoped>\n",
       "    .dataframe tbody tr th:only-of-type {\n",
       "        vertical-align: middle;\n",
       "    }\n",
       "\n",
       "    .dataframe tbody tr th {\n",
       "        vertical-align: top;\n",
       "    }\n",
       "\n",
       "    .dataframe thead th {\n",
       "        text-align: right;\n",
       "    }\n",
       "</style>\n",
       "<table border=\"1\" class=\"dataframe\">\n",
       "  <thead>\n",
       "    <tr style=\"text-align: right;\">\n",
       "      <th></th>\n",
       "      <th>Пол</th>\n",
       "      <th>Возраст</th>\n",
       "      <th>Зарплата</th>\n",
       "      <th>Члены семьи</th>\n",
       "      <th>Страховые выплаты</th>\n",
       "    </tr>\n",
       "  </thead>\n",
       "  <tbody>\n",
       "    <tr>\n",
       "      <th>2363</th>\n",
       "      <td>0</td>\n",
       "      <td>37.0</td>\n",
       "      <td>33400.0</td>\n",
       "      <td>1</td>\n",
       "      <td>0</td>\n",
       "    </tr>\n",
       "    <tr>\n",
       "      <th>1629</th>\n",
       "      <td>1</td>\n",
       "      <td>27.0</td>\n",
       "      <td>46600.0</td>\n",
       "      <td>2</td>\n",
       "      <td>0</td>\n",
       "    </tr>\n",
       "    <tr>\n",
       "      <th>4140</th>\n",
       "      <td>1</td>\n",
       "      <td>38.0</td>\n",
       "      <td>48000.0</td>\n",
       "      <td>1</td>\n",
       "      <td>0</td>\n",
       "    </tr>\n",
       "    <tr>\n",
       "      <th>323</th>\n",
       "      <td>0</td>\n",
       "      <td>20.0</td>\n",
       "      <td>52000.0</td>\n",
       "      <td>1</td>\n",
       "      <td>0</td>\n",
       "    </tr>\n",
       "    <tr>\n",
       "      <th>209</th>\n",
       "      <td>0</td>\n",
       "      <td>22.0</td>\n",
       "      <td>40100.0</td>\n",
       "      <td>1</td>\n",
       "      <td>0</td>\n",
       "    </tr>\n",
       "  </tbody>\n",
       "</table>\n",
       "</div>"
      ],
      "text/plain": [
       "      Пол  Возраст  Зарплата  Члены семьи  Страховые выплаты\n",
       "2363    0     37.0   33400.0            1                  0\n",
       "1629    1     27.0   46600.0            2                  0\n",
       "4140    1     38.0   48000.0            1                  0\n",
       "323     0     20.0   52000.0            1                  0\n",
       "209     0     22.0   40100.0            1                  0"
      ]
     },
     "execution_count": 3,
     "metadata": {},
     "output_type": "execute_result"
    }
   ],
   "source": [
    "df.sample(5) # просмотр 5 строк таблицы `df`"
   ]
  },
  {
   "cell_type": "code",
   "execution_count": 4,
   "metadata": {},
   "outputs": [
    {
     "name": "stdout",
     "output_type": "stream",
     "text": [
      "<class 'pandas.core.frame.DataFrame'>\n",
      "RangeIndex: 5000 entries, 0 to 4999\n",
      "Data columns (total 5 columns):\n",
      " #   Column             Non-Null Count  Dtype  \n",
      "---  ------             --------------  -----  \n",
      " 0   Пол                5000 non-null   int64  \n",
      " 1   Возраст            5000 non-null   float64\n",
      " 2   Зарплата           5000 non-null   float64\n",
      " 3   Члены семьи        5000 non-null   int64  \n",
      " 4   Страховые выплаты  5000 non-null   int64  \n",
      "dtypes: float64(2), int64(3)\n",
      "memory usage: 195.4 KB\n"
     ]
    }
   ],
   "source": [
    "df.info() #получение общей информации о таблице `df`"
   ]
  },
  {
   "cell_type": "markdown",
   "metadata": {},
   "source": [
    "В таблице 5 столбцов. Типы данных в столбцах: float64 и int64.\n",
    "\n",
    "Согласно документации к данным:\n",
    "* `Пол` — пол застрахованного клиента;\n",
    "* `Возраст` — возраст застрахованного клиента;\n",
    "* `Зарплата` — зарплата застрахованного клиента;\n",
    "* `Члены семьи` — количество членов семьи застрахованного клиента;\n",
    "* `Страховые выплаты` — количество страховых выплат клиенту за последние 5 лет.\n",
    "\n",
    "Целевой признак - `Страховые выплаты`.\n",
    "\n",
    "Названия столбцов не соответствуют хорошему стилю: используется кириллица, cтрочные буквы сочетаются с прописными и встречаются названия, состоящие из нескольких слов, написанных через пробел.\n",
    "\n",
    "Количество значений в столбцах не отличается - значит пропущенных значений нет."
   ]
  },
  {
   "cell_type": "markdown",
   "metadata": {},
   "source": [
    "### Выводы"
   ]
  },
  {
   "cell_type": "markdown",
   "metadata": {},
   "source": [
    "В каждой строке таблицы — данные о клиентах страховой компании «Хоть потоп». Часть колонок описывает самих клиентов: пол, возраст, члены семьи. Другие данные отображают финансовую информацию клиентов и наличие страховых выплат: зарплата и страховые выплаты.\n",
    "\n",
    "Предварительно можно утверждать, что, данных достаточно для решения поставленной задачи. Но в названиях колонок — расхождения с хорошим стилем. Также данные в столбцах `Возраст` и `Зарплата` лучше перевести в формат int64 для дальнейшего удобства работы с ними.\n",
    "\n",
    "Чтобы двигаться дальше, нужно устранить проблемы в данных."
   ]
  },
  {
   "cell_type": "markdown",
   "metadata": {},
   "source": [
    "## Предобработка данных"
   ]
  },
  {
   "cell_type": "markdown",
   "metadata": {},
   "source": [
    "### Названия столбцов"
   ]
  },
  {
   "cell_type": "markdown",
   "metadata": {},
   "source": [
    "На этапе обзора данных мы обнаружили, что названия столбцов не соответствуют хорошему стилю: названия написаны кириллицей, cтрочные буквы сочетаются с прописными и встречаются названия, состоящие из нескольких слов, написанных через пробел. Исправим названия в соответствие с хорошим стилем."
   ]
  },
  {
   "cell_type": "code",
   "execution_count": 5,
   "metadata": {},
   "outputs": [
    {
     "data": {
      "text/plain": [
       "Index(['Пол', 'Возраст', 'Зарплата', 'Члены семьи', 'Страховые выплаты'], dtype='object')"
      ]
     },
     "execution_count": 5,
     "metadata": {},
     "output_type": "execute_result"
    }
   ],
   "source": [
    "# получим названия всех колонок\n",
    "df.columns"
   ]
  },
  {
   "cell_type": "code",
   "execution_count": 6,
   "metadata": {},
   "outputs": [],
   "source": [
    "# переименуем столбцы\n",
    "df.columns = ['gender', 'age', 'salary', 'family_members', 'insurance_payments']"
   ]
  },
  {
   "cell_type": "code",
   "execution_count": 7,
   "metadata": {},
   "outputs": [
    {
     "data": {
      "text/html": [
       "<div>\n",
       "<style scoped>\n",
       "    .dataframe tbody tr th:only-of-type {\n",
       "        vertical-align: middle;\n",
       "    }\n",
       "\n",
       "    .dataframe tbody tr th {\n",
       "        vertical-align: top;\n",
       "    }\n",
       "\n",
       "    .dataframe thead th {\n",
       "        text-align: right;\n",
       "    }\n",
       "</style>\n",
       "<table border=\"1\" class=\"dataframe\">\n",
       "  <thead>\n",
       "    <tr style=\"text-align: right;\">\n",
       "      <th></th>\n",
       "      <th>gender</th>\n",
       "      <th>age</th>\n",
       "      <th>salary</th>\n",
       "      <th>family_members</th>\n",
       "      <th>insurance_payments</th>\n",
       "    </tr>\n",
       "  </thead>\n",
       "  <tbody>\n",
       "    <tr>\n",
       "      <th>0</th>\n",
       "      <td>1</td>\n",
       "      <td>41.0</td>\n",
       "      <td>49600.0</td>\n",
       "      <td>1</td>\n",
       "      <td>0</td>\n",
       "    </tr>\n",
       "    <tr>\n",
       "      <th>1</th>\n",
       "      <td>0</td>\n",
       "      <td>46.0</td>\n",
       "      <td>38000.0</td>\n",
       "      <td>1</td>\n",
       "      <td>1</td>\n",
       "    </tr>\n",
       "    <tr>\n",
       "      <th>2</th>\n",
       "      <td>0</td>\n",
       "      <td>29.0</td>\n",
       "      <td>21000.0</td>\n",
       "      <td>0</td>\n",
       "      <td>0</td>\n",
       "    </tr>\n",
       "  </tbody>\n",
       "</table>\n",
       "</div>"
      ],
      "text/plain": [
       "   gender   age   salary  family_members  insurance_payments\n",
       "0       1  41.0  49600.0               1                   0\n",
       "1       0  46.0  38000.0               1                   1\n",
       "2       0  29.0  21000.0               0                   0"
      ]
     },
     "execution_count": 7,
     "metadata": {},
     "output_type": "execute_result"
    }
   ],
   "source": [
    "# проверим изменения\n",
    "df.head(3)"
   ]
  },
  {
   "cell_type": "markdown",
   "metadata": {},
   "source": [
    "**Выводы**\n",
    "\n",
    "На данном этапе мы исправили названия столбцов в соответствие с хорошим стилем: привели все названия к нижнему регистру, использовали зменный регистр и латиницу."
   ]
  },
  {
   "cell_type": "markdown",
   "metadata": {},
   "source": [
    "### Изменение типов данных"
   ]
  },
  {
   "cell_type": "markdown",
   "metadata": {},
   "source": [
    "Выведем ещё раз общую информацию о датафрейме."
   ]
  },
  {
   "cell_type": "code",
   "execution_count": 8,
   "metadata": {},
   "outputs": [
    {
     "name": "stdout",
     "output_type": "stream",
     "text": [
      "<class 'pandas.core.frame.DataFrame'>\n",
      "RangeIndex: 5000 entries, 0 to 4999\n",
      "Data columns (total 5 columns):\n",
      " #   Column              Non-Null Count  Dtype  \n",
      "---  ------              --------------  -----  \n",
      " 0   gender              5000 non-null   int64  \n",
      " 1   age                 5000 non-null   float64\n",
      " 2   salary              5000 non-null   float64\n",
      " 3   family_members      5000 non-null   int64  \n",
      " 4   insurance_payments  5000 non-null   int64  \n",
      "dtypes: float64(2), int64(3)\n",
      "memory usage: 195.4 KB\n"
     ]
    }
   ],
   "source": [
    "df.info()"
   ]
  },
  {
   "cell_type": "code",
   "execution_count": 9,
   "metadata": {
    "scrolled": true
   },
   "outputs": [
    {
     "data": {
      "text/plain": [
       "[18.0,\n",
       " 19.0,\n",
       " 20.0,\n",
       " 21.0,\n",
       " 22.0,\n",
       " 23.0,\n",
       " 24.0,\n",
       " 25.0,\n",
       " 26.0,\n",
       " 27.0,\n",
       " 28.0,\n",
       " 29.0,\n",
       " 30.0,\n",
       " 31.0,\n",
       " 32.0,\n",
       " 33.0,\n",
       " 34.0,\n",
       " 35.0,\n",
       " 36.0,\n",
       " 37.0,\n",
       " 38.0,\n",
       " 39.0,\n",
       " 40.0,\n",
       " 41.0,\n",
       " 42.0,\n",
       " 43.0,\n",
       " 44.0,\n",
       " 45.0,\n",
       " 46.0,\n",
       " 47.0,\n",
       " 48.0,\n",
       " 49.0,\n",
       " 50.0,\n",
       " 51.0,\n",
       " 52.0,\n",
       " 53.0,\n",
       " 54.0,\n",
       " 55.0,\n",
       " 56.0,\n",
       " 57.0,\n",
       " 58.0,\n",
       " 59.0,\n",
       " 60.0,\n",
       " 61.0,\n",
       " 62.0,\n",
       " 65.0]"
      ]
     },
     "execution_count": 9,
     "metadata": {},
     "output_type": "execute_result"
    }
   ],
   "source": [
    "# проверим уникальные знаяения в столбце `age`\n",
    "sorted(df['age'].unique())"
   ]
  },
  {
   "cell_type": "markdown",
   "metadata": {},
   "source": [
    "Возраст клиентов указан в целых числах, поэтому преобразуем формат данных в int64. Также можем зафиксировать, что данные в столбце корректны."
   ]
  },
  {
   "cell_type": "code",
   "execution_count": 10,
   "metadata": {},
   "outputs": [
    {
     "name": "stdout",
     "output_type": "stream",
     "text": [
      "<class 'pandas.core.frame.DataFrame'>\n",
      "RangeIndex: 5000 entries, 0 to 4999\n",
      "Data columns (total 5 columns):\n",
      " #   Column              Non-Null Count  Dtype  \n",
      "---  ------              --------------  -----  \n",
      " 0   gender              5000 non-null   int64  \n",
      " 1   age                 5000 non-null   int64  \n",
      " 2   salary              5000 non-null   float64\n",
      " 3   family_members      5000 non-null   int64  \n",
      " 4   insurance_payments  5000 non-null   int64  \n",
      "dtypes: float64(1), int64(4)\n",
      "memory usage: 195.4 KB\n"
     ]
    }
   ],
   "source": [
    "# поменяем тип данных в столбце на int64\n",
    "df['age'] = df['age'].astype('int')\n",
    "df.info()"
   ]
  },
  {
   "cell_type": "code",
   "execution_count": 11,
   "metadata": {},
   "outputs": [
    {
     "data": {
      "text/plain": [
       "[5300.0,\n",
       " 6000.0,\n",
       " 7400.0,\n",
       " 8900.0,\n",
       " 9800.0,\n",
       " 10000.0,\n",
       " 10600.0,\n",
       " 10800.0,\n",
       " 11000.0,\n",
       " 11200.0,\n",
       " 11300.0,\n",
       " 12200.0,\n",
       " 12900.0,\n",
       " 13000.0,\n",
       " 13200.0,\n",
       " 13300.0,\n",
       " 13400.0,\n",
       " 13500.0,\n",
       " 13800.0,\n",
       " 13900.0,\n",
       " 14100.0,\n",
       " 14300.0,\n",
       " 14400.0,\n",
       " 14500.0,\n",
       " 14600.0,\n",
       " 14700.0,\n",
       " 15000.0,\n",
       " 15100.0,\n",
       " 15200.0,\n",
       " 15600.0,\n",
       " 15700.0,\n",
       " 15900.0,\n",
       " 16000.0,\n",
       " 16200.0,\n",
       " 16300.0,\n",
       " 16400.0,\n",
       " 16500.0,\n",
       " 16600.0,\n",
       " 16700.0,\n",
       " 17000.0,\n",
       " 17100.0,\n",
       " 17300.0,\n",
       " 17400.0,\n",
       " 17500.0,\n",
       " 17600.0,\n",
       " 17700.0,\n",
       " 17800.0,\n",
       " 17900.0,\n",
       " 18100.0,\n",
       " 18200.0,\n",
       " 18300.0,\n",
       " 18400.0,\n",
       " 18600.0,\n",
       " 18700.0,\n",
       " 18800.0,\n",
       " 18900.0,\n",
       " 19000.0,\n",
       " 19100.0,\n",
       " 19200.0,\n",
       " 19300.0,\n",
       " 19400.0,\n",
       " 19600.0,\n",
       " 19700.0,\n",
       " 19900.0,\n",
       " 20000.0,\n",
       " 20100.0,\n",
       " 20200.0,\n",
       " 20300.0,\n",
       " 20400.0,\n",
       " 20500.0,\n",
       " 20600.0,\n",
       " 20700.0,\n",
       " 20800.0,\n",
       " 20900.0,\n",
       " 21000.0,\n",
       " 21100.0,\n",
       " 21200.0,\n",
       " 21300.0,\n",
       " 21400.0,\n",
       " 21500.0,\n",
       " 21600.0,\n",
       " 21700.0,\n",
       " 21800.0,\n",
       " 21900.0,\n",
       " 22000.0,\n",
       " 22100.0,\n",
       " 22200.0,\n",
       " 22300.0,\n",
       " 22500.0,\n",
       " 22600.0,\n",
       " 22700.0,\n",
       " 22800.0,\n",
       " 22900.0,\n",
       " 23000.0,\n",
       " 23100.0,\n",
       " 23200.0,\n",
       " 23300.0,\n",
       " 23400.0,\n",
       " 23500.0,\n",
       " 23600.0,\n",
       " 23700.0,\n",
       " 23800.0,\n",
       " 23900.0,\n",
       " 24000.0,\n",
       " 24100.0,\n",
       " 24200.0,\n",
       " 24300.0,\n",
       " 24400.0,\n",
       " 24500.0,\n",
       " 24600.0,\n",
       " 24700.0,\n",
       " 24800.0,\n",
       " 24900.0,\n",
       " 25000.0,\n",
       " 25100.0,\n",
       " 25200.0,\n",
       " 25300.0,\n",
       " 25400.0,\n",
       " 25500.0,\n",
       " 25600.0,\n",
       " 25700.0,\n",
       " 25800.0,\n",
       " 25900.0,\n",
       " 26000.0,\n",
       " 26100.0,\n",
       " 26200.0,\n",
       " 26300.0,\n",
       " 26400.0,\n",
       " 26500.0,\n",
       " 26600.0,\n",
       " 26700.0,\n",
       " 26800.0,\n",
       " 26900.0,\n",
       " 27000.0,\n",
       " 27100.0,\n",
       " 27200.0,\n",
       " 27300.0,\n",
       " 27400.0,\n",
       " 27500.0,\n",
       " 27600.0,\n",
       " 27700.0,\n",
       " 27800.0,\n",
       " 27900.0,\n",
       " 28000.0,\n",
       " 28100.0,\n",
       " 28200.0,\n",
       " 28300.0,\n",
       " 28400.0,\n",
       " 28500.0,\n",
       " 28600.0,\n",
       " 28700.0,\n",
       " 28800.0,\n",
       " 28900.0,\n",
       " 29000.0,\n",
       " 29100.0,\n",
       " 29200.0,\n",
       " 29300.0,\n",
       " 29400.0,\n",
       " 29500.0,\n",
       " 29600.0,\n",
       " 29700.0,\n",
       " 29800.0,\n",
       " 29900.0,\n",
       " 30000.0,\n",
       " 30100.0,\n",
       " 30200.0,\n",
       " 30300.0,\n",
       " 30400.0,\n",
       " 30500.0,\n",
       " 30600.0,\n",
       " 30700.0,\n",
       " 30800.0,\n",
       " 30900.0,\n",
       " 31000.0,\n",
       " 31100.0,\n",
       " 31200.0,\n",
       " 31300.0,\n",
       " 31400.0,\n",
       " 31500.0,\n",
       " 31600.0,\n",
       " 31700.0,\n",
       " 31800.0,\n",
       " 31900.0,\n",
       " 32000.0,\n",
       " 32100.0,\n",
       " 32200.000000000004,\n",
       " 32300.0,\n",
       " 32400.0,\n",
       " 32500.0,\n",
       " 32600.0,\n",
       " 32700.000000000004,\n",
       " 32800.0,\n",
       " 32900.0,\n",
       " 33000.0,\n",
       " 33100.0,\n",
       " 33200.0,\n",
       " 33300.0,\n",
       " 33400.0,\n",
       " 33500.0,\n",
       " 33600.0,\n",
       " 33700.0,\n",
       " 33800.0,\n",
       " 33900.0,\n",
       " 34000.0,\n",
       " 34100.0,\n",
       " 34200.0,\n",
       " 34300.0,\n",
       " 34400.0,\n",
       " 34500.0,\n",
       " 34600.0,\n",
       " 34700.0,\n",
       " 34800.0,\n",
       " 34900.0,\n",
       " 35000.0,\n",
       " 35100.0,\n",
       " 35200.0,\n",
       " 35300.0,\n",
       " 35400.0,\n",
       " 35500.0,\n",
       " 35600.0,\n",
       " 35700.0,\n",
       " 35800.0,\n",
       " 35900.0,\n",
       " 36000.0,\n",
       " 36100.0,\n",
       " 36200.0,\n",
       " 36300.0,\n",
       " 36400.0,\n",
       " 36500.0,\n",
       " 36600.0,\n",
       " 36700.0,\n",
       " 36800.0,\n",
       " 36900.0,\n",
       " 37000.0,\n",
       " 37100.0,\n",
       " 37200.0,\n",
       " 37300.0,\n",
       " 37400.0,\n",
       " 37500.0,\n",
       " 37600.0,\n",
       " 37700.0,\n",
       " 37800.0,\n",
       " 37900.0,\n",
       " 38000.0,\n",
       " 38100.0,\n",
       " 38200.0,\n",
       " 38300.0,\n",
       " 38400.0,\n",
       " 38500.0,\n",
       " 38600.0,\n",
       " 38700.0,\n",
       " 38800.0,\n",
       " 38900.0,\n",
       " 39000.0,\n",
       " 39100.0,\n",
       " 39200.0,\n",
       " 39300.0,\n",
       " 39400.0,\n",
       " 39500.0,\n",
       " 39600.0,\n",
       " 39700.0,\n",
       " 39800.0,\n",
       " 39900.0,\n",
       " 40000.0,\n",
       " 40100.0,\n",
       " 40200.0,\n",
       " 40300.0,\n",
       " 40400.0,\n",
       " 40500.0,\n",
       " 40600.0,\n",
       " 40700.0,\n",
       " 40800.0,\n",
       " 40900.0,\n",
       " 41000.0,\n",
       " 41100.0,\n",
       " 41200.0,\n",
       " 41300.0,\n",
       " 41400.0,\n",
       " 41500.0,\n",
       " 41600.0,\n",
       " 41700.0,\n",
       " 41800.0,\n",
       " 41900.0,\n",
       " 42000.0,\n",
       " 42100.0,\n",
       " 42200.0,\n",
       " 42300.0,\n",
       " 42400.0,\n",
       " 42500.0,\n",
       " 42600.0,\n",
       " 42700.0,\n",
       " 42800.0,\n",
       " 42900.0,\n",
       " 43000.0,\n",
       " 43100.0,\n",
       " 43200.0,\n",
       " 43300.0,\n",
       " 43400.0,\n",
       " 43500.0,\n",
       " 43600.0,\n",
       " 43700.0,\n",
       " 43800.0,\n",
       " 43900.0,\n",
       " 44000.0,\n",
       " 44100.0,\n",
       " 44200.0,\n",
       " 44300.0,\n",
       " 44400.0,\n",
       " 44500.0,\n",
       " 44600.0,\n",
       " 44700.0,\n",
       " 44800.0,\n",
       " 44900.0,\n",
       " 45000.0,\n",
       " 45100.0,\n",
       " 45200.0,\n",
       " 45300.0,\n",
       " 45400.0,\n",
       " 45500.0,\n",
       " 45600.0,\n",
       " 45700.0,\n",
       " 45800.0,\n",
       " 45900.0,\n",
       " 46000.0,\n",
       " 46100.0,\n",
       " 46200.0,\n",
       " 46300.0,\n",
       " 46400.0,\n",
       " 46500.0,\n",
       " 46600.0,\n",
       " 46700.0,\n",
       " 46800.0,\n",
       " 46900.0,\n",
       " 47000.0,\n",
       " 47100.0,\n",
       " 47200.0,\n",
       " 47300.0,\n",
       " 47400.0,\n",
       " 47500.0,\n",
       " 47600.0,\n",
       " 47700.0,\n",
       " 47800.0,\n",
       " 47900.0,\n",
       " 48000.0,\n",
       " 48100.0,\n",
       " 48200.0,\n",
       " 48300.0,\n",
       " 48400.0,\n",
       " 48500.0,\n",
       " 48600.0,\n",
       " 48700.0,\n",
       " 48800.0,\n",
       " 48900.0,\n",
       " 49000.0,\n",
       " 49100.0,\n",
       " 49200.0,\n",
       " 49300.0,\n",
       " 49400.0,\n",
       " 49500.0,\n",
       " 49600.0,\n",
       " 49700.0,\n",
       " 49800.0,\n",
       " 49900.0,\n",
       " 50000.0,\n",
       " 50100.0,\n",
       " 50200.0,\n",
       " 50300.0,\n",
       " 50400.0,\n",
       " 50500.0,\n",
       " 50600.0,\n",
       " 50700.0,\n",
       " 50800.0,\n",
       " 50900.0,\n",
       " 51000.0,\n",
       " 51100.0,\n",
       " 51200.0,\n",
       " 51300.0,\n",
       " 51400.0,\n",
       " 51500.0,\n",
       " 51600.0,\n",
       " 51700.0,\n",
       " 51800.0,\n",
       " 51900.0,\n",
       " 52000.0,\n",
       " 52100.0,\n",
       " 52200.0,\n",
       " 52300.0,\n",
       " 52400.0,\n",
       " 52500.0,\n",
       " 52600.0,\n",
       " 52700.0,\n",
       " 52800.0,\n",
       " 52900.0,\n",
       " 53000.0,\n",
       " 53100.0,\n",
       " 53200.0,\n",
       " 53300.0,\n",
       " 53400.0,\n",
       " 53500.0,\n",
       " 53600.0,\n",
       " 53700.0,\n",
       " 53800.0,\n",
       " 53900.0,\n",
       " 54000.0,\n",
       " 54100.0,\n",
       " 54200.0,\n",
       " 54300.0,\n",
       " 54400.0,\n",
       " 54500.0,\n",
       " 54600.0,\n",
       " 54700.0,\n",
       " 54800.0,\n",
       " 54900.0,\n",
       " 55000.0,\n",
       " 55100.0,\n",
       " 55200.0,\n",
       " 55300.0,\n",
       " 55400.0,\n",
       " 55500.0,\n",
       " 55600.0,\n",
       " 55700.0,\n",
       " 55800.0,\n",
       " 55900.0,\n",
       " 56000.0,\n",
       " 56100.0,\n",
       " 56200.0,\n",
       " 56300.0,\n",
       " 56400.0,\n",
       " 56500.0,\n",
       " 56600.0,\n",
       " 56700.0,\n",
       " 56800.0,\n",
       " 56900.0,\n",
       " 57000.0,\n",
       " 57100.0,\n",
       " 57200.0,\n",
       " 57300.0,\n",
       " 57400.0,\n",
       " 57500.0,\n",
       " 57600.0,\n",
       " 57700.0,\n",
       " 57800.0,\n",
       " 57900.0,\n",
       " 58000.0,\n",
       " 58100.0,\n",
       " 58200.0,\n",
       " 58300.0,\n",
       " 58400.0,\n",
       " 58500.0,\n",
       " 58600.0,\n",
       " 58700.0,\n",
       " 58800.0,\n",
       " 58900.0,\n",
       " 59000.0,\n",
       " 59100.0,\n",
       " 59200.0,\n",
       " 59300.0,\n",
       " 59500.0,\n",
       " 59600.0,\n",
       " 59700.0,\n",
       " 59800.0,\n",
       " 59900.0,\n",
       " 60000.0,\n",
       " 60100.0,\n",
       " 60200.0,\n",
       " 60300.0,\n",
       " 60400.0,\n",
       " 60500.0,\n",
       " 60600.0,\n",
       " 60700.0,\n",
       " 60900.0,\n",
       " 61000.0,\n",
       " 61200.0,\n",
       " 61300.0,\n",
       " 61400.0,\n",
       " 61500.0,\n",
       " 61700.0,\n",
       " 61800.0,\n",
       " 61900.0,\n",
       " 62000.0,\n",
       " 62100.0,\n",
       " 62200.0,\n",
       " 62300.0,\n",
       " 62400.0,\n",
       " 62500.0,\n",
       " 62600.0,\n",
       " 62700.0,\n",
       " 62800.0,\n",
       " 63100.0,\n",
       " 63200.0,\n",
       " 63300.0,\n",
       " 63400.0,\n",
       " 63500.0,\n",
       " 63600.0,\n",
       " 63700.0,\n",
       " 63800.0,\n",
       " 64000.0,\n",
       " 64099.99999999999,\n",
       " 64400.00000000001,\n",
       " 64800.0,\n",
       " 64900.00000000001,\n",
       " 65099.99999999999,\n",
       " 65200.0,\n",
       " 65300.0,\n",
       " 65900.0,\n",
       " 66100.0,\n",
       " 66300.0,\n",
       " 67100.0,\n",
       " 67200.0,\n",
       " 67700.0,\n",
       " 68000.0,\n",
       " 68400.0,\n",
       " 68500.0,\n",
       " 68900.0,\n",
       " 69200.0,\n",
       " 69400.0,\n",
       " 70000.0,\n",
       " 70500.0,\n",
       " 70600.0,\n",
       " 71400.0,\n",
       " 71600.0,\n",
       " 74800.0,\n",
       " 75200.0,\n",
       " 79000.0]"
      ]
     },
     "execution_count": 11,
     "metadata": {},
     "output_type": "execute_result"
    }
   ],
   "source": [
    "# проверим уникальные знаяения в столбце `salary`\n",
    "sorted(df['salary'].unique())"
   ]
  },
  {
   "cell_type": "markdown",
   "metadata": {},
   "source": [
    "В данных всртечаются нецелочисленные значения, поэтому оставляем формат без изменений."
   ]
  },
  {
   "cell_type": "markdown",
   "metadata": {},
   "source": [
    "**Выводы**\n",
    "\n",
    "На данном этапе мы исправили тип данных в столбце `age`, чтобы сделать их более читабельными."
   ]
  },
  {
   "cell_type": "markdown",
   "metadata": {},
   "source": [
    "### Проверка данных на аномалии"
   ]
  },
  {
   "cell_type": "markdown",
   "metadata": {},
   "source": [
    "Проверим уникальные значения в столбце `gender`."
   ]
  },
  {
   "cell_type": "code",
   "execution_count": 12,
   "metadata": {
    "scrolled": true
   },
   "outputs": [
    {
     "data": {
      "text/plain": [
       "array([1, 0])"
      ]
     },
     "execution_count": 12,
     "metadata": {},
     "output_type": "execute_result"
    }
   ],
   "source": [
    "df['gender'].unique()"
   ]
  },
  {
   "cell_type": "markdown",
   "metadata": {},
   "source": [
    "Аномальных значений не обнаружено."
   ]
  },
  {
   "cell_type": "markdown",
   "metadata": {},
   "source": [
    "Проверим уникальные значения в столбце `family_members`."
   ]
  },
  {
   "cell_type": "code",
   "execution_count": 13,
   "metadata": {
    "scrolled": true
   },
   "outputs": [
    {
     "data": {
      "text/plain": [
       "array([1, 0, 2, 4, 3, 5, 6])"
      ]
     },
     "execution_count": 13,
     "metadata": {},
     "output_type": "execute_result"
    }
   ],
   "source": [
    "df['family_members'].unique()"
   ]
  },
  {
   "cell_type": "markdown",
   "metadata": {},
   "source": [
    "Аномальных значений не обнаружено."
   ]
  },
  {
   "cell_type": "markdown",
   "metadata": {},
   "source": [
    "Проверим уникальные значения в столбце `insurance_payments`."
   ]
  },
  {
   "cell_type": "code",
   "execution_count": 14,
   "metadata": {
    "scrolled": true
   },
   "outputs": [
    {
     "data": {
      "text/plain": [
       "array([0, 1, 2, 3, 5, 4])"
      ]
     },
     "execution_count": 14,
     "metadata": {},
     "output_type": "execute_result"
    }
   ],
   "source": [
    "df['insurance_payments'].unique()"
   ]
  },
  {
   "cell_type": "markdown",
   "metadata": {},
   "source": [
    "Аномальных значений не обнаружено."
   ]
  },
  {
   "cell_type": "markdown",
   "metadata": {},
   "source": [
    "**Выводы**\n",
    "\n",
    "Аномальных значений в таблице не обнаружено."
   ]
  },
  {
   "cell_type": "markdown",
   "metadata": {},
   "source": [
    "### Дополнительный анализ данных"
   ]
  },
  {
   "cell_type": "code",
   "execution_count": 15,
   "metadata": {},
   "outputs": [
    {
     "data": {
      "text/html": [
       "<div>\n",
       "<style scoped>\n",
       "    .dataframe tbody tr th:only-of-type {\n",
       "        vertical-align: middle;\n",
       "    }\n",
       "\n",
       "    .dataframe tbody tr th {\n",
       "        vertical-align: top;\n",
       "    }\n",
       "\n",
       "    .dataframe thead th {\n",
       "        text-align: right;\n",
       "    }\n",
       "</style>\n",
       "<table border=\"1\" class=\"dataframe\">\n",
       "  <thead>\n",
       "    <tr style=\"text-align: right;\">\n",
       "      <th></th>\n",
       "      <th>gender</th>\n",
       "      <th>age</th>\n",
       "      <th>salary</th>\n",
       "      <th>family_members</th>\n",
       "      <th>insurance_payments</th>\n",
       "    </tr>\n",
       "  </thead>\n",
       "  <tbody>\n",
       "    <tr>\n",
       "      <th>count</th>\n",
       "      <td>5000.000000</td>\n",
       "      <td>5000.000000</td>\n",
       "      <td>5000.000000</td>\n",
       "      <td>5000.000000</td>\n",
       "      <td>5000.000000</td>\n",
       "    </tr>\n",
       "    <tr>\n",
       "      <th>mean</th>\n",
       "      <td>0.499000</td>\n",
       "      <td>30.952800</td>\n",
       "      <td>39916.360000</td>\n",
       "      <td>1.194200</td>\n",
       "      <td>0.148000</td>\n",
       "    </tr>\n",
       "    <tr>\n",
       "      <th>std</th>\n",
       "      <td>0.500049</td>\n",
       "      <td>8.440807</td>\n",
       "      <td>9900.083569</td>\n",
       "      <td>1.091387</td>\n",
       "      <td>0.463183</td>\n",
       "    </tr>\n",
       "    <tr>\n",
       "      <th>min</th>\n",
       "      <td>0.000000</td>\n",
       "      <td>18.000000</td>\n",
       "      <td>5300.000000</td>\n",
       "      <td>0.000000</td>\n",
       "      <td>0.000000</td>\n",
       "    </tr>\n",
       "    <tr>\n",
       "      <th>25%</th>\n",
       "      <td>0.000000</td>\n",
       "      <td>24.000000</td>\n",
       "      <td>33300.000000</td>\n",
       "      <td>0.000000</td>\n",
       "      <td>0.000000</td>\n",
       "    </tr>\n",
       "    <tr>\n",
       "      <th>50%</th>\n",
       "      <td>0.000000</td>\n",
       "      <td>30.000000</td>\n",
       "      <td>40200.000000</td>\n",
       "      <td>1.000000</td>\n",
       "      <td>0.000000</td>\n",
       "    </tr>\n",
       "    <tr>\n",
       "      <th>75%</th>\n",
       "      <td>1.000000</td>\n",
       "      <td>37.000000</td>\n",
       "      <td>46600.000000</td>\n",
       "      <td>2.000000</td>\n",
       "      <td>0.000000</td>\n",
       "    </tr>\n",
       "    <tr>\n",
       "      <th>max</th>\n",
       "      <td>1.000000</td>\n",
       "      <td>65.000000</td>\n",
       "      <td>79000.000000</td>\n",
       "      <td>6.000000</td>\n",
       "      <td>5.000000</td>\n",
       "    </tr>\n",
       "  </tbody>\n",
       "</table>\n",
       "</div>"
      ],
      "text/plain": [
       "            gender          age        salary  family_members  \\\n",
       "count  5000.000000  5000.000000   5000.000000     5000.000000   \n",
       "mean      0.499000    30.952800  39916.360000        1.194200   \n",
       "std       0.500049     8.440807   9900.083569        1.091387   \n",
       "min       0.000000    18.000000   5300.000000        0.000000   \n",
       "25%       0.000000    24.000000  33300.000000        0.000000   \n",
       "50%       0.000000    30.000000  40200.000000        1.000000   \n",
       "75%       1.000000    37.000000  46600.000000        2.000000   \n",
       "max       1.000000    65.000000  79000.000000        6.000000   \n",
       "\n",
       "       insurance_payments  \n",
       "count         5000.000000  \n",
       "mean             0.148000  \n",
       "std              0.463183  \n",
       "min              0.000000  \n",
       "25%              0.000000  \n",
       "50%              0.000000  \n",
       "75%              0.000000  \n",
       "max              5.000000  "
      ]
     },
     "execution_count": 15,
     "metadata": {},
     "output_type": "execute_result"
    }
   ],
   "source": [
    "# посмотрим информацию о данных при помощи функции describe()\n",
    "df.describe()"
   ]
  },
  {
   "cell_type": "markdown",
   "metadata": {},
   "source": [
    "Можно увидеть, что в таблице данных компании соблюден почти идеальный баланс между мужчинами и женщинами. Средний возраст застрахованного составляет около 31 года, при этом медиана составляет 30. Границы возраста застрахованных приводят к выводу, что компания не занимается страхованием лиц, чей возраст составляет менее 18 и старше 65 лет. Также интересно взглянуть на уровень заработной платы застрахованных - медиана составляет чуть более 40 000 рублей. В целом, в компании скорее представлен средний экономический класс, чем слишком бедные или слишком богатые граждане."
   ]
  },
  {
   "cell_type": "markdown",
   "metadata": {},
   "source": [
    "Дополнительно посмотрим корреляцию между возрастом и количеством страховых выплат клиентам за последние 5."
   ]
  },
  {
   "cell_type": "code",
   "execution_count": 16,
   "metadata": {},
   "outputs": [
    {
     "data": {
      "text/plain": [
       "0.6510300979467276"
      ]
     },
     "execution_count": 16,
     "metadata": {},
     "output_type": "execute_result"
    }
   ],
   "source": [
    "df['age'].corr(df['insurance_payments'])"
   ]
  },
  {
   "cell_type": "markdown",
   "metadata": {},
   "source": [
    "Вероятно, для компании есть взаимосвязь: чем старше застрахованное лицо, тем более вероятно он потребует страховку чаще, следовательно, несёт в себе больше рисков для предприятия."
   ]
  },
  {
   "cell_type": "markdown",
   "metadata": {},
   "source": [
    "Для оценки влияния возраста на количество страховых выплат посторим диаграмму рассеяния."
   ]
  },
  {
   "cell_type": "code",
   "execution_count": 22,
   "metadata": {},
   "outputs": [
    {
     "data": {
      "image/png": "[encoded data removed]",
      "text/plain": [
       "<Figure size 648x360 with 1 Axes>"
      ]
     },
     "metadata": {
      "needs_background": "light"
     },
     "output_type": "display_data"
    }
   ],
   "source": [
    "df.plot(x='insurance_payments', y='age', kind='scatter', grid=True, alpha=1, figsize=(9,5));"
   ]
  },
  {
   "cell_type": "code",
   "execution_count": 28,
   "metadata": {},
   "outputs": [
    {
     "data": {
      "text/html": [
       "<div>\n",
       "<style scoped>\n",
       "    .dataframe tbody tr th:only-of-type {\n",
       "        vertical-align: middle;\n",
       "    }\n",
       "\n",
       "    .dataframe tbody tr th {\n",
       "        vertical-align: top;\n",
       "    }\n",
       "\n",
       "    .dataframe thead tr th {\n",
       "        text-align: left;\n",
       "    }\n",
       "</style>\n",
       "<table border=\"1\" class=\"dataframe\">\n",
       "  <thead>\n",
       "    <tr>\n",
       "      <th></th>\n",
       "      <th>insurance_payments</th>\n",
       "      <th>max</th>\n",
       "      <th>count</th>\n",
       "    </tr>\n",
       "    <tr>\n",
       "      <th></th>\n",
       "      <th></th>\n",
       "      <th>age</th>\n",
       "      <th>age</th>\n",
       "    </tr>\n",
       "  </thead>\n",
       "  <tbody>\n",
       "    <tr>\n",
       "      <th>0</th>\n",
       "      <td>0</td>\n",
       "      <td>42</td>\n",
       "      <td>4436</td>\n",
       "    </tr>\n",
       "    <tr>\n",
       "      <th>1</th>\n",
       "      <td>1</td>\n",
       "      <td>49</td>\n",
       "      <td>423</td>\n",
       "    </tr>\n",
       "    <tr>\n",
       "      <th>2</th>\n",
       "      <td>2</td>\n",
       "      <td>54</td>\n",
       "      <td>115</td>\n",
       "    </tr>\n",
       "    <tr>\n",
       "      <th>3</th>\n",
       "      <td>3</td>\n",
       "      <td>58</td>\n",
       "      <td>18</td>\n",
       "    </tr>\n",
       "    <tr>\n",
       "      <th>4</th>\n",
       "      <td>4</td>\n",
       "      <td>62</td>\n",
       "      <td>7</td>\n",
       "    </tr>\n",
       "    <tr>\n",
       "      <th>5</th>\n",
       "      <td>5</td>\n",
       "      <td>65</td>\n",
       "      <td>1</td>\n",
       "    </tr>\n",
       "  </tbody>\n",
       "</table>\n",
       "</div>"
      ],
      "text/plain": [
       "  insurance_payments max count\n",
       "                     age   age\n",
       "0                  0  42  4436\n",
       "1                  1  49   423\n",
       "2                  2  54   115\n",
       "3                  3  58    18\n",
       "4                  4  62     7\n",
       "5                  5  65     1"
      ]
     },
     "execution_count": 28,
     "metadata": {},
     "output_type": "execute_result"
    }
   ],
   "source": [
    "df.pivot_table(index='insurance_payments', values='age', aggfunc=['max', 'count']).reset_index()"
   ]
  },
  {
   "cell_type": "markdown",
   "metadata": {},
   "source": [
    "По диаграмме и сводной таблице видно, что все клиенты в возрасте до 42 лет не получали ни одной страховой выплаты, в возрасте до 49 лет только одну выплату, до 55 лет две выплаты, до 59 лет три выплаты, до 65 лет четыре выплаты. Только один клиент получил максимальное количество выплат за пять лет - пять выплат в возрасте 65 лет."
   ]
  },
  {
   "cell_type": "markdown",
   "metadata": {},
   "source": [
    "**Выводы**\n",
    "\n",
    "По итогам анализа даннных можно сделать вывод о том, что: \n",
    "* компания не занимается страхованием лиц, чей возраст составляет менее 18 и старше 65 лет;\n",
    "* компания скорее работает со средним экономическим классом, чем с слишком бедными или слишком богатыми гражданами;\n",
    "* вероятно, для компании есть взаимосвязь: чем старше застрахованное лицо, тем более вероятно он потребует страховку чаще;\n",
    "* клиенты в озрасте до 42 лет не получали ни одной страховой выплаты и таких клиентов большинство - почти 89%."
   ]
  },
  {
   "cell_type": "markdown",
   "metadata": {},
   "source": [
    "### Проверка на  дубликаты"
   ]
  },
  {
   "cell_type": "markdown",
   "metadata": {},
   "source": [
    "Проверим таблицу на наличие явных дубликатов."
   ]
  },
  {
   "cell_type": "code",
   "execution_count": 30,
   "metadata": {
    "scrolled": true
   },
   "outputs": [
    {
     "name": "stdout",
     "output_type": "stream",
     "text": [
      "Дубликатов в таблице: 153\n"
     ]
    }
   ],
   "source": [
    "print ('Дубликатов в таблице:', df.duplicated().sum())"
   ]
  },
  {
   "cell_type": "markdown",
   "metadata": {},
   "source": [
    "Удалим обнаруженные дубликаты и проверим выполненные изменения."
   ]
  },
  {
   "cell_type": "code",
   "execution_count": 31,
   "metadata": {},
   "outputs": [
    {
     "data": {
      "text/plain": [
       "0"
      ]
     },
     "execution_count": 31,
     "metadata": {},
     "output_type": "execute_result"
    }
   ],
   "source": [
    "df = df.drop_duplicates()\n",
    "df.duplicated().sum()"
   ]
  },
  {
   "cell_type": "code",
   "execution_count": 32,
   "metadata": {},
   "outputs": [
    {
     "data": {
      "text/plain": [
       "(4847, 5)"
      ]
     },
     "execution_count": 32,
     "metadata": {},
     "output_type": "execute_result"
    }
   ],
   "source": [
    "# новые размеры таблицы\n",
    "df.shape"
   ]
  },
  {
   "cell_type": "code",
   "execution_count": 33,
   "metadata": {},
   "outputs": [
    {
     "data": {
      "text/html": [
       "<div>\n",
       "<style scoped>\n",
       "    .dataframe tbody tr th:only-of-type {\n",
       "        vertical-align: middle;\n",
       "    }\n",
       "\n",
       "    .dataframe tbody tr th {\n",
       "        vertical-align: top;\n",
       "    }\n",
       "\n",
       "    .dataframe thead th {\n",
       "        text-align: right;\n",
       "    }\n",
       "</style>\n",
       "<table border=\"1\" class=\"dataframe\">\n",
       "  <thead>\n",
       "    <tr style=\"text-align: right;\">\n",
       "      <th></th>\n",
       "      <th>gender</th>\n",
       "      <th>age</th>\n",
       "      <th>salary</th>\n",
       "      <th>family_members</th>\n",
       "      <th>insurance_payments</th>\n",
       "    </tr>\n",
       "  </thead>\n",
       "  <tbody>\n",
       "    <tr>\n",
       "      <th>4994</th>\n",
       "      <td>1</td>\n",
       "      <td>26</td>\n",
       "      <td>51400.0</td>\n",
       "      <td>0</td>\n",
       "      <td>0</td>\n",
       "    </tr>\n",
       "    <tr>\n",
       "      <th>1102</th>\n",
       "      <td>1</td>\n",
       "      <td>36</td>\n",
       "      <td>47100.0</td>\n",
       "      <td>1</td>\n",
       "      <td>0</td>\n",
       "    </tr>\n",
       "    <tr>\n",
       "      <th>3494</th>\n",
       "      <td>1</td>\n",
       "      <td>25</td>\n",
       "      <td>50500.0</td>\n",
       "      <td>0</td>\n",
       "      <td>0</td>\n",
       "    </tr>\n",
       "    <tr>\n",
       "      <th>4508</th>\n",
       "      <td>0</td>\n",
       "      <td>28</td>\n",
       "      <td>48500.0</td>\n",
       "      <td>2</td>\n",
       "      <td>0</td>\n",
       "    </tr>\n",
       "    <tr>\n",
       "      <th>4841</th>\n",
       "      <td>0</td>\n",
       "      <td>25</td>\n",
       "      <td>42600.0</td>\n",
       "      <td>1</td>\n",
       "      <td>0</td>\n",
       "    </tr>\n",
       "  </tbody>\n",
       "</table>\n",
       "</div>"
      ],
      "text/plain": [
       "      gender  age   salary  family_members  insurance_payments\n",
       "4994       1   26  51400.0               0                   0\n",
       "1102       1   36  47100.0               1                   0\n",
       "3494       1   25  50500.0               0                   0\n",
       "4508       0   28  48500.0               2                   0\n",
       "4841       0   25  42600.0               1                   0"
      ]
     },
     "execution_count": 33,
     "metadata": {},
     "output_type": "execute_result"
    }
   ],
   "source": [
    "df.sample(5)"
   ]
  },
  {
   "cell_type": "markdown",
   "metadata": {},
   "source": [
    "**Выводы**\n",
    "\n",
    "Обнаружены явные дубликаты в количестве - 153 строки. Дубликаты удалены."
   ]
  },
  {
   "cell_type": "markdown",
   "metadata": {},
   "source": [
    "### Выводы"
   ]
  },
  {
   "cell_type": "markdown",
   "metadata": {},
   "source": [
    "На этапе предобработки данных мы выполнили следующие задачи:\n",
    "* исправили названия столбцов таблицы в соответствие с хорошим стилем;\n",
    "* изменили тип данных в столбце `age`, чтобы сделать их более читабельными;\n",
    "* проверили данные на аномалии - аномалий не обнаружено;\n",
    "* проверили основные характеристики данных и корелляцию между возрастом и количеством страховых выплат клиентам;\n",
    "* проверили таблицу на наличие дубликатов, дубликаты удалены.\n",
    "\n",
    "Данные готовы для дальнейшей работы по выбору метода преобразования данных."
   ]
  },
  {
   "cell_type": "markdown",
   "metadata": {},
   "source": [
    "## Умножение матриц"
   ]
  },
  {
   "cell_type": "markdown",
   "metadata": {},
   "source": [
    "### Обучение и проверка модели на данных до изменений"
   ]
  },
  {
   "cell_type": "markdown",
   "metadata": {},
   "source": [
    "Для решения поставленной задачи подготовим отдельные таблицы с признаками, определяющими целевой признак, и целевым признаком."
   ]
  },
  {
   "cell_type": "code",
   "execution_count": 34,
   "metadata": {
    "scrolled": false
   },
   "outputs": [
    {
     "name": "stdout",
     "output_type": "stream",
     "text": [
      "(4847, 4)\n",
      "(4847,)\n"
     ]
    }
   ],
   "source": [
    "features = df.drop('insurance_payments', axis=1)\n",
    "target = df['insurance_payments']\n",
    "\n",
    "# проверим размеры полученных таблиц\n",
    "print(features.shape)\n",
    "print(target.shape)"
   ]
  },
  {
   "cell_type": "markdown",
   "metadata": {},
   "source": [
    "Напишем функцию для модели LinearRegression, чтобы в дальнейшем было удобнее проверять преобразованные данные."
   ]
  },
  {
   "cell_type": "code",
   "execution_count": 35,
   "metadata": {},
   "outputs": [],
   "source": [
    "def LinearReg(features, target):\n",
    "    model = LinearRegression()\n",
    "    model.fit(features, target)\n",
    "    predictions = model.predict(features)\n",
    "    R2 = r2_score(target, predictions)\n",
    "    \n",
    "    return f'R2 = {R2}'"
   ]
  },
  {
   "cell_type": "code",
   "execution_count": 36,
   "metadata": {},
   "outputs": [
    {
     "name": "stdout",
     "output_type": "stream",
     "text": [
      "R2 = 0.4302010044852067\n"
     ]
    }
   ],
   "source": [
    "print(LinearReg(features, target))"
   ]
  },
  {
   "cell_type": "markdown",
   "metadata": {},
   "source": [
    "**Выводы**\n",
    "\n",
    "На данном этапе мы раздедили данные на обучающие и валидационные выборки, обучили модель линейная регрессия и рассчитали метрику R2 для дальнейшего сравнея с ней изменённых данных."
   ]
  },
  {
   "cell_type": "markdown",
   "metadata": {},
   "source": [
    "### Умножение признаков на обратимую матрицу"
   ]
  },
  {
   "cell_type": "markdown",
   "metadata": {},
   "source": [
    "В матрицу признаков добавим столбец, состоящий только из единиц (он идёт нулевым); в дальнейшем сдвиг умножится на вектор из единиц (нулевой столбец)."
   ]
  },
  {
   "cell_type": "code",
   "execution_count": 37,
   "metadata": {},
   "outputs": [
    {
     "data": {
      "text/plain": [
       "(4847, 5)"
      ]
     },
     "execution_count": 37,
     "metadata": {},
     "output_type": "execute_result"
    }
   ],
   "source": [
    "X = np.concatenate((np.ones((features.shape[0], 1)), features), axis=1)\n",
    "X.shape"
   ]
  },
  {
   "cell_type": "markdown",
   "metadata": {},
   "source": [
    "Создадим рандомную квадратную матрицу размером равным количеству признаков с учётом сдвига в таблице с признакми для умножения в последующем на матрицу признаков."
   ]
  },
  {
   "cell_type": "code",
   "execution_count": 38,
   "metadata": {},
   "outputs": [
    {
     "data": {
      "text/plain": [
       "(5, 5)"
      ]
     },
     "execution_count": 38,
     "metadata": {},
     "output_type": "execute_result"
    }
   ],
   "source": [
    "random_matrix = np.random.normal(size=(X.shape[1], X.shape[1]))\n",
    "random_matrix.shape"
   ]
  },
  {
   "cell_type": "markdown",
   "metadata": {},
   "source": [
    "Проверим созданную матрицу на обратимость."
   ]
  },
  {
   "cell_type": "code",
   "execution_count": 39,
   "metadata": {},
   "outputs": [
    {
     "data": {
      "text/plain": [
       "True"
      ]
     },
     "execution_count": 39,
     "metadata": {},
     "output_type": "execute_result"
    }
   ],
   "source": [
    "np.linalg.det(random_matrix) != 0"
   ]
  },
  {
   "cell_type": "markdown",
   "metadata": {},
   "source": [
    "Матрица является обратимой. Умножим признаки на полученную матрицу."
   ]
  },
  {
   "cell_type": "code",
   "execution_count": 40,
   "metadata": {},
   "outputs": [],
   "source": [
    "features_new = X @ random_matrix"
   ]
  },
  {
   "cell_type": "markdown",
   "metadata": {},
   "source": [
    "Проверим как изменилось качество линейной регрессии."
   ]
  },
  {
   "cell_type": "code",
   "execution_count": 41,
   "metadata": {},
   "outputs": [
    {
     "name": "stdout",
     "output_type": "stream",
     "text": [
      "R2 = 0.4301985045366037\n"
     ]
    }
   ],
   "source": [
    "print(LinearReg(features_new, target))"
   ]
  },
  {
   "cell_type": "markdown",
   "metadata": {},
   "source": [
    "**Вывод**\n",
    "\n",
    "При умножении признаков на обратимую матрицу качество линейной регрессии почти не изменится. \n",
    "\n",
    "Если учесть формулу рассчёта предсказания модели линейной регрессии:\n",
    "\n",
    "$$\n",
    "a = Xw\n",
    "$$\n",
    "\n",
    "где:\n",
    "\n",
    "- $a$ — вектор предсказаний целевого признака\n",
    "\n",
    "- $X$ — матрица признаков (нулевой столбец состоит из единиц)\n",
    "\n",
    "- $w$ — вектор весов линейной регрессии (нулевой элемент равен сдвигу)\n",
    "\n",
    "то видно, что вектор предсказаний получается из скалярного произведения вектора признаков на вектор весов с учётом величина сдвига предсказания. При этом когда мы умножаем матрицу признаков на матрицу с рандомными значениями, для алгоритма линейной регресси по сути ничего не меняется, так как подбор параметров (w) всё равно будет происходить таким образом, что значение функции потерь на обучающей выборке будет минимальным."
   ]
  },
  {
   "cell_type": "markdown",
   "metadata": {},
   "source": [
    "### Выводы"
   ]
  },
  {
   "cell_type": "markdown",
   "metadata": {},
   "source": [
    "На данном этапе мы раздедили данные на обучающие и валидационные выборки, обучили модель линейная регрессия и рассчитали метрику R2 и проверили влияние умножения матрицы признаков на обратимую матрицу на данную метрику - влияния нет."
   ]
  },
  {
   "cell_type": "markdown",
   "metadata": {},
   "source": [
    "## Алгоритм преобразования"
   ]
  },
  {
   "cell_type": "markdown",
   "metadata": {},
   "source": [
    "Исходя из полученных результатов п.3 для решения поставленной задачи достаточно создать рандомно обратимую матрицу и умножить на неё матрицу признаков - в этом случае по новой полученной матрице будет сложно восстановить персональную информацию за неимением матрицы-ключа и при этом качество модели Линейная регрессия не ухудшится."
   ]
  },
  {
   "cell_type": "markdown",
   "metadata": {},
   "source": [
    "Создадим ещё раз рандомную матрицу размером равным количеству признаков с учётом сдвига, сохраним её в переменной `maatrix_key`."
   ]
  },
  {
   "cell_type": "code",
   "execution_count": 42,
   "metadata": {},
   "outputs": [
    {
     "data": {
      "text/plain": [
       "(5, 5)"
      ]
     },
     "execution_count": 42,
     "metadata": {},
     "output_type": "execute_result"
    }
   ],
   "source": [
    "matrix_key = np.random.normal(size=(X.shape[1], X.shape[1]))\n",
    "matrix_key.shape"
   ]
  },
  {
   "cell_type": "markdown",
   "metadata": {},
   "source": [
    "Проверим созданную матрицу на обратимость."
   ]
  },
  {
   "cell_type": "code",
   "execution_count": 43,
   "metadata": {},
   "outputs": [
    {
     "data": {
      "text/plain": [
       "True"
      ]
     },
     "execution_count": 43,
     "metadata": {},
     "output_type": "execute_result"
    }
   ],
   "source": [
    "np.linalg.det(matrix_key) != 0"
   ]
  },
  {
   "cell_type": "markdown",
   "metadata": {},
   "source": [
    "Преобразуем матрицу признаков, умножив её на полученную матрицу."
   ]
  },
  {
   "cell_type": "code",
   "execution_count": 44,
   "metadata": {},
   "outputs": [
    {
     "data": {
      "text/plain": [
       "array([[-40136.68464689,  44008.90085203, -21373.42698227,\n",
       "         10425.49914095,    585.89049344],\n",
       "       [-30746.82588208,  33724.09980303, -16391.10611243,\n",
       "          7991.17015151,    452.15225723],\n",
       "       [-16991.4909632 ,  18639.04778382,  -9062.63783252,\n",
       "          4416.77686936,    250.90388865],\n",
       "       ...,\n",
       "       [-27433.09043087,  30073.80523114, -14598.09013366,\n",
       "          7123.90846634,    397.79116671],\n",
       "       [-26461.93860839,  29007.0967921 , -14080.7934677 ,\n",
       "          6873.68865544,    382.87138506],\n",
       "       [-32855.05752935,  36020.02514383, -17488.4730492 ,\n",
       "          8532.43957446,    478.03109239]])"
      ]
     },
     "execution_count": 44,
     "metadata": {},
     "output_type": "execute_result"
    }
   ],
   "source": [
    "features_new = X @ matrix_key\n",
    "features_new"
   ]
  },
  {
   "cell_type": "markdown",
   "metadata": {},
   "source": [
    "### Выводы"
   ]
  },
  {
   "cell_type": "markdown",
   "metadata": {},
   "source": [
    "На данном этапе мы зафиксировали алгоритм преобразования матрицы признаков и преобразовали с помощью него таблицу с признаками."
   ]
  },
  {
   "cell_type": "markdown",
   "metadata": {},
   "source": [
    "## Проверка алгоритма"
   ]
  },
  {
   "cell_type": "markdown",
   "metadata": {},
   "source": [
    "Проверим, что что качество Линейной регрессии не отличается до и после преобразования матрицы признаков, применив метрику R2."
   ]
  },
  {
   "cell_type": "code",
   "execution_count": 45,
   "metadata": {
    "scrolled": true
   },
   "outputs": [
    {
     "name": "stdout",
     "output_type": "stream",
     "text": [
      "R2 = 0.4302262180611469\n"
     ]
    }
   ],
   "source": [
    "print(LinearReg(features_new, target))"
   ]
  },
  {
   "cell_type": "markdown",
   "metadata": {},
   "source": [
    "### Выводы"
   ]
  },
  {
   "cell_type": "markdown",
   "metadata": {},
   "source": [
    "На данном этапе мы проверили, что значение метрики качества Линейной регрессии R2 не изменилось."
   ]
  },
  {
   "cell_type": "markdown",
   "metadata": {},
   "source": [
    "## Общий вывод"
   ]
  },
  {
   "cell_type": "markdown",
   "metadata": {},
   "source": [
    "Исследование проводилось в пять этапов:\n",
    "\n",
    "* На этапе Обзор данных мы ознакомились с данными в предоставленной таблице и зафиксировали, что предварительно данных для проведения исследования достаточно;\n",
    "* На этапе Предобработка данных мы исправили названия столбцов таблицы в соответствие с хорошим стилем, изменили тип данных в столбце `age`, проверили данные на аномалии - аномалий не обнаружено, проанализировали данные и их корелляцию, проверили таблицу на наличие дубликатов, дубликаты удалены;\n",
    "* На этапе Умножение матриц проверили влияние умножения матрицы признаков на обратимую матрицу на данную метрику - влияния нет;\n",
    "* На этапе Алгоритм преобразования мы зафиксировали алгоритм преобразования матрицы признаков и преобразовали с помощью него таблицу с признаками;\n",
    "* На этапе Проверка алгоритма - убедились, что значение метрики качества Линейной регрессии R2 не изменилось после преобразования матрицы признаков.\n",
    "\n",
    "На основании полученных результатов исследования можно утвержать, что умножения матрицы признаков на обратимую матрицу не влияет на изменение качества модели Линейная регрессия."
   ]
  }
 ],
 "metadata": {
  "kernelspec": {
   "display_name": "Python 3 (ipykernel)",
   "language": "python",
   "name": "python3"
  },
  "language_info": {
   "codemirror_mode": {
    "name": "ipython",
    "version": 3
   },
   "file_extension": ".py",
   "mimetype": "text/x-python",
   "name": "python",
   "nbconvert_exporter": "python",
   "pygments_lexer": "ipython3",
   "version": "3.9.7"
  },
  "toc": {
   "base_numbering": 1,
   "nav_menu": {},
   "number_sections": true,
   "sideBar": true,
   "skip_h1_title": true,
   "title_cell": "Содержание",
   "title_sidebar": "Contents",
   "toc_cell": false,
   "toc_position": {},
   "toc_section_display": true,
   "toc_window_display": true
  }
 },
 "nbformat": 4,
 "nbformat_minor": 2
}
