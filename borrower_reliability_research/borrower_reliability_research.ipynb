{
 "cells": [
  {
   "cell_type": "markdown",
   "id": "3b4b573b",
   "metadata": {},
   "source": [
    "# Исследование надежности заемщиков"
   ]
  },
  {
   "cell_type": "markdown",
   "id": "87382dd7",
   "metadata": {},
   "source": [
    "## Обзор данных"
   ]
  },
  {
   "cell_type": "code",
   "execution_count": 1,
   "id": "956982e2",
   "metadata": {
    "scrolled": true
   },
   "outputs": [],
   "source": [
    "import pandas as pd  #импорт библиотеки pandas"
   ]
  },
  {
   "cell_type": "code",
   "execution_count": 2,
   "id": "b1c23862-0217-43f3-8acc-8d6bcfdd0aea",
   "metadata": {},
   "outputs": [],
   "source": [
    "data = pd.read_csv('data.csv')  #чтение файла data.csv и сохранение в переменной data"
   ]
  },
  {
   "cell_type": "code",
   "execution_count": 3,
   "id": "d5100e97-c83f-48e0-baf4-6139d88f8e73",
   "metadata": {},
   "outputs": [
    {
     "data": {
      "text/html": [
       "<div>\n",
       "<style scoped>\n",
       "    .dataframe tbody tr th:only-of-type {\n",
       "        vertical-align: middle;\n",
       "    }\n",
       "\n",
       "    .dataframe tbody tr th {\n",
       "        vertical-align: top;\n",
       "    }\n",
       "\n",
       "    .dataframe thead th {\n",
       "        text-align: right;\n",
       "    }\n",
       "</style>\n",
       "<table border=\"1\" class=\"dataframe\">\n",
       "  <thead>\n",
       "    <tr style=\"text-align: right;\">\n",
       "      <th></th>\n",
       "      <th>children</th>\n",
       "      <th>days_employed</th>\n",
       "      <th>dob_years</th>\n",
       "      <th>education</th>\n",
       "      <th>education_id</th>\n",
       "      <th>family_status</th>\n",
       "      <th>family_status_id</th>\n",
       "      <th>gender</th>\n",
       "      <th>income_type</th>\n",
       "      <th>debt</th>\n",
       "      <th>total_income</th>\n",
       "      <th>purpose</th>\n",
       "    </tr>\n",
       "  </thead>\n",
       "  <tbody>\n",
       "    <tr>\n",
       "      <th>0</th>\n",
       "      <td>1</td>\n",
       "      <td>-8437.673028</td>\n",
       "      <td>42</td>\n",
       "      <td>высшее</td>\n",
       "      <td>0</td>\n",
       "      <td>женат / замужем</td>\n",
       "      <td>0</td>\n",
       "      <td>F</td>\n",
       "      <td>сотрудник</td>\n",
       "      <td>0</td>\n",
       "      <td>253875.639453</td>\n",
       "      <td>покупка жилья</td>\n",
       "    </tr>\n",
       "    <tr>\n",
       "      <th>1</th>\n",
       "      <td>1</td>\n",
       "      <td>-4024.803754</td>\n",
       "      <td>36</td>\n",
       "      <td>среднее</td>\n",
       "      <td>1</td>\n",
       "      <td>женат / замужем</td>\n",
       "      <td>0</td>\n",
       "      <td>F</td>\n",
       "      <td>сотрудник</td>\n",
       "      <td>0</td>\n",
       "      <td>112080.014102</td>\n",
       "      <td>приобретение автомобиля</td>\n",
       "    </tr>\n",
       "    <tr>\n",
       "      <th>2</th>\n",
       "      <td>0</td>\n",
       "      <td>-5623.422610</td>\n",
       "      <td>33</td>\n",
       "      <td>Среднее</td>\n",
       "      <td>1</td>\n",
       "      <td>женат / замужем</td>\n",
       "      <td>0</td>\n",
       "      <td>M</td>\n",
       "      <td>сотрудник</td>\n",
       "      <td>0</td>\n",
       "      <td>145885.952297</td>\n",
       "      <td>покупка жилья</td>\n",
       "    </tr>\n",
       "    <tr>\n",
       "      <th>3</th>\n",
       "      <td>3</td>\n",
       "      <td>-4124.747207</td>\n",
       "      <td>32</td>\n",
       "      <td>среднее</td>\n",
       "      <td>1</td>\n",
       "      <td>женат / замужем</td>\n",
       "      <td>0</td>\n",
       "      <td>M</td>\n",
       "      <td>сотрудник</td>\n",
       "      <td>0</td>\n",
       "      <td>267628.550329</td>\n",
       "      <td>дополнительное образование</td>\n",
       "    </tr>\n",
       "    <tr>\n",
       "      <th>4</th>\n",
       "      <td>0</td>\n",
       "      <td>340266.072047</td>\n",
       "      <td>53</td>\n",
       "      <td>среднее</td>\n",
       "      <td>1</td>\n",
       "      <td>гражданский брак</td>\n",
       "      <td>1</td>\n",
       "      <td>F</td>\n",
       "      <td>пенсионер</td>\n",
       "      <td>0</td>\n",
       "      <td>158616.077870</td>\n",
       "      <td>сыграть свадьбу</td>\n",
       "    </tr>\n",
       "    <tr>\n",
       "      <th>5</th>\n",
       "      <td>0</td>\n",
       "      <td>-926.185831</td>\n",
       "      <td>27</td>\n",
       "      <td>высшее</td>\n",
       "      <td>0</td>\n",
       "      <td>гражданский брак</td>\n",
       "      <td>1</td>\n",
       "      <td>M</td>\n",
       "      <td>компаньон</td>\n",
       "      <td>0</td>\n",
       "      <td>255763.565419</td>\n",
       "      <td>покупка жилья</td>\n",
       "    </tr>\n",
       "    <tr>\n",
       "      <th>6</th>\n",
       "      <td>0</td>\n",
       "      <td>-2879.202052</td>\n",
       "      <td>43</td>\n",
       "      <td>высшее</td>\n",
       "      <td>0</td>\n",
       "      <td>женат / замужем</td>\n",
       "      <td>0</td>\n",
       "      <td>F</td>\n",
       "      <td>компаньон</td>\n",
       "      <td>0</td>\n",
       "      <td>240525.971920</td>\n",
       "      <td>операции с жильем</td>\n",
       "    </tr>\n",
       "    <tr>\n",
       "      <th>7</th>\n",
       "      <td>0</td>\n",
       "      <td>-152.779569</td>\n",
       "      <td>50</td>\n",
       "      <td>СРЕДНЕЕ</td>\n",
       "      <td>1</td>\n",
       "      <td>женат / замужем</td>\n",
       "      <td>0</td>\n",
       "      <td>M</td>\n",
       "      <td>сотрудник</td>\n",
       "      <td>0</td>\n",
       "      <td>135823.934197</td>\n",
       "      <td>образование</td>\n",
       "    </tr>\n",
       "    <tr>\n",
       "      <th>8</th>\n",
       "      <td>2</td>\n",
       "      <td>-6929.865299</td>\n",
       "      <td>35</td>\n",
       "      <td>ВЫСШЕЕ</td>\n",
       "      <td>0</td>\n",
       "      <td>гражданский брак</td>\n",
       "      <td>1</td>\n",
       "      <td>F</td>\n",
       "      <td>сотрудник</td>\n",
       "      <td>0</td>\n",
       "      <td>95856.832424</td>\n",
       "      <td>на проведение свадьбы</td>\n",
       "    </tr>\n",
       "    <tr>\n",
       "      <th>9</th>\n",
       "      <td>0</td>\n",
       "      <td>-2188.756445</td>\n",
       "      <td>41</td>\n",
       "      <td>среднее</td>\n",
       "      <td>1</td>\n",
       "      <td>женат / замужем</td>\n",
       "      <td>0</td>\n",
       "      <td>M</td>\n",
       "      <td>сотрудник</td>\n",
       "      <td>0</td>\n",
       "      <td>144425.938277</td>\n",
       "      <td>покупка жилья для семьи</td>\n",
       "    </tr>\n",
       "  </tbody>\n",
       "</table>\n",
       "</div>"
      ],
      "text/plain": [
       "   children  days_employed  dob_years education  education_id  \\\n",
       "0         1   -8437.673028         42    высшее             0   \n",
       "1         1   -4024.803754         36   среднее             1   \n",
       "2         0   -5623.422610         33   Среднее             1   \n",
       "3         3   -4124.747207         32   среднее             1   \n",
       "4         0  340266.072047         53   среднее             1   \n",
       "5         0    -926.185831         27    высшее             0   \n",
       "6         0   -2879.202052         43    высшее             0   \n",
       "7         0    -152.779569         50   СРЕДНЕЕ             1   \n",
       "8         2   -6929.865299         35    ВЫСШЕЕ             0   \n",
       "9         0   -2188.756445         41   среднее             1   \n",
       "\n",
       "      family_status  family_status_id gender income_type  debt   total_income  \\\n",
       "0   женат / замужем                 0      F   сотрудник     0  253875.639453   \n",
       "1   женат / замужем                 0      F   сотрудник     0  112080.014102   \n",
       "2   женат / замужем                 0      M   сотрудник     0  145885.952297   \n",
       "3   женат / замужем                 0      M   сотрудник     0  267628.550329   \n",
       "4  гражданский брак                 1      F   пенсионер     0  158616.077870   \n",
       "5  гражданский брак                 1      M   компаньон     0  255763.565419   \n",
       "6   женат / замужем                 0      F   компаньон     0  240525.971920   \n",
       "7   женат / замужем                 0      M   сотрудник     0  135823.934197   \n",
       "8  гражданский брак                 1      F   сотрудник     0   95856.832424   \n",
       "9   женат / замужем                 0      M   сотрудник     0  144425.938277   \n",
       "\n",
       "                      purpose  \n",
       "0               покупка жилья  \n",
       "1     приобретение автомобиля  \n",
       "2               покупка жилья  \n",
       "3  дополнительное образование  \n",
       "4             сыграть свадьбу  \n",
       "5               покупка жилья  \n",
       "6           операции с жильем  \n",
       "7                 образование  \n",
       "8       на проведение свадьбы  \n",
       "9     покупка жилья для семьи  "
      ]
     },
     "execution_count": 3,
     "metadata": {},
     "output_type": "execute_result"
    }
   ],
   "source": [
    "data.head(10) # просмотр первых 10 строк таблицы data"
   ]
  },
  {
   "cell_type": "code",
   "execution_count": 4,
   "id": "cce85901",
   "metadata": {},
   "outputs": [
    {
     "name": "stdout",
     "output_type": "stream",
     "text": [
      "<class 'pandas.core.frame.DataFrame'>\n",
      "RangeIndex: 21525 entries, 0 to 21524\n",
      "Data columns (total 12 columns):\n",
      " #   Column            Non-Null Count  Dtype  \n",
      "---  ------            --------------  -----  \n",
      " 0   children          21525 non-null  int64  \n",
      " 1   days_employed     19351 non-null  float64\n",
      " 2   dob_years         21525 non-null  int64  \n",
      " 3   education         21525 non-null  object \n",
      " 4   education_id      21525 non-null  int64  \n",
      " 5   family_status     21525 non-null  object \n",
      " 6   family_status_id  21525 non-null  int64  \n",
      " 7   gender            21525 non-null  object \n",
      " 8   income_type       21525 non-null  object \n",
      " 9   debt              21525 non-null  int64  \n",
      " 10  total_income      19351 non-null  float64\n",
      " 11  purpose           21525 non-null  object \n",
      "dtypes: float64(2), int64(5), object(5)\n",
      "memory usage: 2.0+ MB\n"
     ]
    }
   ],
   "source": [
    "data.info() #получение общей информации о таблице data"
   ]
  },
  {
   "cell_type": "markdown",
   "id": "a8374e5b",
   "metadata": {},
   "source": [
    "Итак, в таблице 12 столбцов. Типы данных в столбцах: object, int64 и float64.\n",
    "\n",
    "Согласно документации к данным:\n",
    "* `children` — количество детей в семье;\n",
    "* `days_employed` — общий трудовой стаж в днях;\n",
    "* `dob_years` — возраст клиента в годах;\n",
    "* `education` — уровень образования клиента;\n",
    "* `education_id` — идентификатор уровня образования;\n",
    "* `family_status` — семейное положение;\n",
    "* `family_status_id` — идентификатор семейного положения;\n",
    "* `gender` — пол клиента;\n",
    "* `income_type` — тип занятости;\n",
    "* `debt` — имел ли задолженность по возврату кредитов;\n",
    "* `total_income` — ежемесячный доход;\n",
    "* `purpose` — цель получения кредита.\n",
    "\n",
    "Названия столбцов корректные в соответствие с хорошим стилем, исправление названий не требуется.\n",
    "\n",
    "Количество значений в столбцах различается. Значит, в данных есть пропущенные значения."
   ]
  },
  {
   "cell_type": "markdown",
   "id": "815d1c6e",
   "metadata": {},
   "source": [
    "**Выводы**\n",
    "\n",
    "В каждой строке таблицы - данные о клиенте. Часть колонок рассказывает о личных данных клиента: количество детей, семейное положение, возраст, пол. Другая часть - о профессиональных характеристиках: уровень образования, трудовой стаж, тип занятости и ежемесячный доход. И в оставшихся столбцах данные о кредитах клиента: была ли у него задолженность и какая цель получения кредита.\n",
    "\n",
    "Предварительно можно утверждать, что, данных достаточно для проверки гипотез. Но встречаются пропуски в данных, некорректные значения, например, отрицательные значения в столбце `days_employed`, а также одни и те же значения, записанные в разных регистрах, например, в стобце `education`. \n",
    "\n",
    "Для более эффективной работы с данными и большей наглядности для проверки гипотез необходимо произвести их категоризицию по уровням доходов и целям кредитов.\n",
    "\n",
    "Чтобы двигаться дальше, нужно устранить проблемы в данных."
   ]
  },
  {
   "cell_type": "markdown",
   "id": "5fe9d1c4",
   "metadata": {},
   "source": [
    "## Предобработка данных"
   ]
  },
  {
   "cell_type": "markdown",
   "id": "84574ee2",
   "metadata": {},
   "source": [
    "### Проверка данных на аномалии и исправления."
   ]
  },
  {
   "cell_type": "markdown",
   "id": "6b8b57f3",
   "metadata": {},
   "source": [
    "По первым строкам таблицы можно заметить, что в столбце `days_employed` присутствуют отрицательные значения и данные значения указаны для клиентов с типом занятости отличным от `пенсионер`, из чего можно сделать вывод, что по остальным типам заняности произошла ошибка данных, необходимо значения исправить на положительные."
   ]
  },
  {
   "cell_type": "code",
   "execution_count": 5,
   "id": "66200155",
   "metadata": {},
   "outputs": [
    {
     "data": {
      "text/html": [
       "<div>\n",
       "<style scoped>\n",
       "    .dataframe tbody tr th:only-of-type {\n",
       "        vertical-align: middle;\n",
       "    }\n",
       "\n",
       "    .dataframe tbody tr th {\n",
       "        vertical-align: top;\n",
       "    }\n",
       "\n",
       "    .dataframe thead th {\n",
       "        text-align: right;\n",
       "    }\n",
       "</style>\n",
       "<table border=\"1\" class=\"dataframe\">\n",
       "  <thead>\n",
       "    <tr style=\"text-align: right;\">\n",
       "      <th></th>\n",
       "      <th>children</th>\n",
       "      <th>days_employed</th>\n",
       "      <th>dob_years</th>\n",
       "      <th>education</th>\n",
       "      <th>education_id</th>\n",
       "      <th>family_status</th>\n",
       "      <th>family_status_id</th>\n",
       "      <th>gender</th>\n",
       "      <th>income_type</th>\n",
       "      <th>debt</th>\n",
       "      <th>total_income</th>\n",
       "      <th>purpose</th>\n",
       "    </tr>\n",
       "  </thead>\n",
       "  <tbody>\n",
       "    <tr>\n",
       "      <th>0</th>\n",
       "      <td>1</td>\n",
       "      <td>8437.673028</td>\n",
       "      <td>42</td>\n",
       "      <td>высшее</td>\n",
       "      <td>0</td>\n",
       "      <td>женат / замужем</td>\n",
       "      <td>0</td>\n",
       "      <td>F</td>\n",
       "      <td>сотрудник</td>\n",
       "      <td>0</td>\n",
       "      <td>253875.639453</td>\n",
       "      <td>покупка жилья</td>\n",
       "    </tr>\n",
       "    <tr>\n",
       "      <th>1</th>\n",
       "      <td>1</td>\n",
       "      <td>4024.803754</td>\n",
       "      <td>36</td>\n",
       "      <td>среднее</td>\n",
       "      <td>1</td>\n",
       "      <td>женат / замужем</td>\n",
       "      <td>0</td>\n",
       "      <td>F</td>\n",
       "      <td>сотрудник</td>\n",
       "      <td>0</td>\n",
       "      <td>112080.014102</td>\n",
       "      <td>приобретение автомобиля</td>\n",
       "    </tr>\n",
       "    <tr>\n",
       "      <th>2</th>\n",
       "      <td>0</td>\n",
       "      <td>5623.422610</td>\n",
       "      <td>33</td>\n",
       "      <td>Среднее</td>\n",
       "      <td>1</td>\n",
       "      <td>женат / замужем</td>\n",
       "      <td>0</td>\n",
       "      <td>M</td>\n",
       "      <td>сотрудник</td>\n",
       "      <td>0</td>\n",
       "      <td>145885.952297</td>\n",
       "      <td>покупка жилья</td>\n",
       "    </tr>\n",
       "    <tr>\n",
       "      <th>3</th>\n",
       "      <td>3</td>\n",
       "      <td>4124.747207</td>\n",
       "      <td>32</td>\n",
       "      <td>среднее</td>\n",
       "      <td>1</td>\n",
       "      <td>женат / замужем</td>\n",
       "      <td>0</td>\n",
       "      <td>M</td>\n",
       "      <td>сотрудник</td>\n",
       "      <td>0</td>\n",
       "      <td>267628.550329</td>\n",
       "      <td>дополнительное образование</td>\n",
       "    </tr>\n",
       "    <tr>\n",
       "      <th>4</th>\n",
       "      <td>0</td>\n",
       "      <td>340266.072047</td>\n",
       "      <td>53</td>\n",
       "      <td>среднее</td>\n",
       "      <td>1</td>\n",
       "      <td>гражданский брак</td>\n",
       "      <td>1</td>\n",
       "      <td>F</td>\n",
       "      <td>пенсионер</td>\n",
       "      <td>0</td>\n",
       "      <td>158616.077870</td>\n",
       "      <td>сыграть свадьбу</td>\n",
       "    </tr>\n",
       "  </tbody>\n",
       "</table>\n",
       "</div>"
      ],
      "text/plain": [
       "   children  days_employed  dob_years education  education_id  \\\n",
       "0         1    8437.673028         42    высшее             0   \n",
       "1         1    4024.803754         36   среднее             1   \n",
       "2         0    5623.422610         33   Среднее             1   \n",
       "3         3    4124.747207         32   среднее             1   \n",
       "4         0  340266.072047         53   среднее             1   \n",
       "\n",
       "      family_status  family_status_id gender income_type  debt   total_income  \\\n",
       "0   женат / замужем                 0      F   сотрудник     0  253875.639453   \n",
       "1   женат / замужем                 0      F   сотрудник     0  112080.014102   \n",
       "2   женат / замужем                 0      M   сотрудник     0  145885.952297   \n",
       "3   женат / замужем                 0      M   сотрудник     0  267628.550329   \n",
       "4  гражданский брак                 1      F   пенсионер     0  158616.077870   \n",
       "\n",
       "                      purpose  \n",
       "0               покупка жилья  \n",
       "1     приобретение автомобиля  \n",
       "2               покупка жилья  \n",
       "3  дополнительное образование  \n",
       "4             сыграть свадьбу  "
      ]
     },
     "execution_count": 5,
     "metadata": {},
     "output_type": "execute_result"
    }
   ],
   "source": [
    "data['days_employed'] = abs(data['days_employed'])  #возьмём все значения в столбце `days_employed` по модулю\n",
    "data.head()  #проверим, что отрицательных значений больше нет"
   ]
  },
  {
   "cell_type": "markdown",
   "id": "a6435994",
   "metadata": {},
   "source": [
    "Также в столбце `days_employed` присутствуют аномально большие, например, если перевести значение 340266.072047 в года, то получится приблизительно 932 года, чего не может быть. После уточнения формата выгрузки, выяснилось, что большие числа указаны в часах, а не днях. Определим максимальный рабочий стаж в РФ как разницу между средней продолжительностью жизни и совершеннолетием = 72 года (по данным Росстата на 2021 год) - 18 лет = 54 года или 19710 дней. Соответсвенно, все значения больше 19710 в столбце являются некорректными и их нужно перевести в дни."
   ]
  },
  {
   "cell_type": "code",
   "execution_count": 6,
   "id": "5bade7dd",
   "metadata": {},
   "outputs": [
    {
     "data": {
      "text/html": [
       "<div>\n",
       "<style scoped>\n",
       "    .dataframe tbody tr th:only-of-type {\n",
       "        vertical-align: middle;\n",
       "    }\n",
       "\n",
       "    .dataframe tbody tr th {\n",
       "        vertical-align: top;\n",
       "    }\n",
       "\n",
       "    .dataframe thead th {\n",
       "        text-align: right;\n",
       "    }\n",
       "</style>\n",
       "<table border=\"1\" class=\"dataframe\">\n",
       "  <thead>\n",
       "    <tr style=\"text-align: right;\">\n",
       "      <th></th>\n",
       "      <th>children</th>\n",
       "      <th>days_employed</th>\n",
       "      <th>dob_years</th>\n",
       "      <th>education</th>\n",
       "      <th>education_id</th>\n",
       "      <th>family_status</th>\n",
       "      <th>family_status_id</th>\n",
       "      <th>gender</th>\n",
       "      <th>income_type</th>\n",
       "      <th>debt</th>\n",
       "      <th>total_income</th>\n",
       "      <th>purpose</th>\n",
       "    </tr>\n",
       "  </thead>\n",
       "  <tbody>\n",
       "    <tr>\n",
       "      <th>6954</th>\n",
       "      <td>0</td>\n",
       "      <td>401755.400475</td>\n",
       "      <td>56</td>\n",
       "      <td>среднее</td>\n",
       "      <td>1</td>\n",
       "      <td>вдовец / вдова</td>\n",
       "      <td>2</td>\n",
       "      <td>F</td>\n",
       "      <td>пенсионер</td>\n",
       "      <td>0</td>\n",
       "      <td>176278.441171</td>\n",
       "      <td>ремонт жилью</td>\n",
       "    </tr>\n",
       "    <tr>\n",
       "      <th>10006</th>\n",
       "      <td>0</td>\n",
       "      <td>401715.811749</td>\n",
       "      <td>69</td>\n",
       "      <td>высшее</td>\n",
       "      <td>0</td>\n",
       "      <td>Не женат / не замужем</td>\n",
       "      <td>4</td>\n",
       "      <td>F</td>\n",
       "      <td>пенсионер</td>\n",
       "      <td>0</td>\n",
       "      <td>57390.256908</td>\n",
       "      <td>получение образования</td>\n",
       "    </tr>\n",
       "    <tr>\n",
       "      <th>7664</th>\n",
       "      <td>1</td>\n",
       "      <td>401675.093434</td>\n",
       "      <td>61</td>\n",
       "      <td>среднее</td>\n",
       "      <td>1</td>\n",
       "      <td>женат / замужем</td>\n",
       "      <td>0</td>\n",
       "      <td>F</td>\n",
       "      <td>пенсионер</td>\n",
       "      <td>0</td>\n",
       "      <td>126214.519212</td>\n",
       "      <td>операции с жильем</td>\n",
       "    </tr>\n",
       "    <tr>\n",
       "      <th>2156</th>\n",
       "      <td>0</td>\n",
       "      <td>401674.466633</td>\n",
       "      <td>60</td>\n",
       "      <td>среднее</td>\n",
       "      <td>1</td>\n",
       "      <td>женат / замужем</td>\n",
       "      <td>0</td>\n",
       "      <td>M</td>\n",
       "      <td>пенсионер</td>\n",
       "      <td>0</td>\n",
       "      <td>325395.724541</td>\n",
       "      <td>автомобили</td>\n",
       "    </tr>\n",
       "    <tr>\n",
       "      <th>7794</th>\n",
       "      <td>0</td>\n",
       "      <td>401663.850046</td>\n",
       "      <td>61</td>\n",
       "      <td>среднее</td>\n",
       "      <td>1</td>\n",
       "      <td>гражданский брак</td>\n",
       "      <td>1</td>\n",
       "      <td>F</td>\n",
       "      <td>пенсионер</td>\n",
       "      <td>0</td>\n",
       "      <td>48286.441362</td>\n",
       "      <td>свадьба</td>\n",
       "    </tr>\n",
       "  </tbody>\n",
       "</table>\n",
       "</div>"
      ],
      "text/plain": [
       "       children  days_employed  dob_years education  education_id  \\\n",
       "6954          0  401755.400475         56   среднее             1   \n",
       "10006         0  401715.811749         69    высшее             0   \n",
       "7664          1  401675.093434         61   среднее             1   \n",
       "2156          0  401674.466633         60   среднее             1   \n",
       "7794          0  401663.850046         61   среднее             1   \n",
       "\n",
       "               family_status  family_status_id gender income_type  debt  \\\n",
       "6954          вдовец / вдова                 2      F   пенсионер     0   \n",
       "10006  Не женат / не замужем                 4      F   пенсионер     0   \n",
       "7664         женат / замужем                 0      F   пенсионер     0   \n",
       "2156         женат / замужем                 0      M   пенсионер     0   \n",
       "7794        гражданский брак                 1      F   пенсионер     0   \n",
       "\n",
       "        total_income                purpose  \n",
       "6954   176278.441171           ремонт жилью  \n",
       "10006   57390.256908  получение образования  \n",
       "7664   126214.519212      операции с жильем  \n",
       "2156   325395.724541             автомобили  \n",
       "7794    48286.441362                свадьба  "
      ]
     },
     "execution_count": 6,
     "metadata": {},
     "output_type": "execute_result"
    }
   ],
   "source": [
    "#отсортируем таблицу по убыванию значений в столбце `days_employed` и выведем 5 первых строк\n",
    "data.sort_values(by='days_employed', ascending=False).head()"
   ]
  },
  {
   "cell_type": "code",
   "execution_count": 7,
   "id": "c5adf6e5",
   "metadata": {
    "scrolled": true
   },
   "outputs": [
    {
     "data": {
      "text/html": [
       "<div>\n",
       "<style scoped>\n",
       "    .dataframe tbody tr th:only-of-type {\n",
       "        vertical-align: middle;\n",
       "    }\n",
       "\n",
       "    .dataframe tbody tr th {\n",
       "        vertical-align: top;\n",
       "    }\n",
       "\n",
       "    .dataframe thead th {\n",
       "        text-align: right;\n",
       "    }\n",
       "</style>\n",
       "<table border=\"1\" class=\"dataframe\">\n",
       "  <thead>\n",
       "    <tr style=\"text-align: right;\">\n",
       "      <th></th>\n",
       "      <th>children</th>\n",
       "      <th>days_employed</th>\n",
       "      <th>dob_years</th>\n",
       "      <th>education</th>\n",
       "      <th>education_id</th>\n",
       "      <th>family_status</th>\n",
       "      <th>family_status_id</th>\n",
       "      <th>gender</th>\n",
       "      <th>income_type</th>\n",
       "      <th>debt</th>\n",
       "      <th>total_income</th>\n",
       "      <th>purpose</th>\n",
       "    </tr>\n",
       "  </thead>\n",
       "  <tbody>\n",
       "    <tr>\n",
       "      <th>16335</th>\n",
       "      <td>1</td>\n",
       "      <td>18388.949901</td>\n",
       "      <td>61</td>\n",
       "      <td>среднее</td>\n",
       "      <td>1</td>\n",
       "      <td>женат / замужем</td>\n",
       "      <td>0</td>\n",
       "      <td>F</td>\n",
       "      <td>сотрудник</td>\n",
       "      <td>0</td>\n",
       "      <td>186178.934089</td>\n",
       "      <td>операции с недвижимостью</td>\n",
       "    </tr>\n",
       "    <tr>\n",
       "      <th>4299</th>\n",
       "      <td>0</td>\n",
       "      <td>17615.563266</td>\n",
       "      <td>61</td>\n",
       "      <td>среднее</td>\n",
       "      <td>1</td>\n",
       "      <td>женат / замужем</td>\n",
       "      <td>0</td>\n",
       "      <td>F</td>\n",
       "      <td>компаньон</td>\n",
       "      <td>0</td>\n",
       "      <td>122560.741753</td>\n",
       "      <td>покупка жилья</td>\n",
       "    </tr>\n",
       "    <tr>\n",
       "      <th>6954</th>\n",
       "      <td>0</td>\n",
       "      <td>16739.808353</td>\n",
       "      <td>56</td>\n",
       "      <td>среднее</td>\n",
       "      <td>1</td>\n",
       "      <td>вдовец / вдова</td>\n",
       "      <td>2</td>\n",
       "      <td>F</td>\n",
       "      <td>пенсионер</td>\n",
       "      <td>0</td>\n",
       "      <td>176278.441171</td>\n",
       "      <td>ремонт жилью</td>\n",
       "    </tr>\n",
       "    <tr>\n",
       "      <th>10006</th>\n",
       "      <td>0</td>\n",
       "      <td>16738.158823</td>\n",
       "      <td>69</td>\n",
       "      <td>высшее</td>\n",
       "      <td>0</td>\n",
       "      <td>Не женат / не замужем</td>\n",
       "      <td>4</td>\n",
       "      <td>F</td>\n",
       "      <td>пенсионер</td>\n",
       "      <td>0</td>\n",
       "      <td>57390.256908</td>\n",
       "      <td>получение образования</td>\n",
       "    </tr>\n",
       "    <tr>\n",
       "      <th>7664</th>\n",
       "      <td>1</td>\n",
       "      <td>16736.462226</td>\n",
       "      <td>61</td>\n",
       "      <td>среднее</td>\n",
       "      <td>1</td>\n",
       "      <td>женат / замужем</td>\n",
       "      <td>0</td>\n",
       "      <td>F</td>\n",
       "      <td>пенсионер</td>\n",
       "      <td>0</td>\n",
       "      <td>126214.519212</td>\n",
       "      <td>операции с жильем</td>\n",
       "    </tr>\n",
       "  </tbody>\n",
       "</table>\n",
       "</div>"
      ],
      "text/plain": [
       "       children  days_employed  dob_years education  education_id  \\\n",
       "16335         1   18388.949901         61   среднее             1   \n",
       "4299          0   17615.563266         61   среднее             1   \n",
       "6954          0   16739.808353         56   среднее             1   \n",
       "10006         0   16738.158823         69    высшее             0   \n",
       "7664          1   16736.462226         61   среднее             1   \n",
       "\n",
       "               family_status  family_status_id gender income_type  debt  \\\n",
       "16335        женат / замужем                 0      F   сотрудник     0   \n",
       "4299         женат / замужем                 0      F   компаньон     0   \n",
       "6954          вдовец / вдова                 2      F   пенсионер     0   \n",
       "10006  Не женат / не замужем                 4      F   пенсионер     0   \n",
       "7664         женат / замужем                 0      F   пенсионер     0   \n",
       "\n",
       "        total_income                   purpose  \n",
       "16335  186178.934089  операции с недвижимостью  \n",
       "4299   122560.741753             покупка жилья  \n",
       "6954   176278.441171              ремонт жилью  \n",
       "10006   57390.256908     получение образования  \n",
       "7664   126214.519212         операции с жильем  "
      ]
     },
     "execution_count": 7,
     "metadata": {},
     "output_type": "execute_result"
    }
   ],
   "source": [
    "#выберем в столбце `days_employed` все значения больше 19710 и переведём их в дни\n",
    "data.loc[data['days_employed'] > 19710, 'days_employed'] = data['days_employed'] / 24\n",
    "#провеврим результат\n",
    "data.sort_values(by='days_employed', ascending=False).head()"
   ]
  },
  {
   "cell_type": "markdown",
   "id": "cfebbeb9",
   "metadata": {},
   "source": [
    "Проверим какие значения есть в столбцах `children`, `dob_years`, `education`, `family_status`, `gender` и `income_type`."
   ]
  },
  {
   "cell_type": "code",
   "execution_count": 8,
   "id": "47a89339",
   "metadata": {},
   "outputs": [
    {
     "data": {
      "text/plain": [
       "array([-1,  0,  1,  2,  3,  4,  5, 20])"
      ]
     },
     "execution_count": 8,
     "metadata": {},
     "output_type": "execute_result"
    }
   ],
   "source": [
    "data['children'].sort_values().unique()  #выведем уникальные значения столбца `children`"
   ]
  },
  {
   "cell_type": "markdown",
   "id": "5257323e",
   "metadata": {},
   "source": [
    "Значения -1 и 20 являются аномальными для столбца `children`. Узнаем их количество и долю от общего количества значений в столбце."
   ]
  },
  {
   "cell_type": "code",
   "execution_count": 9,
   "id": "4997a413",
   "metadata": {},
   "outputs": [
    {
     "data": {
      "text/plain": [
       "children\n",
       "-1        47\n",
       " 0     14149\n",
       " 1      4818\n",
       " 2      2055\n",
       " 3       330\n",
       " 4        41\n",
       " 5         9\n",
       " 20       76\n",
       "Name: children, dtype: int64"
      ]
     },
     "execution_count": 9,
     "metadata": {},
     "output_type": "execute_result"
    }
   ],
   "source": [
    "data.groupby('children')['children'].count()  #группируем количество значений по каждому значению в столбце `children`"
   ]
  },
  {
   "cell_type": "code",
   "execution_count": 10,
   "id": "b8f151ff",
   "metadata": {},
   "outputs": [
    {
     "name": "stdout",
     "output_type": "stream",
     "text": [
      "Доля аномальных значений для столбца children: 0.6%\n"
     ]
    }
   ],
   "source": [
    "#находим долю от общего количества значений в столбце `children`\n",
    "print(f'Доля аномальных значений для столбца children: {(47 + 76) / 21525:.1%}')"
   ]
  },
  {
   "cell_type": "markdown",
   "id": "4d6246ed",
   "metadata": {},
   "source": [
    "Так как аномальных значений достаточно маленькое количество и нет возможности выяснить причину появления данных значений, предлагается удалить их из таблицы."
   ]
  },
  {
   "cell_type": "code",
   "execution_count": 11,
   "id": "7e867320",
   "metadata": {},
   "outputs": [
    {
     "data": {
      "text/plain": [
       "children\n",
       "0    14149\n",
       "1     4818\n",
       "2     2055\n",
       "3      330\n",
       "4       41\n",
       "5        9\n",
       "Name: children, dtype: int64"
      ]
     },
     "execution_count": 11,
     "metadata": {},
     "output_type": "execute_result"
    }
   ],
   "source": [
    "data = data.loc[(data['children'] != -1) & (data['children'] != 20)]  #удаляем из таблицы строки с аномальными значениями\n",
    "data.groupby('children')['children'].count()  #проверяем результат"
   ]
  },
  {
   "cell_type": "code",
   "execution_count": 12,
   "id": "4560f5f0",
   "metadata": {},
   "outputs": [
    {
     "data": {
      "text/plain": [
       "(21402, 12)"
      ]
     },
     "execution_count": 12,
     "metadata": {},
     "output_type": "execute_result"
    }
   ],
   "source": [
    "data.shape  #проверим новое количество строк"
   ]
  },
  {
   "cell_type": "code",
   "execution_count": 13,
   "id": "19af1d37",
   "metadata": {},
   "outputs": [
    {
     "data": {
      "text/plain": [
       "array([ 0, 19, 20, 21, 22, 23, 24, 25, 26, 27, 28, 29, 30, 31, 32, 33, 34,\n",
       "       35, 36, 37, 38, 39, 40, 41, 42, 43, 44, 45, 46, 47, 48, 49, 50, 51,\n",
       "       52, 53, 54, 55, 56, 57, 58, 59, 60, 61, 62, 63, 64, 65, 66, 67, 68,\n",
       "       69, 70, 71, 72, 73, 74, 75])"
      ]
     },
     "execution_count": 13,
     "metadata": {},
     "output_type": "execute_result"
    }
   ],
   "source": [
    "data['dob_years'].sort_values().unique()  #выведем уникальные значения столбца `dob_years`"
   ]
  },
  {
   "cell_type": "markdown",
   "id": "4fdf7744",
   "metadata": {},
   "source": [
    "Значение 0 является аномальным для столбца `dob_years`. Проверим количество и долю таких значений."
   ]
  },
  {
   "cell_type": "code",
   "execution_count": 14,
   "id": "33af1290",
   "metadata": {
    "scrolled": true,
    "tags": []
   },
   "outputs": [
    {
     "name": "stdout",
     "output_type": "stream",
     "text": [
      "Количество значений 0 в столбце dob_years: 100\n",
      "Доля значений 0 в столбце dob_years: 0.5%\n"
     ]
    }
   ],
   "source": [
    "dob_years_0 = len(data.loc[data['dob_years'] == 0])  #сохраним в переменную dob_years_0 все значения равные 0\n",
    "print(f'Количество значений 0 в столбце dob_years: {dob_years_0}')\n",
    "print(f'Доля значений 0 в столбце dob_years: {dob_years_0 / 21402:.1%}')"
   ]
  },
  {
   "cell_type": "markdown",
   "id": "bb41c98a",
   "metadata": {},
   "source": [
    "Так как доля аномальных значений незначительная и нет возможности выяснить причину появления данных значений, предлагается удалить их из таблицы."
   ]
  },
  {
   "cell_type": "code",
   "execution_count": 15,
   "id": "334e8321",
   "metadata": {},
   "outputs": [
    {
     "data": {
      "text/plain": [
       "array([19, 20, 21, 22, 23, 24, 25, 26, 27, 28, 29, 30, 31, 32, 33, 34, 35,\n",
       "       36, 37, 38, 39, 40, 41, 42, 43, 44, 45, 46, 47, 48, 49, 50, 51, 52,\n",
       "       53, 54, 55, 56, 57, 58, 59, 60, 61, 62, 63, 64, 65, 66, 67, 68, 69,\n",
       "       70, 71, 72, 73, 74, 75])"
      ]
     },
     "execution_count": 15,
     "metadata": {},
     "output_type": "execute_result"
    }
   ],
   "source": [
    "data = data.loc[data['dob_years'] != 0]  #удаляем из таблицы строки с аномальными значениями\n",
    "data['dob_years'].sort_values().unique()  #проверяем уникальные значения столбца `dob_years`"
   ]
  },
  {
   "cell_type": "code",
   "execution_count": 16,
   "id": "94efb700",
   "metadata": {},
   "outputs": [
    {
     "data": {
      "text/plain": [
       "(21302, 12)"
      ]
     },
     "execution_count": 16,
     "metadata": {},
     "output_type": "execute_result"
    }
   ],
   "source": [
    "data.shape  #проверим новое количество строк"
   ]
  },
  {
   "cell_type": "code",
   "execution_count": 17,
   "id": "fcd259f5",
   "metadata": {
    "scrolled": true
   },
   "outputs": [
    {
     "data": {
      "text/plain": [
       "array(['ВЫСШЕЕ', 'Высшее', 'НАЧАЛЬНОЕ', 'НЕОКОНЧЕННОЕ ВЫСШЕЕ',\n",
       "       'Начальное', 'Неоконченное высшее', 'СРЕДНЕЕ', 'Среднее',\n",
       "       'УЧЕНАЯ СТЕПЕНЬ', 'Ученая степень', 'высшее', 'начальное',\n",
       "       'неоконченное высшее', 'среднее', 'ученая степень'], dtype=object)"
      ]
     },
     "execution_count": 17,
     "metadata": {},
     "output_type": "execute_result"
    }
   ],
   "source": [
    "data['education'].sort_values().unique()  #выведем уникальные значения столбца `education`"
   ]
  },
  {
   "cell_type": "markdown",
   "id": "263c0325",
   "metadata": {},
   "source": [
    "Аномальных значений не обнаружено, но имеются дубликаты, записанные разными регистрами. Обработаем их на этапе работы с дубликатами."
   ]
  },
  {
   "cell_type": "code",
   "execution_count": 18,
   "id": "2c967fbe",
   "metadata": {
    "scrolled": true
   },
   "outputs": [
    {
     "data": {
      "text/plain": [
       "array(['Не женат / не замужем', 'в разводе', 'вдовец / вдова',\n",
       "       'гражданский брак', 'женат / замужем'], dtype=object)"
      ]
     },
     "execution_count": 18,
     "metadata": {},
     "output_type": "execute_result"
    }
   ],
   "source": [
    "data['family_status'].sort_values().unique()  #выведем уникальные значения столбца `family_status`"
   ]
  },
  {
   "cell_type": "markdown",
   "id": "59a67fda",
   "metadata": {},
   "source": [
    "Аномальных значений не обнаружено"
   ]
  },
  {
   "cell_type": "code",
   "execution_count": 19,
   "id": "fb5213c7",
   "metadata": {},
   "outputs": [
    {
     "data": {
      "text/plain": [
       "array(['F', 'M', 'XNA'], dtype=object)"
      ]
     },
     "execution_count": 19,
     "metadata": {},
     "output_type": "execute_result"
    }
   ],
   "source": [
    "data['gender'].sort_values().unique()  #выведем уникальные значения столбца `gender`"
   ]
  },
  {
   "cell_type": "markdown",
   "id": "331794f2",
   "metadata": {},
   "source": [
    "Значение XNA является аномальным для столбца `gender`. Проверим количество и долю таких значений."
   ]
  },
  {
   "cell_type": "code",
   "execution_count": 20,
   "id": "418e07c2",
   "metadata": {
    "scrolled": true
   },
   "outputs": [
    {
     "name": "stdout",
     "output_type": "stream",
     "text": [
      "Количество значений XNA в столбце gender: 1\n",
      "Доля значений XNA в столбце gender: 0.00%\n"
     ]
    }
   ],
   "source": [
    "gender_XNA = len(data.loc[data['gender'] == 'XNA'])  #сохраним в переменную gender_XNA все значения равные XNA\n",
    "print(f'Количество значений XNA в столбце gender: {gender_XNA}')\n",
    "print(f'Доля значений XNA в столбце gender: {gender_XNA / 21302:.2%}')"
   ]
  },
  {
   "cell_type": "markdown",
   "id": "fa81799b",
   "metadata": {},
   "source": [
    "Так как доля аномальных значений незначительная и нет возможности выяснить причину появления данных значений, предлагается удалить их из таблицы."
   ]
  },
  {
   "cell_type": "code",
   "execution_count": 21,
   "id": "9808689e",
   "metadata": {},
   "outputs": [
    {
     "data": {
      "text/plain": [
       "array(['F', 'M'], dtype=object)"
      ]
     },
     "execution_count": 21,
     "metadata": {},
     "output_type": "execute_result"
    }
   ],
   "source": [
    "data = data.loc[data['gender'] != 'XNA']  #удаляем из таблицы строки с аномальными значениями\n",
    "data['gender'].sort_values().unique()  #проверяем уникальные значения столбца `dob_years`"
   ]
  },
  {
   "cell_type": "code",
   "execution_count": 22,
   "id": "de316cb8",
   "metadata": {},
   "outputs": [
    {
     "data": {
      "text/plain": [
       "(21301, 12)"
      ]
     },
     "execution_count": 22,
     "metadata": {},
     "output_type": "execute_result"
    }
   ],
   "source": [
    "data.shape  #проверим новое количество строк"
   ]
  },
  {
   "cell_type": "code",
   "execution_count": 23,
   "id": "ce2d93c5",
   "metadata": {},
   "outputs": [
    {
     "data": {
      "text/plain": [
       "array(['безработный', 'в декрете', 'госслужащий', 'компаньон',\n",
       "       'пенсионер', 'предприниматель', 'сотрудник', 'студент'],\n",
       "      dtype=object)"
      ]
     },
     "execution_count": 23,
     "metadata": {},
     "output_type": "execute_result"
    }
   ],
   "source": [
    "data['income_type'].sort_values().unique()  #выведем уникальные значения столбца `income_type`"
   ]
  },
  {
   "cell_type": "markdown",
   "id": "dbcf7d09",
   "metadata": {},
   "source": [
    "Аномальных значений не обнаружено"
   ]
  },
  {
   "cell_type": "code",
   "execution_count": 24,
   "id": "40a44909",
   "metadata": {
    "scrolled": true
   },
   "outputs": [
    {
     "data": {
      "text/html": [
       "<div>\n",
       "<style scoped>\n",
       "    .dataframe tbody tr th:only-of-type {\n",
       "        vertical-align: middle;\n",
       "    }\n",
       "\n",
       "    .dataframe tbody tr th {\n",
       "        vertical-align: top;\n",
       "    }\n",
       "\n",
       "    .dataframe thead th {\n",
       "        text-align: right;\n",
       "    }\n",
       "</style>\n",
       "<table border=\"1\" class=\"dataframe\">\n",
       "  <thead>\n",
       "    <tr style=\"text-align: right;\">\n",
       "      <th></th>\n",
       "      <th>children</th>\n",
       "      <th>days_employed</th>\n",
       "      <th>dob_years</th>\n",
       "      <th>education</th>\n",
       "      <th>education_id</th>\n",
       "      <th>family_status</th>\n",
       "      <th>family_status_id</th>\n",
       "      <th>gender</th>\n",
       "      <th>income_type</th>\n",
       "      <th>debt</th>\n",
       "      <th>total_income</th>\n",
       "      <th>purpose</th>\n",
       "    </tr>\n",
       "  </thead>\n",
       "  <tbody>\n",
       "    <tr>\n",
       "      <th>0</th>\n",
       "      <td>1</td>\n",
       "      <td>8437.673028</td>\n",
       "      <td>42</td>\n",
       "      <td>высшее</td>\n",
       "      <td>0</td>\n",
       "      <td>женат / замужем</td>\n",
       "      <td>0</td>\n",
       "      <td>F</td>\n",
       "      <td>сотрудник</td>\n",
       "      <td>0</td>\n",
       "      <td>253875.639453</td>\n",
       "      <td>покупка жилья</td>\n",
       "    </tr>\n",
       "    <tr>\n",
       "      <th>1</th>\n",
       "      <td>1</td>\n",
       "      <td>4024.803754</td>\n",
       "      <td>36</td>\n",
       "      <td>среднее</td>\n",
       "      <td>1</td>\n",
       "      <td>женат / замужем</td>\n",
       "      <td>0</td>\n",
       "      <td>F</td>\n",
       "      <td>сотрудник</td>\n",
       "      <td>0</td>\n",
       "      <td>112080.014102</td>\n",
       "      <td>приобретение автомобиля</td>\n",
       "    </tr>\n",
       "    <tr>\n",
       "      <th>2</th>\n",
       "      <td>0</td>\n",
       "      <td>5623.422610</td>\n",
       "      <td>33</td>\n",
       "      <td>Среднее</td>\n",
       "      <td>1</td>\n",
       "      <td>женат / замужем</td>\n",
       "      <td>0</td>\n",
       "      <td>M</td>\n",
       "      <td>сотрудник</td>\n",
       "      <td>0</td>\n",
       "      <td>145885.952297</td>\n",
       "      <td>покупка жилья</td>\n",
       "    </tr>\n",
       "    <tr>\n",
       "      <th>3</th>\n",
       "      <td>3</td>\n",
       "      <td>4124.747207</td>\n",
       "      <td>32</td>\n",
       "      <td>среднее</td>\n",
       "      <td>1</td>\n",
       "      <td>женат / замужем</td>\n",
       "      <td>0</td>\n",
       "      <td>M</td>\n",
       "      <td>сотрудник</td>\n",
       "      <td>0</td>\n",
       "      <td>267628.550329</td>\n",
       "      <td>дополнительное образование</td>\n",
       "    </tr>\n",
       "    <tr>\n",
       "      <th>4</th>\n",
       "      <td>0</td>\n",
       "      <td>14177.753002</td>\n",
       "      <td>53</td>\n",
       "      <td>среднее</td>\n",
       "      <td>1</td>\n",
       "      <td>гражданский брак</td>\n",
       "      <td>1</td>\n",
       "      <td>F</td>\n",
       "      <td>пенсионер</td>\n",
       "      <td>0</td>\n",
       "      <td>158616.077870</td>\n",
       "      <td>сыграть свадьбу</td>\n",
       "    </tr>\n",
       "  </tbody>\n",
       "</table>\n",
       "</div>"
      ],
      "text/plain": [
       "   children  days_employed  dob_years education  education_id  \\\n",
       "0         1    8437.673028         42    высшее             0   \n",
       "1         1    4024.803754         36   среднее             1   \n",
       "2         0    5623.422610         33   Среднее             1   \n",
       "3         3    4124.747207         32   среднее             1   \n",
       "4         0   14177.753002         53   среднее             1   \n",
       "\n",
       "      family_status  family_status_id gender income_type  debt   total_income  \\\n",
       "0   женат / замужем                 0      F   сотрудник     0  253875.639453   \n",
       "1   женат / замужем                 0      F   сотрудник     0  112080.014102   \n",
       "2   женат / замужем                 0      M   сотрудник     0  145885.952297   \n",
       "3   женат / замужем                 0      M   сотрудник     0  267628.550329   \n",
       "4  гражданский брак                 1      F   пенсионер     0  158616.077870   \n",
       "\n",
       "                      purpose  \n",
       "0               покупка жилья  \n",
       "1     приобретение автомобиля  \n",
       "2               покупка жилья  \n",
       "3  дополнительное образование  \n",
       "4             сыграть свадьбу  "
      ]
     },
     "execution_count": 24,
     "metadata": {},
     "output_type": "execute_result"
    }
   ],
   "source": [
    "data = data.reset_index(drop=True) #удалим старые индексы и сформируем новые\n",
    "data.head()  #проверим новые индексы"
   ]
  },
  {
   "cell_type": "markdown",
   "id": "a136192e",
   "metadata": {},
   "source": [
    "**Выводы**\n",
    "\n",
    "На данном этапе мы проверили столбцы таблицы на наличие артефактов. Некорректные значения были обнаружены в столбцах `days_employed`, `children`, `dob_years` и `gender`. \n",
    "* В столбце `days_employed` исправили отрицательные значения на положительные, а также перевели значения из часов в дни. \n",
    "* В столбце `children` удалили строки с некорректными значениями -1 и 20. \n",
    "* В столбце `dob_years` удалили строки с некорректным значением 0. \n",
    "* И в столбце `gender` удалили строку с некорректным значением XNA. \n",
    "* Также в столбце `education` обнаружены дубликаты - значения написаны в разных регистрах. Обработаем их на шаге с удалением дубликатов."
   ]
  },
  {
   "cell_type": "markdown",
   "id": "43c35a78",
   "metadata": {},
   "source": [
    "### Заполнение пропусков"
   ]
  },
  {
   "cell_type": "markdown",
   "id": "7048985a",
   "metadata": {},
   "source": [
    "Пропущенные значения присутствуют в столбцах `days_employed` и `total_income`. Проверим количество таких значений и что это за значения."
   ]
  },
  {
   "cell_type": "code",
   "execution_count": 25,
   "id": "c522bafd",
   "metadata": {
    "scrolled": true
   },
   "outputs": [
    {
     "data": {
      "text/plain": [
       "children            0.000000\n",
       "days_employed       0.101028\n",
       "dob_years           0.000000\n",
       "education           0.000000\n",
       "education_id        0.000000\n",
       "family_status       0.000000\n",
       "family_status_id    0.000000\n",
       "gender              0.000000\n",
       "income_type         0.000000\n",
       "debt                0.000000\n",
       "total_income        0.101028\n",
       "purpose             0.000000\n",
       "dtype: float64"
      ]
     },
     "execution_count": 25,
     "metadata": {},
     "output_type": "execute_result"
    }
   ],
   "source": [
    "data.isna().mean() #информация о доле пропущенных значений в каждом из столбцов таблицы"
   ]
  },
  {
   "cell_type": "code",
   "execution_count": 26,
   "id": "16f87e4e",
   "metadata": {
    "scrolled": true
   },
   "outputs": [
    {
     "data": {
      "text/html": [
       "<div>\n",
       "<style scoped>\n",
       "    .dataframe tbody tr th:only-of-type {\n",
       "        vertical-align: middle;\n",
       "    }\n",
       "\n",
       "    .dataframe tbody tr th {\n",
       "        vertical-align: top;\n",
       "    }\n",
       "\n",
       "    .dataframe thead th {\n",
       "        text-align: right;\n",
       "    }\n",
       "</style>\n",
       "<table border=\"1\" class=\"dataframe\">\n",
       "  <thead>\n",
       "    <tr style=\"text-align: right;\">\n",
       "      <th></th>\n",
       "      <th>children</th>\n",
       "      <th>days_employed</th>\n",
       "      <th>dob_years</th>\n",
       "      <th>education</th>\n",
       "      <th>education_id</th>\n",
       "      <th>family_status</th>\n",
       "      <th>family_status_id</th>\n",
       "      <th>gender</th>\n",
       "      <th>income_type</th>\n",
       "      <th>debt</th>\n",
       "      <th>total_income</th>\n",
       "      <th>purpose</th>\n",
       "    </tr>\n",
       "  </thead>\n",
       "  <tbody>\n",
       "    <tr>\n",
       "      <th>12</th>\n",
       "      <td>0</td>\n",
       "      <td>NaN</td>\n",
       "      <td>65</td>\n",
       "      <td>среднее</td>\n",
       "      <td>1</td>\n",
       "      <td>гражданский брак</td>\n",
       "      <td>1</td>\n",
       "      <td>M</td>\n",
       "      <td>пенсионер</td>\n",
       "      <td>0</td>\n",
       "      <td>NaN</td>\n",
       "      <td>сыграть свадьбу</td>\n",
       "    </tr>\n",
       "    <tr>\n",
       "      <th>26</th>\n",
       "      <td>0</td>\n",
       "      <td>NaN</td>\n",
       "      <td>41</td>\n",
       "      <td>среднее</td>\n",
       "      <td>1</td>\n",
       "      <td>женат / замужем</td>\n",
       "      <td>0</td>\n",
       "      <td>M</td>\n",
       "      <td>госслужащий</td>\n",
       "      <td>0</td>\n",
       "      <td>NaN</td>\n",
       "      <td>образование</td>\n",
       "    </tr>\n",
       "    <tr>\n",
       "      <th>29</th>\n",
       "      <td>0</td>\n",
       "      <td>NaN</td>\n",
       "      <td>63</td>\n",
       "      <td>среднее</td>\n",
       "      <td>1</td>\n",
       "      <td>Не женат / не замужем</td>\n",
       "      <td>4</td>\n",
       "      <td>F</td>\n",
       "      <td>пенсионер</td>\n",
       "      <td>0</td>\n",
       "      <td>NaN</td>\n",
       "      <td>строительство жилой недвижимости</td>\n",
       "    </tr>\n",
       "    <tr>\n",
       "      <th>41</th>\n",
       "      <td>0</td>\n",
       "      <td>NaN</td>\n",
       "      <td>50</td>\n",
       "      <td>среднее</td>\n",
       "      <td>1</td>\n",
       "      <td>женат / замужем</td>\n",
       "      <td>0</td>\n",
       "      <td>F</td>\n",
       "      <td>госслужащий</td>\n",
       "      <td>0</td>\n",
       "      <td>NaN</td>\n",
       "      <td>сделка с подержанным автомобилем</td>\n",
       "    </tr>\n",
       "    <tr>\n",
       "      <th>55</th>\n",
       "      <td>0</td>\n",
       "      <td>NaN</td>\n",
       "      <td>54</td>\n",
       "      <td>среднее</td>\n",
       "      <td>1</td>\n",
       "      <td>гражданский брак</td>\n",
       "      <td>1</td>\n",
       "      <td>F</td>\n",
       "      <td>пенсионер</td>\n",
       "      <td>1</td>\n",
       "      <td>NaN</td>\n",
       "      <td>сыграть свадьбу</td>\n",
       "    </tr>\n",
       "  </tbody>\n",
       "</table>\n",
       "</div>"
      ],
      "text/plain": [
       "    children  days_employed  dob_years education  education_id  \\\n",
       "12         0            NaN         65   среднее             1   \n",
       "26         0            NaN         41   среднее             1   \n",
       "29         0            NaN         63   среднее             1   \n",
       "41         0            NaN         50   среднее             1   \n",
       "55         0            NaN         54   среднее             1   \n",
       "\n",
       "            family_status  family_status_id gender  income_type  debt  \\\n",
       "12       гражданский брак                 1      M    пенсионер     0   \n",
       "26        женат / замужем                 0      M  госслужащий     0   \n",
       "29  Не женат / не замужем                 4      F    пенсионер     0   \n",
       "41        женат / замужем                 0      F  госслужащий     0   \n",
       "55       гражданский брак                 1      F    пенсионер     1   \n",
       "\n",
       "    total_income                           purpose  \n",
       "12           NaN                   сыграть свадьбу  \n",
       "26           NaN                       образование  \n",
       "29           NaN  строительство жилой недвижимости  \n",
       "41           NaN  сделка с подержанным автомобилем  \n",
       "55           NaN                   сыграть свадьбу  "
      ]
     },
     "metadata": {},
     "output_type": "display_data"
    }
   ],
   "source": [
    "display(data[data['days_employed'].isna()].head()) #информация о пропущенных значениях в столбце `days_employed`"
   ]
  },
  {
   "cell_type": "code",
   "execution_count": 27,
   "id": "0e077c5b",
   "metadata": {
    "scrolled": true
   },
   "outputs": [
    {
     "data": {
      "text/html": [
       "<div>\n",
       "<style scoped>\n",
       "    .dataframe tbody tr th:only-of-type {\n",
       "        vertical-align: middle;\n",
       "    }\n",
       "\n",
       "    .dataframe tbody tr th {\n",
       "        vertical-align: top;\n",
       "    }\n",
       "\n",
       "    .dataframe thead th {\n",
       "        text-align: right;\n",
       "    }\n",
       "</style>\n",
       "<table border=\"1\" class=\"dataframe\">\n",
       "  <thead>\n",
       "    <tr style=\"text-align: right;\">\n",
       "      <th></th>\n",
       "      <th>children</th>\n",
       "      <th>days_employed</th>\n",
       "      <th>dob_years</th>\n",
       "      <th>education</th>\n",
       "      <th>education_id</th>\n",
       "      <th>family_status</th>\n",
       "      <th>family_status_id</th>\n",
       "      <th>gender</th>\n",
       "      <th>income_type</th>\n",
       "      <th>debt</th>\n",
       "      <th>total_income</th>\n",
       "      <th>purpose</th>\n",
       "    </tr>\n",
       "  </thead>\n",
       "  <tbody>\n",
       "    <tr>\n",
       "      <th>12</th>\n",
       "      <td>0</td>\n",
       "      <td>NaN</td>\n",
       "      <td>65</td>\n",
       "      <td>среднее</td>\n",
       "      <td>1</td>\n",
       "      <td>гражданский брак</td>\n",
       "      <td>1</td>\n",
       "      <td>M</td>\n",
       "      <td>пенсионер</td>\n",
       "      <td>0</td>\n",
       "      <td>NaN</td>\n",
       "      <td>сыграть свадьбу</td>\n",
       "    </tr>\n",
       "    <tr>\n",
       "      <th>26</th>\n",
       "      <td>0</td>\n",
       "      <td>NaN</td>\n",
       "      <td>41</td>\n",
       "      <td>среднее</td>\n",
       "      <td>1</td>\n",
       "      <td>женат / замужем</td>\n",
       "      <td>0</td>\n",
       "      <td>M</td>\n",
       "      <td>госслужащий</td>\n",
       "      <td>0</td>\n",
       "      <td>NaN</td>\n",
       "      <td>образование</td>\n",
       "    </tr>\n",
       "    <tr>\n",
       "      <th>29</th>\n",
       "      <td>0</td>\n",
       "      <td>NaN</td>\n",
       "      <td>63</td>\n",
       "      <td>среднее</td>\n",
       "      <td>1</td>\n",
       "      <td>Не женат / не замужем</td>\n",
       "      <td>4</td>\n",
       "      <td>F</td>\n",
       "      <td>пенсионер</td>\n",
       "      <td>0</td>\n",
       "      <td>NaN</td>\n",
       "      <td>строительство жилой недвижимости</td>\n",
       "    </tr>\n",
       "    <tr>\n",
       "      <th>41</th>\n",
       "      <td>0</td>\n",
       "      <td>NaN</td>\n",
       "      <td>50</td>\n",
       "      <td>среднее</td>\n",
       "      <td>1</td>\n",
       "      <td>женат / замужем</td>\n",
       "      <td>0</td>\n",
       "      <td>F</td>\n",
       "      <td>госслужащий</td>\n",
       "      <td>0</td>\n",
       "      <td>NaN</td>\n",
       "      <td>сделка с подержанным автомобилем</td>\n",
       "    </tr>\n",
       "    <tr>\n",
       "      <th>55</th>\n",
       "      <td>0</td>\n",
       "      <td>NaN</td>\n",
       "      <td>54</td>\n",
       "      <td>среднее</td>\n",
       "      <td>1</td>\n",
       "      <td>гражданский брак</td>\n",
       "      <td>1</td>\n",
       "      <td>F</td>\n",
       "      <td>пенсионер</td>\n",
       "      <td>1</td>\n",
       "      <td>NaN</td>\n",
       "      <td>сыграть свадьбу</td>\n",
       "    </tr>\n",
       "  </tbody>\n",
       "</table>\n",
       "</div>"
      ],
      "text/plain": [
       "    children  days_employed  dob_years education  education_id  \\\n",
       "12         0            NaN         65   среднее             1   \n",
       "26         0            NaN         41   среднее             1   \n",
       "29         0            NaN         63   среднее             1   \n",
       "41         0            NaN         50   среднее             1   \n",
       "55         0            NaN         54   среднее             1   \n",
       "\n",
       "            family_status  family_status_id gender  income_type  debt  \\\n",
       "12       гражданский брак                 1      M    пенсионер     0   \n",
       "26        женат / замужем                 0      M  госслужащий     0   \n",
       "29  Не женат / не замужем                 4      F    пенсионер     0   \n",
       "41        женат / замужем                 0      F  госслужащий     0   \n",
       "55       гражданский брак                 1      F    пенсионер     1   \n",
       "\n",
       "    total_income                           purpose  \n",
       "12           NaN                   сыграть свадьбу  \n",
       "26           NaN                       образование  \n",
       "29           NaN  строительство жилой недвижимости  \n",
       "41           NaN  сделка с подержанным автомобилем  \n",
       "55           NaN                   сыграть свадьбу  "
      ]
     },
     "metadata": {},
     "output_type": "display_data"
    }
   ],
   "source": [
    "display(data[data['total_income'].isna()].head()) #информация о пропущенных значениях в столбце `total_income`"
   ]
  },
  {
   "cell_type": "markdown",
   "id": "6becf8e3",
   "metadata": {},
   "source": [
    "Пропуски в данных могли появится либо из-за ошибки выгрузки данных, либо по причине того, что клиенты не захотели указывать свой стаж и уровень дохода. На будущее необходимо проверить корректность выгрузки данных, а также проверить работу скрипта заполнения и обработки данных клиентов и не принимать заполненную заявку с пропущенной информацией о стаже и уровне доходов.\n",
    "\n",
    "Принимая во внимание то, что данные показатели являются колличественными и их доля в таблице состовляет около 10%, а сроки исследования являются сжатыми, предлагается заполнить пустые значения медианным значением по столбцу `days_employed`, а по столбцу `total_income` медианой, взятой по типам занятости клиентов.\n",
    "\n",
    "Заполяем медианными значениями, а не средним в данном случае, так как разброс значений в столбцах может быть довольно большим."
   ]
  },
  {
   "cell_type": "code",
   "execution_count": 28,
   "id": "f6d954a4",
   "metadata": {},
   "outputs": [],
   "source": [
    "#заполняем пропущенные значения в столбце `days_employed` медианным значением\n",
    "data['days_employed'] = data['days_employed'].fillna(data['days_employed'].median())"
   ]
  },
  {
   "cell_type": "code",
   "execution_count": 29,
   "id": "939f0e9a",
   "metadata": {},
   "outputs": [
    {
     "data": {
      "text/plain": [
       "145017.93753253992"
      ]
     },
     "execution_count": 29,
     "metadata": {},
     "output_type": "execute_result"
    }
   ],
   "source": [
    "data['total_income'].median() #посчитаем медиану по столбцу `total_income`"
   ]
  },
  {
   "cell_type": "code",
   "execution_count": 30,
   "id": "e9675a49",
   "metadata": {
    "scrolled": true
   },
   "outputs": [
    {
     "data": {
      "text/plain": [
       "income_type\n",
       "безработный        131339.751676\n",
       "в декрете           53829.130729\n",
       "госслужащий        150475.720290\n",
       "компаньон          172466.509253\n",
       "пенсионер          118497.661910\n",
       "предприниматель    499163.144947\n",
       "сотрудник          142594.396847\n",
       "студент             98201.625314\n",
       "Name: total_income, dtype: float64"
      ]
     },
     "execution_count": 30,
     "metadata": {},
     "output_type": "execute_result"
    }
   ],
   "source": [
    "data.groupby('income_type')['total_income'].agg('median')  #теперь проверим медиану по каждой типу занятости отдельно"
   ]
  },
  {
   "cell_type": "markdown",
   "id": "b9d76f0a",
   "metadata": {},
   "source": [
    "Как и ожидалось разброс значений медиан по разным типам занятости достаточно большой, поэтому заменим пустые значения медианами по каждому из типов занятости."
   ]
  },
  {
   "cell_type": "code",
   "execution_count": 31,
   "id": "507c1a0e",
   "metadata": {},
   "outputs": [],
   "source": [
    "#для заполнения медианой `total_income` в зависимоти от `income_type` записываем в отдельные переменные значения\n",
    "m1 = (data['income_type'] == 'безработный')  \n",
    "m2 = (data['income_type'] == 'в декрете')\n",
    "m3 = (data['income_type'] == 'госслужащий')\n",
    "m4 = (data['income_type'] == 'компаньон')\n",
    "m5 = (data['income_type'] == 'пенсионер')\n",
    "m6 = (data['income_type'] == 'предприниматель')\n",
    "m7 = (data['income_type'] == 'сотрудник')\n",
    "m8 = (data['income_type'] == 'студент')"
   ]
  },
  {
   "cell_type": "code",
   "execution_count": 32,
   "id": "0df1a3c5",
   "metadata": {},
   "outputs": [],
   "source": [
    "#заполняем пропущенные значения в столбце `total_income` медианным значением в зависимости от типа занятости\n",
    "data.loc[m1,'total_income'] = data.loc[m1,'total_income'].fillna(131339.751676)\n",
    "data.loc[m2,'total_income'] = data.loc[m2,'total_income'].fillna(53829.130729)\n",
    "data.loc[m3,'total_income'] = data.loc[m3,'total_income'].fillna(150475.720290)\n",
    "data.loc[m4,'total_income'] = data.loc[m4,'total_income'].fillna(172466.509253)\n",
    "data.loc[m5,'total_income'] = data.loc[m5,'total_income'].fillna(118497.661910)\n",
    "data.loc[m6,'total_income'] = data.loc[m6,'total_income'].fillna(499163.144947)\n",
    "data.loc[m7,'total_income'] = data.loc[m7,'total_income'].fillna(142594.396847)\n",
    "data.loc[m8,'total_income'] = data.loc[m8,'total_income'].fillna(98201.625314)"
   ]
  },
  {
   "cell_type": "code",
   "execution_count": 33,
   "id": "df2b29ce",
   "metadata": {},
   "outputs": [
    {
     "data": {
      "text/plain": [
       "children            0\n",
       "days_employed       0\n",
       "dob_years           0\n",
       "education           0\n",
       "education_id        0\n",
       "family_status       0\n",
       "family_status_id    0\n",
       "gender              0\n",
       "income_type         0\n",
       "debt                0\n",
       "total_income        0\n",
       "purpose             0\n",
       "dtype: int64"
      ]
     },
     "execution_count": 33,
     "metadata": {},
     "output_type": "execute_result"
    }
   ],
   "source": [
    "data.isna().sum() #проверим, что пропущенных значений не осталось"
   ]
  },
  {
   "cell_type": "markdown",
   "id": "62e0fa9b",
   "metadata": {},
   "source": [
    "**Выводы**\n",
    "\n",
    "На данном этапе мы обработали пропущенные значения, которые были обнаружены в столбцах `days_employed` и `total_income`.\n",
    "Доля пропущенных значений в данных порядка 10% по каждому столбцу, что является значительной частью таблицы и может повлиять на выводы в проверке гипотез, а значит не подлежит удалению. Пропущенные значения были заменены на медианные, так как значения в каждом из столбцов достаточно сильно отличаются друг от друга."
   ]
  },
  {
   "cell_type": "markdown",
   "id": "772471b2",
   "metadata": {},
   "source": [
    "### Изменение типов данных."
   ]
  },
  {
   "cell_type": "markdown",
   "id": "f05a12bc",
   "metadata": {},
   "source": [
    "Значения в столбцах `days_employed` и `total_income` представлены в типе float, однако данные будут гораздо читабельнее, если они будут представлены в типе int. "
   ]
  },
  {
   "cell_type": "code",
   "execution_count": 34,
   "id": "e0192fb6",
   "metadata": {},
   "outputs": [
    {
     "name": "stdout",
     "output_type": "stream",
     "text": [
      "<class 'pandas.core.frame.DataFrame'>\n",
      "RangeIndex: 21301 entries, 0 to 21300\n",
      "Data columns (total 12 columns):\n",
      " #   Column            Non-Null Count  Dtype \n",
      "---  ------            --------------  ----- \n",
      " 0   children          21301 non-null  int64 \n",
      " 1   days_employed     21301 non-null  int64 \n",
      " 2   dob_years         21301 non-null  int64 \n",
      " 3   education         21301 non-null  object\n",
      " 4   education_id      21301 non-null  int64 \n",
      " 5   family_status     21301 non-null  object\n",
      " 6   family_status_id  21301 non-null  int64 \n",
      " 7   gender            21301 non-null  object\n",
      " 8   income_type       21301 non-null  object\n",
      " 9   debt              21301 non-null  int64 \n",
      " 10  total_income      21301 non-null  int64 \n",
      " 11  purpose           21301 non-null  object\n",
      "dtypes: int64(7), object(5)\n",
      "memory usage: 2.0+ MB\n"
     ]
    }
   ],
   "source": [
    "data['days_employed'] = data['days_employed'].astype('int')  #поменяем тип данных в столбце `days_employed` на int\n",
    "data['total_income'] = data['total_income'].astype('int')  #поменяем тип данных в столбце `total_income` на int\n",
    "data.info()  #проверим, что тип данных изменился"
   ]
  },
  {
   "cell_type": "markdown",
   "id": "43cbc705",
   "metadata": {},
   "source": [
    "**Выводы**\n",
    "\n",
    "На данном этапе мы изменили тип данных в столбцах `days_employed` и `total_income` на целочисленный для улучшения наглядности данных и удобства работы."
   ]
  },
  {
   "cell_type": "markdown",
   "id": "a93f4827",
   "metadata": {},
   "source": [
    "### Удаление дубликатов."
   ]
  },
  {
   "cell_type": "markdown",
   "id": "dac10f19",
   "metadata": {},
   "source": [
    "На этапе проверки наличия артефактов в данных мы обнаружили, что в столбце `education` есть одни и те же значения, но записанные по-разному: с использованием заглавных и строчных букв. Скорее всего это произошло из-за воможности ручного заполнения графы образование при подаче заявки на кредит. На будущее стоит рекомендовать зафиксировать список возможных значений и давать клиентам выбирать значение из списка. Приведём их к одному регистру."
   ]
  },
  {
   "cell_type": "code",
   "execution_count": 35,
   "id": "0859543d",
   "metadata": {},
   "outputs": [
    {
     "data": {
      "text/plain": [
       "array(['ВЫСШЕЕ', 'Высшее', 'НАЧАЛЬНОЕ', 'НЕОКОНЧЕННОЕ ВЫСШЕЕ',\n",
       "       'Начальное', 'Неоконченное высшее', 'СРЕДНЕЕ', 'Среднее',\n",
       "       'УЧЕНАЯ СТЕПЕНЬ', 'Ученая степень', 'высшее', 'начальное',\n",
       "       'неоконченное высшее', 'среднее', 'ученая степень'], dtype=object)"
      ]
     },
     "execution_count": 35,
     "metadata": {},
     "output_type": "execute_result"
    }
   ],
   "source": [
    "data['education'].sort_values().unique()  #выведем уникальные значения столбца `education`"
   ]
  },
  {
   "cell_type": "code",
   "execution_count": 36,
   "id": "af65b922",
   "metadata": {
    "scrolled": true
   },
   "outputs": [
    {
     "data": {
      "text/plain": [
       "array(['высшее', 'начальное', 'неоконченное высшее', 'среднее',\n",
       "       'ученая степень'], dtype=object)"
      ]
     },
     "execution_count": 36,
     "metadata": {},
     "output_type": "execute_result"
    }
   ],
   "source": [
    "data['education'] = data['education'].str.lower()  #приводим все значения столбца `education` к нижнему регистру\n",
    "data['education'].sort_values().unique()  #проверяем изменения"
   ]
  },
  {
   "cell_type": "markdown",
   "id": "0300a11b",
   "metadata": {},
   "source": [
    "Проверим значения в столбце `purpose` на наличие неявных дубликатов."
   ]
  },
  {
   "cell_type": "code",
   "execution_count": 37,
   "id": "169920dd",
   "metadata": {
    "scrolled": true
   },
   "outputs": [
    {
     "data": {
      "text/plain": [
       "array(['автомобили', 'автомобиль', 'высшее образование',\n",
       "       'дополнительное образование', 'жилье',\n",
       "       'заняться высшим образованием', 'заняться образованием',\n",
       "       'на покупку автомобиля', 'на покупку подержанного автомобиля',\n",
       "       'на покупку своего автомобиля', 'на проведение свадьбы',\n",
       "       'недвижимость', 'образование', 'операции с жильем',\n",
       "       'операции с коммерческой недвижимостью',\n",
       "       'операции с недвижимостью', 'операции со своей недвижимостью',\n",
       "       'покупка жилой недвижимости', 'покупка жилья',\n",
       "       'покупка жилья для сдачи', 'покупка жилья для семьи',\n",
       "       'покупка коммерческой недвижимости', 'покупка недвижимости',\n",
       "       'покупка своего жилья', 'получение высшего образования',\n",
       "       'получение дополнительного образования', 'получение образования',\n",
       "       'приобретение автомобиля', 'профильное образование',\n",
       "       'ремонт жилью', 'свадьба', 'свой автомобиль',\n",
       "       'сделка с автомобилем', 'сделка с подержанным автомобилем',\n",
       "       'строительство жилой недвижимости', 'строительство недвижимости',\n",
       "       'строительство собственной недвижимости', 'сыграть свадьбу'],\n",
       "      dtype=object)"
      ]
     },
     "execution_count": 37,
     "metadata": {},
     "output_type": "execute_result"
    }
   ],
   "source": [
    "data['purpose'].sort_values().unique()  #выведем список уникальных значений столбца `purpose`"
   ]
  },
  {
   "cell_type": "markdown",
   "id": "3ad6f4e4",
   "metadata": {},
   "source": [
    "Многие значения по смыслу дублируют друг друга. Скорее всего это произошло из-за воможности ручного заполнения графы цель кредита при подаче заявки на кредит. На будущее стоит рекомендовать зафиксировать список возможных значений и давать клиентам выбирать значение из списка. Для текущей задачи предлагается объединить одинаковые по смыслу значения в более широкие категории. Данная задача будет выполнена на этапе категоризации данных."
   ]
  },
  {
   "cell_type": "markdown",
   "id": "33878423",
   "metadata": {},
   "source": [
    "Проверим файл на наличие явных дубликатов."
   ]
  },
  {
   "cell_type": "code",
   "execution_count": 38,
   "id": "1628ba43",
   "metadata": {},
   "outputs": [
    {
     "name": "stdout",
     "output_type": "stream",
     "text": [
      "Дубликатов в таблице: 71\n"
     ]
    }
   ],
   "source": [
    "print ('Дубликатов в таблице:', data.duplicated().sum())  #проверяем количество явных дубликатов в файле"
   ]
  },
  {
   "cell_type": "code",
   "execution_count": 39,
   "id": "d55e6238",
   "metadata": {},
   "outputs": [
    {
     "data": {
      "text/html": [
       "<div>\n",
       "<style scoped>\n",
       "    .dataframe tbody tr th:only-of-type {\n",
       "        vertical-align: middle;\n",
       "    }\n",
       "\n",
       "    .dataframe tbody tr th {\n",
       "        vertical-align: top;\n",
       "    }\n",
       "\n",
       "    .dataframe thead th {\n",
       "        text-align: right;\n",
       "    }\n",
       "</style>\n",
       "<table border=\"1\" class=\"dataframe\">\n",
       "  <thead>\n",
       "    <tr style=\"text-align: right;\">\n",
       "      <th></th>\n",
       "      <th>children</th>\n",
       "      <th>days_employed</th>\n",
       "      <th>dob_years</th>\n",
       "      <th>education</th>\n",
       "      <th>education_id</th>\n",
       "      <th>family_status</th>\n",
       "      <th>family_status_id</th>\n",
       "      <th>gender</th>\n",
       "      <th>income_type</th>\n",
       "      <th>debt</th>\n",
       "      <th>total_income</th>\n",
       "      <th>purpose</th>\n",
       "    </tr>\n",
       "  </thead>\n",
       "  <tbody>\n",
       "    <tr>\n",
       "      <th>2823</th>\n",
       "      <td>0</td>\n",
       "      <td>2197</td>\n",
       "      <td>41</td>\n",
       "      <td>среднее</td>\n",
       "      <td>1</td>\n",
       "      <td>женат / замужем</td>\n",
       "      <td>0</td>\n",
       "      <td>F</td>\n",
       "      <td>сотрудник</td>\n",
       "      <td>0</td>\n",
       "      <td>142594</td>\n",
       "      <td>покупка жилья для семьи</td>\n",
       "    </tr>\n",
       "    <tr>\n",
       "      <th>3260</th>\n",
       "      <td>0</td>\n",
       "      <td>2197</td>\n",
       "      <td>58</td>\n",
       "      <td>среднее</td>\n",
       "      <td>1</td>\n",
       "      <td>гражданский брак</td>\n",
       "      <td>1</td>\n",
       "      <td>F</td>\n",
       "      <td>пенсионер</td>\n",
       "      <td>0</td>\n",
       "      <td>118497</td>\n",
       "      <td>сыграть свадьбу</td>\n",
       "    </tr>\n",
       "    <tr>\n",
       "      <th>4142</th>\n",
       "      <td>1</td>\n",
       "      <td>2197</td>\n",
       "      <td>34</td>\n",
       "      <td>высшее</td>\n",
       "      <td>0</td>\n",
       "      <td>гражданский брак</td>\n",
       "      <td>1</td>\n",
       "      <td>F</td>\n",
       "      <td>сотрудник</td>\n",
       "      <td>0</td>\n",
       "      <td>142594</td>\n",
       "      <td>свадьба</td>\n",
       "    </tr>\n",
       "    <tr>\n",
       "      <th>4808</th>\n",
       "      <td>0</td>\n",
       "      <td>2197</td>\n",
       "      <td>60</td>\n",
       "      <td>среднее</td>\n",
       "      <td>1</td>\n",
       "      <td>гражданский брак</td>\n",
       "      <td>1</td>\n",
       "      <td>F</td>\n",
       "      <td>пенсионер</td>\n",
       "      <td>0</td>\n",
       "      <td>118497</td>\n",
       "      <td>свадьба</td>\n",
       "    </tr>\n",
       "    <tr>\n",
       "      <th>5506</th>\n",
       "      <td>0</td>\n",
       "      <td>2197</td>\n",
       "      <td>58</td>\n",
       "      <td>среднее</td>\n",
       "      <td>1</td>\n",
       "      <td>гражданский брак</td>\n",
       "      <td>1</td>\n",
       "      <td>F</td>\n",
       "      <td>пенсионер</td>\n",
       "      <td>0</td>\n",
       "      <td>118497</td>\n",
       "      <td>сыграть свадьбу</td>\n",
       "    </tr>\n",
       "  </tbody>\n",
       "</table>\n",
       "</div>"
      ],
      "text/plain": [
       "      children  days_employed  dob_years education  education_id  \\\n",
       "2823         0           2197         41   среднее             1   \n",
       "3260         0           2197         58   среднее             1   \n",
       "4142         1           2197         34    высшее             0   \n",
       "4808         0           2197         60   среднее             1   \n",
       "5506         0           2197         58   среднее             1   \n",
       "\n",
       "         family_status  family_status_id gender income_type  debt  \\\n",
       "2823   женат / замужем                 0      F   сотрудник     0   \n",
       "3260  гражданский брак                 1      F   пенсионер     0   \n",
       "4142  гражданский брак                 1      F   сотрудник     0   \n",
       "4808  гражданский брак                 1      F   пенсионер     0   \n",
       "5506  гражданский брак                 1      F   пенсионер     0   \n",
       "\n",
       "      total_income                  purpose  \n",
       "2823        142594  покупка жилья для семьи  \n",
       "3260        118497          сыграть свадьбу  \n",
       "4142        142594                  свадьба  \n",
       "4808        118497                  свадьба  \n",
       "5506        118497          сыграть свадьбу  "
      ]
     },
     "metadata": {},
     "output_type": "display_data"
    }
   ],
   "source": [
    "duplicated_data = data[data.duplicated()]  #сформируем таблицу с дублирующимися строками\n",
    "display(duplicated_data.head())"
   ]
  },
  {
   "cell_type": "markdown",
   "id": "34bd95f2",
   "metadata": {},
   "source": [
    "Предположительно дубликаты возникли в следствие ошибки выгрузки данных. На будущее необходимо установить причину ошибки и устранить её. Для текущей задачи количество дублирующихся строк является некритичным, удалим их из таблицы."
   ]
  },
  {
   "cell_type": "code",
   "execution_count": 40,
   "id": "b2ca92b1",
   "metadata": {},
   "outputs": [],
   "source": [
    "# удалим явные дубликаты (с удалением старых индексов и формированием новых)\n",
    "data = data.drop_duplicates().reset_index(drop=True)"
   ]
  },
  {
   "cell_type": "code",
   "execution_count": 41,
   "id": "4fc4bcd4",
   "metadata": {},
   "outputs": [
    {
     "data": {
      "text/plain": [
       "0"
      ]
     },
     "execution_count": 41,
     "metadata": {},
     "output_type": "execute_result"
    }
   ],
   "source": [
    "data.duplicated().sum() # проверка на отсутствие дубликатов"
   ]
  },
  {
   "cell_type": "markdown",
   "id": "6ee89635",
   "metadata": {},
   "source": [
    "**Выводы**\n",
    "\n",
    "На данном этапе мы обработали строки с дубликатами:\n",
    "* Все значения в столбце 'education' перевели в нижний регистр;\n",
    "* Значения в столбце 'purpose' решили объединить в более общие категории на этапе категоризации;\n",
    "* Удалили строки с явными дубликатами."
   ]
  },
  {
   "cell_type": "markdown",
   "id": "1dab6d3b",
   "metadata": {},
   "source": [
    "### Формирование дополнительных датафреймов словарей, декомпозиция исходного датафрейма."
   ]
  },
  {
   "cell_type": "markdown",
   "id": "49650972",
   "metadata": {},
   "source": [
    "Для упрощения работы с таблицей данных выведем в отдельные словари значения стобцов `education_id` и `education`, а также `family_status_id` и `family_status`. После чего удалим из исходного датафрейма столбцы `education` и `family_status`, оставив только их идентификаторы: `education_id` и `family_status_id`."
   ]
  },
  {
   "cell_type": "code",
   "execution_count": 42,
   "id": "60e83729",
   "metadata": {
    "scrolled": true
   },
   "outputs": [
    {
     "data": {
      "text/html": [
       "<div>\n",
       "<style scoped>\n",
       "    .dataframe tbody tr th:only-of-type {\n",
       "        vertical-align: middle;\n",
       "    }\n",
       "\n",
       "    .dataframe tbody tr th {\n",
       "        vertical-align: top;\n",
       "    }\n",
       "\n",
       "    .dataframe thead th {\n",
       "        text-align: right;\n",
       "    }\n",
       "</style>\n",
       "<table border=\"1\" class=\"dataframe\">\n",
       "  <thead>\n",
       "    <tr style=\"text-align: right;\">\n",
       "      <th></th>\n",
       "      <th>education_id</th>\n",
       "      <th>education</th>\n",
       "    </tr>\n",
       "  </thead>\n",
       "  <tbody>\n",
       "    <tr>\n",
       "      <th>0</th>\n",
       "      <td>0</td>\n",
       "      <td>высшее</td>\n",
       "    </tr>\n",
       "    <tr>\n",
       "      <th>1</th>\n",
       "      <td>1</td>\n",
       "      <td>среднее</td>\n",
       "    </tr>\n",
       "    <tr>\n",
       "      <th>2</th>\n",
       "      <td>1</td>\n",
       "      <td>среднее</td>\n",
       "    </tr>\n",
       "    <tr>\n",
       "      <th>3</th>\n",
       "      <td>1</td>\n",
       "      <td>среднее</td>\n",
       "    </tr>\n",
       "    <tr>\n",
       "      <th>4</th>\n",
       "      <td>1</td>\n",
       "      <td>среднее</td>\n",
       "    </tr>\n",
       "  </tbody>\n",
       "</table>\n",
       "</div>"
      ],
      "text/plain": [
       "   education_id education\n",
       "0             0    высшее\n",
       "1             1   среднее\n",
       "2             1   среднее\n",
       "3             1   среднее\n",
       "4             1   среднее"
      ]
     },
     "execution_count": 42,
     "metadata": {},
     "output_type": "execute_result"
    }
   ],
   "source": [
    "#сохрагим в переменную `education_dict` словарь id и значений уровней образования клиентов\n",
    "education_dict = data[['education_id', 'education']]  \n",
    "education_dict.head()  #проверим результат"
   ]
  },
  {
   "cell_type": "code",
   "execution_count": 43,
   "id": "6780aa22",
   "metadata": {},
   "outputs": [
    {
     "data": {
      "text/html": [
       "<div>\n",
       "<style scoped>\n",
       "    .dataframe tbody tr th:only-of-type {\n",
       "        vertical-align: middle;\n",
       "    }\n",
       "\n",
       "    .dataframe tbody tr th {\n",
       "        vertical-align: top;\n",
       "    }\n",
       "\n",
       "    .dataframe thead th {\n",
       "        text-align: right;\n",
       "    }\n",
       "</style>\n",
       "<table border=\"1\" class=\"dataframe\">\n",
       "  <thead>\n",
       "    <tr style=\"text-align: right;\">\n",
       "      <th></th>\n",
       "      <th>education_id</th>\n",
       "      <th>education</th>\n",
       "    </tr>\n",
       "  </thead>\n",
       "  <tbody>\n",
       "    <tr>\n",
       "      <th>0</th>\n",
       "      <td>0</td>\n",
       "      <td>высшее</td>\n",
       "    </tr>\n",
       "    <tr>\n",
       "      <th>1</th>\n",
       "      <td>1</td>\n",
       "      <td>среднее</td>\n",
       "    </tr>\n",
       "    <tr>\n",
       "      <th>2</th>\n",
       "      <td>2</td>\n",
       "      <td>неоконченное высшее</td>\n",
       "    </tr>\n",
       "    <tr>\n",
       "      <th>3</th>\n",
       "      <td>3</td>\n",
       "      <td>начальное</td>\n",
       "    </tr>\n",
       "    <tr>\n",
       "      <th>4</th>\n",
       "      <td>4</td>\n",
       "      <td>ученая степень</td>\n",
       "    </tr>\n",
       "  </tbody>\n",
       "</table>\n",
       "</div>"
      ],
      "text/plain": [
       "   education_id            education\n",
       "0             0               высшее\n",
       "1             1              среднее\n",
       "2             2  неоконченное высшее\n",
       "3             3            начальное\n",
       "4             4       ученая степень"
      ]
     },
     "execution_count": 43,
     "metadata": {},
     "output_type": "execute_result"
    }
   ],
   "source": [
    "education_dict = education_dict.drop_duplicates().reset_index(drop=True)  #удалим дубликаты и обновим ндексы\n",
    "education_dict.sort_values('education_id')  #проверим итоговую таблицу со словарём ззначений"
   ]
  },
  {
   "cell_type": "code",
   "execution_count": 44,
   "id": "721e28e2",
   "metadata": {},
   "outputs": [
    {
     "data": {
      "text/html": [
       "<div>\n",
       "<style scoped>\n",
       "    .dataframe tbody tr th:only-of-type {\n",
       "        vertical-align: middle;\n",
       "    }\n",
       "\n",
       "    .dataframe tbody tr th {\n",
       "        vertical-align: top;\n",
       "    }\n",
       "\n",
       "    .dataframe thead th {\n",
       "        text-align: right;\n",
       "    }\n",
       "</style>\n",
       "<table border=\"1\" class=\"dataframe\">\n",
       "  <thead>\n",
       "    <tr style=\"text-align: right;\">\n",
       "      <th></th>\n",
       "      <th>family_status_id</th>\n",
       "      <th>family_status</th>\n",
       "    </tr>\n",
       "  </thead>\n",
       "  <tbody>\n",
       "    <tr>\n",
       "      <th>0</th>\n",
       "      <td>0</td>\n",
       "      <td>женат / замужем</td>\n",
       "    </tr>\n",
       "    <tr>\n",
       "      <th>1</th>\n",
       "      <td>0</td>\n",
       "      <td>женат / замужем</td>\n",
       "    </tr>\n",
       "    <tr>\n",
       "      <th>2</th>\n",
       "      <td>0</td>\n",
       "      <td>женат / замужем</td>\n",
       "    </tr>\n",
       "    <tr>\n",
       "      <th>3</th>\n",
       "      <td>0</td>\n",
       "      <td>женат / замужем</td>\n",
       "    </tr>\n",
       "    <tr>\n",
       "      <th>4</th>\n",
       "      <td>1</td>\n",
       "      <td>гражданский брак</td>\n",
       "    </tr>\n",
       "  </tbody>\n",
       "</table>\n",
       "</div>"
      ],
      "text/plain": [
       "   family_status_id     family_status\n",
       "0                 0   женат / замужем\n",
       "1                 0   женат / замужем\n",
       "2                 0   женат / замужем\n",
       "3                 0   женат / замужем\n",
       "4                 1  гражданский брак"
      ]
     },
     "execution_count": 44,
     "metadata": {},
     "output_type": "execute_result"
    }
   ],
   "source": [
    "#сохрагим в переменную `family_status_dict` словарь id и значений семейного положения клиентов\n",
    "family_status_dict = data[['family_status_id', 'family_status']]  \n",
    "family_status_dict.head()  #проверим результат"
   ]
  },
  {
   "cell_type": "code",
   "execution_count": 45,
   "id": "2a9408af",
   "metadata": {
    "scrolled": true
   },
   "outputs": [
    {
     "data": {
      "text/html": [
       "<div>\n",
       "<style scoped>\n",
       "    .dataframe tbody tr th:only-of-type {\n",
       "        vertical-align: middle;\n",
       "    }\n",
       "\n",
       "    .dataframe tbody tr th {\n",
       "        vertical-align: top;\n",
       "    }\n",
       "\n",
       "    .dataframe thead th {\n",
       "        text-align: right;\n",
       "    }\n",
       "</style>\n",
       "<table border=\"1\" class=\"dataframe\">\n",
       "  <thead>\n",
       "    <tr style=\"text-align: right;\">\n",
       "      <th></th>\n",
       "      <th>family_status_id</th>\n",
       "      <th>family_status</th>\n",
       "    </tr>\n",
       "  </thead>\n",
       "  <tbody>\n",
       "    <tr>\n",
       "      <th>0</th>\n",
       "      <td>0</td>\n",
       "      <td>женат / замужем</td>\n",
       "    </tr>\n",
       "    <tr>\n",
       "      <th>1</th>\n",
       "      <td>1</td>\n",
       "      <td>гражданский брак</td>\n",
       "    </tr>\n",
       "    <tr>\n",
       "      <th>2</th>\n",
       "      <td>2</td>\n",
       "      <td>вдовец / вдова</td>\n",
       "    </tr>\n",
       "    <tr>\n",
       "      <th>3</th>\n",
       "      <td>3</td>\n",
       "      <td>в разводе</td>\n",
       "    </tr>\n",
       "    <tr>\n",
       "      <th>4</th>\n",
       "      <td>4</td>\n",
       "      <td>Не женат / не замужем</td>\n",
       "    </tr>\n",
       "  </tbody>\n",
       "</table>\n",
       "</div>"
      ],
      "text/plain": [
       "   family_status_id          family_status\n",
       "0                 0        женат / замужем\n",
       "1                 1       гражданский брак\n",
       "2                 2         вдовец / вдова\n",
       "3                 3              в разводе\n",
       "4                 4  Не женат / не замужем"
      ]
     },
     "execution_count": 45,
     "metadata": {},
     "output_type": "execute_result"
    }
   ],
   "source": [
    "family_status_dict = family_status_dict.drop_duplicates().reset_index(drop=True)  #удалим дубликаты и обновим ндексы\n",
    "family_status_dict.sort_values('family_status_id')  #проверим итоговую таблицу со словарём ззначений"
   ]
  },
  {
   "cell_type": "code",
   "execution_count": 46,
   "id": "13183056",
   "metadata": {},
   "outputs": [
    {
     "data": {
      "text/html": [
       "<div>\n",
       "<style scoped>\n",
       "    .dataframe tbody tr th:only-of-type {\n",
       "        vertical-align: middle;\n",
       "    }\n",
       "\n",
       "    .dataframe tbody tr th {\n",
       "        vertical-align: top;\n",
       "    }\n",
       "\n",
       "    .dataframe thead th {\n",
       "        text-align: right;\n",
       "    }\n",
       "</style>\n",
       "<table border=\"1\" class=\"dataframe\">\n",
       "  <thead>\n",
       "    <tr style=\"text-align: right;\">\n",
       "      <th></th>\n",
       "      <th>children</th>\n",
       "      <th>days_employed</th>\n",
       "      <th>dob_years</th>\n",
       "      <th>education_id</th>\n",
       "      <th>family_status_id</th>\n",
       "      <th>gender</th>\n",
       "      <th>income_type</th>\n",
       "      <th>debt</th>\n",
       "      <th>total_income</th>\n",
       "      <th>purpose</th>\n",
       "    </tr>\n",
       "  </thead>\n",
       "  <tbody>\n",
       "    <tr>\n",
       "      <th>0</th>\n",
       "      <td>1</td>\n",
       "      <td>8437</td>\n",
       "      <td>42</td>\n",
       "      <td>0</td>\n",
       "      <td>0</td>\n",
       "      <td>F</td>\n",
       "      <td>сотрудник</td>\n",
       "      <td>0</td>\n",
       "      <td>253875</td>\n",
       "      <td>покупка жилья</td>\n",
       "    </tr>\n",
       "    <tr>\n",
       "      <th>1</th>\n",
       "      <td>1</td>\n",
       "      <td>4024</td>\n",
       "      <td>36</td>\n",
       "      <td>1</td>\n",
       "      <td>0</td>\n",
       "      <td>F</td>\n",
       "      <td>сотрудник</td>\n",
       "      <td>0</td>\n",
       "      <td>112080</td>\n",
       "      <td>приобретение автомобиля</td>\n",
       "    </tr>\n",
       "    <tr>\n",
       "      <th>2</th>\n",
       "      <td>0</td>\n",
       "      <td>5623</td>\n",
       "      <td>33</td>\n",
       "      <td>1</td>\n",
       "      <td>0</td>\n",
       "      <td>M</td>\n",
       "      <td>сотрудник</td>\n",
       "      <td>0</td>\n",
       "      <td>145885</td>\n",
       "      <td>покупка жилья</td>\n",
       "    </tr>\n",
       "    <tr>\n",
       "      <th>3</th>\n",
       "      <td>3</td>\n",
       "      <td>4124</td>\n",
       "      <td>32</td>\n",
       "      <td>1</td>\n",
       "      <td>0</td>\n",
       "      <td>M</td>\n",
       "      <td>сотрудник</td>\n",
       "      <td>0</td>\n",
       "      <td>267628</td>\n",
       "      <td>дополнительное образование</td>\n",
       "    </tr>\n",
       "    <tr>\n",
       "      <th>4</th>\n",
       "      <td>0</td>\n",
       "      <td>14177</td>\n",
       "      <td>53</td>\n",
       "      <td>1</td>\n",
       "      <td>1</td>\n",
       "      <td>F</td>\n",
       "      <td>пенсионер</td>\n",
       "      <td>0</td>\n",
       "      <td>158616</td>\n",
       "      <td>сыграть свадьбу</td>\n",
       "    </tr>\n",
       "  </tbody>\n",
       "</table>\n",
       "</div>"
      ],
      "text/plain": [
       "   children  days_employed  dob_years  education_id  family_status_id gender  \\\n",
       "0         1           8437         42             0                 0      F   \n",
       "1         1           4024         36             1                 0      F   \n",
       "2         0           5623         33             1                 0      M   \n",
       "3         3           4124         32             1                 0      M   \n",
       "4         0          14177         53             1                 1      F   \n",
       "\n",
       "  income_type  debt  total_income                     purpose  \n",
       "0   сотрудник     0        253875               покупка жилья  \n",
       "1   сотрудник     0        112080     приобретение автомобиля  \n",
       "2   сотрудник     0        145885               покупка жилья  \n",
       "3   сотрудник     0        267628  дополнительное образование  \n",
       "4   пенсионер     0        158616             сыграть свадьбу  "
      ]
     },
     "execution_count": 46,
     "metadata": {},
     "output_type": "execute_result"
    }
   ],
   "source": [
    "#удаляем столбцы `education` и `family_status` из исходной таблицы\n",
    "data.drop(columns = ['education', 'family_status'], axis = 1, inplace=True)  \n",
    "data.head()  #проверяем изменения"
   ]
  },
  {
   "cell_type": "markdown",
   "id": "b568d1c8",
   "metadata": {},
   "source": [
    "**Выводы**\n",
    "\n",
    "На данном этапе мы создали отдельные словари значений для столбцов `education_id` и `education`, а также `family_status_id` и `family_status`. И удалили из исходной таблицы столбцы `education` и `family_status` с целью улучшения визуальной работы с ней."
   ]
  },
  {
   "cell_type": "markdown",
   "id": "c8b4cf99",
   "metadata": {},
   "source": [
    "## Проверка гипотез"
   ]
  },
  {
   "cell_type": "markdown",
   "id": "30102a1e",
   "metadata": {},
   "source": [
    "### Зависимость между количеством детей и возвратом кредита в срок."
   ]
  },
  {
   "cell_type": "markdown",
   "id": "49804937",
   "metadata": {},
   "source": [
    "По обновлённой таблице построим сводную таблицу по возврату кредита в срок в зависимости от количества детей."
   ]
  },
  {
   "cell_type": "code",
   "execution_count": 47,
   "id": "5af34429",
   "metadata": {},
   "outputs": [
    {
     "data": {
      "text/html": [
       "<div>\n",
       "<style scoped>\n",
       "    .dataframe tbody tr th:only-of-type {\n",
       "        vertical-align: middle;\n",
       "    }\n",
       "\n",
       "    .dataframe tbody tr th {\n",
       "        vertical-align: top;\n",
       "    }\n",
       "\n",
       "    .dataframe thead th {\n",
       "        text-align: right;\n",
       "    }\n",
       "</style>\n",
       "<table border=\"1\" class=\"dataframe\">\n",
       "  <thead>\n",
       "    <tr style=\"text-align: right;\">\n",
       "      <th>debt</th>\n",
       "      <th>0</th>\n",
       "      <th>1</th>\n",
       "    </tr>\n",
       "    <tr>\n",
       "      <th>children</th>\n",
       "      <th></th>\n",
       "      <th></th>\n",
       "    </tr>\n",
       "  </thead>\n",
       "  <tbody>\n",
       "    <tr>\n",
       "      <th>0</th>\n",
       "      <td>12963.0</td>\n",
       "      <td>1058.0</td>\n",
       "    </tr>\n",
       "    <tr>\n",
       "      <th>1</th>\n",
       "      <td>4351.0</td>\n",
       "      <td>441.0</td>\n",
       "    </tr>\n",
       "    <tr>\n",
       "      <th>2</th>\n",
       "      <td>1845.0</td>\n",
       "      <td>194.0</td>\n",
       "    </tr>\n",
       "    <tr>\n",
       "      <th>3</th>\n",
       "      <td>301.0</td>\n",
       "      <td>27.0</td>\n",
       "    </tr>\n",
       "    <tr>\n",
       "      <th>4</th>\n",
       "      <td>37.0</td>\n",
       "      <td>4.0</td>\n",
       "    </tr>\n",
       "    <tr>\n",
       "      <th>5</th>\n",
       "      <td>9.0</td>\n",
       "      <td>NaN</td>\n",
       "    </tr>\n",
       "  </tbody>\n",
       "</table>\n",
       "</div>"
      ],
      "text/plain": [
       "debt            0       1\n",
       "children                 \n",
       "0         12963.0  1058.0\n",
       "1          4351.0   441.0\n",
       "2          1845.0   194.0\n",
       "3           301.0    27.0\n",
       "4            37.0     4.0\n",
       "5             9.0     NaN"
      ]
     },
     "execution_count": 47,
     "metadata": {},
     "output_type": "execute_result"
    }
   ],
   "source": [
    "#построим сводную таблицу по количеству должников в зависимости от количества детей\n",
    "data_pivot_children = data.pivot_table(index=['children'], columns='debt', values='dob_years', aggfunc='count')\n",
    "data_pivot_children"
   ]
  },
  {
   "cell_type": "code",
   "execution_count": 48,
   "id": "03e4b647",
   "metadata": {
    "scrolled": true
   },
   "outputs": [
    {
     "data": {
      "text/html": [
       "<div>\n",
       "<style scoped>\n",
       "    .dataframe tbody tr th:only-of-type {\n",
       "        vertical-align: middle;\n",
       "    }\n",
       "\n",
       "    .dataframe tbody tr th {\n",
       "        vertical-align: top;\n",
       "    }\n",
       "\n",
       "    .dataframe thead th {\n",
       "        text-align: right;\n",
       "    }\n",
       "</style>\n",
       "<table border=\"1\" class=\"dataframe\">\n",
       "  <thead>\n",
       "    <tr style=\"text-align: right;\">\n",
       "      <th>debt</th>\n",
       "      <th>0</th>\n",
       "      <th>1</th>\n",
       "      <th>ratio</th>\n",
       "    </tr>\n",
       "    <tr>\n",
       "      <th>children</th>\n",
       "      <th></th>\n",
       "      <th></th>\n",
       "      <th></th>\n",
       "    </tr>\n",
       "  </thead>\n",
       "  <tbody>\n",
       "    <tr>\n",
       "      <th>4</th>\n",
       "      <td>37.0</td>\n",
       "      <td>4.0</td>\n",
       "      <td>0.097561</td>\n",
       "    </tr>\n",
       "    <tr>\n",
       "      <th>2</th>\n",
       "      <td>1845.0</td>\n",
       "      <td>194.0</td>\n",
       "      <td>0.095145</td>\n",
       "    </tr>\n",
       "    <tr>\n",
       "      <th>1</th>\n",
       "      <td>4351.0</td>\n",
       "      <td>441.0</td>\n",
       "      <td>0.092028</td>\n",
       "    </tr>\n",
       "    <tr>\n",
       "      <th>3</th>\n",
       "      <td>301.0</td>\n",
       "      <td>27.0</td>\n",
       "      <td>0.082317</td>\n",
       "    </tr>\n",
       "    <tr>\n",
       "      <th>0</th>\n",
       "      <td>12963.0</td>\n",
       "      <td>1058.0</td>\n",
       "      <td>0.075458</td>\n",
       "    </tr>\n",
       "    <tr>\n",
       "      <th>5</th>\n",
       "      <td>9.0</td>\n",
       "      <td>NaN</td>\n",
       "      <td>NaN</td>\n",
       "    </tr>\n",
       "  </tbody>\n",
       "</table>\n",
       "</div>"
      ],
      "text/plain": [
       "debt            0       1     ratio\n",
       "children                           \n",
       "4            37.0     4.0  0.097561\n",
       "2          1845.0   194.0  0.095145\n",
       "1          4351.0   441.0  0.092028\n",
       "3           301.0    27.0  0.082317\n",
       "0         12963.0  1058.0  0.075458\n",
       "5             9.0     NaN       NaN"
      ]
     },
     "execution_count": 48,
     "metadata": {},
     "output_type": "execute_result"
    }
   ],
   "source": [
    "#рассчитаем отношение количество должников к количеству возвращающих кредит в срок в зависимости от количества детей\n",
    "data_pivot_children['ratio'] = data_pivot_children[1] / (data_pivot_children[0] + data_pivot_children[1])\n",
    "data_pivot_children.sort_values(by='ratio', ascending=False)  #отсортируем таблицу по доле должников"
   ]
  },
  {
   "cell_type": "markdown",
   "id": "5224837b",
   "metadata": {},
   "source": [
    "**Выводы**\n",
    "\n",
    "Исходя из полученных данных в сводной таблице, можно сделать следующие выводы:\n",
    "* результаты по клиентам с 5 детьми не рассматриваем, так как количество данных очень маленькое и из этого можно сделать некорректные выводы;\n",
    "* процент должников среди клиентов без детей ниже (7.5%), чем у клиентов с детьми (8-10%).\n",
    "* клиенты с 3 детьми чаще возвращают кредит в срок, чем клиенты с 1, 2 и 4 детьми (8% против 9-10%), при этом, данных по  категориям с 3 и 4 детьми также не очень много, так что вывод может быть не совсем корректным."
   ]
  },
  {
   "cell_type": "markdown",
   "id": "c378b227",
   "metadata": {},
   "source": [
    "### Зависимость между семйным положением и возвратом кредита в срок."
   ]
  },
  {
   "cell_type": "markdown",
   "id": "e9b0d98e",
   "metadata": {},
   "source": [
    "Построим сводную таблицу по возврату кредита в срок в зависимости от семйного положения."
   ]
  },
  {
   "cell_type": "code",
   "execution_count": 49,
   "id": "b4e66716",
   "metadata": {},
   "outputs": [
    {
     "data": {
      "text/html": [
       "<div>\n",
       "<style scoped>\n",
       "    .dataframe tbody tr th:only-of-type {\n",
       "        vertical-align: middle;\n",
       "    }\n",
       "\n",
       "    .dataframe tbody tr th {\n",
       "        vertical-align: top;\n",
       "    }\n",
       "\n",
       "    .dataframe thead th {\n",
       "        text-align: right;\n",
       "    }\n",
       "</style>\n",
       "<table border=\"1\" class=\"dataframe\">\n",
       "  <thead>\n",
       "    <tr style=\"text-align: right;\">\n",
       "      <th>debt</th>\n",
       "      <th>0</th>\n",
       "      <th>1</th>\n",
       "    </tr>\n",
       "    <tr>\n",
       "      <th>family_status_id</th>\n",
       "      <th></th>\n",
       "      <th></th>\n",
       "    </tr>\n",
       "  </thead>\n",
       "  <tbody>\n",
       "    <tr>\n",
       "      <th>0</th>\n",
       "      <td>11290</td>\n",
       "      <td>923</td>\n",
       "    </tr>\n",
       "    <tr>\n",
       "      <th>1</th>\n",
       "      <td>3729</td>\n",
       "      <td>383</td>\n",
       "    </tr>\n",
       "    <tr>\n",
       "      <th>2</th>\n",
       "      <td>884</td>\n",
       "      <td>62</td>\n",
       "    </tr>\n",
       "    <tr>\n",
       "      <th>3</th>\n",
       "      <td>1095</td>\n",
       "      <td>84</td>\n",
       "    </tr>\n",
       "    <tr>\n",
       "      <th>4</th>\n",
       "      <td>2508</td>\n",
       "      <td>272</td>\n",
       "    </tr>\n",
       "  </tbody>\n",
       "</table>\n",
       "</div>"
      ],
      "text/plain": [
       "debt                  0    1\n",
       "family_status_id            \n",
       "0                 11290  923\n",
       "1                  3729  383\n",
       "2                   884   62\n",
       "3                  1095   84\n",
       "4                  2508  272"
      ]
     },
     "execution_count": 49,
     "metadata": {},
     "output_type": "execute_result"
    }
   ],
   "source": [
    "#построим сводную таблицу по количеству должников в зависимости от семейного положения\n",
    "data_pivot_family_status = data.pivot_table(index=['family_status_id'], columns='debt', values='dob_years', aggfunc='count')\n",
    "data_pivot_family_status"
   ]
  },
  {
   "cell_type": "code",
   "execution_count": 50,
   "id": "67ebb4e4",
   "metadata": {
    "scrolled": true
   },
   "outputs": [],
   "source": [
    "#рассчитаем отношение количества должников к количеству возвращающих кредит в срок в зависимости от семейного положения\n",
    "data_pivot_family_status['ratio'] = data_pivot_family_status[1] / (data_pivot_family_status[0] + data_pivot_family_status[1])\n"
   ]
  },
  {
   "cell_type": "code",
   "execution_count": 51,
   "id": "95536372",
   "metadata": {
    "scrolled": true
   },
   "outputs": [
    {
     "data": {
      "text/html": [
       "<div>\n",
       "<style scoped>\n",
       "    .dataframe tbody tr th:only-of-type {\n",
       "        vertical-align: middle;\n",
       "    }\n",
       "\n",
       "    .dataframe tbody tr th {\n",
       "        vertical-align: top;\n",
       "    }\n",
       "\n",
       "    .dataframe thead th {\n",
       "        text-align: right;\n",
       "    }\n",
       "</style>\n",
       "<table border=\"1\" class=\"dataframe\">\n",
       "  <thead>\n",
       "    <tr style=\"text-align: right;\">\n",
       "      <th></th>\n",
       "      <th>family_status_id</th>\n",
       "      <th>family_status</th>\n",
       "      <th>0</th>\n",
       "      <th>1</th>\n",
       "      <th>ratio</th>\n",
       "    </tr>\n",
       "  </thead>\n",
       "  <tbody>\n",
       "    <tr>\n",
       "      <th>4</th>\n",
       "      <td>4</td>\n",
       "      <td>Не женат / не замужем</td>\n",
       "      <td>2508</td>\n",
       "      <td>272</td>\n",
       "      <td>0.097842</td>\n",
       "    </tr>\n",
       "    <tr>\n",
       "      <th>1</th>\n",
       "      <td>1</td>\n",
       "      <td>гражданский брак</td>\n",
       "      <td>3729</td>\n",
       "      <td>383</td>\n",
       "      <td>0.093142</td>\n",
       "    </tr>\n",
       "    <tr>\n",
       "      <th>0</th>\n",
       "      <td>0</td>\n",
       "      <td>женат / замужем</td>\n",
       "      <td>11290</td>\n",
       "      <td>923</td>\n",
       "      <td>0.075575</td>\n",
       "    </tr>\n",
       "    <tr>\n",
       "      <th>3</th>\n",
       "      <td>3</td>\n",
       "      <td>в разводе</td>\n",
       "      <td>1095</td>\n",
       "      <td>84</td>\n",
       "      <td>0.071247</td>\n",
       "    </tr>\n",
       "    <tr>\n",
       "      <th>2</th>\n",
       "      <td>2</td>\n",
       "      <td>вдовец / вдова</td>\n",
       "      <td>884</td>\n",
       "      <td>62</td>\n",
       "      <td>0.065539</td>\n",
       "    </tr>\n",
       "  </tbody>\n",
       "</table>\n",
       "</div>"
      ],
      "text/plain": [
       "   family_status_id          family_status      0    1     ratio\n",
       "4                 4  Не женат / не замужем   2508  272  0.097842\n",
       "1                 1       гражданский брак   3729  383  0.093142\n",
       "0                 0        женат / замужем  11290  923  0.075575\n",
       "3                 3              в разводе   1095   84  0.071247\n",
       "2                 2         вдовец / вдова    884   62  0.065539"
      ]
     },
     "execution_count": 51,
     "metadata": {},
     "output_type": "execute_result"
    }
   ],
   "source": [
    "#отсортируем таблицу по доле должников и добавим нназвание семейного статуса\n",
    "family_status_dict.merge(data_pivot_family_status, on='family_status_id', how='left').sort_values(by='ratio', ascending=False)"
   ]
  },
  {
   "cell_type": "markdown",
   "id": "65857d19",
   "metadata": {},
   "source": [
    "**Выводы**\n",
    "\n",
    "Исходя из полученных данных в сводной таблице, можно сделать следующие выводы:\n",
    "* процент должников среди неженатых / незамужних клиентов либо находящихся в гражданском браке выше (9-10%), чем у женатых / замужних клиентов, в разводе либо вдовцов/вдов (6,6-7,6%);\n",
    "* клиенты вдовцы / вдовы чаще других категорий возвращают кредиты в срок (6,6% просрочек)."
   ]
  },
  {
   "cell_type": "markdown",
   "id": "e8cf6876",
   "metadata": {},
   "source": [
    "### Категоризация дохода. Зависимость между уровнем дохода и возвратом кредита в срок."
   ]
  },
  {
   "cell_type": "markdown",
   "id": "251d5768",
   "metadata": {},
   "source": [
    "Сгруппируем данные в столбце `total_income`, чтобы численности каждой группы хватало для формулировки выводов по гипотезе о влиянии дохода на возврат кредита в сорк."
   ]
  },
  {
   "cell_type": "code",
   "execution_count": 52,
   "id": "5a56ed09",
   "metadata": {},
   "outputs": [
    {
     "name": "stdout",
     "output_type": "stream",
     "text": [
      "E\n",
      "C\n",
      "A\n"
     ]
    }
   ],
   "source": [
    "def income_category(income):  #напишем функцию для категоризации доходов клиентов\n",
    "    \"\"\"\n",
    "    Возваращает наименование категории дохода клиента в зависимости от размера ежемесячного дохода:\n",
    "    - 'E', если income < 30000;\n",
    "    - 'D', если income от 30001 до 50000;\n",
    "    - 'C', если income от 50001 до 200000;\n",
    "    - 'B', если income от 200001 до 1000000;\n",
    "    - 'A', если income > 1000001.\n",
    "    \"\"\"\n",
    "    \n",
    "    if income <= 30000:\n",
    "        return 'E'\n",
    "    if 30000 < income <= 50000:\n",
    "        return 'D'\n",
    "    if 50000 < income <= 200000:\n",
    "        return 'C'\n",
    "    if 200000 < income <= 1000000:\n",
    "        return 'B'\n",
    "    return 'A'\n",
    "\n",
    "#проверяем работу функции\n",
    "print(income_category(29000))\n",
    "print(income_category(67000))\n",
    "print(income_category(1000005))"
   ]
  },
  {
   "cell_type": "code",
   "execution_count": 53,
   "id": "80ae53ae",
   "metadata": {},
   "outputs": [
    {
     "data": {
      "text/html": [
       "<div>\n",
       "<style scoped>\n",
       "    .dataframe tbody tr th:only-of-type {\n",
       "        vertical-align: middle;\n",
       "    }\n",
       "\n",
       "    .dataframe tbody tr th {\n",
       "        vertical-align: top;\n",
       "    }\n",
       "\n",
       "    .dataframe thead th {\n",
       "        text-align: right;\n",
       "    }\n",
       "</style>\n",
       "<table border=\"1\" class=\"dataframe\">\n",
       "  <thead>\n",
       "    <tr style=\"text-align: right;\">\n",
       "      <th></th>\n",
       "      <th>children</th>\n",
       "      <th>days_employed</th>\n",
       "      <th>dob_years</th>\n",
       "      <th>education_id</th>\n",
       "      <th>family_status_id</th>\n",
       "      <th>gender</th>\n",
       "      <th>income_type</th>\n",
       "      <th>debt</th>\n",
       "      <th>total_income</th>\n",
       "      <th>purpose</th>\n",
       "      <th>total_income_category</th>\n",
       "    </tr>\n",
       "  </thead>\n",
       "  <tbody>\n",
       "    <tr>\n",
       "      <th>0</th>\n",
       "      <td>1</td>\n",
       "      <td>8437</td>\n",
       "      <td>42</td>\n",
       "      <td>0</td>\n",
       "      <td>0</td>\n",
       "      <td>F</td>\n",
       "      <td>сотрудник</td>\n",
       "      <td>0</td>\n",
       "      <td>253875</td>\n",
       "      <td>покупка жилья</td>\n",
       "      <td>B</td>\n",
       "    </tr>\n",
       "    <tr>\n",
       "      <th>1</th>\n",
       "      <td>1</td>\n",
       "      <td>4024</td>\n",
       "      <td>36</td>\n",
       "      <td>1</td>\n",
       "      <td>0</td>\n",
       "      <td>F</td>\n",
       "      <td>сотрудник</td>\n",
       "      <td>0</td>\n",
       "      <td>112080</td>\n",
       "      <td>приобретение автомобиля</td>\n",
       "      <td>C</td>\n",
       "    </tr>\n",
       "    <tr>\n",
       "      <th>2</th>\n",
       "      <td>0</td>\n",
       "      <td>5623</td>\n",
       "      <td>33</td>\n",
       "      <td>1</td>\n",
       "      <td>0</td>\n",
       "      <td>M</td>\n",
       "      <td>сотрудник</td>\n",
       "      <td>0</td>\n",
       "      <td>145885</td>\n",
       "      <td>покупка жилья</td>\n",
       "      <td>C</td>\n",
       "    </tr>\n",
       "    <tr>\n",
       "      <th>3</th>\n",
       "      <td>3</td>\n",
       "      <td>4124</td>\n",
       "      <td>32</td>\n",
       "      <td>1</td>\n",
       "      <td>0</td>\n",
       "      <td>M</td>\n",
       "      <td>сотрудник</td>\n",
       "      <td>0</td>\n",
       "      <td>267628</td>\n",
       "      <td>дополнительное образование</td>\n",
       "      <td>B</td>\n",
       "    </tr>\n",
       "    <tr>\n",
       "      <th>4</th>\n",
       "      <td>0</td>\n",
       "      <td>14177</td>\n",
       "      <td>53</td>\n",
       "      <td>1</td>\n",
       "      <td>1</td>\n",
       "      <td>F</td>\n",
       "      <td>пенсионер</td>\n",
       "      <td>0</td>\n",
       "      <td>158616</td>\n",
       "      <td>сыграть свадьбу</td>\n",
       "      <td>C</td>\n",
       "    </tr>\n",
       "  </tbody>\n",
       "</table>\n",
       "</div>"
      ],
      "text/plain": [
       "   children  days_employed  dob_years  education_id  family_status_id gender  \\\n",
       "0         1           8437         42             0                 0      F   \n",
       "1         1           4024         36             1                 0      F   \n",
       "2         0           5623         33             1                 0      M   \n",
       "3         3           4124         32             1                 0      M   \n",
       "4         0          14177         53             1                 1      F   \n",
       "\n",
       "  income_type  debt  total_income                     purpose  \\\n",
       "0   сотрудник     0        253875               покупка жилья   \n",
       "1   сотрудник     0        112080     приобретение автомобиля   \n",
       "2   сотрудник     0        145885               покупка жилья   \n",
       "3   сотрудник     0        267628  дополнительное образование   \n",
       "4   пенсионер     0        158616             сыграть свадьбу   \n",
       "\n",
       "  total_income_category  \n",
       "0                     B  \n",
       "1                     C  \n",
       "2                     C  \n",
       "3                     B  \n",
       "4                     C  "
      ]
     },
     "execution_count": 53,
     "metadata": {},
     "output_type": "execute_result"
    }
   ],
   "source": [
    "#создаём новый столбец `total_income_category` с категориями доходов клиентов\n",
    "data['total_income_category'] = data['total_income'].apply(income_category)\n",
    "data.head()"
   ]
  },
  {
   "cell_type": "code",
   "execution_count": 54,
   "id": "8f1dcc99",
   "metadata": {
    "scrolled": true
   },
   "outputs": [
    {
     "data": {
      "text/html": [
       "<div>\n",
       "<style scoped>\n",
       "    .dataframe tbody tr th:only-of-type {\n",
       "        vertical-align: middle;\n",
       "    }\n",
       "\n",
       "    .dataframe tbody tr th {\n",
       "        vertical-align: top;\n",
       "    }\n",
       "\n",
       "    .dataframe thead th {\n",
       "        text-align: right;\n",
       "    }\n",
       "</style>\n",
       "<table border=\"1\" class=\"dataframe\">\n",
       "  <thead>\n",
       "    <tr style=\"text-align: right;\">\n",
       "      <th>debt</th>\n",
       "      <th>0</th>\n",
       "      <th>1</th>\n",
       "    </tr>\n",
       "    <tr>\n",
       "      <th>total_income_category</th>\n",
       "      <th></th>\n",
       "      <th></th>\n",
       "    </tr>\n",
       "  </thead>\n",
       "  <tbody>\n",
       "    <tr>\n",
       "      <th>A</th>\n",
       "      <td>23</td>\n",
       "      <td>2</td>\n",
       "    </tr>\n",
       "    <tr>\n",
       "      <th>B</th>\n",
       "      <td>4634</td>\n",
       "      <td>353</td>\n",
       "    </tr>\n",
       "    <tr>\n",
       "      <th>C</th>\n",
       "      <td>14503</td>\n",
       "      <td>1346</td>\n",
       "    </tr>\n",
       "    <tr>\n",
       "      <th>D</th>\n",
       "      <td>326</td>\n",
       "      <td>21</td>\n",
       "    </tr>\n",
       "    <tr>\n",
       "      <th>E</th>\n",
       "      <td>20</td>\n",
       "      <td>2</td>\n",
       "    </tr>\n",
       "  </tbody>\n",
       "</table>\n",
       "</div>"
      ],
      "text/plain": [
       "debt                       0     1\n",
       "total_income_category             \n",
       "A                         23     2\n",
       "B                       4634   353\n",
       "C                      14503  1346\n",
       "D                        326    21\n",
       "E                         20     2"
      ]
     },
     "execution_count": 54,
     "metadata": {},
     "output_type": "execute_result"
    }
   ],
   "source": [
    "#построим сводную таблицу по количеству должников по каждой из категорий доходов клиентов\n",
    "data_pivot_income = data.pivot_table(index=['total_income_category'], columns='debt', values='dob_years', aggfunc='count')\n",
    "data_pivot_income"
   ]
  },
  {
   "cell_type": "code",
   "execution_count": 55,
   "id": "0ca99a17",
   "metadata": {
    "scrolled": true
   },
   "outputs": [
    {
     "data": {
      "text/html": [
       "<div>\n",
       "<style scoped>\n",
       "    .dataframe tbody tr th:only-of-type {\n",
       "        vertical-align: middle;\n",
       "    }\n",
       "\n",
       "    .dataframe tbody tr th {\n",
       "        vertical-align: top;\n",
       "    }\n",
       "\n",
       "    .dataframe thead th {\n",
       "        text-align: right;\n",
       "    }\n",
       "</style>\n",
       "<table border=\"1\" class=\"dataframe\">\n",
       "  <thead>\n",
       "    <tr style=\"text-align: right;\">\n",
       "      <th>debt</th>\n",
       "      <th>0</th>\n",
       "      <th>1</th>\n",
       "      <th>ratio</th>\n",
       "    </tr>\n",
       "    <tr>\n",
       "      <th>total_income_category</th>\n",
       "      <th></th>\n",
       "      <th></th>\n",
       "      <th></th>\n",
       "    </tr>\n",
       "  </thead>\n",
       "  <tbody>\n",
       "    <tr>\n",
       "      <th>E</th>\n",
       "      <td>20</td>\n",
       "      <td>2</td>\n",
       "      <td>0.090909</td>\n",
       "    </tr>\n",
       "    <tr>\n",
       "      <th>C</th>\n",
       "      <td>14503</td>\n",
       "      <td>1346</td>\n",
       "      <td>0.084926</td>\n",
       "    </tr>\n",
       "    <tr>\n",
       "      <th>A</th>\n",
       "      <td>23</td>\n",
       "      <td>2</td>\n",
       "      <td>0.080000</td>\n",
       "    </tr>\n",
       "    <tr>\n",
       "      <th>B</th>\n",
       "      <td>4634</td>\n",
       "      <td>353</td>\n",
       "      <td>0.070784</td>\n",
       "    </tr>\n",
       "    <tr>\n",
       "      <th>D</th>\n",
       "      <td>326</td>\n",
       "      <td>21</td>\n",
       "      <td>0.060519</td>\n",
       "    </tr>\n",
       "  </tbody>\n",
       "</table>\n",
       "</div>"
      ],
      "text/plain": [
       "debt                       0     1     ratio\n",
       "total_income_category                       \n",
       "E                         20     2  0.090909\n",
       "C                      14503  1346  0.084926\n",
       "A                         23     2  0.080000\n",
       "B                       4634   353  0.070784\n",
       "D                        326    21  0.060519"
      ]
     },
     "execution_count": 55,
     "metadata": {},
     "output_type": "execute_result"
    }
   ],
   "source": [
    "#рассчитаем отношение количество должников к количеству возвращающих кредит в срок в каждой из групп\n",
    "data_pivot_income['ratio'] = data_pivot_income[1] / (data_pivot_income[0] + data_pivot_income[1])\n",
    "data_pivot_income.sort_values(by='ratio', ascending=False)  #отсортируем таблицу по доле должников"
   ]
  },
  {
   "cell_type": "markdown",
   "id": "e3e7b2eb",
   "metadata": {},
   "source": [
    "**Выводы**\n",
    "\n",
    "Исходя из полученных данных в сводной таблице, можно сделать следующие выводы:\n",
    "* результаты по категориям Е и А можно не рассматривать, так как количество данных очень маленькое и из этого можно сделать некорректные выводы;\n",
    "* процент должников среди клиентов с доходами от 50001 до 200000 (категория С) больше, чем в категориях B и D (8,5% против 7% и 6,1%)."
   ]
  },
  {
   "cell_type": "markdown",
   "id": "d22ba8f7",
   "metadata": {},
   "source": [
    "### Категоризация целей кредита. Зависимость между целями кредита и возвратом кредита в срок."
   ]
  },
  {
   "cell_type": "markdown",
   "id": "62561373",
   "metadata": {},
   "source": [
    "На этапе обработки дубликатов в таблице мы заметили, что в столбце `purpose` многие значения по смыслу дублируют друг друга. Для проверки гипотезы влияния цели кредита на его возврат в срок предлагается объединить одинаковые по смыслу значения в более общие категории."
   ]
  },
  {
   "cell_type": "code",
   "execution_count": 56,
   "id": "22cf73b4",
   "metadata": {},
   "outputs": [
    {
     "data": {
      "text/plain": [
       "array(['автомобили', 'автомобиль', 'высшее образование',\n",
       "       'дополнительное образование', 'жилье',\n",
       "       'заняться высшим образованием', 'заняться образованием',\n",
       "       'на покупку автомобиля', 'на покупку подержанного автомобиля',\n",
       "       'на покупку своего автомобиля', 'на проведение свадьбы',\n",
       "       'недвижимость', 'образование', 'операции с жильем',\n",
       "       'операции с коммерческой недвижимостью',\n",
       "       'операции с недвижимостью', 'операции со своей недвижимостью',\n",
       "       'покупка жилой недвижимости', 'покупка жилья',\n",
       "       'покупка жилья для сдачи', 'покупка жилья для семьи',\n",
       "       'покупка коммерческой недвижимости', 'покупка недвижимости',\n",
       "       'покупка своего жилья', 'получение высшего образования',\n",
       "       'получение дополнительного образования', 'получение образования',\n",
       "       'приобретение автомобиля', 'профильное образование',\n",
       "       'ремонт жилью', 'свадьба', 'свой автомобиль',\n",
       "       'сделка с автомобилем', 'сделка с подержанным автомобилем',\n",
       "       'строительство жилой недвижимости', 'строительство недвижимости',\n",
       "       'строительство собственной недвижимости', 'сыграть свадьбу'],\n",
       "      dtype=object)"
      ]
     },
     "execution_count": 56,
     "metadata": {},
     "output_type": "execute_result"
    }
   ],
   "source": [
    "data['purpose'].sort_values().unique()  #выведем список уникальных значений столбца `purpose`"
   ]
  },
  {
   "cell_type": "code",
   "execution_count": 57,
   "id": "6db4046c",
   "metadata": {},
   "outputs": [
    {
     "name": "stdout",
     "output_type": "stream",
     "text": [
      "получение образования\n",
      "операции с недвижимостью\n",
      "проведение свадьбы\n",
      "операции с автомобилем\n"
     ]
    }
   ],
   "source": [
    "def purpose_group(purpose):  #напишем функцию для категоризации целей кредитов\n",
    "    \"\"\"\n",
    "    Возваращает наименование категории цели кредита в зависимости от значения в столбце `purpose`:\n",
    "    - 'операции с автомобилем', если purpose содержит 'авто';\n",
    "    - 'операции с недвижимостью', если purpose содержит 'недвиж' или 'жиль';\n",
    "    - 'проведение свадьбы', если purpose содержит 'свадь';\n",
    "    - 'получение образования', если purpose содержит 'образов'.\n",
    "    \"\"\"\n",
    "    \n",
    "    try:\n",
    "        if 'авто' in purpose:\n",
    "            return 'операции с автомобилем'\n",
    "        if 'недвиж' in purpose or 'жиль' in purpose:\n",
    "            return 'операции с недвижимостью'\n",
    "        if 'свадь' in purpose:\n",
    "            return 'проведение свадьбы'\n",
    "        if 'образов' in purpose:\n",
    "            return 'получение образования'\n",
    "    except:\n",
    "        return 'NA'\n",
    "\n",
    "#проверяем работу функции\n",
    "print(purpose_group('дополнительное образование'))\n",
    "print(purpose_group('строительство недвижимости'))\n",
    "print(purpose_group('сыграть свадьбу'))\n",
    "print(purpose_group('сделка с автомобилем'))"
   ]
  },
  {
   "cell_type": "code",
   "execution_count": 58,
   "id": "db99b3fe",
   "metadata": {
    "scrolled": true
   },
   "outputs": [
    {
     "data": {
      "text/html": [
       "<div>\n",
       "<style scoped>\n",
       "    .dataframe tbody tr th:only-of-type {\n",
       "        vertical-align: middle;\n",
       "    }\n",
       "\n",
       "    .dataframe tbody tr th {\n",
       "        vertical-align: top;\n",
       "    }\n",
       "\n",
       "    .dataframe thead th {\n",
       "        text-align: right;\n",
       "    }\n",
       "</style>\n",
       "<table border=\"1\" class=\"dataframe\">\n",
       "  <thead>\n",
       "    <tr style=\"text-align: right;\">\n",
       "      <th></th>\n",
       "      <th>children</th>\n",
       "      <th>days_employed</th>\n",
       "      <th>dob_years</th>\n",
       "      <th>education_id</th>\n",
       "      <th>family_status_id</th>\n",
       "      <th>gender</th>\n",
       "      <th>income_type</th>\n",
       "      <th>debt</th>\n",
       "      <th>total_income</th>\n",
       "      <th>purpose</th>\n",
       "      <th>total_income_category</th>\n",
       "      <th>purpose_category</th>\n",
       "    </tr>\n",
       "  </thead>\n",
       "  <tbody>\n",
       "    <tr>\n",
       "      <th>0</th>\n",
       "      <td>1</td>\n",
       "      <td>8437</td>\n",
       "      <td>42</td>\n",
       "      <td>0</td>\n",
       "      <td>0</td>\n",
       "      <td>F</td>\n",
       "      <td>сотрудник</td>\n",
       "      <td>0</td>\n",
       "      <td>253875</td>\n",
       "      <td>покупка жилья</td>\n",
       "      <td>B</td>\n",
       "      <td>операции с недвижимостью</td>\n",
       "    </tr>\n",
       "    <tr>\n",
       "      <th>1</th>\n",
       "      <td>1</td>\n",
       "      <td>4024</td>\n",
       "      <td>36</td>\n",
       "      <td>1</td>\n",
       "      <td>0</td>\n",
       "      <td>F</td>\n",
       "      <td>сотрудник</td>\n",
       "      <td>0</td>\n",
       "      <td>112080</td>\n",
       "      <td>приобретение автомобиля</td>\n",
       "      <td>C</td>\n",
       "      <td>операции с автомобилем</td>\n",
       "    </tr>\n",
       "    <tr>\n",
       "      <th>2</th>\n",
       "      <td>0</td>\n",
       "      <td>5623</td>\n",
       "      <td>33</td>\n",
       "      <td>1</td>\n",
       "      <td>0</td>\n",
       "      <td>M</td>\n",
       "      <td>сотрудник</td>\n",
       "      <td>0</td>\n",
       "      <td>145885</td>\n",
       "      <td>покупка жилья</td>\n",
       "      <td>C</td>\n",
       "      <td>операции с недвижимостью</td>\n",
       "    </tr>\n",
       "    <tr>\n",
       "      <th>3</th>\n",
       "      <td>3</td>\n",
       "      <td>4124</td>\n",
       "      <td>32</td>\n",
       "      <td>1</td>\n",
       "      <td>0</td>\n",
       "      <td>M</td>\n",
       "      <td>сотрудник</td>\n",
       "      <td>0</td>\n",
       "      <td>267628</td>\n",
       "      <td>дополнительное образование</td>\n",
       "      <td>B</td>\n",
       "      <td>получение образования</td>\n",
       "    </tr>\n",
       "    <tr>\n",
       "      <th>4</th>\n",
       "      <td>0</td>\n",
       "      <td>14177</td>\n",
       "      <td>53</td>\n",
       "      <td>1</td>\n",
       "      <td>1</td>\n",
       "      <td>F</td>\n",
       "      <td>пенсионер</td>\n",
       "      <td>0</td>\n",
       "      <td>158616</td>\n",
       "      <td>сыграть свадьбу</td>\n",
       "      <td>C</td>\n",
       "      <td>проведение свадьбы</td>\n",
       "    </tr>\n",
       "  </tbody>\n",
       "</table>\n",
       "</div>"
      ],
      "text/plain": [
       "   children  days_employed  dob_years  education_id  family_status_id gender  \\\n",
       "0         1           8437         42             0                 0      F   \n",
       "1         1           4024         36             1                 0      F   \n",
       "2         0           5623         33             1                 0      M   \n",
       "3         3           4124         32             1                 0      M   \n",
       "4         0          14177         53             1                 1      F   \n",
       "\n",
       "  income_type  debt  total_income                     purpose  \\\n",
       "0   сотрудник     0        253875               покупка жилья   \n",
       "1   сотрудник     0        112080     приобретение автомобиля   \n",
       "2   сотрудник     0        145885               покупка жилья   \n",
       "3   сотрудник     0        267628  дополнительное образование   \n",
       "4   пенсионер     0        158616             сыграть свадьбу   \n",
       "\n",
       "  total_income_category          purpose_category  \n",
       "0                     B  операции с недвижимостью  \n",
       "1                     C    операции с автомобилем  \n",
       "2                     C  операции с недвижимостью  \n",
       "3                     B     получение образования  \n",
       "4                     C        проведение свадьбы  "
      ]
     },
     "execution_count": 58,
     "metadata": {},
     "output_type": "execute_result"
    }
   ],
   "source": [
    "#создаём новый столбец `purpose_category` с категориями доходов клиентов\n",
    "data['purpose_category'] = data['purpose'].apply(purpose_group)\n",
    "data.head()"
   ]
  },
  {
   "cell_type": "code",
   "execution_count": 59,
   "id": "c99d2fdd",
   "metadata": {},
   "outputs": [
    {
     "data": {
      "text/plain": [
       "array(['операции с автомобилем', 'операции с недвижимостью',\n",
       "       'получение образования', 'проведение свадьбы'], dtype=object)"
      ]
     },
     "execution_count": 59,
     "metadata": {},
     "output_type": "execute_result"
    }
   ],
   "source": [
    "#проверяем, что все знаяения из столбца `purpose` попали в новые категории = не должно быть значения NA\n",
    "data['purpose_category'].sort_values().unique()"
   ]
  },
  {
   "cell_type": "code",
   "execution_count": 60,
   "id": "e52c5bb5",
   "metadata": {},
   "outputs": [
    {
     "data": {
      "text/html": [
       "<div>\n",
       "<style scoped>\n",
       "    .dataframe tbody tr th:only-of-type {\n",
       "        vertical-align: middle;\n",
       "    }\n",
       "\n",
       "    .dataframe tbody tr th {\n",
       "        vertical-align: top;\n",
       "    }\n",
       "\n",
       "    .dataframe thead th {\n",
       "        text-align: right;\n",
       "    }\n",
       "</style>\n",
       "<table border=\"1\" class=\"dataframe\">\n",
       "  <thead>\n",
       "    <tr style=\"text-align: right;\">\n",
       "      <th>debt</th>\n",
       "      <th>0</th>\n",
       "      <th>1</th>\n",
       "    </tr>\n",
       "    <tr>\n",
       "      <th>purpose_category</th>\n",
       "      <th></th>\n",
       "      <th></th>\n",
       "    </tr>\n",
       "  </thead>\n",
       "  <tbody>\n",
       "    <tr>\n",
       "      <th>операции с автомобилем</th>\n",
       "      <td>3861</td>\n",
       "      <td>397</td>\n",
       "    </tr>\n",
       "    <tr>\n",
       "      <th>операции с недвижимостью</th>\n",
       "      <td>9926</td>\n",
       "      <td>777</td>\n",
       "    </tr>\n",
       "    <tr>\n",
       "      <th>получение образования</th>\n",
       "      <td>3601</td>\n",
       "      <td>369</td>\n",
       "    </tr>\n",
       "    <tr>\n",
       "      <th>проведение свадьбы</th>\n",
       "      <td>2118</td>\n",
       "      <td>181</td>\n",
       "    </tr>\n",
       "  </tbody>\n",
       "</table>\n",
       "</div>"
      ],
      "text/plain": [
       "debt                         0    1\n",
       "purpose_category                   \n",
       "операции с автомобилем    3861  397\n",
       "операции с недвижимостью  9926  777\n",
       "получение образования     3601  369\n",
       "проведение свадьбы        2118  181"
      ]
     },
     "execution_count": 60,
     "metadata": {},
     "output_type": "execute_result"
    }
   ],
   "source": [
    "#построим сводную таблицу по количеству должников по каждой из категорий целей кредитов\n",
    "data_pivot_purpose = data.pivot_table(index=['purpose_category'], columns='debt', values='dob_years', aggfunc='count')\n",
    "data_pivot_purpose"
   ]
  },
  {
   "cell_type": "code",
   "execution_count": 61,
   "id": "7343772b",
   "metadata": {
    "scrolled": true
   },
   "outputs": [
    {
     "data": {
      "text/html": [
       "<div>\n",
       "<style scoped>\n",
       "    .dataframe tbody tr th:only-of-type {\n",
       "        vertical-align: middle;\n",
       "    }\n",
       "\n",
       "    .dataframe tbody tr th {\n",
       "        vertical-align: top;\n",
       "    }\n",
       "\n",
       "    .dataframe thead th {\n",
       "        text-align: right;\n",
       "    }\n",
       "</style>\n",
       "<table border=\"1\" class=\"dataframe\">\n",
       "  <thead>\n",
       "    <tr style=\"text-align: right;\">\n",
       "      <th>debt</th>\n",
       "      <th>0</th>\n",
       "      <th>1</th>\n",
       "      <th>ratio</th>\n",
       "    </tr>\n",
       "    <tr>\n",
       "      <th>purpose_category</th>\n",
       "      <th></th>\n",
       "      <th></th>\n",
       "      <th></th>\n",
       "    </tr>\n",
       "  </thead>\n",
       "  <tbody>\n",
       "    <tr>\n",
       "      <th>операции с автомобилем</th>\n",
       "      <td>3861</td>\n",
       "      <td>397</td>\n",
       "      <td>0.093236</td>\n",
       "    </tr>\n",
       "    <tr>\n",
       "      <th>получение образования</th>\n",
       "      <td>3601</td>\n",
       "      <td>369</td>\n",
       "      <td>0.092947</td>\n",
       "    </tr>\n",
       "    <tr>\n",
       "      <th>проведение свадьбы</th>\n",
       "      <td>2118</td>\n",
       "      <td>181</td>\n",
       "      <td>0.078730</td>\n",
       "    </tr>\n",
       "    <tr>\n",
       "      <th>операции с недвижимостью</th>\n",
       "      <td>9926</td>\n",
       "      <td>777</td>\n",
       "      <td>0.072596</td>\n",
       "    </tr>\n",
       "  </tbody>\n",
       "</table>\n",
       "</div>"
      ],
      "text/plain": [
       "debt                         0    1     ratio\n",
       "purpose_category                             \n",
       "операции с автомобилем    3861  397  0.093236\n",
       "получение образования     3601  369  0.092947\n",
       "проведение свадьбы        2118  181  0.078730\n",
       "операции с недвижимостью  9926  777  0.072596"
      ]
     },
     "execution_count": 61,
     "metadata": {},
     "output_type": "execute_result"
    }
   ],
   "source": [
    "#рассчитаем отношение количество должников к количеству возвращающих кредит в срок в каждой из групп\n",
    "data_pivot_purpose['ratio'] = data_pivot_purpose[1] / (data_pivot_purpose[0] + data_pivot_purpose[1])\n",
    "data_pivot_purpose.sort_values(by='ratio', ascending=False)  #отсортируем таблицу по доле должников"
   ]
  },
  {
   "cell_type": "markdown",
   "id": "4dca992d",
   "metadata": {},
   "source": [
    "**Выводы**\n",
    "\n",
    "Исходя из полученных данных в сводной таблице, можно сделать следующие выводы:\n",
    "* процент должников среди клиентов, которые берут кредит на авто или на образование, примерно равен - 9,3%;\n",
    "* процент должников среди клиентов с кредитами на свадьбу и на недвижимость ниже, чем по остальным категориям - порядка 7,3-7,9%."
   ]
  },
  {
   "cell_type": "markdown",
   "id": "ddf0dbad",
   "metadata": {},
   "source": [
    "### Итоги исследования"
   ]
  },
  {
   "cell_type": "markdown",
   "id": "8e1e9035",
   "metadata": {},
   "source": [
    "Мы проверили четыре гипотезы и установили:"
   ]
  },
  {
   "cell_type": "markdown",
   "id": "b3051605",
   "metadata": {},
   "source": [
    "#### Гипотеза 1: Количество детей клиента влияет на возврат кредита в срок"
   ]
  },
  {
   "cell_type": "markdown",
   "id": "deb57682",
   "metadata": {},
   "source": [
    "По итогам исследования можно сделать вывод, что гипотеза подтвердилась.\n",
    "Доля просрочивших возврат кредита у клиентов без детей ниже (7.5%), чем у клиентов с детьми (8-10%)."
   ]
  },
  {
   "cell_type": "markdown",
   "id": "0791cfb2",
   "metadata": {},
   "source": [
    "#### Гипотеза 2: Семейное положение клиента влияет на возврат кредита в срок"
   ]
  },
  {
   "cell_type": "markdown",
   "id": "b66bbabd",
   "metadata": {},
   "source": [
    "Гипотиза также подтвердилась, доля просрочивших возврат кредита у клиентов, находящихся в браке, разводе либо вдовцов/вдов ниже (6,6-7,6%), чем у клиентов в гражданском браке либо вне брака (9-10%)."
   ]
  },
  {
   "cell_type": "markdown",
   "id": "09f9d1fb",
   "metadata": {},
   "source": [
    "#### Гипотеза 3. Уровень дохода влияет на возврат кредита в срок"
   ]
  },
  {
   "cell_type": "markdown",
   "id": "373dae24",
   "metadata": {},
   "source": [
    "Гипотиза также подтвердилась, нельзя сказать, что, чем выше доход клиента, тем более вероятно, что он вернёт кредит в срок, но по данным видно, что  доля просрочивших возврат кредита у клиентов с доходами от 50001 до 200000 (категория С) выше, чем в категориях B и D (8,5% против 7% и 6,1%). По категориям A и E недостаточно данных для формирования выводов."
   ]
  },
  {
   "cell_type": "markdown",
   "id": "a93084e1",
   "metadata": {},
   "source": [
    "#### Гипотеза 4. Цель кредита влияет на возврат кредита в срок."
   ]
  },
  {
   "cell_type": "markdown",
   "id": "6c03e632",
   "metadata": {},
   "source": [
    "Гипотиза также подтвердилась, доля просрочивших возврат кредита у клиентов с кридитами на автомобили и образование выше, чем у клиентов с кредитами на свадьбы и недвижимость (9,3% против 7,3-7,9%)."
   ]
  },
  {
   "cell_type": "markdown",
   "id": "74250aae",
   "metadata": {},
   "source": [
    "## Общий вывод:"
   ]
  },
  {
   "cell_type": "markdown",
   "id": "7ef16411",
   "metadata": {},
   "source": [
    "По результатам исследования можно сделать вывод о том, что в зависимости от факторов наличия детей, семейного положения, уровня дохода и цели кредита есть влияние на показатель возврата кредита в срок порядка 2-3,5%, на которые стоит обратить внимание. В данных по некоторым категориям слишком мало значений, что не позволяет сделать какие-либо выводы о клиентах этих категорий. Для улучшения достоверности результатов исследования рекомендуется провести исследование на более широкой выборке клиентов."
   ]
  }
 ],
 "metadata": {
  "ExecuteTimeLog": [
   {
    "duration": 902,
    "start_time": "2022-02-12T13:23:00.227Z"
   },
   {
    "duration": 28,
    "start_time": "2022-02-12T13:23:01.132Z"
   },
   {
    "duration": 19,
    "start_time": "2022-02-12T13:23:01.163Z"
   },
   {
    "duration": 34,
    "start_time": "2022-02-12T13:23:01.185Z"
   },
   {
    "duration": 64,
    "start_time": "2022-02-12T13:23:01.221Z"
   },
   {
    "duration": 9,
    "start_time": "2022-02-12T13:23:01.288Z"
   },
   {
    "duration": 8,
    "start_time": "2022-02-12T13:23:01.299Z"
   },
   {
    "duration": 5,
    "start_time": "2022-02-12T13:23:01.310Z"
   },
   {
    "duration": 15,
    "start_time": "2022-02-12T13:23:01.364Z"
   },
   {
    "duration": 5,
    "start_time": "2022-02-12T13:23:01.381Z"
   },
   {
    "duration": 10,
    "start_time": "2022-02-12T13:23:01.388Z"
   },
   {
    "duration": 60,
    "start_time": "2022-02-12T13:23:01.401Z"
   },
   {
    "duration": 14,
    "start_time": "2022-02-12T13:23:01.464Z"
   },
   {
    "duration": 5,
    "start_time": "2022-02-12T13:23:01.480Z"
   },
   {
    "duration": 24,
    "start_time": "2022-02-12T13:23:01.487Z"
   },
   {
    "duration": 64,
    "start_time": "2022-02-12T13:23:01.513Z"
   },
   {
    "duration": 20,
    "start_time": "2022-02-12T13:23:01.580Z"
   },
   {
    "duration": 8,
    "start_time": "2022-02-12T13:23:01.602Z"
   },
   {
    "duration": 65,
    "start_time": "2022-02-12T13:23:01.612Z"
   },
   {
    "duration": 5,
    "start_time": "2022-02-12T13:23:01.680Z"
   },
   {
    "duration": 23,
    "start_time": "2022-02-12T13:23:01.687Z"
   },
   {
    "duration": 46,
    "start_time": "2022-02-12T13:23:01.713Z"
   },
   {
    "duration": 13,
    "start_time": "2022-02-12T13:23:01.761Z"
   },
   {
    "duration": 20,
    "start_time": "2022-02-12T13:23:01.776Z"
   },
   {
    "duration": 18,
    "start_time": "2022-02-12T13:23:01.798Z"
   },
   {
    "duration": 45,
    "start_time": "2022-02-12T13:23:01.818Z"
   },
   {
    "duration": 7,
    "start_time": "2022-02-12T13:23:01.871Z"
   },
   {
    "duration": 6,
    "start_time": "2022-02-12T13:23:01.882Z"
   },
   {
    "duration": 6,
    "start_time": "2022-02-12T13:23:01.891Z"
   },
   {
    "duration": 11,
    "start_time": "2022-02-12T13:23:01.900Z"
   },
   {
    "duration": 59,
    "start_time": "2022-02-12T13:23:01.914Z"
   },
   {
    "duration": 19,
    "start_time": "2022-02-12T13:23:01.976Z"
   },
   {
    "duration": 66,
    "start_time": "2022-02-12T13:23:01.998Z"
   },
   {
    "duration": 25,
    "start_time": "2022-02-12T13:23:02.066Z"
   },
   {
    "duration": 21,
    "start_time": "2022-02-12T13:23:02.094Z"
   },
   {
    "duration": 70,
    "start_time": "2022-02-12T13:23:02.117Z"
   },
   {
    "duration": 22,
    "start_time": "2022-02-12T13:23:02.189Z"
   },
   {
    "duration": 21,
    "start_time": "2022-02-12T13:23:02.214Z"
   },
   {
    "duration": 12,
    "start_time": "2022-02-12T13:23:02.260Z"
   },
   {
    "duration": 14,
    "start_time": "2022-02-12T13:23:02.274Z"
   },
   {
    "duration": 10,
    "start_time": "2022-02-12T13:23:02.290Z"
   },
   {
    "duration": 15,
    "start_time": "2022-02-12T13:23:02.302Z"
   },
   {
    "duration": 17,
    "start_time": "2022-02-12T13:23:02.360Z"
   },
   {
    "duration": 27,
    "start_time": "2022-02-12T13:23:02.380Z"
   },
   {
    "duration": 12,
    "start_time": "2022-02-12T13:23:02.410Z"
   },
   {
    "duration": 51,
    "start_time": "2022-02-12T13:23:02.424Z"
   },
   {
    "duration": 5,
    "start_time": "2022-02-12T13:23:02.477Z"
   },
   {
    "duration": 15,
    "start_time": "2022-02-12T13:23:02.484Z"
   },
   {
    "duration": 7,
    "start_time": "2022-02-12T13:23:02.502Z"
   },
   {
    "duration": 69,
    "start_time": "2022-02-12T13:23:02.511Z"
   },
   {
    "duration": 26,
    "start_time": "2022-02-12T13:23:02.582Z"
   },
   {
    "duration": 12,
    "start_time": "2022-02-12T13:23:02.610Z"
   },
   {
    "duration": 54,
    "start_time": "2022-02-12T13:23:02.624Z"
   },
   {
    "duration": 8,
    "start_time": "2022-02-12T13:23:02.680Z"
   },
   {
    "duration": 29,
    "start_time": "2022-02-12T13:23:02.690Z"
   },
   {
    "duration": 54,
    "start_time": "2022-02-12T13:23:02.721Z"
   },
   {
    "duration": 29,
    "start_time": "2022-02-12T13:23:02.778Z"
   },
   {
    "duration": 12,
    "start_time": "2022-02-12T13:23:02.809Z"
   },
   {
    "duration": 535,
    "start_time": "2022-02-13T16:59:39.448Z"
   },
   {
    "duration": 968,
    "start_time": "2022-02-13T16:59:42.243Z"
   },
   {
    "duration": 32,
    "start_time": "2022-02-13T16:59:43.215Z"
   },
   {
    "duration": 204,
    "start_time": "2022-02-13T16:59:43.251Z"
   },
   {
    "duration": 222,
    "start_time": "2022-02-13T16:59:43.458Z"
   },
   {
    "duration": 300,
    "start_time": "2022-02-13T16:59:43.682Z"
   },
   {
    "duration": 175,
    "start_time": "2022-02-13T16:59:43.984Z"
   },
   {
    "duration": 209,
    "start_time": "2022-02-13T16:59:44.162Z"
   },
   {
    "duration": 265,
    "start_time": "2022-02-13T16:59:44.376Z"
   },
   {
    "duration": 225,
    "start_time": "2022-02-13T16:59:44.645Z"
   },
   {
    "duration": 210,
    "start_time": "2022-02-13T16:59:44.873Z"
   },
   {
    "duration": 347,
    "start_time": "2022-02-13T16:59:45.086Z"
   },
   {
    "duration": 303,
    "start_time": "2022-02-13T16:59:45.436Z"
   },
   {
    "duration": 222,
    "start_time": "2022-02-13T16:59:45.742Z"
   },
   {
    "duration": 247,
    "start_time": "2022-02-13T16:59:45.967Z"
   },
   {
    "duration": 317,
    "start_time": "2022-02-13T16:59:46.217Z"
   },
   {
    "duration": 331,
    "start_time": "2022-02-13T16:59:46.536Z"
   },
   {
    "duration": 211,
    "start_time": "2022-02-13T16:59:46.870Z"
   },
   {
    "duration": 310,
    "start_time": "2022-02-13T16:59:47.084Z"
   },
   {
    "duration": 402,
    "start_time": "2022-02-13T16:59:47.396Z"
   },
   {
    "duration": 238,
    "start_time": "2022-02-13T16:59:47.802Z"
   },
   {
    "duration": 372,
    "start_time": "2022-02-13T16:59:48.043Z"
   },
   {
    "duration": 227,
    "start_time": "2022-02-13T16:59:48.418Z"
   },
   {
    "duration": 233,
    "start_time": "2022-02-13T16:59:48.648Z"
   },
   {
    "duration": 248,
    "start_time": "2022-02-13T16:59:48.884Z"
   },
   {
    "duration": 297,
    "start_time": "2022-02-13T16:59:49.135Z"
   },
   {
    "duration": 286,
    "start_time": "2022-02-13T16:59:49.435Z"
   },
   {
    "duration": 300,
    "start_time": "2022-02-13T16:59:49.726Z"
   },
   {
    "duration": 369,
    "start_time": "2022-02-13T16:59:50.029Z"
   },
   {
    "duration": 307,
    "start_time": "2022-02-13T16:59:50.401Z"
   },
   {
    "duration": 317,
    "start_time": "2022-02-13T16:59:50.710Z"
   },
   {
    "duration": 302,
    "start_time": "2022-02-13T16:59:51.030Z"
   },
   {
    "duration": 353,
    "start_time": "2022-02-13T16:59:51.335Z"
   },
   {
    "duration": 337,
    "start_time": "2022-02-13T16:59:51.691Z"
   },
   {
    "duration": 342,
    "start_time": "2022-02-13T16:59:52.031Z"
   },
   {
    "duration": 288,
    "start_time": "2022-02-13T16:59:52.375Z"
   },
   {
    "duration": 303,
    "start_time": "2022-02-13T16:59:52.666Z"
   },
   {
    "duration": 18,
    "start_time": "2022-02-13T16:59:56.993Z"
   },
   {
    "duration": 10,
    "start_time": "2022-02-13T17:00:00.563Z"
   },
   {
    "duration": 14,
    "start_time": "2022-02-13T17:00:06.169Z"
   },
   {
    "duration": 13,
    "start_time": "2022-02-13T17:00:16.133Z"
   },
   {
    "duration": 16,
    "start_time": "2022-02-13T17:00:20.392Z"
   },
   {
    "duration": 14,
    "start_time": "2022-02-13T17:00:23.901Z"
   },
   {
    "duration": 17,
    "start_time": "2022-02-13T17:00:34.266Z"
   },
   {
    "duration": 22,
    "start_time": "2022-02-13T17:00:38.158Z"
   },
   {
    "duration": 5,
    "start_time": "2022-02-13T17:01:05.994Z"
   },
   {
    "duration": 57,
    "start_time": "2022-02-13T17:01:33.267Z"
   },
   {
    "duration": 85,
    "start_time": "2022-02-13T17:01:41.971Z"
   },
   {
    "duration": 44,
    "start_time": "2022-02-13T17:01:57.247Z"
   },
   {
    "duration": 6,
    "start_time": "2022-02-13T17:02:00.557Z"
   },
   {
    "duration": 5,
    "start_time": "2022-02-13T17:02:04.307Z"
   },
   {
    "duration": 8022,
    "start_time": "2022-02-13T17:02:07.756Z"
   },
   {
    "duration": 24,
    "start_time": "2022-02-13T17:02:53.657Z"
   },
   {
    "duration": 19,
    "start_time": "2022-02-13T17:04:21.890Z"
   },
   {
    "duration": 27,
    "start_time": "2022-02-13T17:04:26.720Z"
   },
   {
    "duration": 20,
    "start_time": "2022-02-13T17:04:30.155Z"
   }
  ],
  "kernelspec": {
   "display_name": "Python 3 (ipykernel)",
   "language": "python",
   "name": "python3"
  },
  "language_info": {
   "codemirror_mode": {
    "name": "ipython",
    "version": 3
   },
   "file_extension": ".py",
   "mimetype": "text/x-python",
   "name": "python",
   "nbconvert_exporter": "python",
   "pygments_lexer": "ipython3",
   "version": "3.9.7"
  },
  "toc": {
   "base_numbering": "1",
   "nav_menu": {},
   "number_sections": true,
   "sideBar": true,
   "skip_h1_title": true,
   "title_cell": "Содержание",
   "title_sidebar": "Contents",
   "toc_cell": false,
   "toc_position": {
    "height": "calc(100% - 180px)",
    "left": "10px",
    "top": "150px",
    "width": "240px"
   },
   "toc_section_display": true,
   "toc_window_display": true
  }
 },
 "nbformat": 4,
 "nbformat_minor": 5
}
