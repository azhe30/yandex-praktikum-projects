{
 "cells": [
  {
   "cell_type": "markdown",
   "metadata": {},
   "source": [
    "# Выбор локации для скважины"
   ]
  },
  {
   "cell_type": "markdown",
   "metadata": {},
   "source": [
    "## Обзор данных"
   ]
  },
  {
   "cell_type": "code",
   "execution_count": 1,
   "metadata": {},
   "outputs": [],
   "source": [
    "import pandas as pd\n",
    "import numpy as np\n",
    "import seaborn as sns\n",
    "import matplotlib.pyplot as plt\n",
    "\n",
    "from sklearn.model_selection import train_test_split\n",
    "from sklearn.linear_model import LinearRegression\n",
    "from sklearn.metrics import mean_squared_error\n",
    "\n",
    "pd.set_option('display.max_columns', None);  # Display all dataframe columns"
   ]
  },
  {
   "cell_type": "code",
   "execution_count": 2,
   "metadata": {},
   "outputs": [],
   "source": [
    "df_0 = pd.read_csv('geo_data_0.csv')  #чтение файла `geo_data_0.csv` и сохранение в переменной `df0`\n",
    "df_1 = pd.read_csv('geo_data_1.csv')  #чтение файла `geo_data_1.csv` и сохранение в переменной `df1`\n",
    "df_2 = pd.read_csv('geo_data_2.csv')  #чтение файла `geo_data_2.csv` и сохранение в переменной `df2`"
   ]
  },
  {
   "cell_type": "code",
   "execution_count": 3,
   "metadata": {},
   "outputs": [
    {
     "data": {
      "text/html": [
       "<div>\n",
       "<style scoped>\n",
       "    .dataframe tbody tr th:only-of-type {\n",
       "        vertical-align: middle;\n",
       "    }\n",
       "\n",
       "    .dataframe tbody tr th {\n",
       "        vertical-align: top;\n",
       "    }\n",
       "\n",
       "    .dataframe thead th {\n",
       "        text-align: right;\n",
       "    }\n",
       "</style>\n",
       "<table border=\"1\" class=\"dataframe\">\n",
       "  <thead>\n",
       "    <tr style=\"text-align: right;\">\n",
       "      <th></th>\n",
       "      <th>id</th>\n",
       "      <th>f0</th>\n",
       "      <th>f1</th>\n",
       "      <th>f2</th>\n",
       "      <th>product</th>\n",
       "    </tr>\n",
       "  </thead>\n",
       "  <tbody>\n",
       "    <tr>\n",
       "      <th>66928</th>\n",
       "      <td>vDa1U</td>\n",
       "      <td>1.767013</td>\n",
       "      <td>-0.378328</td>\n",
       "      <td>4.427450</td>\n",
       "      <td>140.601224</td>\n",
       "    </tr>\n",
       "    <tr>\n",
       "      <th>31816</th>\n",
       "      <td>zDcrv</td>\n",
       "      <td>-0.677174</td>\n",
       "      <td>0.580010</td>\n",
       "      <td>3.560963</td>\n",
       "      <td>60.018827</td>\n",
       "    </tr>\n",
       "    <tr>\n",
       "      <th>13999</th>\n",
       "      <td>lJd0d</td>\n",
       "      <td>0.421885</td>\n",
       "      <td>0.918719</td>\n",
       "      <td>4.056965</td>\n",
       "      <td>146.900678</td>\n",
       "    </tr>\n",
       "    <tr>\n",
       "      <th>42705</th>\n",
       "      <td>kzj0J</td>\n",
       "      <td>1.139184</td>\n",
       "      <td>0.414792</td>\n",
       "      <td>4.076181</td>\n",
       "      <td>76.216981</td>\n",
       "    </tr>\n",
       "    <tr>\n",
       "      <th>71546</th>\n",
       "      <td>9WYas</td>\n",
       "      <td>1.124779</td>\n",
       "      <td>-0.411301</td>\n",
       "      <td>0.102430</td>\n",
       "      <td>105.639998</td>\n",
       "    </tr>\n",
       "  </tbody>\n",
       "</table>\n",
       "</div>"
      ],
      "text/plain": [
       "          id        f0        f1        f2     product\n",
       "66928  vDa1U  1.767013 -0.378328  4.427450  140.601224\n",
       "31816  zDcrv -0.677174  0.580010  3.560963   60.018827\n",
       "13999  lJd0d  0.421885  0.918719  4.056965  146.900678\n",
       "42705  kzj0J  1.139184  0.414792  4.076181   76.216981\n",
       "71546  9WYas  1.124779 -0.411301  0.102430  105.639998"
      ]
     },
     "metadata": {},
     "output_type": "display_data"
    },
    {
     "data": {
      "text/html": [
       "<div>\n",
       "<style scoped>\n",
       "    .dataframe tbody tr th:only-of-type {\n",
       "        vertical-align: middle;\n",
       "    }\n",
       "\n",
       "    .dataframe tbody tr th {\n",
       "        vertical-align: top;\n",
       "    }\n",
       "\n",
       "    .dataframe thead th {\n",
       "        text-align: right;\n",
       "    }\n",
       "</style>\n",
       "<table border=\"1\" class=\"dataframe\">\n",
       "  <thead>\n",
       "    <tr style=\"text-align: right;\">\n",
       "      <th></th>\n",
       "      <th>id</th>\n",
       "      <th>f0</th>\n",
       "      <th>f1</th>\n",
       "      <th>f2</th>\n",
       "      <th>product</th>\n",
       "    </tr>\n",
       "  </thead>\n",
       "  <tbody>\n",
       "    <tr>\n",
       "      <th>74991</th>\n",
       "      <td>fgoNG</td>\n",
       "      <td>5.530270</td>\n",
       "      <td>-1.283836</td>\n",
       "      <td>3.004520</td>\n",
       "      <td>80.859783</td>\n",
       "    </tr>\n",
       "    <tr>\n",
       "      <th>78474</th>\n",
       "      <td>eFFFD</td>\n",
       "      <td>12.922077</td>\n",
       "      <td>0.126694</td>\n",
       "      <td>0.999873</td>\n",
       "      <td>26.953261</td>\n",
       "    </tr>\n",
       "    <tr>\n",
       "      <th>28627</th>\n",
       "      <td>5AbTo</td>\n",
       "      <td>12.857763</td>\n",
       "      <td>-1.713534</td>\n",
       "      <td>-0.006662</td>\n",
       "      <td>0.000000</td>\n",
       "    </tr>\n",
       "    <tr>\n",
       "      <th>69322</th>\n",
       "      <td>SjV5r</td>\n",
       "      <td>-8.993127</td>\n",
       "      <td>-1.448482</td>\n",
       "      <td>-0.005114</td>\n",
       "      <td>3.179103</td>\n",
       "    </tr>\n",
       "    <tr>\n",
       "      <th>49964</th>\n",
       "      <td>7546e</td>\n",
       "      <td>0.100432</td>\n",
       "      <td>-3.843554</td>\n",
       "      <td>2.992677</td>\n",
       "      <td>80.859783</td>\n",
       "    </tr>\n",
       "  </tbody>\n",
       "</table>\n",
       "</div>"
      ],
      "text/plain": [
       "          id         f0        f1        f2    product\n",
       "74991  fgoNG   5.530270 -1.283836  3.004520  80.859783\n",
       "78474  eFFFD  12.922077  0.126694  0.999873  26.953261\n",
       "28627  5AbTo  12.857763 -1.713534 -0.006662   0.000000\n",
       "69322  SjV5r  -8.993127 -1.448482 -0.005114   3.179103\n",
       "49964  7546e   0.100432 -3.843554  2.992677  80.859783"
      ]
     },
     "metadata": {},
     "output_type": "display_data"
    },
    {
     "data": {
      "text/html": [
       "<div>\n",
       "<style scoped>\n",
       "    .dataframe tbody tr th:only-of-type {\n",
       "        vertical-align: middle;\n",
       "    }\n",
       "\n",
       "    .dataframe tbody tr th {\n",
       "        vertical-align: top;\n",
       "    }\n",
       "\n",
       "    .dataframe thead th {\n",
       "        text-align: right;\n",
       "    }\n",
       "</style>\n",
       "<table border=\"1\" class=\"dataframe\">\n",
       "  <thead>\n",
       "    <tr style=\"text-align: right;\">\n",
       "      <th></th>\n",
       "      <th>id</th>\n",
       "      <th>f0</th>\n",
       "      <th>f1</th>\n",
       "      <th>f2</th>\n",
       "      <th>product</th>\n",
       "    </tr>\n",
       "  </thead>\n",
       "  <tbody>\n",
       "    <tr>\n",
       "      <th>93128</th>\n",
       "      <td>HwBp1</td>\n",
       "      <td>4.720061</td>\n",
       "      <td>-3.841843</td>\n",
       "      <td>4.612302</td>\n",
       "      <td>77.240431</td>\n",
       "    </tr>\n",
       "    <tr>\n",
       "      <th>95946</th>\n",
       "      <td>k0boE</td>\n",
       "      <td>1.737985</td>\n",
       "      <td>0.033010</td>\n",
       "      <td>2.551570</td>\n",
       "      <td>74.584153</td>\n",
       "    </tr>\n",
       "    <tr>\n",
       "      <th>68255</th>\n",
       "      <td>iYJh3</td>\n",
       "      <td>2.551501</td>\n",
       "      <td>-0.521780</td>\n",
       "      <td>-1.140032</td>\n",
       "      <td>29.725987</td>\n",
       "    </tr>\n",
       "    <tr>\n",
       "      <th>48601</th>\n",
       "      <td>ScLYp</td>\n",
       "      <td>1.325139</td>\n",
       "      <td>0.294231</td>\n",
       "      <td>1.887168</td>\n",
       "      <td>126.716454</td>\n",
       "    </tr>\n",
       "    <tr>\n",
       "      <th>54099</th>\n",
       "      <td>kZZcS</td>\n",
       "      <td>-0.928131</td>\n",
       "      <td>1.745928</td>\n",
       "      <td>1.852076</td>\n",
       "      <td>76.577655</td>\n",
       "    </tr>\n",
       "  </tbody>\n",
       "</table>\n",
       "</div>"
      ],
      "text/plain": [
       "          id        f0        f1        f2     product\n",
       "93128  HwBp1  4.720061 -3.841843  4.612302   77.240431\n",
       "95946  k0boE  1.737985  0.033010  2.551570   74.584153\n",
       "68255  iYJh3  2.551501 -0.521780 -1.140032   29.725987\n",
       "48601  ScLYp  1.325139  0.294231  1.887168  126.716454\n",
       "54099  kZZcS -0.928131  1.745928  1.852076   76.577655"
      ]
     },
     "metadata": {},
     "output_type": "display_data"
    }
   ],
   "source": [
    "display(df_0.sample(5)) # просмотр 5 строк таблицы `df0`\n",
    "display(df_1.sample(5)) # просмотр 5 строк таблицы `df1`\n",
    "display(df_2.sample(5)) # просмотр 5 строк таблицы `df2`"
   ]
  },
  {
   "cell_type": "code",
   "execution_count": 4,
   "metadata": {},
   "outputs": [
    {
     "name": "stdout",
     "output_type": "stream",
     "text": [
      "<class 'pandas.core.frame.DataFrame'>\n",
      "RangeIndex: 100000 entries, 0 to 99999\n",
      "Data columns (total 5 columns):\n",
      " #   Column   Non-Null Count   Dtype  \n",
      "---  ------   --------------   -----  \n",
      " 0   id       100000 non-null  object \n",
      " 1   f0       100000 non-null  float64\n",
      " 2   f1       100000 non-null  float64\n",
      " 3   f2       100000 non-null  float64\n",
      " 4   product  100000 non-null  float64\n",
      "dtypes: float64(4), object(1)\n",
      "memory usage: 3.8+ MB\n"
     ]
    }
   ],
   "source": [
    "df_0.info() #получение общей информации о таблице `df0`"
   ]
  },
  {
   "cell_type": "code",
   "execution_count": 5,
   "metadata": {},
   "outputs": [
    {
     "name": "stdout",
     "output_type": "stream",
     "text": [
      "<class 'pandas.core.frame.DataFrame'>\n",
      "RangeIndex: 100000 entries, 0 to 99999\n",
      "Data columns (total 5 columns):\n",
      " #   Column   Non-Null Count   Dtype  \n",
      "---  ------   --------------   -----  \n",
      " 0   id       100000 non-null  object \n",
      " 1   f0       100000 non-null  float64\n",
      " 2   f1       100000 non-null  float64\n",
      " 3   f2       100000 non-null  float64\n",
      " 4   product  100000 non-null  float64\n",
      "dtypes: float64(4), object(1)\n",
      "memory usage: 3.8+ MB\n"
     ]
    }
   ],
   "source": [
    "df_1.info() #получение общей информации о таблице `df1`"
   ]
  },
  {
   "cell_type": "code",
   "execution_count": 6,
   "metadata": {},
   "outputs": [
    {
     "name": "stdout",
     "output_type": "stream",
     "text": [
      "<class 'pandas.core.frame.DataFrame'>\n",
      "RangeIndex: 100000 entries, 0 to 99999\n",
      "Data columns (total 5 columns):\n",
      " #   Column   Non-Null Count   Dtype  \n",
      "---  ------   --------------   -----  \n",
      " 0   id       100000 non-null  object \n",
      " 1   f0       100000 non-null  float64\n",
      " 2   f1       100000 non-null  float64\n",
      " 3   f2       100000 non-null  float64\n",
      " 4   product  100000 non-null  float64\n",
      "dtypes: float64(4), object(1)\n",
      "memory usage: 3.8+ MB\n"
     ]
    }
   ],
   "source": [
    "df_2.info() #получение общей информации о таблице `df2`"
   ]
  },
  {
   "cell_type": "markdown",
   "metadata": {},
   "source": [
    "В таблицах по 5 столбцов. Типы данных в столбцах: object и float64.\n",
    "\n",
    "Согласно документации к данным:\n",
    "* `id` — уникальный идентификатор скважины;\n",
    "* `f0, f1, f2` — три признака точек (неважно, что они означают, но сами признаки значимы);\n",
    "* `product` — объём запасов в скважине (тыс. баррелей).\n",
    "\n",
    "Целевой признак для модели - `product`.\n",
    "\n",
    "Названия столбцов корректные в соответствие с хорошим стилем, исправление названий не требуется.\n",
    "\n",
    "Количество значений в столбцах одинаковое, значит, пропущенных значений нет."
   ]
  },
  {
   "cell_type": "markdown",
   "metadata": {},
   "source": [
    "### Выводы"
   ]
  },
  {
   "cell_type": "markdown",
   "metadata": {},
   "source": [
    "В каждой строке таблиц `df0`, `df1` и `df2` данные о скважинах трёх регионов: идентификатор скважины, признаки точек и объём запасов сырья. \n",
    "\n",
    "Предварительно можно утверждать, что, данных достаточно для прогнозирования и расчёта прибыли и рисков. Пропущенных значений в данных нет, заголовки столбцов корректные в соответствие с хорошим стилем.\n",
    "\n",
    "Чтобы двигаться дальше, необходимо проверить данные на наличие выбросов и дубликатов."
   ]
  },
  {
   "cell_type": "markdown",
   "metadata": {},
   "source": [
    "## Предобработка данных"
   ]
  },
  {
   "cell_type": "markdown",
   "metadata": {},
   "source": [
    "### Проверка на  дубликаты"
   ]
  },
  {
   "cell_type": "markdown",
   "metadata": {},
   "source": [
    "Проверим таблицу на наличие явных дубликатов."
   ]
  },
  {
   "cell_type": "code",
   "execution_count": 7,
   "metadata": {},
   "outputs": [
    {
     "name": "stdout",
     "output_type": "stream",
     "text": [
      "Дубликатов в таблице df_0: 0\n",
      "Дубликатов в таблице df_1: 0\n",
      "Дубликатов в таблице df_2: 0\n"
     ]
    }
   ],
   "source": [
    "print ('Дубликатов в таблице df_0:', df_0.duplicated().sum())\n",
    "print ('Дубликатов в таблице df_1:', df_1.duplicated().sum())\n",
    "print ('Дубликатов в таблице df_2:', df_2.duplicated().sum())"
   ]
  },
  {
   "cell_type": "markdown",
   "metadata": {},
   "source": [
    "**Выводы**\n",
    "\n",
    "Явные дубликаты не обнаружены."
   ]
  },
  {
   "cell_type": "markdown",
   "metadata": {},
   "source": [
    "### Проверка данных на аномалии"
   ]
  },
  {
   "cell_type": "code",
   "execution_count": 8,
   "metadata": {},
   "outputs": [
    {
     "data": {
      "text/html": [
       "<div>\n",
       "<style scoped>\n",
       "    .dataframe tbody tr th:only-of-type {\n",
       "        vertical-align: middle;\n",
       "    }\n",
       "\n",
       "    .dataframe tbody tr th {\n",
       "        vertical-align: top;\n",
       "    }\n",
       "\n",
       "    .dataframe thead th {\n",
       "        text-align: right;\n",
       "    }\n",
       "</style>\n",
       "<table border=\"1\" class=\"dataframe\">\n",
       "  <thead>\n",
       "    <tr style=\"text-align: right;\">\n",
       "      <th></th>\n",
       "      <th>f0</th>\n",
       "      <th>f1</th>\n",
       "      <th>f2</th>\n",
       "      <th>product</th>\n",
       "    </tr>\n",
       "  </thead>\n",
       "  <tbody>\n",
       "    <tr>\n",
       "      <th>count</th>\n",
       "      <td>100000.000000</td>\n",
       "      <td>100000.000000</td>\n",
       "      <td>100000.000000</td>\n",
       "      <td>100000.000000</td>\n",
       "    </tr>\n",
       "    <tr>\n",
       "      <th>mean</th>\n",
       "      <td>0.500419</td>\n",
       "      <td>0.250143</td>\n",
       "      <td>2.502647</td>\n",
       "      <td>92.500000</td>\n",
       "    </tr>\n",
       "    <tr>\n",
       "      <th>std</th>\n",
       "      <td>0.871832</td>\n",
       "      <td>0.504433</td>\n",
       "      <td>3.248248</td>\n",
       "      <td>44.288691</td>\n",
       "    </tr>\n",
       "    <tr>\n",
       "      <th>min</th>\n",
       "      <td>-1.408605</td>\n",
       "      <td>-0.848218</td>\n",
       "      <td>-12.088328</td>\n",
       "      <td>0.000000</td>\n",
       "    </tr>\n",
       "    <tr>\n",
       "      <th>25%</th>\n",
       "      <td>-0.072580</td>\n",
       "      <td>-0.200881</td>\n",
       "      <td>0.287748</td>\n",
       "      <td>56.497507</td>\n",
       "    </tr>\n",
       "    <tr>\n",
       "      <th>50%</th>\n",
       "      <td>0.502360</td>\n",
       "      <td>0.250252</td>\n",
       "      <td>2.515969</td>\n",
       "      <td>91.849972</td>\n",
       "    </tr>\n",
       "    <tr>\n",
       "      <th>75%</th>\n",
       "      <td>1.073581</td>\n",
       "      <td>0.700646</td>\n",
       "      <td>4.715088</td>\n",
       "      <td>128.564089</td>\n",
       "    </tr>\n",
       "    <tr>\n",
       "      <th>max</th>\n",
       "      <td>2.362331</td>\n",
       "      <td>1.343769</td>\n",
       "      <td>16.003790</td>\n",
       "      <td>185.364347</td>\n",
       "    </tr>\n",
       "  </tbody>\n",
       "</table>\n",
       "</div>"
      ],
      "text/plain": [
       "                  f0             f1             f2        product\n",
       "count  100000.000000  100000.000000  100000.000000  100000.000000\n",
       "mean        0.500419       0.250143       2.502647      92.500000\n",
       "std         0.871832       0.504433       3.248248      44.288691\n",
       "min        -1.408605      -0.848218     -12.088328       0.000000\n",
       "25%        -0.072580      -0.200881       0.287748      56.497507\n",
       "50%         0.502360       0.250252       2.515969      91.849972\n",
       "75%         1.073581       0.700646       4.715088     128.564089\n",
       "max         2.362331       1.343769      16.003790     185.364347"
      ]
     },
     "metadata": {},
     "output_type": "display_data"
    },
    {
     "data": {
      "text/html": [
       "<div>\n",
       "<style scoped>\n",
       "    .dataframe tbody tr th:only-of-type {\n",
       "        vertical-align: middle;\n",
       "    }\n",
       "\n",
       "    .dataframe tbody tr th {\n",
       "        vertical-align: top;\n",
       "    }\n",
       "\n",
       "    .dataframe thead th {\n",
       "        text-align: right;\n",
       "    }\n",
       "</style>\n",
       "<table border=\"1\" class=\"dataframe\">\n",
       "  <thead>\n",
       "    <tr style=\"text-align: right;\">\n",
       "      <th></th>\n",
       "      <th>f0</th>\n",
       "      <th>f1</th>\n",
       "      <th>f2</th>\n",
       "      <th>product</th>\n",
       "    </tr>\n",
       "  </thead>\n",
       "  <tbody>\n",
       "    <tr>\n",
       "      <th>count</th>\n",
       "      <td>100000.000000</td>\n",
       "      <td>100000.000000</td>\n",
       "      <td>100000.000000</td>\n",
       "      <td>100000.000000</td>\n",
       "    </tr>\n",
       "    <tr>\n",
       "      <th>mean</th>\n",
       "      <td>1.141296</td>\n",
       "      <td>-4.796579</td>\n",
       "      <td>2.494541</td>\n",
       "      <td>68.825000</td>\n",
       "    </tr>\n",
       "    <tr>\n",
       "      <th>std</th>\n",
       "      <td>8.965932</td>\n",
       "      <td>5.119872</td>\n",
       "      <td>1.703572</td>\n",
       "      <td>45.944423</td>\n",
       "    </tr>\n",
       "    <tr>\n",
       "      <th>min</th>\n",
       "      <td>-31.609576</td>\n",
       "      <td>-26.358598</td>\n",
       "      <td>-0.018144</td>\n",
       "      <td>0.000000</td>\n",
       "    </tr>\n",
       "    <tr>\n",
       "      <th>25%</th>\n",
       "      <td>-6.298551</td>\n",
       "      <td>-8.267985</td>\n",
       "      <td>1.000021</td>\n",
       "      <td>26.953261</td>\n",
       "    </tr>\n",
       "    <tr>\n",
       "      <th>50%</th>\n",
       "      <td>1.153055</td>\n",
       "      <td>-4.813172</td>\n",
       "      <td>2.011479</td>\n",
       "      <td>57.085625</td>\n",
       "    </tr>\n",
       "    <tr>\n",
       "      <th>75%</th>\n",
       "      <td>8.621015</td>\n",
       "      <td>-1.332816</td>\n",
       "      <td>3.999904</td>\n",
       "      <td>107.813044</td>\n",
       "    </tr>\n",
       "    <tr>\n",
       "      <th>max</th>\n",
       "      <td>29.421755</td>\n",
       "      <td>18.734063</td>\n",
       "      <td>5.019721</td>\n",
       "      <td>137.945408</td>\n",
       "    </tr>\n",
       "  </tbody>\n",
       "</table>\n",
       "</div>"
      ],
      "text/plain": [
       "                  f0             f1             f2        product\n",
       "count  100000.000000  100000.000000  100000.000000  100000.000000\n",
       "mean        1.141296      -4.796579       2.494541      68.825000\n",
       "std         8.965932       5.119872       1.703572      45.944423\n",
       "min       -31.609576     -26.358598      -0.018144       0.000000\n",
       "25%        -6.298551      -8.267985       1.000021      26.953261\n",
       "50%         1.153055      -4.813172       2.011479      57.085625\n",
       "75%         8.621015      -1.332816       3.999904     107.813044\n",
       "max        29.421755      18.734063       5.019721     137.945408"
      ]
     },
     "metadata": {},
     "output_type": "display_data"
    },
    {
     "data": {
      "text/html": [
       "<div>\n",
       "<style scoped>\n",
       "    .dataframe tbody tr th:only-of-type {\n",
       "        vertical-align: middle;\n",
       "    }\n",
       "\n",
       "    .dataframe tbody tr th {\n",
       "        vertical-align: top;\n",
       "    }\n",
       "\n",
       "    .dataframe thead th {\n",
       "        text-align: right;\n",
       "    }\n",
       "</style>\n",
       "<table border=\"1\" class=\"dataframe\">\n",
       "  <thead>\n",
       "    <tr style=\"text-align: right;\">\n",
       "      <th></th>\n",
       "      <th>f0</th>\n",
       "      <th>f1</th>\n",
       "      <th>f2</th>\n",
       "      <th>product</th>\n",
       "    </tr>\n",
       "  </thead>\n",
       "  <tbody>\n",
       "    <tr>\n",
       "      <th>count</th>\n",
       "      <td>100000.000000</td>\n",
       "      <td>100000.000000</td>\n",
       "      <td>100000.000000</td>\n",
       "      <td>100000.000000</td>\n",
       "    </tr>\n",
       "    <tr>\n",
       "      <th>mean</th>\n",
       "      <td>0.002023</td>\n",
       "      <td>-0.002081</td>\n",
       "      <td>2.495128</td>\n",
       "      <td>95.000000</td>\n",
       "    </tr>\n",
       "    <tr>\n",
       "      <th>std</th>\n",
       "      <td>1.732045</td>\n",
       "      <td>1.730417</td>\n",
       "      <td>3.473445</td>\n",
       "      <td>44.749921</td>\n",
       "    </tr>\n",
       "    <tr>\n",
       "      <th>min</th>\n",
       "      <td>-8.760004</td>\n",
       "      <td>-7.084020</td>\n",
       "      <td>-11.970335</td>\n",
       "      <td>0.000000</td>\n",
       "    </tr>\n",
       "    <tr>\n",
       "      <th>25%</th>\n",
       "      <td>-1.162288</td>\n",
       "      <td>-1.174820</td>\n",
       "      <td>0.130359</td>\n",
       "      <td>59.450441</td>\n",
       "    </tr>\n",
       "    <tr>\n",
       "      <th>50%</th>\n",
       "      <td>0.009424</td>\n",
       "      <td>-0.009482</td>\n",
       "      <td>2.484236</td>\n",
       "      <td>94.925613</td>\n",
       "    </tr>\n",
       "    <tr>\n",
       "      <th>75%</th>\n",
       "      <td>1.158535</td>\n",
       "      <td>1.163678</td>\n",
       "      <td>4.858794</td>\n",
       "      <td>130.595027</td>\n",
       "    </tr>\n",
       "    <tr>\n",
       "      <th>max</th>\n",
       "      <td>7.238262</td>\n",
       "      <td>7.844801</td>\n",
       "      <td>16.739402</td>\n",
       "      <td>190.029838</td>\n",
       "    </tr>\n",
       "  </tbody>\n",
       "</table>\n",
       "</div>"
      ],
      "text/plain": [
       "                  f0             f1             f2        product\n",
       "count  100000.000000  100000.000000  100000.000000  100000.000000\n",
       "mean        0.002023      -0.002081       2.495128      95.000000\n",
       "std         1.732045       1.730417       3.473445      44.749921\n",
       "min        -8.760004      -7.084020     -11.970335       0.000000\n",
       "25%        -1.162288      -1.174820       0.130359      59.450441\n",
       "50%         0.009424      -0.009482       2.484236      94.925613\n",
       "75%         1.158535       1.163678       4.858794     130.595027\n",
       "max         7.238262       7.844801      16.739402     190.029838"
      ]
     },
     "metadata": {},
     "output_type": "display_data"
    }
   ],
   "source": [
    "# посмотрим общую информацию о данных в таблицах `df0`, `df1`, `df2`\n",
    "display(df_0.describe())\n",
    "display(df_1.describe())\n",
    "display(df_2.describe())"
   ]
  },
  {
   "cell_type": "code",
   "execution_count": 9,
   "metadata": {},
   "outputs": [
    {
     "data": {
      "image/png": "[encoded data removed]",
      "text/plain": [
       "<Figure size 1080x360 with 3 Axes>"
      ]
     },
     "metadata": {
      "needs_background": "light"
     },
     "output_type": "display_data"
    }
   ],
   "source": [
    "# проверим на выбросы значения в столбце `product`, построим boxplot\n",
    "fig, axs = plt.subplots(nrows=1, ncols=3, figsize=(15, 5))\n",
    "\n",
    "ax = axs[0]\n",
    "sns.boxplot(data=df_0,y='product',ax=ax)\n",
    "ax.set_ylim([-10,200]);\n",
    "ax.set_title('product_df_0');\n",
    "\n",
    "ax = axs[1]\n",
    "sns.boxplot(data=df_1,y='product',ax=ax)\n",
    "ax.set_ylim([-10,200]);\n",
    "ax.set_title('product_df_1');\n",
    "\n",
    "ax = axs[2]\n",
    "sns.boxplot(data=df_2,y='product',ax=ax)\n",
    "ax.set_ylim([-10,200]);\n",
    "ax.set_title('product_df_2');"
   ]
  },
  {
   "cell_type": "markdown",
   "metadata": {},
   "source": [
    "Аномальных значений не обнаружено."
   ]
  },
  {
   "cell_type": "code",
   "execution_count": 10,
   "metadata": {},
   "outputs": [
    {
     "data": {
      "image/png": "[encoded data removed]",
      "text/plain": [
       "<Figure size 1080x720 with 9 Axes>"
      ]
     },
     "metadata": {
      "needs_background": "light"
     },
     "output_type": "display_data"
    }
   ],
   "source": [
    "# проверим на выбросы значения в столбцах `f0`, `f1`, `f2`, построим boxplot\n",
    "fig, axs = plt.subplots(nrows=3, ncols=3, figsize=(15, 10))\n",
    "\n",
    "ax = axs[0,0]\n",
    "sns.boxplot(data=df_0,y='f0',ax=ax)\n",
    "ax.set_ylim([-5,5]);\n",
    "ax.set_title('f0_df_0');\n",
    "\n",
    "ax = axs[0,1]\n",
    "sns.boxplot(data=df_1,y='f0',ax=ax)\n",
    "ax.set_ylim([-40,35]);\n",
    "ax.set_title('f0_df_1');\n",
    "\n",
    "ax = axs[0,2]\n",
    "sns.boxplot(data=df_2,y='f0',ax=ax)\n",
    "ax.set_ylim([-12,12]);\n",
    "ax.set_title('f0_df_2');\n",
    "\n",
    "ax = axs[1,0]\n",
    "sns.boxplot(data=df_0,y='f1',ax=ax)\n",
    "ax.set_ylim([-1,2]);\n",
    "ax.set_title('f1_df_0');\n",
    "\n",
    "ax = axs[1,1]\n",
    "sns.boxplot(data=df_1,y='f1',ax=ax)\n",
    "ax.set_ylim([-30,25]);\n",
    "ax.set_title('f1_df_1');\n",
    "\n",
    "ax = axs[1,2]\n",
    "sns.boxplot(data=df_2,y='f1',ax=ax)\n",
    "ax.set_ylim([-10,10]);\n",
    "ax.set_title('f1_df_2');\n",
    "\n",
    "ax = axs[2,0]\n",
    "sns.boxplot(data=df_0,y='f2',ax=ax)\n",
    "ax.set_ylim([-15,20]);\n",
    "ax.set_title('f2_df_0');\n",
    "\n",
    "ax = axs[2,1]\n",
    "sns.boxplot(data=df_1,y='f2',ax=ax)\n",
    "ax.set_ylim([-1,7]);\n",
    "ax.set_title('f2_df_1');\n",
    "\n",
    "ax = axs[2,2]\n",
    "sns.boxplot(data=df_2,y='f2',ax=ax)\n",
    "ax.set_ylim([-15,20]);\n",
    "ax.set_title('f2_df_2');"
   ]
  },
  {
   "cell_type": "markdown",
   "metadata": {},
   "source": [
    "Аномальные значения присутствуют для признаков `f0` и `f1` в таблицах `df_1` и `df_2`, для признака `f2` - в `df_0` и `df_2`. На данном этапе предлагается их оставить, но возможно придётся удалить из обучающей выборки, в случае если не получится достигнуть необходимых значений метрик."
   ]
  },
  {
   "cell_type": "markdown",
   "metadata": {},
   "source": [
    "**Выводы**\n",
    "\n",
    "На данном этапе мы проверили значения в столбце `product` и столбцах с признаками в таблицах на аномалии - аномальных значений в столбце `product` не выявлено, в столбцах с признакми присутствуют аномальные значения, но на данном этапе принято решение не удалять их."
   ]
  },
  {
   "cell_type": "markdown",
   "metadata": {},
   "source": [
    "### Выводы"
   ]
  },
  {
   "cell_type": "markdown",
   "metadata": {},
   "source": [
    "На этапе предобработки данных мы проверили данные на дубликаты и выбросы: дубликатов не обнаружено, аномальных значений не выявлено."
   ]
  },
  {
   "cell_type": "markdown",
   "metadata": {},
   "source": [
    "## Обучение и проверка модели"
   ]
  },
  {
   "cell_type": "markdown",
   "metadata": {},
   "source": [
    "Наш целевой признак `product` (объём запасов в скважине) является количественным, поэтому мы будем подбирать модель для решения задачи регрессии. По условиям задачи для обучения модели подходит только линейная регрессия (остальные — недостаточно предсказуемые).\n",
    "\n",
    "Напишем функцию для обучения и проверки модели."
   ]
  },
  {
   "cell_type": "code",
   "execution_count": 11,
   "metadata": {},
   "outputs": [],
   "source": [
    "def model(df, reg):\n",
    "    # подготовим отдельные таблицы с признаками, определяющими целевой признак, и целевым признаком\n",
    "    # удалим также столбец `id`, так как он не являтся признаком, учавствующим в предсказании\n",
    "    features = df.drop(['id', 'product'], axis=1)\n",
    "    target = df['product']\n",
    "    \n",
    "    # разделим таблицы на обучающую выборку и валидационною в соотношении 75:25\n",
    "    features_train, features_valid, target_train, target_valid = train_test_split(\n",
    "        features, target, test_size=0.25, random_state=12345)\n",
    "    \n",
    "    model = LinearRegression() # инициализируем модель LinearRegression\n",
    "    model.fit(features_train, target_train) # обучим модель на тренировочной выборке\n",
    "    predictions_valid = model.predict(features_valid) # получим предсказания модели на валидационной выборке\n",
    "\n",
    "    # посчитаем средний запас предсказанного сырья\n",
    "    predict_prod_mean = predictions_valid.mean()\n",
    "\n",
    "    # посчитаем значение метрики RMSE на валидационной выборке\n",
    "    rmse = mean_squared_error(target_valid, predictions_valid)**0.5\n",
    "    \n",
    "    return (\n",
    "        f'Средний запас предсказанного сырья Региона {reg}: {predict_prod_mean}\\n'\n",
    "        f'RMSE модели на валидационной выборке Региона {reg}: {rmse}'\n",
    "    )"
   ]
  },
  {
   "cell_type": "code",
   "execution_count": 12,
   "metadata": {},
   "outputs": [
    {
     "name": "stdout",
     "output_type": "stream",
     "text": [
      "Средний запас предсказанного сырья Региона 1: 92.59256778438035\n",
      "RMSE модели на валидационной выборке Региона 1: 37.5794217150813\n"
     ]
    }
   ],
   "source": [
    "# Регион 1\n",
    "print(model(df_0, 1))"
   ]
  },
  {
   "cell_type": "code",
   "execution_count": 13,
   "metadata": {},
   "outputs": [
    {
     "name": "stdout",
     "output_type": "stream",
     "text": [
      "Средний запас предсказанного сырья Региона 2: 68.72854689544602\n",
      "RMSE модели на валидационной выборке Региона 2: 0.893099286775617\n"
     ]
    }
   ],
   "source": [
    "# Регион 2\n",
    "print(model(df_1, 2))"
   ]
  },
  {
   "cell_type": "code",
   "execution_count": 14,
   "metadata": {},
   "outputs": [
    {
     "name": "stdout",
     "output_type": "stream",
     "text": [
      "Средний запас предсказанного сырья Региона 3: 94.96504596800489\n",
      "RMSE модели на валидационной выборке Региона 3: 40.02970873393434\n"
     ]
    }
   ],
   "source": [
    "# Регион 3\n",
    "print(model(df_2, 3))"
   ]
  },
  {
   "cell_type": "code",
   "execution_count": 15,
   "metadata": {},
   "outputs": [
    {
     "data": {
      "text/html": [
       "<div>\n",
       "<style scoped>\n",
       "    .dataframe tbody tr th:only-of-type {\n",
       "        vertical-align: middle;\n",
       "    }\n",
       "\n",
       "    .dataframe tbody tr th {\n",
       "        vertical-align: top;\n",
       "    }\n",
       "\n",
       "    .dataframe thead th {\n",
       "        text-align: right;\n",
       "    }\n",
       "</style>\n",
       "<table border=\"1\" class=\"dataframe\">\n",
       "  <thead>\n",
       "    <tr style=\"text-align: right;\">\n",
       "      <th></th>\n",
       "      <th>name</th>\n",
       "      <th>predict_prod_mean</th>\n",
       "      <th>rmse</th>\n",
       "    </tr>\n",
       "  </thead>\n",
       "  <tbody>\n",
       "    <tr>\n",
       "      <th>0</th>\n",
       "      <td>Регион 1</td>\n",
       "      <td>92.59</td>\n",
       "      <td>37.58</td>\n",
       "    </tr>\n",
       "    <tr>\n",
       "      <th>1</th>\n",
       "      <td>Регион 2</td>\n",
       "      <td>68.73</td>\n",
       "      <td>0.89</td>\n",
       "    </tr>\n",
       "    <tr>\n",
       "      <th>2</th>\n",
       "      <td>Регион 3</td>\n",
       "      <td>94.97</td>\n",
       "      <td>40.03</td>\n",
       "    </tr>\n",
       "  </tbody>\n",
       "</table>\n",
       "</div>"
      ],
      "text/plain": [
       "       name  predict_prod_mean   rmse\n",
       "0  Регион 1              92.59  37.58\n",
       "1  Регион 2              68.73   0.89\n",
       "2  Регион 3              94.97  40.03"
      ]
     },
     "execution_count": 15,
     "metadata": {},
     "output_type": "execute_result"
    }
   ],
   "source": [
    "# составим таблицу сравнения рассчитанных значений\n",
    "final = pd.DataFrame({'name': ['Регион 1', 'Регион 2', 'Регион 3'], \n",
    "                      'predict_prod_mean': [92.59, 68.73, 94.97],\n",
    "                      'rmse': [37.58, 0.89, 40.03]})\n",
    "final"
   ]
  },
  {
   "cell_type": "code",
   "execution_count": 16,
   "metadata": {},
   "outputs": [
    {
     "data": {
      "text/html": [
       "<div>\n",
       "<style scoped>\n",
       "    .dataframe tbody tr th:only-of-type {\n",
       "        vertical-align: middle;\n",
       "    }\n",
       "\n",
       "    .dataframe tbody tr th {\n",
       "        vertical-align: top;\n",
       "    }\n",
       "\n",
       "    .dataframe thead th {\n",
       "        text-align: right;\n",
       "    }\n",
       "</style>\n",
       "<table border=\"1\" class=\"dataframe\">\n",
       "  <thead>\n",
       "    <tr style=\"text-align: right;\">\n",
       "      <th></th>\n",
       "      <th>name</th>\n",
       "      <th>predict_prod_mean</th>\n",
       "      <th>rmse</th>\n",
       "      <th>predict_prod_mean_wo_rmse</th>\n",
       "    </tr>\n",
       "  </thead>\n",
       "  <tbody>\n",
       "    <tr>\n",
       "      <th>0</th>\n",
       "      <td>Регион 1</td>\n",
       "      <td>92.59</td>\n",
       "      <td>37.58</td>\n",
       "      <td>55.01</td>\n",
       "    </tr>\n",
       "    <tr>\n",
       "      <th>1</th>\n",
       "      <td>Регион 2</td>\n",
       "      <td>68.73</td>\n",
       "      <td>0.89</td>\n",
       "      <td>67.84</td>\n",
       "    </tr>\n",
       "    <tr>\n",
       "      <th>2</th>\n",
       "      <td>Регион 3</td>\n",
       "      <td>94.97</td>\n",
       "      <td>40.03</td>\n",
       "      <td>54.94</td>\n",
       "    </tr>\n",
       "  </tbody>\n",
       "</table>\n",
       "</div>"
      ],
      "text/plain": [
       "       name  predict_prod_mean   rmse  predict_prod_mean_wo_rmse\n",
       "0  Регион 1              92.59  37.58                      55.01\n",
       "1  Регион 2              68.73   0.89                      67.84\n",
       "2  Регион 3              94.97  40.03                      54.94"
      ]
     },
     "execution_count": 16,
     "metadata": {},
     "output_type": "execute_result"
    }
   ],
   "source": [
    "# добавим столбец с разницей между средним запасом предсказанного сырья и RMSE модели\n",
    "final['predict_prod_mean_wo_rmse'] = final['predict_prod_mean'] - final['rmse']\n",
    "final"
   ]
  },
  {
   "cell_type": "markdown",
   "metadata": {},
   "source": [
    "### Выводы"
   ]
  },
  {
   "cell_type": "markdown",
   "metadata": {},
   "source": [
    "На данном этапе мы раздедили данные на обучающие и валидационные выборки, обучили модель линейная регрессия и рассчитали средний запас предсказанного сырья и RMSE модели по каждому региону.\n",
    "\n",
    "Наилучшее значение качетсва модели получилось для Региона 2, но при этом для этого региона самое маленькое среднее значение запаса предсказанного сырья. Однако, если учесть полученные значения RMSE для данных по регионам 1 и 3, получается, что среднее значение запаса предсказанного сырья для Региона 2 является наибольшим с учётом расчетного значения RMSE, а так же, это наименее рисковый вариант."
   ]
  },
  {
   "cell_type": "markdown",
   "metadata": {},
   "source": [
    "## Подготовка к расчёту прибыли"
   ]
  },
  {
   "cell_type": "markdown",
   "metadata": {},
   "source": [
    "### Расчёт объёмов сырья"
   ]
  },
  {
   "cell_type": "markdown",
   "metadata": {},
   "source": [
    "Получим предсказания модели на полных выборках"
   ]
  },
  {
   "cell_type": "code",
   "execution_count": 17,
   "metadata": {},
   "outputs": [
    {
     "data": {
      "text/plain": [
       "0     95.350600\n",
       "1    116.260746\n",
       "2     88.707909\n",
       "3     95.194788\n",
       "4    114.303085\n",
       "dtype: float64"
      ]
     },
     "execution_count": 17,
     "metadata": {},
     "output_type": "execute_result"
    }
   ],
   "source": [
    "# для Региона 1\n",
    "features_0 = df_0.drop(['id', 'product'], axis=1)\n",
    "TERGET_0 = df_0['product']\n",
    "\n",
    "model = LinearRegression() # инициализируем модель LinearRegression\n",
    "model.fit(features_0, TERGET_0) # обучим модель   \n",
    "\n",
    "PREDICTION_0 = model.predict(features_0) # получим предсказания модели на полной выборке признаков\n",
    "\n",
    "PREDICTION_0 = pd.Series(PREDICTION_0)\n",
    "PREDICTION_0.head()"
   ]
  },
  {
   "cell_type": "code",
   "execution_count": 18,
   "metadata": {},
   "outputs": [
    {
     "data": {
      "text/plain": [
       "0      3.848689\n",
       "1     26.591437\n",
       "2    135.665343\n",
       "3    138.541257\n",
       "4    134.866171\n",
       "dtype: float64"
      ]
     },
     "execution_count": 18,
     "metadata": {},
     "output_type": "execute_result"
    }
   ],
   "source": [
    "# для Региона 2\n",
    "features_1 = df_1.drop(['id', 'product'], axis=1)\n",
    "TERGET_1 = df_1['product']\n",
    "\n",
    "model = LinearRegression() # инициализируем модель LinearRegression\n",
    "model.fit(features_1, TERGET_1) # обучим модель   \n",
    "\n",
    "PREDICTION_1 = model.predict(features_1) # получим предсказания модели на полной выборке признаков\n",
    "\n",
    "PREDICTION_1 = pd.Series(PREDICTION_1)\n",
    "PREDICTION_1.head()"
   ]
  },
  {
   "cell_type": "code",
   "execution_count": 19,
   "metadata": {},
   "outputs": [
    {
     "data": {
      "text/plain": [
       "0     75.924340\n",
       "1     66.111209\n",
       "2     48.557511\n",
       "3     85.925829\n",
       "4    114.516662\n",
       "dtype: float64"
      ]
     },
     "execution_count": 19,
     "metadata": {},
     "output_type": "execute_result"
    }
   ],
   "source": [
    "# для Региона 3\n",
    "features_2 = df_2.drop(['id', 'product'], axis=1)\n",
    "TERGET_2 = df_2['product']\n",
    "\n",
    "model = LinearRegression() # инициализируем модель LinearRegression\n",
    "model.fit(features_2, TERGET_2) # обучим модель   \n",
    "\n",
    "PREDICTION_2 = model.predict(features_2) # получим предсказания модели на полной выборке признаков\n",
    "\n",
    "PREDICTION_2 = pd.Series(PREDICTION_2)\n",
    "PREDICTION_2.head()"
   ]
  },
  {
   "cell_type": "markdown",
   "metadata": {},
   "source": [
    "Все ключевые значения для расчётов сохранены в отдельных переменных: \n",
    "* таргеты - `TERGET_0`, `TERGET_1`, `TERGET_2`;\n",
    "* предсказания - `PREDICTION_0`, `PREDICTION_1`, `PREDICTION_2`."
   ]
  },
  {
   "cell_type": "markdown",
   "metadata": {},
   "source": [
    "Рассчитаем достаточный объём сырья для безубыточной разработки новой скважины. \n",
    "\n",
    "По условиям задачи \n",
    "* бюджет на разработку скважин в регионе — 10 млрд рублей;\n",
    "* при разведке региона исследуют 500 точек, из которых с помощью машинного обучения выбирают 200 лучших для разработки;\n",
    "* при нынешних ценах один баррель сырья приносит 450 рублей дохода. Доход с каждой единицы продукта составляет 450 тыс. рублей, поскольку объём указан в тысячах баррелей."
   ]
  },
  {
   "cell_type": "code",
   "execution_count": 20,
   "metadata": {},
   "outputs": [
    {
     "data": {
      "text/plain": [
       "50000000.0"
      ]
     },
     "execution_count": 20,
     "metadata": {},
     "output_type": "execute_result"
    }
   ],
   "source": [
    "# затраты на разработку одной скважины в регионе:\n",
    "cost_per_one_hole = 10000000000 / 200\n",
    "cost_per_one_hole"
   ]
  },
  {
   "cell_type": "code",
   "execution_count": 21,
   "metadata": {
    "scrolled": true
   },
   "outputs": [
    {
     "data": {
      "text/plain": [
       "111.11111111111111"
      ]
     },
     "execution_count": 21,
     "metadata": {},
     "output_type": "execute_result"
    }
   ],
   "source": [
    "# объём сырья для безубыточной разработки новой скважины\n",
    "product_garanty = cost_per_one_hole / 450000\n",
    "product_garanty"
   ]
  },
  {
   "cell_type": "code",
   "execution_count": 22,
   "metadata": {
    "scrolled": true
   },
   "outputs": [
    {
     "name": "stdout",
     "output_type": "stream",
     "text": [
      "Средний запас сырья в Регионе 1: 92.49999999999974\n",
      "Средний запас сырья в Регионе 2: 68.82500000002561\n",
      "Средний запас сырья в Регионе 3: 95.00000000000041\n"
     ]
    }
   ],
   "source": [
    "# расчитаем средний запас сырья в каждом регионе\n",
    "product_mean_0 = TERGET_0.mean()\n",
    "product_mean_1 = TERGET_1.mean()\n",
    "product_mean_2 = TERGET_2.mean()\n",
    "print('Средний запас сырья в Регионе 1:', product_mean_0)\n",
    "print('Средний запас сырья в Регионе 2:', product_mean_1)\n",
    "print('Средний запас сырья в Регионе 3:', product_mean_2)"
   ]
  },
  {
   "cell_type": "markdown",
   "metadata": {},
   "source": [
    "**Выводы**\n",
    "\n",
    "Средний запас объёма сырья в каждом регионе меньше достаточного объёма сырья для безубыточной разработки новой скважины, необходимо выбрать скважины с максимальными значениями объёма сырья."
   ]
  },
  {
   "cell_type": "markdown",
   "metadata": {},
   "source": [
    "### Функция для расчёта прибыли"
   ]
  },
  {
   "cell_type": "markdown",
   "metadata": {},
   "source": [
    "Напишем функцию для расчёта прибыли по выбранным скважинам и предсказаниям модели."
   ]
  },
  {
   "cell_type": "code",
   "execution_count": 23,
   "metadata": {},
   "outputs": [],
   "source": [
    "def revenue(target, probabilities):\n",
    "    # выберем скважины с максимальными значениями предсказаний\n",
    "    probs_sorted = probabilities.sort_values(ascending=False)\n",
    "    # выберем целевые значения объёма сырья, соответствующее этим предсказаниям для ТОП-200 скважин   \n",
    "    selected = target[probs_sorted.index][:200].sum()\n",
    "    \n",
    "    return selected.sum() * 450000 - 10000000000"
   ]
  },
  {
   "cell_type": "markdown",
   "metadata": {},
   "source": [
    "Рассчитаем прибыль для полученного объёма сырья по каждому региону."
   ]
  },
  {
   "cell_type": "code",
   "execution_count": 24,
   "metadata": {},
   "outputs": [
    {
     "name": "stdout",
     "output_type": "stream",
     "text": [
      "Расчётная рибыль Региона 1 3492332479.7777233\n",
      "Расчётная рибыль Региона 2 2415086696.681511\n",
      "Расчётная рибыль Региона 3 2603813861.11639\n"
     ]
    }
   ],
   "source": [
    "print('Расчётная рибыль Региона 1', revenue(TERGET_0, PREDICTION_0))\n",
    "print('Расчётная рибыль Региона 2', revenue(TERGET_1, PREDICTION_1))\n",
    "print('Расчётная рибыль Региона 3', revenue(TERGET_2, PREDICTION_2))"
   ]
  },
  {
   "cell_type": "markdown",
   "metadata": {},
   "source": [
    "**Выводы**\n",
    "\n",
    "В каждом регионе расчётная прибыль 200 скважин с максимальным объёмом сырья больше 0."
   ]
  },
  {
   "cell_type": "markdown",
   "metadata": {},
   "source": [
    "### Выводы"
   ]
  },
  {
   "cell_type": "markdown",
   "metadata": {},
   "source": [
    "На данном этапе мы:\n",
    "* рассчитали объём сырья для безубыточной разработки новой скважины = 111 тыс. баррелей;\n",
    "* рассчитали средний запас сырья в каждом регионе по целевым значениям - средний запас объёма сырья в каждом регионе меньше достаточного объёма;\n",
    "* рассчитали прибыль по выбранным скважинам (ТОП-200) и предсказаниям модели в каждом регионе - расчётная прибыль по ТОП-200 скважин в каждом регионе получилась больше нуля."
   ]
  },
  {
   "cell_type": "markdown",
   "metadata": {},
   "source": [
    "## Расчёт прибыли и рисков "
   ]
  },
  {
   "cell_type": "markdown",
   "metadata": {},
   "source": [
    "Чтобы найти распределение прибыли для каждого региона применим технику Bootstrap с 1000 выборок."
   ]
  },
  {
   "cell_type": "code",
   "execution_count": 25,
   "metadata": {},
   "outputs": [],
   "source": [
    "def income(target, prediction, reg):\n",
    "    state = np.random.RandomState(12345)\n",
    "    \n",
    "    values = []\n",
    "    for i in range(1000):\n",
    "        target_subsample = target.sample(n=500, replace=True, random_state=state)\n",
    "        probs_subsample = prediction[target_subsample.index]\n",
    "        values.append(revenue(target_subsample, probs_subsample))\n",
    "\n",
    "    values = pd.Series(values)\n",
    "\n",
    "    mean_income = values.mean()\n",
    "    lower = values.quantile(0.025)\n",
    "    upper = values.quantile(0.975)\n",
    "    risk = len(values[values < 0]) / 1000\n",
    "    \n",
    "    return (\n",
    "        f'Средняя прибыль Региона {reg}: {mean_income}\\n'\n",
    "        f'90%-ый доверительный интервал: {lower}, {upper}\\n'\n",
    "        f'Риск убытков Региона {reg}: {risk:.1%}'\n",
    "    )"
   ]
  },
  {
   "cell_type": "code",
   "execution_count": 26,
   "metadata": {},
   "outputs": [
    {
     "name": "stdout",
     "output_type": "stream",
     "text": [
      "Средняя прибыль Региона 1: 430836647.87373924\n",
      "90%-ый доверительный интервал: -62739427.332984395, 984446325.2847779\n",
      "Риск убытков Региона 1: 5.2%\n"
     ]
    }
   ],
   "source": [
    "# Регион 1\n",
    "print(income(TERGET_0, PREDICTION_0, 1))"
   ]
  },
  {
   "cell_type": "code",
   "execution_count": 27,
   "metadata": {
    "scrolled": true
   },
   "outputs": [
    {
     "name": "stdout",
     "output_type": "stream",
     "text": [
      "Средняя прибыль Региона 2: 462960918.63507736\n",
      "90%-ый доверительный интервал: 55988529.93353825, 845839331.1684114\n",
      "Риск убытков Региона 2: 1.3%\n"
     ]
    }
   ],
   "source": [
    "# Регион 2\n",
    "print(income(TERGET_1, PREDICTION_1, 2))"
   ]
  },
  {
   "cell_type": "code",
   "execution_count": 28,
   "metadata": {},
   "outputs": [
    {
     "name": "stdout",
     "output_type": "stream",
     "text": [
      "Средняя прибыль Региона 3: 380692547.94871426\n",
      "90%-ый доверительный интервал: -169381452.5156777, 900769343.6289971\n",
      "Риск убытков Региона 3: 8.9%\n"
     ]
    }
   ],
   "source": [
    "# Регион 3\n",
    "print(income(TERGET_2, PREDICTION_2, 3))"
   ]
  },
  {
   "cell_type": "markdown",
   "metadata": {},
   "source": [
    "### Выводы"
   ]
  },
  {
   "cell_type": "markdown",
   "metadata": {},
   "source": [
    "На данном этапе мы рассчитали среднюю прибыль и вероятность убытков по регионам.\n",
    "\n",
    "Исходя из полученных результатов расчёта прибыли и рисков вероятность убытков меньше 2.5% достигается только для Региона 2. Средняя прибыль Региона 2 составит 463 млн. рублей."
   ]
  },
  {
   "cell_type": "markdown",
   "metadata": {},
   "source": [
    "## Общий вывод"
   ]
  },
  {
   "cell_type": "markdown",
   "metadata": {},
   "source": [
    "Исследование проводилось в пять этапов:\n",
    "\n",
    "* На этапе Обзор данных мы ознакомились с данными в предоставленными в таблицах и зафиксировали, что предварительно данных для проведения исследования достаточно;\n",
    "* На этапе Предобработка данных мы проверили таблицы на дубликаты - дубликатов не обнаружено, а также проверили данные на аномалии: выбросы были обнаружены в каждой из таблиц, строки с аномальными значениями удалены из таблиц, чтобы избежать влияния на результаты предсказания модели;\n",
    "* На этапе Обучения и проверки модели мы раздедили данные на обучающие и валидационные выборки, обучили модель линейная регрессия и рассчитали средний запас предсказанного сырья и RMSE модели по каждому региону - наилучшее значение качетсва модели получилось для Региона 2;\n",
    "* На этапе Подготовка к расчёту прибыли мы:\n",
    "    - рассчитали объём сырья для безубыточной разработки новой скважины = 111 тыс. баррелей;\n",
    "    - рассчитали средний запас сырья в каждом регионе по целевым значениям - средний запас объёма сырья в каждом регионе меньше достаточного объёма;\n",
    "    - рассчитали прибыль по выбранным скважинам (ТОП-200) и предсказаниям модели в каждом регионе - расчётная прибыль по ТОП-200 скважин в каждом регионе получилась больше объёма затрат на разработку скважин;\n",
    "* На этапе Расчёта прибыли и рисков мы рассчитали среднюю прибыль и вероятность убытков по регионам - вероятность убытков меньше 2.5% достигается только для Региона 2, средняя прибыль Региона 2 составит 463 млн. рублей.\n",
    "\n",
    "На основании полученных результатов исследования наилучший регион для разработки скважин - Регион 2."
   ]
  }
 ],
 "metadata": {
  "kernelspec": {
   "display_name": "Python 3 (ipykernel)",
   "language": "python",
   "name": "python3"
  },
  "language_info": {
   "codemirror_mode": {
    "name": "ipython",
    "version": 3
   },
   "file_extension": ".py",
   "mimetype": "text/x-python",
   "name": "python",
   "nbconvert_exporter": "python",
   "pygments_lexer": "ipython3",
   "version": "3.9.7"
  },
  "toc": {
   "base_numbering": 1,
   "nav_menu": {},
   "number_sections": true,
   "sideBar": true,
   "skip_h1_title": true,
   "title_cell": "Table of Contents",
   "title_sidebar": "Contents",
   "toc_cell": false,
   "toc_position": {},
   "toc_section_display": true,
   "toc_window_display": true
  }
 },
 "nbformat": 4,
 "nbformat_minor": 2
}
