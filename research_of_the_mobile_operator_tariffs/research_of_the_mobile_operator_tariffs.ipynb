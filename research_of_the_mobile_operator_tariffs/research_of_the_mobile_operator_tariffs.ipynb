{
 "cells": [
  {
   "cell_type": "markdown",
   "id": "fd0a01f3",
   "metadata": {},
   "source": [
    "# Исследование тарифных планов сотовой связи"
   ]
  },
  {
   "cell_type": "markdown",
   "id": "05f6325f",
   "metadata": {},
   "source": [
    "**Описание тарифных планов оператора сотовой связи**\n",
    "\n",
    "*Тариф «Смарт»*\n",
    "1. Ежемесячная плата: 550 рублей\n",
    "2. Включено 500 минут разговора, 50 сообщений и 15 Гб интернет-трафика\n",
    "3. Стоимость услуг сверх тарифного пакета:\n",
    "    * минута разговора: 3 рубля\n",
    "    * сообщение: 3 рубля\n",
    "    * 1 Гб интернет-трафика: 200 рублей\n",
    "\n",
    "*Тариф «Ультра»*\n",
    "1. Ежемесячная плата: 1950 рублей\n",
    "2. Включено 3000 минут разговора, 1000 сообщений и 30 Гб интернет-трафика\n",
    "3. Стоимость услуг сверх тарифного пакета:\n",
    "    * минута разговора: 1 рубль\n",
    "    * сообщение: 1 рубль\n",
    "    * 1 Гб интернет-трафика: 150 рублей\n",
    "\n",
    "*Примечание:*\n",
    "\n",
    "«Мегалайн» всегда округляет секунды до минут, а мегабайты — до гигабайт. Каждый звонок округляется отдельно: даже если он длился всего 1 секунду, будет засчитан как 1 минута.\n",
    "\n",
    "Для веб-трафика отдельные сессии не считаются. Вместо этого общая сумма за месяц округляется в бо́льшую сторону. Если абонент использует 1025 мегабайт в этом месяце, с него возьмут плату за 2 гигабайта."
   ]
  },
  {
   "cell_type": "markdown",
   "id": "e8583702",
   "metadata": {},
   "source": [
    "## Обзор данных"
   ]
  },
  {
   "cell_type": "code",
   "execution_count": 1,
   "id": "e03cfc8c",
   "metadata": {},
   "outputs": [],
   "source": [
    "import pandas as pd  #импорт библиотеки pandas\n",
    "import matplotlib.pyplot as plt #импорт библиотеки matplotlib\n",
    "from scipy import stats as st #импорт функции stats из библиотеки scipy\n",
    "import numpy as np #импорт библиотеки numpy\n",
    "from functools import reduce #импорт функции reduce из библиотеки functools"
   ]
  },
  {
   "cell_type": "code",
   "execution_count": 2,
   "id": "6ab046cb",
   "metadata": {},
   "outputs": [],
   "source": [
    "users = pd.read_csv('users.csv')  #чтение файла `users.csv` и сохранение в переменной `users`"
   ]
  },
  {
   "cell_type": "code",
   "execution_count": 3,
   "id": "75399d93",
   "metadata": {},
   "outputs": [
    {
     "data": {
      "text/html": [
       "<div>\n",
       "<style scoped>\n",
       "    .dataframe tbody tr th:only-of-type {\n",
       "        vertical-align: middle;\n",
       "    }\n",
       "\n",
       "    .dataframe tbody tr th {\n",
       "        vertical-align: top;\n",
       "    }\n",
       "\n",
       "    .dataframe thead th {\n",
       "        text-align: right;\n",
       "    }\n",
       "</style>\n",
       "<table border=\"1\" class=\"dataframe\">\n",
       "  <thead>\n",
       "    <tr style=\"text-align: right;\">\n",
       "      <th></th>\n",
       "      <th>user_id</th>\n",
       "      <th>age</th>\n",
       "      <th>churn_date</th>\n",
       "      <th>city</th>\n",
       "      <th>first_name</th>\n",
       "      <th>last_name</th>\n",
       "      <th>reg_date</th>\n",
       "      <th>tariff</th>\n",
       "    </tr>\n",
       "  </thead>\n",
       "  <tbody>\n",
       "    <tr>\n",
       "      <th>0</th>\n",
       "      <td>1000</td>\n",
       "      <td>52</td>\n",
       "      <td>NaN</td>\n",
       "      <td>Краснодар</td>\n",
       "      <td>Рафаил</td>\n",
       "      <td>Верещагин</td>\n",
       "      <td>2018-05-25</td>\n",
       "      <td>ultra</td>\n",
       "    </tr>\n",
       "    <tr>\n",
       "      <th>1</th>\n",
       "      <td>1001</td>\n",
       "      <td>41</td>\n",
       "      <td>NaN</td>\n",
       "      <td>Москва</td>\n",
       "      <td>Иван</td>\n",
       "      <td>Ежов</td>\n",
       "      <td>2018-11-01</td>\n",
       "      <td>smart</td>\n",
       "    </tr>\n",
       "    <tr>\n",
       "      <th>2</th>\n",
       "      <td>1002</td>\n",
       "      <td>59</td>\n",
       "      <td>NaN</td>\n",
       "      <td>Стерлитамак</td>\n",
       "      <td>Евгений</td>\n",
       "      <td>Абрамович</td>\n",
       "      <td>2018-06-17</td>\n",
       "      <td>smart</td>\n",
       "    </tr>\n",
       "    <tr>\n",
       "      <th>3</th>\n",
       "      <td>1003</td>\n",
       "      <td>23</td>\n",
       "      <td>NaN</td>\n",
       "      <td>Москва</td>\n",
       "      <td>Белла</td>\n",
       "      <td>Белякова</td>\n",
       "      <td>2018-08-17</td>\n",
       "      <td>ultra</td>\n",
       "    </tr>\n",
       "    <tr>\n",
       "      <th>4</th>\n",
       "      <td>1004</td>\n",
       "      <td>68</td>\n",
       "      <td>NaN</td>\n",
       "      <td>Новокузнецк</td>\n",
       "      <td>Татьяна</td>\n",
       "      <td>Авдеенко</td>\n",
       "      <td>2018-05-14</td>\n",
       "      <td>ultra</td>\n",
       "    </tr>\n",
       "  </tbody>\n",
       "</table>\n",
       "</div>"
      ],
      "text/plain": [
       "   user_id  age churn_date         city first_name  last_name    reg_date  \\\n",
       "0     1000   52        NaN    Краснодар     Рафаил  Верещагин  2018-05-25   \n",
       "1     1001   41        NaN       Москва       Иван       Ежов  2018-11-01   \n",
       "2     1002   59        NaN  Стерлитамак    Евгений  Абрамович  2018-06-17   \n",
       "3     1003   23        NaN       Москва      Белла   Белякова  2018-08-17   \n",
       "4     1004   68        NaN  Новокузнецк    Татьяна   Авдеенко  2018-05-14   \n",
       "\n",
       "  tariff  \n",
       "0  ultra  \n",
       "1  smart  \n",
       "2  smart  \n",
       "3  ultra  \n",
       "4  ultra  "
      ]
     },
     "execution_count": 3,
     "metadata": {},
     "output_type": "execute_result"
    }
   ],
   "source": [
    "users.head() # просмотр первых 5 строк таблицы `users`"
   ]
  },
  {
   "cell_type": "code",
   "execution_count": 4,
   "id": "e263e5e5",
   "metadata": {},
   "outputs": [
    {
     "name": "stdout",
     "output_type": "stream",
     "text": [
      "<class 'pandas.core.frame.DataFrame'>\n",
      "RangeIndex: 500 entries, 0 to 499\n",
      "Data columns (total 8 columns):\n",
      " #   Column      Non-Null Count  Dtype \n",
      "---  ------      --------------  ----- \n",
      " 0   user_id     500 non-null    int64 \n",
      " 1   age         500 non-null    int64 \n",
      " 2   churn_date  38 non-null     object\n",
      " 3   city        500 non-null    object\n",
      " 4   first_name  500 non-null    object\n",
      " 5   last_name   500 non-null    object\n",
      " 6   reg_date    500 non-null    object\n",
      " 7   tariff      500 non-null    object\n",
      "dtypes: int64(2), object(6)\n",
      "memory usage: 31.4+ KB\n"
     ]
    }
   ],
   "source": [
    "users.info() #получение общей информации о таблице `users`"
   ]
  },
  {
   "cell_type": "markdown",
   "id": "c0533529",
   "metadata": {},
   "source": [
    "В таблице 8 столбцов. Типы данных в столбцах: object и int64.\n",
    "\n",
    "Согласно документации к данным:\n",
    "* `user_id` — уникальный идентификатор пользователя;\n",
    "* `first_name` — имя пользователя;\n",
    "* `last_name` — фамилия пользователя;\n",
    "* `age` — возраст пользователя (годы);\n",
    "* `reg_date` — дата подключения тарифа (день, месяц, год);\n",
    "* `churn_date` — дата прекращения пользования тарифом (если значение пропущено, то тариф ещё действовал на момент выгрузки данных);\n",
    "* `city` — город проживания пользователя;\n",
    "* `tarif` — название тарифного плана.\n",
    "\n",
    "Названия столбцов корректные в соответствие с хорошим стилем, исправление названий не требуется.\n",
    "\n",
    "Количество значений отличается только в столбце `churn_date`. Значит, в нём есть пропущенные значения. Однако в документации указно, что если значение пропущено, то тариф ещё действовал на момент выгрузки данных. Необходимо учесть это при предобработке данных."
   ]
  },
  {
   "cell_type": "code",
   "execution_count": 5,
   "id": "829e44aa",
   "metadata": {},
   "outputs": [],
   "source": [
    "tarif = pd.read_csv('tariffs.csv')  #чтение файла tariffs.csv и сохранение в переменной `tarif`"
   ]
  },
  {
   "cell_type": "code",
   "execution_count": 6,
   "id": "f75fdee4",
   "metadata": {},
   "outputs": [
    {
     "data": {
      "text/html": [
       "<div>\n",
       "<style scoped>\n",
       "    .dataframe tbody tr th:only-of-type {\n",
       "        vertical-align: middle;\n",
       "    }\n",
       "\n",
       "    .dataframe tbody tr th {\n",
       "        vertical-align: top;\n",
       "    }\n",
       "\n",
       "    .dataframe thead th {\n",
       "        text-align: right;\n",
       "    }\n",
       "</style>\n",
       "<table border=\"1\" class=\"dataframe\">\n",
       "  <thead>\n",
       "    <tr style=\"text-align: right;\">\n",
       "      <th></th>\n",
       "      <th>messages_included</th>\n",
       "      <th>mb_per_month_included</th>\n",
       "      <th>minutes_included</th>\n",
       "      <th>rub_monthly_fee</th>\n",
       "      <th>rub_per_gb</th>\n",
       "      <th>rub_per_message</th>\n",
       "      <th>rub_per_minute</th>\n",
       "      <th>tariff_name</th>\n",
       "    </tr>\n",
       "  </thead>\n",
       "  <tbody>\n",
       "    <tr>\n",
       "      <th>0</th>\n",
       "      <td>50</td>\n",
       "      <td>15360</td>\n",
       "      <td>500</td>\n",
       "      <td>550</td>\n",
       "      <td>200</td>\n",
       "      <td>3</td>\n",
       "      <td>3</td>\n",
       "      <td>smart</td>\n",
       "    </tr>\n",
       "    <tr>\n",
       "      <th>1</th>\n",
       "      <td>1000</td>\n",
       "      <td>30720</td>\n",
       "      <td>3000</td>\n",
       "      <td>1950</td>\n",
       "      <td>150</td>\n",
       "      <td>1</td>\n",
       "      <td>1</td>\n",
       "      <td>ultra</td>\n",
       "    </tr>\n",
       "  </tbody>\n",
       "</table>\n",
       "</div>"
      ],
      "text/plain": [
       "   messages_included  mb_per_month_included  minutes_included  \\\n",
       "0                 50                  15360               500   \n",
       "1               1000                  30720              3000   \n",
       "\n",
       "   rub_monthly_fee  rub_per_gb  rub_per_message  rub_per_minute tariff_name  \n",
       "0              550         200                3               3       smart  \n",
       "1             1950         150                1               1       ultra  "
      ]
     },
     "execution_count": 6,
     "metadata": {},
     "output_type": "execute_result"
    }
   ],
   "source": [
    "tarif # просмотр таблицы `tarif`"
   ]
  },
  {
   "cell_type": "code",
   "execution_count": 7,
   "id": "ee4a13cd",
   "metadata": {},
   "outputs": [
    {
     "name": "stdout",
     "output_type": "stream",
     "text": [
      "<class 'pandas.core.frame.DataFrame'>\n",
      "RangeIndex: 2 entries, 0 to 1\n",
      "Data columns (total 8 columns):\n",
      " #   Column                 Non-Null Count  Dtype \n",
      "---  ------                 --------------  ----- \n",
      " 0   messages_included      2 non-null      int64 \n",
      " 1   mb_per_month_included  2 non-null      int64 \n",
      " 2   minutes_included       2 non-null      int64 \n",
      " 3   rub_monthly_fee        2 non-null      int64 \n",
      " 4   rub_per_gb             2 non-null      int64 \n",
      " 5   rub_per_message        2 non-null      int64 \n",
      " 6   rub_per_minute         2 non-null      int64 \n",
      " 7   tariff_name            2 non-null      object\n",
      "dtypes: int64(7), object(1)\n",
      "memory usage: 256.0+ bytes\n"
     ]
    }
   ],
   "source": [
    "tarif.info() #получение общей информации о таблице `tarif`"
   ]
  },
  {
   "cell_type": "markdown",
   "id": "a00d093b",
   "metadata": {},
   "source": [
    "В таблице 8 столбцов. Типы данных в столбцах: object и int64.\n",
    "\n",
    "Согласно документации к данным:\n",
    "* `tariff_name` — название тарифа;\n",
    "* `rub_monthly_fee` — ежемесячная абонентская плата в рублях;\n",
    "* `minutes_included` — количество минут разговора в месяц, включённых в абонентскую плату;\n",
    "* `messages_included` — количество сообщений в месяц, включённых в абонентскую плату;\n",
    "* `mb_per_month_included` — объём интернет-трафика, включённого в абонентскую плату (в мегабайтах);\n",
    "* `rub_per_minute` — стоимость минуты разговора сверх тарифного пакета (например, если в тарифе 100 минут разговора в месяц, то со 101 минуты будет взиматься плата);\n",
    "* `rub_per_message` — стоимость отправки сообщения сверх тарифного пакета;\n",
    "* `rub_per_gb` — стоимость дополнительного гигабайта интернет-трафика сверх тарифного пакета (1 гигабайт = 1024 мегабайта).\n",
    "\n",
    "Названия столбцов корректные в соответствие с хорошим стилем, исправление названий не требуется. Однако, и в таблице `users.csv`, и в таблице `tariffs.csv` есть столбец с одинаковым наполнением, но разными названиями: название тарифного плана. В `users.csv` это столбец с названием `tarif`, а в `tariffs.csv` - `tariff_name`. Следует привести их к одинаковому названию для дальнейшего удобства работы с таблицами.\n",
    "\n",
    "Количество значений в столбцах не отличается. Значит, пропущенных значений нет."
   ]
  },
  {
   "cell_type": "code",
   "execution_count": 8,
   "id": "23c4283d",
   "metadata": {},
   "outputs": [],
   "source": [
    "calls = pd.read_csv('calls.csv')  #чтение файла calls.csv и сохранение в переменной `calls`"
   ]
  },
  {
   "cell_type": "code",
   "execution_count": 9,
   "id": "55d8101a",
   "metadata": {},
   "outputs": [
    {
     "data": {
      "text/html": [
       "<div>\n",
       "<style scoped>\n",
       "    .dataframe tbody tr th:only-of-type {\n",
       "        vertical-align: middle;\n",
       "    }\n",
       "\n",
       "    .dataframe tbody tr th {\n",
       "        vertical-align: top;\n",
       "    }\n",
       "\n",
       "    .dataframe thead th {\n",
       "        text-align: right;\n",
       "    }\n",
       "</style>\n",
       "<table border=\"1\" class=\"dataframe\">\n",
       "  <thead>\n",
       "    <tr style=\"text-align: right;\">\n",
       "      <th></th>\n",
       "      <th>id</th>\n",
       "      <th>call_date</th>\n",
       "      <th>duration</th>\n",
       "      <th>user_id</th>\n",
       "    </tr>\n",
       "  </thead>\n",
       "  <tbody>\n",
       "    <tr>\n",
       "      <th>0</th>\n",
       "      <td>1000_0</td>\n",
       "      <td>2018-07-25</td>\n",
       "      <td>0.00</td>\n",
       "      <td>1000</td>\n",
       "    </tr>\n",
       "    <tr>\n",
       "      <th>1</th>\n",
       "      <td>1000_1</td>\n",
       "      <td>2018-08-17</td>\n",
       "      <td>0.00</td>\n",
       "      <td>1000</td>\n",
       "    </tr>\n",
       "    <tr>\n",
       "      <th>2</th>\n",
       "      <td>1000_2</td>\n",
       "      <td>2018-06-11</td>\n",
       "      <td>2.85</td>\n",
       "      <td>1000</td>\n",
       "    </tr>\n",
       "    <tr>\n",
       "      <th>3</th>\n",
       "      <td>1000_3</td>\n",
       "      <td>2018-09-21</td>\n",
       "      <td>13.80</td>\n",
       "      <td>1000</td>\n",
       "    </tr>\n",
       "    <tr>\n",
       "      <th>4</th>\n",
       "      <td>1000_4</td>\n",
       "      <td>2018-12-15</td>\n",
       "      <td>5.18</td>\n",
       "      <td>1000</td>\n",
       "    </tr>\n",
       "  </tbody>\n",
       "</table>\n",
       "</div>"
      ],
      "text/plain": [
       "       id   call_date  duration  user_id\n",
       "0  1000_0  2018-07-25      0.00     1000\n",
       "1  1000_1  2018-08-17      0.00     1000\n",
       "2  1000_2  2018-06-11      2.85     1000\n",
       "3  1000_3  2018-09-21     13.80     1000\n",
       "4  1000_4  2018-12-15      5.18     1000"
      ]
     },
     "execution_count": 9,
     "metadata": {},
     "output_type": "execute_result"
    }
   ],
   "source": [
    "calls.head() # просмотр первых 5 строк таблицы `calls`"
   ]
  },
  {
   "cell_type": "code",
   "execution_count": 10,
   "id": "6e948a97",
   "metadata": {},
   "outputs": [
    {
     "name": "stdout",
     "output_type": "stream",
     "text": [
      "<class 'pandas.core.frame.DataFrame'>\n",
      "RangeIndex: 202607 entries, 0 to 202606\n",
      "Data columns (total 4 columns):\n",
      " #   Column     Non-Null Count   Dtype  \n",
      "---  ------     --------------   -----  \n",
      " 0   id         202607 non-null  object \n",
      " 1   call_date  202607 non-null  object \n",
      " 2   duration   202607 non-null  float64\n",
      " 3   user_id    202607 non-null  int64  \n",
      "dtypes: float64(1), int64(1), object(2)\n",
      "memory usage: 6.2+ MB\n"
     ]
    }
   ],
   "source": [
    "calls.info() #получение общей информации о таблице `calls`"
   ]
  },
  {
   "cell_type": "markdown",
   "id": "45148151",
   "metadata": {},
   "source": [
    "В таблице 4 столбца. Типы данных в столбцах: object, int64 и float64.\n",
    "\n",
    "Согласно документации к данным:\n",
    "* `id` — уникальный номер звонка;\n",
    "* `call_date` — дата звонка;\n",
    "* `duration` — длительность звонка в минутах;\n",
    "* `user_id` — идентификатор пользователя, сделавшего звонок.\n",
    "\n",
    "Названия столбцов корректные в соответствие с хорошим стилем, исправление названий не требуется.\n",
    "\n",
    "Количество значений в столбцах не отличается. Значит, пропущенных значений нет."
   ]
  },
  {
   "cell_type": "code",
   "execution_count": 11,
   "id": "95420943",
   "metadata": {},
   "outputs": [],
   "source": [
    "message = pd.read_csv('messages.csv')  #чтение файла messages.csv и сохранение в переменной `message`"
   ]
  },
  {
   "cell_type": "code",
   "execution_count": 12,
   "id": "704cbe76",
   "metadata": {},
   "outputs": [
    {
     "data": {
      "text/html": [
       "<div>\n",
       "<style scoped>\n",
       "    .dataframe tbody tr th:only-of-type {\n",
       "        vertical-align: middle;\n",
       "    }\n",
       "\n",
       "    .dataframe tbody tr th {\n",
       "        vertical-align: top;\n",
       "    }\n",
       "\n",
       "    .dataframe thead th {\n",
       "        text-align: right;\n",
       "    }\n",
       "</style>\n",
       "<table border=\"1\" class=\"dataframe\">\n",
       "  <thead>\n",
       "    <tr style=\"text-align: right;\">\n",
       "      <th></th>\n",
       "      <th>id</th>\n",
       "      <th>message_date</th>\n",
       "      <th>user_id</th>\n",
       "    </tr>\n",
       "  </thead>\n",
       "  <tbody>\n",
       "    <tr>\n",
       "      <th>0</th>\n",
       "      <td>1000_0</td>\n",
       "      <td>2018-06-27</td>\n",
       "      <td>1000</td>\n",
       "    </tr>\n",
       "    <tr>\n",
       "      <th>1</th>\n",
       "      <td>1000_1</td>\n",
       "      <td>2018-10-08</td>\n",
       "      <td>1000</td>\n",
       "    </tr>\n",
       "    <tr>\n",
       "      <th>2</th>\n",
       "      <td>1000_2</td>\n",
       "      <td>2018-08-04</td>\n",
       "      <td>1000</td>\n",
       "    </tr>\n",
       "    <tr>\n",
       "      <th>3</th>\n",
       "      <td>1000_3</td>\n",
       "      <td>2018-06-16</td>\n",
       "      <td>1000</td>\n",
       "    </tr>\n",
       "    <tr>\n",
       "      <th>4</th>\n",
       "      <td>1000_4</td>\n",
       "      <td>2018-12-05</td>\n",
       "      <td>1000</td>\n",
       "    </tr>\n",
       "  </tbody>\n",
       "</table>\n",
       "</div>"
      ],
      "text/plain": [
       "       id message_date  user_id\n",
       "0  1000_0   2018-06-27     1000\n",
       "1  1000_1   2018-10-08     1000\n",
       "2  1000_2   2018-08-04     1000\n",
       "3  1000_3   2018-06-16     1000\n",
       "4  1000_4   2018-12-05     1000"
      ]
     },
     "execution_count": 12,
     "metadata": {},
     "output_type": "execute_result"
    }
   ],
   "source": [
    "message.head() # просмотр первых 5 строк таблицы `message`"
   ]
  },
  {
   "cell_type": "code",
   "execution_count": 13,
   "id": "d3571979",
   "metadata": {},
   "outputs": [
    {
     "name": "stdout",
     "output_type": "stream",
     "text": [
      "<class 'pandas.core.frame.DataFrame'>\n",
      "RangeIndex: 123036 entries, 0 to 123035\n",
      "Data columns (total 3 columns):\n",
      " #   Column        Non-Null Count   Dtype \n",
      "---  ------        --------------   ----- \n",
      " 0   id            123036 non-null  object\n",
      " 1   message_date  123036 non-null  object\n",
      " 2   user_id       123036 non-null  int64 \n",
      "dtypes: int64(1), object(2)\n",
      "memory usage: 2.8+ MB\n"
     ]
    }
   ],
   "source": [
    "message.info() #получение общей информации о таблице `message`"
   ]
  },
  {
   "cell_type": "markdown",
   "id": "fb706882",
   "metadata": {},
   "source": [
    "В таблице 3 столбца. Типы данных в столбцах: object и int64.\n",
    "\n",
    "Согласно документации к данным:\n",
    "* `id` — уникальный номер сообщения;\n",
    "* `message_date` — дата сообщения;\n",
    "* `user_id` — идентификатор пользователя, отправившего сообщение.\n",
    "\n",
    "Названия столбцов корректные в соответствие с хорошим стилем, исправление названий не требуется.\n",
    "\n",
    "Количество значений в столбцах не отличается. Значит, пропущенных значений нет."
   ]
  },
  {
   "cell_type": "code",
   "execution_count": 14,
   "id": "adab808d",
   "metadata": {},
   "outputs": [],
   "source": [
    "internet = pd.read_csv('internet.csv')  #чтение файла internet.csv и сохранение в переменной `internet`"
   ]
  },
  {
   "cell_type": "code",
   "execution_count": 15,
   "id": "93b11f48",
   "metadata": {},
   "outputs": [
    {
     "data": {
      "text/html": [
       "<div>\n",
       "<style scoped>\n",
       "    .dataframe tbody tr th:only-of-type {\n",
       "        vertical-align: middle;\n",
       "    }\n",
       "\n",
       "    .dataframe tbody tr th {\n",
       "        vertical-align: top;\n",
       "    }\n",
       "\n",
       "    .dataframe thead th {\n",
       "        text-align: right;\n",
       "    }\n",
       "</style>\n",
       "<table border=\"1\" class=\"dataframe\">\n",
       "  <thead>\n",
       "    <tr style=\"text-align: right;\">\n",
       "      <th></th>\n",
       "      <th>Unnamed: 0</th>\n",
       "      <th>id</th>\n",
       "      <th>mb_used</th>\n",
       "      <th>session_date</th>\n",
       "      <th>user_id</th>\n",
       "    </tr>\n",
       "  </thead>\n",
       "  <tbody>\n",
       "    <tr>\n",
       "      <th>0</th>\n",
       "      <td>0</td>\n",
       "      <td>1000_0</td>\n",
       "      <td>112.95</td>\n",
       "      <td>2018-11-25</td>\n",
       "      <td>1000</td>\n",
       "    </tr>\n",
       "    <tr>\n",
       "      <th>1</th>\n",
       "      <td>1</td>\n",
       "      <td>1000_1</td>\n",
       "      <td>1052.81</td>\n",
       "      <td>2018-09-07</td>\n",
       "      <td>1000</td>\n",
       "    </tr>\n",
       "    <tr>\n",
       "      <th>2</th>\n",
       "      <td>2</td>\n",
       "      <td>1000_2</td>\n",
       "      <td>1197.26</td>\n",
       "      <td>2018-06-25</td>\n",
       "      <td>1000</td>\n",
       "    </tr>\n",
       "    <tr>\n",
       "      <th>3</th>\n",
       "      <td>3</td>\n",
       "      <td>1000_3</td>\n",
       "      <td>550.27</td>\n",
       "      <td>2018-08-22</td>\n",
       "      <td>1000</td>\n",
       "    </tr>\n",
       "    <tr>\n",
       "      <th>4</th>\n",
       "      <td>4</td>\n",
       "      <td>1000_4</td>\n",
       "      <td>302.56</td>\n",
       "      <td>2018-09-24</td>\n",
       "      <td>1000</td>\n",
       "    </tr>\n",
       "  </tbody>\n",
       "</table>\n",
       "</div>"
      ],
      "text/plain": [
       "   Unnamed: 0      id  mb_used session_date  user_id\n",
       "0           0  1000_0   112.95   2018-11-25     1000\n",
       "1           1  1000_1  1052.81   2018-09-07     1000\n",
       "2           2  1000_2  1197.26   2018-06-25     1000\n",
       "3           3  1000_3   550.27   2018-08-22     1000\n",
       "4           4  1000_4   302.56   2018-09-24     1000"
      ]
     },
     "execution_count": 15,
     "metadata": {},
     "output_type": "execute_result"
    }
   ],
   "source": [
    "internet.head() # просмотр первых 5 строк таблицы `internet`"
   ]
  },
  {
   "cell_type": "code",
   "execution_count": 16,
   "id": "dfa6e5a5",
   "metadata": {},
   "outputs": [
    {
     "name": "stdout",
     "output_type": "stream",
     "text": [
      "<class 'pandas.core.frame.DataFrame'>\n",
      "RangeIndex: 149396 entries, 0 to 149395\n",
      "Data columns (total 5 columns):\n",
      " #   Column        Non-Null Count   Dtype  \n",
      "---  ------        --------------   -----  \n",
      " 0   Unnamed: 0    149396 non-null  int64  \n",
      " 1   id            149396 non-null  object \n",
      " 2   mb_used       149396 non-null  float64\n",
      " 3   session_date  149396 non-null  object \n",
      " 4   user_id       149396 non-null  int64  \n",
      "dtypes: float64(1), int64(2), object(2)\n",
      "memory usage: 5.7+ MB\n"
     ]
    }
   ],
   "source": [
    "internet.info() #получение общей информации о таблице `internet`"
   ]
  },
  {
   "cell_type": "markdown",
   "id": "cbed2357",
   "metadata": {},
   "source": [
    "В таблице 5 столбцов. Типы данных в столбцах: object, int64 и float64.\n",
    "\n",
    "Согласно документации к данным столбцов должно быть 4:\n",
    "* `id` — уникальный номер сессии;\n",
    "* `mb_used` — объём потраченного за сессию интернет-трафика (в мегабайтах);\n",
    "* `session_date` — дата интернет-сессии;\n",
    "* `user_id` — идентификатор пользователя.\n",
    "\n",
    "Столбец `Unnamed: 0` в документации не упоминается, судя по его значениям он дублирует номера индексов строк, необходимо удалить его на этапе предобработки данных.\n",
    "\n",
    "Названия остальных столбцов корректные в соответствие с хорошим стилем, исправление названий не требуется.\n",
    "\n",
    "Количество значений в столбцах не отличается. Значит, пропущенных значений нет."
   ]
  },
  {
   "cell_type": "markdown",
   "id": "dece1fd8",
   "metadata": {},
   "source": [
    "### Выводы"
   ]
  },
  {
   "cell_type": "markdown",
   "id": "9ca67a7b",
   "metadata": {},
   "source": [
    "В каждой строке таблицы `users` - данные о пользователях компании «Мегалайн» на тарифных плана: «Смарт» и «Ультра». Часть колонок рассказывает о самих пользователях: имя, фамилия, возраст, город. Другая часть - о тарифе пользователя: название, дата подключения, дата отключения.\n",
    "\n",
    "В каждой строке таблицы `tarif` - данные о параметрах тарифных планов «Смарт» и «Ультра»: название, размер абон.платы, размеры пакетов минут, сообщений и интернета, стоимость трафика сверх пакета.\n",
    "\n",
    "В каждой строке таблицы `calls` - данные о звонках пользователей компании «Мегалайн»: дата звонка, длительность и уникальный номер звонка.\n",
    "\n",
    "В каждой строке таблицы `message` - данные о сообщениях пользователей компании «Мегалайн»: дата сообщения и уникальный номер сообщения.\n",
    "\n",
    "В каждой строке таблицы `internet` - данные об интернет-сессиях пользователей компании «Мегалайн»: дата интернет-сессии, объём потраченного интернет-трафика  и уникальный номер сессии.\n",
    "\n",
    "Предварительно можно утверждать, что, данных достаточно для проверки гипотез. Пропуски в данных присутствуют только в одном столбце - `churn_date`, и при этом в документации есть пояснение их значения. Названии колонок записаны в соответствие с хорошим стилем, однако требуется переименовать название столбца с названием тарифного плана в таблице `tarif` для удобства работы с данными. В таблице `internet` присутствует столбец, который не описан в документации, необходимо обработать его на следующем этапе.\n",
    "\n",
    "Также в документации указно, что в столбце `duration` таблицы `calls` могут встречаться нулевые значения и это не ошибка: нулями обозначены пропущенные звонки, поэтому их не нужно удалять.\n",
    "\n",
    "Чтобы двигаться дальше, нужно устранить проблемы в данных и объединить таблицы в общий датасет для удобства дальнешей работы."
   ]
  },
  {
   "cell_type": "markdown",
   "id": "53b1d8a9",
   "metadata": {},
   "source": [
    "## Предобработка данных"
   ]
  },
  {
   "cell_type": "markdown",
   "id": "e2c9f664",
   "metadata": {},
   "source": [
    "### Заполнение пропусков"
   ]
  },
  {
   "cell_type": "markdown",
   "id": "6aae0027",
   "metadata": {},
   "source": [
    "Пропущенные значения присутствуют в столбце `churn_date` таблицы `users`. Однако из документации нам известно, что если значение пропущено, то тариф ещё действовал на момент выгрузки данных. В таком случае предлагается заполить данные пропуски служебным значением -1."
   ]
  },
  {
   "cell_type": "code",
   "execution_count": 17,
   "id": "eeef430a",
   "metadata": {},
   "outputs": [
    {
     "data": {
      "text/plain": [
       "user_id       0.000\n",
       "age           0.000\n",
       "churn_date    0.924\n",
       "city          0.000\n",
       "first_name    0.000\n",
       "last_name     0.000\n",
       "reg_date      0.000\n",
       "tariff        0.000\n",
       "dtype: float64"
      ]
     },
     "execution_count": 17,
     "metadata": {},
     "output_type": "execute_result"
    }
   ],
   "source": [
    "users.isna().mean() #информация о доле пропущенных значений в каждом из столбцов таблицы"
   ]
  },
  {
   "cell_type": "code",
   "execution_count": 18,
   "id": "20f66e0e",
   "metadata": {},
   "outputs": [
    {
     "data": {
      "text/plain": [
       "0"
      ]
     },
     "execution_count": 18,
     "metadata": {},
     "output_type": "execute_result"
    }
   ],
   "source": [
    "#заполняем пропущенные значения в столбце `churn_date` -1\n",
    "users['churn_date'] = users['churn_date'].fillna(-1)\n",
    "len(users[users['churn_date'].isna()]) #проверяем, что в датафрейме нет пропусков в столбце `churn_date`"
   ]
  },
  {
   "cell_type": "markdown",
   "id": "c611dd9a",
   "metadata": {},
   "source": [
    "**Выводы**\n",
    "\n",
    "На данном этапе мы обработали пропущенные значения, которые были обнаружены в столбце `churn_date`. Так как причина пропущенных значений была описана в документаци, пропуски мы заменили на служебное значение -1."
   ]
  },
  {
   "cell_type": "markdown",
   "id": "30335b01",
   "metadata": {},
   "source": [
    "### Названия столбцов"
   ]
  },
  {
   "cell_type": "markdown",
   "id": "4632421f",
   "metadata": {},
   "source": [
    "На этапе обзора данных мы обнаружили, что и в таблице `users`, и в таблице `tarif` есть столбец с одинаковым наполнением, но разными названиями: название тарифного плана. В `users` это столбец с названием `tariff`, а в `tarif` - `tariff_name`. Следует привести их к одинаковому названию для дальнейшего удобства работы с таблицами."
   ]
  },
  {
   "cell_type": "code",
   "execution_count": 19,
   "id": "243f3918",
   "metadata": {},
   "outputs": [
    {
     "data": {
      "text/plain": [
       "Index(['messages_included', 'mb_per_month_included', 'minutes_included',\n",
       "       'rub_monthly_fee', 'rub_per_gb', 'rub_per_message', 'rub_per_minute',\n",
       "       'tariff'],\n",
       "      dtype='object')"
      ]
     },
     "execution_count": 19,
     "metadata": {},
     "output_type": "execute_result"
    }
   ],
   "source": [
    "# Переименуем столбец `tariff_name` в таблице `tarif` и назовём его также, как в таблице `users`\n",
    "tarif = tarif.rename(columns={'tariff_name': 'tariff'})\n",
    "tarif.columns #проверим успешность переименования"
   ]
  },
  {
   "cell_type": "markdown",
   "id": "789ddd20",
   "metadata": {},
   "source": [
    "**Выводы**\n",
    "\n",
    "На данном этапе мы привели в соответствие название столбцов `tarif` в таблице `users` и `tariff_name` в таблице `tarif`, так как их наполнение и логический смысл одинаковые. Столбец `tariff_name` был переименован в `tariff`."
   ]
  },
  {
   "cell_type": "markdown",
   "id": "94be2da8",
   "metadata": {},
   "source": [
    "### Удаление несущественных столбцов"
   ]
  },
  {
   "cell_type": "markdown",
   "id": "47b44035",
   "metadata": {},
   "source": [
    "На этапе обзора данных мы обнаружили, что и в таблице `internet` имеется столбец `Unnamed: 0`, который не упоминается в документации, и, судя по его значениям, он дублирует номера индексов строк. Предлагается удалить данный столбец."
   ]
  },
  {
   "cell_type": "code",
   "execution_count": 20,
   "id": "82cbef8d",
   "metadata": {},
   "outputs": [
    {
     "data": {
      "text/html": [
       "<div>\n",
       "<style scoped>\n",
       "    .dataframe tbody tr th:only-of-type {\n",
       "        vertical-align: middle;\n",
       "    }\n",
       "\n",
       "    .dataframe tbody tr th {\n",
       "        vertical-align: top;\n",
       "    }\n",
       "\n",
       "    .dataframe thead th {\n",
       "        text-align: right;\n",
       "    }\n",
       "</style>\n",
       "<table border=\"1\" class=\"dataframe\">\n",
       "  <thead>\n",
       "    <tr style=\"text-align: right;\">\n",
       "      <th></th>\n",
       "      <th>id</th>\n",
       "      <th>mb_used</th>\n",
       "      <th>session_date</th>\n",
       "      <th>user_id</th>\n",
       "    </tr>\n",
       "  </thead>\n",
       "  <tbody>\n",
       "    <tr>\n",
       "      <th>0</th>\n",
       "      <td>1000_0</td>\n",
       "      <td>112.95</td>\n",
       "      <td>2018-11-25</td>\n",
       "      <td>1000</td>\n",
       "    </tr>\n",
       "    <tr>\n",
       "      <th>1</th>\n",
       "      <td>1000_1</td>\n",
       "      <td>1052.81</td>\n",
       "      <td>2018-09-07</td>\n",
       "      <td>1000</td>\n",
       "    </tr>\n",
       "    <tr>\n",
       "      <th>2</th>\n",
       "      <td>1000_2</td>\n",
       "      <td>1197.26</td>\n",
       "      <td>2018-06-25</td>\n",
       "      <td>1000</td>\n",
       "    </tr>\n",
       "    <tr>\n",
       "      <th>3</th>\n",
       "      <td>1000_3</td>\n",
       "      <td>550.27</td>\n",
       "      <td>2018-08-22</td>\n",
       "      <td>1000</td>\n",
       "    </tr>\n",
       "    <tr>\n",
       "      <th>4</th>\n",
       "      <td>1000_4</td>\n",
       "      <td>302.56</td>\n",
       "      <td>2018-09-24</td>\n",
       "      <td>1000</td>\n",
       "    </tr>\n",
       "  </tbody>\n",
       "</table>\n",
       "</div>"
      ],
      "text/plain": [
       "       id  mb_used session_date  user_id\n",
       "0  1000_0   112.95   2018-11-25     1000\n",
       "1  1000_1  1052.81   2018-09-07     1000\n",
       "2  1000_2  1197.26   2018-06-25     1000\n",
       "3  1000_3   550.27   2018-08-22     1000\n",
       "4  1000_4   302.56   2018-09-24     1000"
      ]
     },
     "execution_count": 20,
     "metadata": {},
     "output_type": "execute_result"
    }
   ],
   "source": [
    "internet = internet.drop(['Unnamed: 0'], axis=1)\n",
    "internet.head()"
   ]
  },
  {
   "cell_type": "markdown",
   "id": "b76eff70",
   "metadata": {},
   "source": [
    "**Выводы**\n",
    "\n",
    "На данном этапе мы удалили столбец `Unnamed: 0` из таблицы `internet`, так как в документации он не упоминается и, судя по его значениям, он дублирует номера индексов строк."
   ]
  },
  {
   "cell_type": "markdown",
   "id": "7d50d770",
   "metadata": {},
   "source": [
    "### Подготовка данных в таблице `calls` для проверки гипотез"
   ]
  },
  {
   "cell_type": "markdown",
   "id": "2facc6d8",
   "metadata": {},
   "source": [
    "Для проверки гипотез нам необходимо рассчитать количество сделанных звонков и израсходованных минут разговора по месяцам для каждого пользователя."
   ]
  },
  {
   "cell_type": "code",
   "execution_count": 21,
   "id": "2289c413",
   "metadata": {},
   "outputs": [
    {
     "data": {
      "text/html": [
       "<div>\n",
       "<style scoped>\n",
       "    .dataframe tbody tr th:only-of-type {\n",
       "        vertical-align: middle;\n",
       "    }\n",
       "\n",
       "    .dataframe tbody tr th {\n",
       "        vertical-align: top;\n",
       "    }\n",
       "\n",
       "    .dataframe thead th {\n",
       "        text-align: right;\n",
       "    }\n",
       "</style>\n",
       "<table border=\"1\" class=\"dataframe\">\n",
       "  <thead>\n",
       "    <tr style=\"text-align: right;\">\n",
       "      <th></th>\n",
       "      <th>id</th>\n",
       "      <th>call_date</th>\n",
       "      <th>duration</th>\n",
       "      <th>user_id</th>\n",
       "    </tr>\n",
       "  </thead>\n",
       "  <tbody>\n",
       "    <tr>\n",
       "      <th>11148</th>\n",
       "      <td>1029_37</td>\n",
       "      <td>2018-12-01</td>\n",
       "      <td>5.90</td>\n",
       "      <td>1029</td>\n",
       "    </tr>\n",
       "    <tr>\n",
       "      <th>122760</th>\n",
       "      <td>1317_269</td>\n",
       "      <td>2018-11-01</td>\n",
       "      <td>1.35</td>\n",
       "      <td>1317</td>\n",
       "    </tr>\n",
       "    <tr>\n",
       "      <th>181783</th>\n",
       "      <td>1453_975</td>\n",
       "      <td>2018-05-22</td>\n",
       "      <td>17.93</td>\n",
       "      <td>1453</td>\n",
       "    </tr>\n",
       "    <tr>\n",
       "      <th>40591</th>\n",
       "      <td>1100_114</td>\n",
       "      <td>2018-09-21</td>\n",
       "      <td>5.53</td>\n",
       "      <td>1100</td>\n",
       "    </tr>\n",
       "    <tr>\n",
       "      <th>73111</th>\n",
       "      <td>1184_85</td>\n",
       "      <td>2018-09-13</td>\n",
       "      <td>9.61</td>\n",
       "      <td>1184</td>\n",
       "    </tr>\n",
       "  </tbody>\n",
       "</table>\n",
       "</div>"
      ],
      "text/plain": [
       "              id   call_date  duration  user_id\n",
       "11148    1029_37  2018-12-01      5.90     1029\n",
       "122760  1317_269  2018-11-01      1.35     1317\n",
       "181783  1453_975  2018-05-22     17.93     1453\n",
       "40591   1100_114  2018-09-21      5.53     1100\n",
       "73111    1184_85  2018-09-13      9.61     1184"
      ]
     },
     "execution_count": 21,
     "metadata": {},
     "output_type": "execute_result"
    }
   ],
   "source": [
    "calls.sample(5) # просмотр 5 случайных строк таблицы `calls`"
   ]
  },
  {
   "cell_type": "code",
   "execution_count": 22,
   "id": "1a093447",
   "metadata": {},
   "outputs": [
    {
     "name": "stdout",
     "output_type": "stream",
     "text": [
      "<class 'pandas.core.frame.DataFrame'>\n",
      "RangeIndex: 202607 entries, 0 to 202606\n",
      "Data columns (total 4 columns):\n",
      " #   Column     Non-Null Count   Dtype  \n",
      "---  ------     --------------   -----  \n",
      " 0   id         202607 non-null  object \n",
      " 1   call_date  202607 non-null  object \n",
      " 2   duration   202607 non-null  float64\n",
      " 3   user_id    202607 non-null  int64  \n",
      "dtypes: float64(1), int64(1), object(2)\n",
      "memory usage: 6.2+ MB\n"
     ]
    }
   ],
   "source": [
    "calls.info() #получение общей информации о таблице `calls`"
   ]
  },
  {
   "cell_type": "markdown",
   "id": "206542cd",
   "metadata": {},
   "source": [
    "Можно заметить, что столбцы `id` и `call_date` находятся в формате `object`, хотя данные в столбце `id` должны быть, также как и в столбце `user_id` в формате `int64`, а в столбце `call_date` - в формате `datetime`."
   ]
  },
  {
   "cell_type": "code",
   "execution_count": 23,
   "id": "27b99b79",
   "metadata": {},
   "outputs": [],
   "source": [
    "# Преобразуем формат данных в столбце `call_date` в формат `datetime`\n",
    "calls['call_date'] = pd.to_datetime(calls.call_date)"
   ]
  },
  {
   "cell_type": "code",
   "execution_count": 24,
   "id": "4dceccbe",
   "metadata": {},
   "outputs": [],
   "source": [
    "# Преобразуем формат данных в столбце `id` в формат `int64`\n",
    "calls['id'] = calls['id'].astype('int')"
   ]
  },
  {
   "cell_type": "code",
   "execution_count": 25,
   "id": "2ee55216",
   "metadata": {},
   "outputs": [
    {
     "name": "stdout",
     "output_type": "stream",
     "text": [
      "<class 'pandas.core.frame.DataFrame'>\n",
      "RangeIndex: 202607 entries, 0 to 202606\n",
      "Data columns (total 4 columns):\n",
      " #   Column     Non-Null Count   Dtype         \n",
      "---  ------     --------------   -----         \n",
      " 0   id         202607 non-null  int64         \n",
      " 1   call_date  202607 non-null  datetime64[ns]\n",
      " 2   duration   202607 non-null  float64       \n",
      " 3   user_id    202607 non-null  int64         \n",
      "dtypes: datetime64[ns](1), float64(1), int64(2)\n",
      "memory usage: 6.2 MB\n"
     ]
    }
   ],
   "source": [
    "calls.info() #проверим, что формат данных изменён"
   ]
  },
  {
   "cell_type": "markdown",
   "id": "f046b165",
   "metadata": {},
   "source": [
    "Также мы видим, что данные в столбце `duration` не округленные, хотя по условиях тарифных планов «Мегалайн» всегда округляет секунды до минут. Каждый звонок округляется отдельно: даже если он длился всего 1 секунду, будет засчитан как 1 минута. Необходимо округлить данные в столбце `duration` в большую сторону."
   ]
  },
  {
   "cell_type": "code",
   "execution_count": 26,
   "id": "174cb10d",
   "metadata": {},
   "outputs": [
    {
     "data": {
      "text/html": [
       "<div>\n",
       "<style scoped>\n",
       "    .dataframe tbody tr th:only-of-type {\n",
       "        vertical-align: middle;\n",
       "    }\n",
       "\n",
       "    .dataframe tbody tr th {\n",
       "        vertical-align: top;\n",
       "    }\n",
       "\n",
       "    .dataframe thead th {\n",
       "        text-align: right;\n",
       "    }\n",
       "</style>\n",
       "<table border=\"1\" class=\"dataframe\">\n",
       "  <thead>\n",
       "    <tr style=\"text-align: right;\">\n",
       "      <th></th>\n",
       "      <th>id</th>\n",
       "      <th>call_date</th>\n",
       "      <th>duration</th>\n",
       "      <th>user_id</th>\n",
       "      <th>duration_round</th>\n",
       "    </tr>\n",
       "  </thead>\n",
       "  <tbody>\n",
       "    <tr>\n",
       "      <th>0</th>\n",
       "      <td>10000</td>\n",
       "      <td>2018-07-25</td>\n",
       "      <td>0.00</td>\n",
       "      <td>1000</td>\n",
       "      <td>0.0</td>\n",
       "    </tr>\n",
       "    <tr>\n",
       "      <th>1</th>\n",
       "      <td>10001</td>\n",
       "      <td>2018-08-17</td>\n",
       "      <td>0.00</td>\n",
       "      <td>1000</td>\n",
       "      <td>0.0</td>\n",
       "    </tr>\n",
       "    <tr>\n",
       "      <th>2</th>\n",
       "      <td>10002</td>\n",
       "      <td>2018-06-11</td>\n",
       "      <td>2.85</td>\n",
       "      <td>1000</td>\n",
       "      <td>3.0</td>\n",
       "    </tr>\n",
       "    <tr>\n",
       "      <th>3</th>\n",
       "      <td>10003</td>\n",
       "      <td>2018-09-21</td>\n",
       "      <td>13.80</td>\n",
       "      <td>1000</td>\n",
       "      <td>14.0</td>\n",
       "    </tr>\n",
       "    <tr>\n",
       "      <th>4</th>\n",
       "      <td>10004</td>\n",
       "      <td>2018-12-15</td>\n",
       "      <td>5.18</td>\n",
       "      <td>1000</td>\n",
       "      <td>6.0</td>\n",
       "    </tr>\n",
       "  </tbody>\n",
       "</table>\n",
       "</div>"
      ],
      "text/plain": [
       "      id  call_date  duration  user_id  duration_round\n",
       "0  10000 2018-07-25      0.00     1000             0.0\n",
       "1  10001 2018-08-17      0.00     1000             0.0\n",
       "2  10002 2018-06-11      2.85     1000             3.0\n",
       "3  10003 2018-09-21     13.80     1000            14.0\n",
       "4  10004 2018-12-15      5.18     1000             6.0"
      ]
     },
     "execution_count": 26,
     "metadata": {},
     "output_type": "execute_result"
    }
   ],
   "source": [
    "#округляем длительность звонков в большую сторону и записываем в отдельный столбец `duration_round`\n",
    "calls['duration_round'] = np.ceil(calls['duration'])\n",
    "calls.head()"
   ]
  },
  {
   "cell_type": "code",
   "execution_count": 27,
   "id": "0c94d288",
   "metadata": {},
   "outputs": [
    {
     "data": {
      "text/html": [
       "<div>\n",
       "<style scoped>\n",
       "    .dataframe tbody tr th:only-of-type {\n",
       "        vertical-align: middle;\n",
       "    }\n",
       "\n",
       "    .dataframe tbody tr th {\n",
       "        vertical-align: top;\n",
       "    }\n",
       "\n",
       "    .dataframe thead th {\n",
       "        text-align: right;\n",
       "    }\n",
       "</style>\n",
       "<table border=\"1\" class=\"dataframe\">\n",
       "  <thead>\n",
       "    <tr style=\"text-align: right;\">\n",
       "      <th></th>\n",
       "      <th>id</th>\n",
       "      <th>call_date</th>\n",
       "      <th>duration</th>\n",
       "      <th>user_id</th>\n",
       "      <th>duration_round</th>\n",
       "    </tr>\n",
       "  </thead>\n",
       "  <tbody>\n",
       "    <tr>\n",
       "      <th>0</th>\n",
       "      <td>10000</td>\n",
       "      <td>2018-07-25</td>\n",
       "      <td>0.00</td>\n",
       "      <td>1000</td>\n",
       "      <td>0</td>\n",
       "    </tr>\n",
       "    <tr>\n",
       "      <th>1</th>\n",
       "      <td>10001</td>\n",
       "      <td>2018-08-17</td>\n",
       "      <td>0.00</td>\n",
       "      <td>1000</td>\n",
       "      <td>0</td>\n",
       "    </tr>\n",
       "    <tr>\n",
       "      <th>2</th>\n",
       "      <td>10002</td>\n",
       "      <td>2018-06-11</td>\n",
       "      <td>2.85</td>\n",
       "      <td>1000</td>\n",
       "      <td>3</td>\n",
       "    </tr>\n",
       "  </tbody>\n",
       "</table>\n",
       "</div>"
      ],
      "text/plain": [
       "      id  call_date  duration  user_id  duration_round\n",
       "0  10000 2018-07-25      0.00     1000               0\n",
       "1  10001 2018-08-17      0.00     1000               0\n",
       "2  10002 2018-06-11      2.85     1000               3"
      ]
     },
     "execution_count": 27,
     "metadata": {},
     "output_type": "execute_result"
    }
   ],
   "source": [
    "# Преобразуем формат данных в столбце `duration_round` в формат `int64`\n",
    "calls['duration_round'] = calls['duration_round'].astype('int')\n",
    "calls.head(3)"
   ]
  },
  {
   "cell_type": "code",
   "execution_count": 28,
   "id": "3ee901ad",
   "metadata": {},
   "outputs": [
    {
     "data": {
      "text/html": [
       "<div>\n",
       "<style scoped>\n",
       "    .dataframe tbody tr th:only-of-type {\n",
       "        vertical-align: middle;\n",
       "    }\n",
       "\n",
       "    .dataframe tbody tr th {\n",
       "        vertical-align: top;\n",
       "    }\n",
       "\n",
       "    .dataframe thead th {\n",
       "        text-align: right;\n",
       "    }\n",
       "</style>\n",
       "<table border=\"1\" class=\"dataframe\">\n",
       "  <thead>\n",
       "    <tr style=\"text-align: right;\">\n",
       "      <th></th>\n",
       "      <th>id</th>\n",
       "      <th>duration</th>\n",
       "      <th>user_id</th>\n",
       "      <th>duration_round</th>\n",
       "    </tr>\n",
       "  </thead>\n",
       "  <tbody>\n",
       "    <tr>\n",
       "      <th>count</th>\n",
       "      <td>2.026070e+05</td>\n",
       "      <td>202607.000000</td>\n",
       "      <td>202607.000000</td>\n",
       "      <td>202607.000000</td>\n",
       "    </tr>\n",
       "    <tr>\n",
       "      <th>mean</th>\n",
       "      <td>1.212254e+06</td>\n",
       "      <td>6.755887</td>\n",
       "      <td>1253.940619</td>\n",
       "      <td>7.158198</td>\n",
       "    </tr>\n",
       "    <tr>\n",
       "      <th>std</th>\n",
       "      <td>1.725756e+06</td>\n",
       "      <td>5.843365</td>\n",
       "      <td>144.722751</td>\n",
       "      <td>5.959173</td>\n",
       "    </tr>\n",
       "    <tr>\n",
       "      <th>min</th>\n",
       "      <td>1.000000e+04</td>\n",
       "      <td>0.000000</td>\n",
       "      <td>1000.000000</td>\n",
       "      <td>0.000000</td>\n",
       "    </tr>\n",
       "    <tr>\n",
       "      <th>25%</th>\n",
       "      <td>1.012286e+06</td>\n",
       "      <td>1.300000</td>\n",
       "      <td>1126.000000</td>\n",
       "      <td>2.000000</td>\n",
       "    </tr>\n",
       "    <tr>\n",
       "      <th>50%</th>\n",
       "      <td>1.179376e+06</td>\n",
       "      <td>6.000000</td>\n",
       "      <td>1260.000000</td>\n",
       "      <td>6.000000</td>\n",
       "    </tr>\n",
       "    <tr>\n",
       "      <th>75%</th>\n",
       "      <td>1.358126e+06</td>\n",
       "      <td>10.700000</td>\n",
       "      <td>1379.000000</td>\n",
       "      <td>11.000000</td>\n",
       "    </tr>\n",
       "    <tr>\n",
       "      <th>max</th>\n",
       "      <td>1.458115e+07</td>\n",
       "      <td>38.000000</td>\n",
       "      <td>1499.000000</td>\n",
       "      <td>38.000000</td>\n",
       "    </tr>\n",
       "  </tbody>\n",
       "</table>\n",
       "</div>"
      ],
      "text/plain": [
       "                 id       duration        user_id  duration_round\n",
       "count  2.026070e+05  202607.000000  202607.000000   202607.000000\n",
       "mean   1.212254e+06       6.755887    1253.940619        7.158198\n",
       "std    1.725756e+06       5.843365     144.722751        5.959173\n",
       "min    1.000000e+04       0.000000    1000.000000        0.000000\n",
       "25%    1.012286e+06       1.300000    1126.000000        2.000000\n",
       "50%    1.179376e+06       6.000000    1260.000000        6.000000\n",
       "75%    1.358126e+06      10.700000    1379.000000       11.000000\n",
       "max    1.458115e+07      38.000000    1499.000000       38.000000"
      ]
     },
     "execution_count": 28,
     "metadata": {},
     "output_type": "execute_result"
    }
   ],
   "source": [
    "# теперь посмотрим общую информацию о данных по столбцам\n",
    "calls.describe()"
   ]
  },
  {
   "cell_type": "markdown",
   "id": "d6ccb5fe",
   "metadata": {},
   "source": [
    "По данной таблице видим, что средння продолжительность округлённого звонка (7,16) не очень сильно отличается от медианы (6)."
   ]
  },
  {
   "cell_type": "code",
   "execution_count": 29,
   "id": "12a6f185",
   "metadata": {},
   "outputs": [
    {
     "data": {
      "image/png": "[encoded data removed]",
      "text/plain": [
       "<Figure size 576x360 with 1 Axes>"
      ]
     },
     "metadata": {
      "needs_background": "light"
     },
     "output_type": "display_data"
    }
   ],
   "source": [
    "#построим гистограмму для параметра длительность звонка\n",
    "plt.figure(figsize=(8,5))\n",
    "calls['duration_round'].hist()\n",
    "plt.xlabel('Продолжительность звонка')\n",
    "plt.title('Распределение длительности звонков')\n",
    "plt.show()"
   ]
  },
  {
   "cell_type": "markdown",
   "id": "21fa601c",
   "metadata": {},
   "source": [
    "На графике видим, что в большинство звонков длительностью 0-4 минуты. Распределение частот продолжительности звонков является Пуассоновским, что логично для длительности звонков."
   ]
  },
  {
   "cell_type": "code",
   "execution_count": 30,
   "id": "59e3fb15",
   "metadata": {},
   "outputs": [],
   "source": [
    "# Обернём график в функцию для дальнейшего использования\n",
    "def buildHist(data, xname, title):\n",
    "    plt.figure(figsize=(8,5))\n",
    "    data.hist()\n",
    "    plt.xlabel(xname)\n",
    "    plt.title(title)\n",
    "    plt.ticklabel_format(style='plain') # убираем scientific notation\n",
    "    plt.show()"
   ]
  },
  {
   "cell_type": "code",
   "execution_count": 31,
   "id": "6b4ee88e",
   "metadata": {},
   "outputs": [
    {
     "data": {
      "image/png": "[encoded data removed]",
      "text/plain": [
       "<Figure size 576x360 with 1 Axes>"
      ]
     },
     "metadata": {
      "needs_background": "light"
     },
     "output_type": "display_data"
    }
   ],
   "source": [
    "# проверяем работу функции\n",
    "buildHist(calls['duration_round'], 'Продолжительность звонка', 'Распределение длительности звонков')"
   ]
  },
  {
   "cell_type": "markdown",
   "id": "4db51661",
   "metadata": {},
   "source": [
    "Посчитаем для каждого пользователя количество сделанных звонков и израсходованных минут разговора по месяцам. Для этого в таблицу `calls` добавим столбец с месяцем звонка."
   ]
  },
  {
   "cell_type": "code",
   "execution_count": 32,
   "id": "b3b30ded",
   "metadata": {},
   "outputs": [
    {
     "data": {
      "text/html": [
       "<div>\n",
       "<style scoped>\n",
       "    .dataframe tbody tr th:only-of-type {\n",
       "        vertical-align: middle;\n",
       "    }\n",
       "\n",
       "    .dataframe tbody tr th {\n",
       "        vertical-align: top;\n",
       "    }\n",
       "\n",
       "    .dataframe thead th {\n",
       "        text-align: right;\n",
       "    }\n",
       "</style>\n",
       "<table border=\"1\" class=\"dataframe\">\n",
       "  <thead>\n",
       "    <tr style=\"text-align: right;\">\n",
       "      <th></th>\n",
       "      <th>id</th>\n",
       "      <th>call_date</th>\n",
       "      <th>duration</th>\n",
       "      <th>user_id</th>\n",
       "      <th>duration_round</th>\n",
       "      <th>call_month</th>\n",
       "    </tr>\n",
       "  </thead>\n",
       "  <tbody>\n",
       "    <tr>\n",
       "      <th>0</th>\n",
       "      <td>10000</td>\n",
       "      <td>2018-07-25</td>\n",
       "      <td>0.00</td>\n",
       "      <td>1000</td>\n",
       "      <td>0</td>\n",
       "      <td>2018-07-01</td>\n",
       "    </tr>\n",
       "    <tr>\n",
       "      <th>1</th>\n",
       "      <td>10001</td>\n",
       "      <td>2018-08-17</td>\n",
       "      <td>0.00</td>\n",
       "      <td>1000</td>\n",
       "      <td>0</td>\n",
       "      <td>2018-08-01</td>\n",
       "    </tr>\n",
       "    <tr>\n",
       "      <th>2</th>\n",
       "      <td>10002</td>\n",
       "      <td>2018-06-11</td>\n",
       "      <td>2.85</td>\n",
       "      <td>1000</td>\n",
       "      <td>3</td>\n",
       "      <td>2018-06-01</td>\n",
       "    </tr>\n",
       "    <tr>\n",
       "      <th>3</th>\n",
       "      <td>10003</td>\n",
       "      <td>2018-09-21</td>\n",
       "      <td>13.80</td>\n",
       "      <td>1000</td>\n",
       "      <td>14</td>\n",
       "      <td>2018-09-01</td>\n",
       "    </tr>\n",
       "    <tr>\n",
       "      <th>4</th>\n",
       "      <td>10004</td>\n",
       "      <td>2018-12-15</td>\n",
       "      <td>5.18</td>\n",
       "      <td>1000</td>\n",
       "      <td>6</td>\n",
       "      <td>2018-12-01</td>\n",
       "    </tr>\n",
       "  </tbody>\n",
       "</table>\n",
       "</div>"
      ],
      "text/plain": [
       "      id  call_date  duration  user_id  duration_round call_month\n",
       "0  10000 2018-07-25      0.00     1000               0 2018-07-01\n",
       "1  10001 2018-08-17      0.00     1000               0 2018-08-01\n",
       "2  10002 2018-06-11      2.85     1000               3 2018-06-01\n",
       "3  10003 2018-09-21     13.80     1000              14 2018-09-01\n",
       "4  10004 2018-12-15      5.18     1000               6 2018-12-01"
      ]
     },
     "execution_count": 32,
     "metadata": {},
     "output_type": "execute_result"
    }
   ],
   "source": [
    "calls['call_month'] = calls['call_date'].astype('datetime64[M]')\n",
    "calls.head()"
   ]
  },
  {
   "cell_type": "code",
   "execution_count": 33,
   "id": "7f87bb50",
   "metadata": {
    "scrolled": true
   },
   "outputs": [
    {
     "data": {
      "text/html": [
       "<div>\n",
       "<style scoped>\n",
       "    .dataframe tbody tr th:only-of-type {\n",
       "        vertical-align: middle;\n",
       "    }\n",
       "\n",
       "    .dataframe tbody tr th {\n",
       "        vertical-align: top;\n",
       "    }\n",
       "\n",
       "    .dataframe thead tr th {\n",
       "        text-align: left;\n",
       "    }\n",
       "</style>\n",
       "<table border=\"1\" class=\"dataframe\">\n",
       "  <thead>\n",
       "    <tr>\n",
       "      <th></th>\n",
       "      <th>user_id</th>\n",
       "      <th>call_month</th>\n",
       "      <th>count</th>\n",
       "      <th>sum</th>\n",
       "    </tr>\n",
       "    <tr>\n",
       "      <th></th>\n",
       "      <th></th>\n",
       "      <th></th>\n",
       "      <th>duration_round</th>\n",
       "      <th>duration_round</th>\n",
       "    </tr>\n",
       "  </thead>\n",
       "  <tbody>\n",
       "    <tr>\n",
       "      <th>0</th>\n",
       "      <td>1000</td>\n",
       "      <td>2018-05-01</td>\n",
       "      <td>22</td>\n",
       "      <td>159</td>\n",
       "    </tr>\n",
       "    <tr>\n",
       "      <th>1</th>\n",
       "      <td>1000</td>\n",
       "      <td>2018-06-01</td>\n",
       "      <td>43</td>\n",
       "      <td>172</td>\n",
       "    </tr>\n",
       "    <tr>\n",
       "      <th>2</th>\n",
       "      <td>1000</td>\n",
       "      <td>2018-07-01</td>\n",
       "      <td>47</td>\n",
       "      <td>340</td>\n",
       "    </tr>\n",
       "    <tr>\n",
       "      <th>3</th>\n",
       "      <td>1000</td>\n",
       "      <td>2018-08-01</td>\n",
       "      <td>52</td>\n",
       "      <td>408</td>\n",
       "    </tr>\n",
       "    <tr>\n",
       "      <th>4</th>\n",
       "      <td>1000</td>\n",
       "      <td>2018-09-01</td>\n",
       "      <td>58</td>\n",
       "      <td>466</td>\n",
       "    </tr>\n",
       "  </tbody>\n",
       "</table>\n",
       "</div>"
      ],
      "text/plain": [
       "  user_id call_month          count            sum\n",
       "                     duration_round duration_round\n",
       "0    1000 2018-05-01             22            159\n",
       "1    1000 2018-06-01             43            172\n",
       "2    1000 2018-07-01             47            340\n",
       "3    1000 2018-08-01             52            408\n",
       "4    1000 2018-09-01             58            466"
      ]
     },
     "execution_count": 33,
     "metadata": {},
     "output_type": "execute_result"
    }
   ],
   "source": [
    "# сгруппируем таблицу по пользователям и месяцам посмотрим сумму минут в месяц\n",
    "calls_pivot = (\n",
    "    calls.pivot_table(index=['user_id','call_month'], values='duration_round', aggfunc=['count', 'sum'])\n",
    "    .reset_index()\n",
    ")\n",
    "calls_pivot.head()"
   ]
  },
  {
   "cell_type": "code",
   "execution_count": 34,
   "id": "5307fd4a",
   "metadata": {},
   "outputs": [
    {
     "data": {
      "text/html": [
       "<div>\n",
       "<style scoped>\n",
       "    .dataframe tbody tr th:only-of-type {\n",
       "        vertical-align: middle;\n",
       "    }\n",
       "\n",
       "    .dataframe tbody tr th {\n",
       "        vertical-align: top;\n",
       "    }\n",
       "\n",
       "    .dataframe thead th {\n",
       "        text-align: right;\n",
       "    }\n",
       "</style>\n",
       "<table border=\"1\" class=\"dataframe\">\n",
       "  <thead>\n",
       "    <tr style=\"text-align: right;\">\n",
       "      <th></th>\n",
       "      <th>user_id</th>\n",
       "      <th>month</th>\n",
       "      <th>call_count</th>\n",
       "      <th>call_vol</th>\n",
       "    </tr>\n",
       "  </thead>\n",
       "  <tbody>\n",
       "    <tr>\n",
       "      <th>0</th>\n",
       "      <td>1000</td>\n",
       "      <td>2018-05-01</td>\n",
       "      <td>22</td>\n",
       "      <td>159</td>\n",
       "    </tr>\n",
       "    <tr>\n",
       "      <th>1</th>\n",
       "      <td>1000</td>\n",
       "      <td>2018-06-01</td>\n",
       "      <td>43</td>\n",
       "      <td>172</td>\n",
       "    </tr>\n",
       "    <tr>\n",
       "      <th>2</th>\n",
       "      <td>1000</td>\n",
       "      <td>2018-07-01</td>\n",
       "      <td>47</td>\n",
       "      <td>340</td>\n",
       "    </tr>\n",
       "    <tr>\n",
       "      <th>3</th>\n",
       "      <td>1000</td>\n",
       "      <td>2018-08-01</td>\n",
       "      <td>52</td>\n",
       "      <td>408</td>\n",
       "    </tr>\n",
       "    <tr>\n",
       "      <th>4</th>\n",
       "      <td>1000</td>\n",
       "      <td>2018-09-01</td>\n",
       "      <td>58</td>\n",
       "      <td>466</td>\n",
       "    </tr>\n",
       "  </tbody>\n",
       "</table>\n",
       "</div>"
      ],
      "text/plain": [
       "   user_id      month  call_count  call_vol\n",
       "0     1000 2018-05-01          22       159\n",
       "1     1000 2018-06-01          43       172\n",
       "2     1000 2018-07-01          47       340\n",
       "3     1000 2018-08-01          52       408\n",
       "4     1000 2018-09-01          58       466"
      ]
     },
     "execution_count": 34,
     "metadata": {},
     "output_type": "execute_result"
    }
   ],
   "source": [
    "calls_pivot.columns = ['user_id', 'month', 'call_count', 'call_vol']\n",
    "calls_pivot.head(5)"
   ]
  },
  {
   "cell_type": "markdown",
   "id": "7ee13425",
   "metadata": {
    "tags": []
   },
   "source": [
    "**Выводы**\n",
    "\n",
    "На данном этапе мы преобразовали типы данных в столбцах `id` и `call_date` и изменили их на `int64` и `datetime` соответственно для удобства дальнейшей работы. Посмотрели общую информацию о продолжительности звонков пользователей тарифов. Сгруппировали данные по пользователям и месяцам и рассчитали количество израсходованных минут разговора в месяц на каждого пользователя."
   ]
  },
  {
   "cell_type": "markdown",
   "id": "1d4f6803",
   "metadata": {
    "tags": []
   },
   "source": [
    "### Подготовка данных в таблице `message` для проверки гипотез"
   ]
  },
  {
   "cell_type": "markdown",
   "id": "274ef40c",
   "metadata": {},
   "source": [
    "Для проверки гипотез нам необходимо рассчитать количество отправленных сообщений по месяцам для каждого пользователя."
   ]
  },
  {
   "cell_type": "code",
   "execution_count": 35,
   "id": "aa2fe2be",
   "metadata": {},
   "outputs": [
    {
     "data": {
      "text/html": [
       "<div>\n",
       "<style scoped>\n",
       "    .dataframe tbody tr th:only-of-type {\n",
       "        vertical-align: middle;\n",
       "    }\n",
       "\n",
       "    .dataframe tbody tr th {\n",
       "        vertical-align: top;\n",
       "    }\n",
       "\n",
       "    .dataframe thead th {\n",
       "        text-align: right;\n",
       "    }\n",
       "</style>\n",
       "<table border=\"1\" class=\"dataframe\">\n",
       "  <thead>\n",
       "    <tr style=\"text-align: right;\">\n",
       "      <th></th>\n",
       "      <th>id</th>\n",
       "      <th>message_date</th>\n",
       "      <th>user_id</th>\n",
       "    </tr>\n",
       "  </thead>\n",
       "  <tbody>\n",
       "    <tr>\n",
       "      <th>106723</th>\n",
       "      <td>1431_465</td>\n",
       "      <td>2018-04-17</td>\n",
       "      <td>1431</td>\n",
       "    </tr>\n",
       "    <tr>\n",
       "      <th>81766</th>\n",
       "      <td>1343_8</td>\n",
       "      <td>2018-10-17</td>\n",
       "      <td>1343</td>\n",
       "    </tr>\n",
       "    <tr>\n",
       "      <th>32077</th>\n",
       "      <td>1144_216</td>\n",
       "      <td>2018-09-11</td>\n",
       "      <td>1144</td>\n",
       "    </tr>\n",
       "    <tr>\n",
       "      <th>84830</th>\n",
       "      <td>1354_282</td>\n",
       "      <td>2018-12-04</td>\n",
       "      <td>1354</td>\n",
       "    </tr>\n",
       "    <tr>\n",
       "      <th>37761</th>\n",
       "      <td>1165_115</td>\n",
       "      <td>2018-11-25</td>\n",
       "      <td>1165</td>\n",
       "    </tr>\n",
       "  </tbody>\n",
       "</table>\n",
       "</div>"
      ],
      "text/plain": [
       "              id message_date  user_id\n",
       "106723  1431_465   2018-04-17     1431\n",
       "81766     1343_8   2018-10-17     1343\n",
       "32077   1144_216   2018-09-11     1144\n",
       "84830   1354_282   2018-12-04     1354\n",
       "37761   1165_115   2018-11-25     1165"
      ]
     },
     "execution_count": 35,
     "metadata": {},
     "output_type": "execute_result"
    }
   ],
   "source": [
    "message.sample(5) # просмотр 5 случайных строк таблицы `message`"
   ]
  },
  {
   "cell_type": "code",
   "execution_count": 36,
   "id": "6312b28c",
   "metadata": {},
   "outputs": [
    {
     "name": "stdout",
     "output_type": "stream",
     "text": [
      "<class 'pandas.core.frame.DataFrame'>\n",
      "RangeIndex: 123036 entries, 0 to 123035\n",
      "Data columns (total 3 columns):\n",
      " #   Column        Non-Null Count   Dtype \n",
      "---  ------        --------------   ----- \n",
      " 0   id            123036 non-null  object\n",
      " 1   message_date  123036 non-null  object\n",
      " 2   user_id       123036 non-null  int64 \n",
      "dtypes: int64(1), object(2)\n",
      "memory usage: 2.8+ MB\n"
     ]
    }
   ],
   "source": [
    "message.info() #получение общей информации о таблице `message`"
   ]
  },
  {
   "cell_type": "markdown",
   "id": "32d76b92",
   "metadata": {},
   "source": [
    "Можно заметить, что столбцы `id` и `message_date` находятся в формате `object`, хотя данные в столбце `id` должны быть, также как и в столбце `user_id` в формате `int64`, а в столбце `message_date` - в формате `datetime`."
   ]
  },
  {
   "cell_type": "code",
   "execution_count": 37,
   "id": "7e6df4b8",
   "metadata": {},
   "outputs": [],
   "source": [
    "# Преобразуем формат данных в столбце `message_date` в формат `datetime`\n",
    "message['message_date'] = pd.to_datetime(message.message_date)"
   ]
  },
  {
   "cell_type": "code",
   "execution_count": 38,
   "id": "9094cef3",
   "metadata": {},
   "outputs": [],
   "source": [
    "# Преобразуем формат данных в столбце `id` в формат `int64`\n",
    "message['id'] = message['id'].astype('int')"
   ]
  },
  {
   "cell_type": "code",
   "execution_count": 39,
   "id": "ded745a7",
   "metadata": {},
   "outputs": [
    {
     "name": "stdout",
     "output_type": "stream",
     "text": [
      "<class 'pandas.core.frame.DataFrame'>\n",
      "RangeIndex: 123036 entries, 0 to 123035\n",
      "Data columns (total 3 columns):\n",
      " #   Column        Non-Null Count   Dtype         \n",
      "---  ------        --------------   -----         \n",
      " 0   id            123036 non-null  int64         \n",
      " 1   message_date  123036 non-null  datetime64[ns]\n",
      " 2   user_id       123036 non-null  int64         \n",
      "dtypes: datetime64[ns](1), int64(2)\n",
      "memory usage: 2.8 MB\n"
     ]
    }
   ],
   "source": [
    "message.info() #проверим, что формат данных изменён"
   ]
  },
  {
   "cell_type": "markdown",
   "id": "4b739f9c",
   "metadata": {},
   "source": [
    "Посчитаем для каждого пользователя количество отправленных сообщений по месяцам. Для этого в таблицу `message` добавим столбец с месяцем звонка."
   ]
  },
  {
   "cell_type": "code",
   "execution_count": 40,
   "id": "ca6e2a3e",
   "metadata": {
    "scrolled": true
   },
   "outputs": [
    {
     "data": {
      "text/html": [
       "<div>\n",
       "<style scoped>\n",
       "    .dataframe tbody tr th:only-of-type {\n",
       "        vertical-align: middle;\n",
       "    }\n",
       "\n",
       "    .dataframe tbody tr th {\n",
       "        vertical-align: top;\n",
       "    }\n",
       "\n",
       "    .dataframe thead th {\n",
       "        text-align: right;\n",
       "    }\n",
       "</style>\n",
       "<table border=\"1\" class=\"dataframe\">\n",
       "  <thead>\n",
       "    <tr style=\"text-align: right;\">\n",
       "      <th></th>\n",
       "      <th>id</th>\n",
       "      <th>message_date</th>\n",
       "      <th>user_id</th>\n",
       "      <th>mes_month</th>\n",
       "    </tr>\n",
       "  </thead>\n",
       "  <tbody>\n",
       "    <tr>\n",
       "      <th>0</th>\n",
       "      <td>10000</td>\n",
       "      <td>2018-06-27</td>\n",
       "      <td>1000</td>\n",
       "      <td>2018-06-01</td>\n",
       "    </tr>\n",
       "    <tr>\n",
       "      <th>1</th>\n",
       "      <td>10001</td>\n",
       "      <td>2018-10-08</td>\n",
       "      <td>1000</td>\n",
       "      <td>2018-10-01</td>\n",
       "    </tr>\n",
       "    <tr>\n",
       "      <th>2</th>\n",
       "      <td>10002</td>\n",
       "      <td>2018-08-04</td>\n",
       "      <td>1000</td>\n",
       "      <td>2018-08-01</td>\n",
       "    </tr>\n",
       "    <tr>\n",
       "      <th>3</th>\n",
       "      <td>10003</td>\n",
       "      <td>2018-06-16</td>\n",
       "      <td>1000</td>\n",
       "      <td>2018-06-01</td>\n",
       "    </tr>\n",
       "    <tr>\n",
       "      <th>4</th>\n",
       "      <td>10004</td>\n",
       "      <td>2018-12-05</td>\n",
       "      <td>1000</td>\n",
       "      <td>2018-12-01</td>\n",
       "    </tr>\n",
       "  </tbody>\n",
       "</table>\n",
       "</div>"
      ],
      "text/plain": [
       "      id message_date  user_id  mes_month\n",
       "0  10000   2018-06-27     1000 2018-06-01\n",
       "1  10001   2018-10-08     1000 2018-10-01\n",
       "2  10002   2018-08-04     1000 2018-08-01\n",
       "3  10003   2018-06-16     1000 2018-06-01\n",
       "4  10004   2018-12-05     1000 2018-12-01"
      ]
     },
     "execution_count": 40,
     "metadata": {},
     "output_type": "execute_result"
    }
   ],
   "source": [
    "message['mes_month'] = message['message_date'].astype('datetime64[M]')\n",
    "message.head()"
   ]
  },
  {
   "cell_type": "code",
   "execution_count": 41,
   "id": "88d7ce5d",
   "metadata": {
    "scrolled": false
   },
   "outputs": [
    {
     "data": {
      "text/html": [
       "<div>\n",
       "<style scoped>\n",
       "    .dataframe tbody tr th:only-of-type {\n",
       "        vertical-align: middle;\n",
       "    }\n",
       "\n",
       "    .dataframe tbody tr th {\n",
       "        vertical-align: top;\n",
       "    }\n",
       "\n",
       "    .dataframe thead th {\n",
       "        text-align: right;\n",
       "    }\n",
       "</style>\n",
       "<table border=\"1\" class=\"dataframe\">\n",
       "  <thead>\n",
       "    <tr style=\"text-align: right;\">\n",
       "      <th></th>\n",
       "      <th>user_id</th>\n",
       "      <th>mes_month</th>\n",
       "      <th>id</th>\n",
       "    </tr>\n",
       "  </thead>\n",
       "  <tbody>\n",
       "    <tr>\n",
       "      <th>0</th>\n",
       "      <td>1000</td>\n",
       "      <td>2018-05-01</td>\n",
       "      <td>22</td>\n",
       "    </tr>\n",
       "    <tr>\n",
       "      <th>1</th>\n",
       "      <td>1000</td>\n",
       "      <td>2018-06-01</td>\n",
       "      <td>60</td>\n",
       "    </tr>\n",
       "    <tr>\n",
       "      <th>2</th>\n",
       "      <td>1000</td>\n",
       "      <td>2018-07-01</td>\n",
       "      <td>75</td>\n",
       "    </tr>\n",
       "    <tr>\n",
       "      <th>3</th>\n",
       "      <td>1000</td>\n",
       "      <td>2018-08-01</td>\n",
       "      <td>81</td>\n",
       "    </tr>\n",
       "    <tr>\n",
       "      <th>4</th>\n",
       "      <td>1000</td>\n",
       "      <td>2018-09-01</td>\n",
       "      <td>57</td>\n",
       "    </tr>\n",
       "  </tbody>\n",
       "</table>\n",
       "</div>"
      ],
      "text/plain": [
       "   user_id  mes_month  id\n",
       "0     1000 2018-05-01  22\n",
       "1     1000 2018-06-01  60\n",
       "2     1000 2018-07-01  75\n",
       "3     1000 2018-08-01  81\n",
       "4     1000 2018-09-01  57"
      ]
     },
     "execution_count": 41,
     "metadata": {},
     "output_type": "execute_result"
    }
   ],
   "source": [
    "# сгруппируем таблицу по пользователям и месяцам посмотрим количество отправленных сообщений\n",
    "message_pivot = (\n",
    "    message.pivot_table(index=['user_id', 'mes_month'], values='id', aggfunc='count').reset_index()\n",
    ")\n",
    "message_pivot.head()"
   ]
  },
  {
   "cell_type": "code",
   "execution_count": 42,
   "id": "83fd1337",
   "metadata": {},
   "outputs": [
    {
     "data": {
      "text/html": [
       "<div>\n",
       "<style scoped>\n",
       "    .dataframe tbody tr th:only-of-type {\n",
       "        vertical-align: middle;\n",
       "    }\n",
       "\n",
       "    .dataframe tbody tr th {\n",
       "        vertical-align: top;\n",
       "    }\n",
       "\n",
       "    .dataframe thead th {\n",
       "        text-align: right;\n",
       "    }\n",
       "</style>\n",
       "<table border=\"1\" class=\"dataframe\">\n",
       "  <thead>\n",
       "    <tr style=\"text-align: right;\">\n",
       "      <th></th>\n",
       "      <th>user_id</th>\n",
       "      <th>month</th>\n",
       "      <th>mes_count</th>\n",
       "    </tr>\n",
       "  </thead>\n",
       "  <tbody>\n",
       "    <tr>\n",
       "      <th>0</th>\n",
       "      <td>1000</td>\n",
       "      <td>2018-05-01</td>\n",
       "      <td>22</td>\n",
       "    </tr>\n",
       "    <tr>\n",
       "      <th>1</th>\n",
       "      <td>1000</td>\n",
       "      <td>2018-06-01</td>\n",
       "      <td>60</td>\n",
       "    </tr>\n",
       "    <tr>\n",
       "      <th>2</th>\n",
       "      <td>1000</td>\n",
       "      <td>2018-07-01</td>\n",
       "      <td>75</td>\n",
       "    </tr>\n",
       "    <tr>\n",
       "      <th>3</th>\n",
       "      <td>1000</td>\n",
       "      <td>2018-08-01</td>\n",
       "      <td>81</td>\n",
       "    </tr>\n",
       "    <tr>\n",
       "      <th>4</th>\n",
       "      <td>1000</td>\n",
       "      <td>2018-09-01</td>\n",
       "      <td>57</td>\n",
       "    </tr>\n",
       "  </tbody>\n",
       "</table>\n",
       "</div>"
      ],
      "text/plain": [
       "   user_id      month  mes_count\n",
       "0     1000 2018-05-01         22\n",
       "1     1000 2018-06-01         60\n",
       "2     1000 2018-07-01         75\n",
       "3     1000 2018-08-01         81\n",
       "4     1000 2018-09-01         57"
      ]
     },
     "execution_count": 42,
     "metadata": {},
     "output_type": "execute_result"
    }
   ],
   "source": [
    "message_pivot.columns = ['user_id', 'month', 'mes_count']\n",
    "message_pivot.head()"
   ]
  },
  {
   "cell_type": "code",
   "execution_count": 43,
   "id": "d6a646c5",
   "metadata": {},
   "outputs": [
    {
     "data": {
      "image/png": "[encoded data removed]",
      "text/plain": [
       "<Figure size 576x360 with 1 Axes>"
      ]
     },
     "metadata": {
      "needs_background": "light"
     },
     "output_type": "display_data"
    }
   ],
   "source": [
    "# посмотрим распределение частот объёмов отправленных сообщений в месяц\n",
    "buildHist(message_pivot['mes_count'], 'Объём отправленных сообщений', 'Распределение объёмов сообщений')"
   ]
  },
  {
   "cell_type": "markdown",
   "id": "adeab051",
   "metadata": {},
   "source": [
    "На графике видим, что большинство объёмов отправленных сообщений находится в интервале 1-20 сообщений в месяц. Распределение частот объёмов отправленных сообщений является Пуассоновским."
   ]
  },
  {
   "cell_type": "markdown",
   "id": "7f84ff13",
   "metadata": {
    "tags": []
   },
   "source": [
    "**Выводы**\n",
    "\n",
    "На данном этапе мы преобразовали типы данных в столбцах `id` и `message_date` и изменили их на `int64` и `datetime` соответственно для удобства дальнейшей работы. Сгруппировали данные по пользователям и месяцам и рассчитали среднее количество отправленных сообщений в месяц на каждого пользователя. Посмотрели общую информацию об объёмах отправленных сообщений пользователей тарифов в месяц."
   ]
  },
  {
   "cell_type": "markdown",
   "id": "d02b13c0",
   "metadata": {
    "tags": []
   },
   "source": [
    "### Подготовка данных в таблице `internet` для проверки гипотез"
   ]
  },
  {
   "cell_type": "markdown",
   "id": "c5ca99f8",
   "metadata": {},
   "source": [
    "Для проверки гипотез нам необходимо рассчитать объем израсходованного интернет-трафика по месяцам для каждого пользователя."
   ]
  },
  {
   "cell_type": "code",
   "execution_count": 44,
   "id": "24054719",
   "metadata": {},
   "outputs": [
    {
     "data": {
      "text/html": [
       "<div>\n",
       "<style scoped>\n",
       "    .dataframe tbody tr th:only-of-type {\n",
       "        vertical-align: middle;\n",
       "    }\n",
       "\n",
       "    .dataframe tbody tr th {\n",
       "        vertical-align: top;\n",
       "    }\n",
       "\n",
       "    .dataframe thead th {\n",
       "        text-align: right;\n",
       "    }\n",
       "</style>\n",
       "<table border=\"1\" class=\"dataframe\">\n",
       "  <thead>\n",
       "    <tr style=\"text-align: right;\">\n",
       "      <th></th>\n",
       "      <th>id</th>\n",
       "      <th>mb_used</th>\n",
       "      <th>session_date</th>\n",
       "      <th>user_id</th>\n",
       "    </tr>\n",
       "  </thead>\n",
       "  <tbody>\n",
       "    <tr>\n",
       "      <th>37003</th>\n",
       "      <td>1127_353</td>\n",
       "      <td>140.39</td>\n",
       "      <td>2018-11-23</td>\n",
       "      <td>1127</td>\n",
       "    </tr>\n",
       "    <tr>\n",
       "      <th>99460</th>\n",
       "      <td>1332_434</td>\n",
       "      <td>586.60</td>\n",
       "      <td>2018-08-25</td>\n",
       "      <td>1332</td>\n",
       "    </tr>\n",
       "    <tr>\n",
       "      <th>98050</th>\n",
       "      <td>1330_258</td>\n",
       "      <td>564.89</td>\n",
       "      <td>2018-11-14</td>\n",
       "      <td>1330</td>\n",
       "    </tr>\n",
       "    <tr>\n",
       "      <th>142603</th>\n",
       "      <td>1477_500</td>\n",
       "      <td>520.81</td>\n",
       "      <td>2018-08-17</td>\n",
       "      <td>1477</td>\n",
       "    </tr>\n",
       "    <tr>\n",
       "      <th>100467</th>\n",
       "      <td>1337_504</td>\n",
       "      <td>0.00</td>\n",
       "      <td>2018-07-15</td>\n",
       "      <td>1337</td>\n",
       "    </tr>\n",
       "  </tbody>\n",
       "</table>\n",
       "</div>"
      ],
      "text/plain": [
       "              id  mb_used session_date  user_id\n",
       "37003   1127_353   140.39   2018-11-23     1127\n",
       "99460   1332_434   586.60   2018-08-25     1332\n",
       "98050   1330_258   564.89   2018-11-14     1330\n",
       "142603  1477_500   520.81   2018-08-17     1477\n",
       "100467  1337_504     0.00   2018-07-15     1337"
      ]
     },
     "execution_count": 44,
     "metadata": {},
     "output_type": "execute_result"
    }
   ],
   "source": [
    "internet.sample(5) # просмотр 5 случайных строк таблицы `internet`"
   ]
  },
  {
   "cell_type": "code",
   "execution_count": 45,
   "id": "8ae2b5f8",
   "metadata": {},
   "outputs": [
    {
     "name": "stdout",
     "output_type": "stream",
     "text": [
      "<class 'pandas.core.frame.DataFrame'>\n",
      "RangeIndex: 149396 entries, 0 to 149395\n",
      "Data columns (total 4 columns):\n",
      " #   Column        Non-Null Count   Dtype  \n",
      "---  ------        --------------   -----  \n",
      " 0   id            149396 non-null  object \n",
      " 1   mb_used       149396 non-null  float64\n",
      " 2   session_date  149396 non-null  object \n",
      " 3   user_id       149396 non-null  int64  \n",
      "dtypes: float64(1), int64(1), object(2)\n",
      "memory usage: 4.6+ MB\n"
     ]
    }
   ],
   "source": [
    "internet.info() #получение общей информации о таблице `internet`"
   ]
  },
  {
   "cell_type": "markdown",
   "id": "2f1796b2",
   "metadata": {},
   "source": [
    "Можно заметить, что столбцы `id` и `session_date` находятся в формате `object`, хотя данные в столбце `id` должны быть, также как и в столбце `user_id` в формате `int64`, а в столбце `session_date` - в формате `datetime`."
   ]
  },
  {
   "cell_type": "code",
   "execution_count": 46,
   "id": "8ec6d9dc",
   "metadata": {},
   "outputs": [],
   "source": [
    "# Преобразуем формат данных в столбце `session_date` в формат `datetime`\n",
    "internet['session_date'] = pd.to_datetime(internet.session_date)"
   ]
  },
  {
   "cell_type": "code",
   "execution_count": 47,
   "id": "b80dda4b",
   "metadata": {},
   "outputs": [],
   "source": [
    "# Преобразуем формат данных в столбце `id` в формат `int64`\n",
    "internet['id'] = internet['id'].astype('int')"
   ]
  },
  {
   "cell_type": "code",
   "execution_count": 48,
   "id": "829e6d59",
   "metadata": {
    "tags": []
   },
   "outputs": [
    {
     "name": "stdout",
     "output_type": "stream",
     "text": [
      "<class 'pandas.core.frame.DataFrame'>\n",
      "RangeIndex: 149396 entries, 0 to 149395\n",
      "Data columns (total 4 columns):\n",
      " #   Column        Non-Null Count   Dtype         \n",
      "---  ------        --------------   -----         \n",
      " 0   id            149396 non-null  int64         \n",
      " 1   mb_used       149396 non-null  float64       \n",
      " 2   session_date  149396 non-null  datetime64[ns]\n",
      " 3   user_id       149396 non-null  int64         \n",
      "dtypes: datetime64[ns](1), float64(1), int64(2)\n",
      "memory usage: 4.6 MB\n"
     ]
    }
   ],
   "source": [
    "internet.info() #проверим, что формат данных изменён"
   ]
  },
  {
   "cell_type": "markdown",
   "id": "d40baaa1",
   "metadata": {},
   "source": [
    "Также мы видим, что данные в столбце `mb_used` в мегабайтах и не округленные, хотя по условиях тарифных планов «Мегалайн» всегда округляет мегабайты до гигабайт. Отдельные сессии не считаются, вместо этого общая сумма за месяц округляется в бо́льшую сторону. Если абонент использует 1025 мегабайт в этом месяце, с него возьмут плату за 2 гигабайта. Необходимо округлить посчитать сумму мегабайт для каждого пользователя по месяцам, далее перевести мегабайты в гигабайты и округлить их в большую сторону."
   ]
  },
  {
   "cell_type": "code",
   "execution_count": 49,
   "id": "7618ef63",
   "metadata": {},
   "outputs": [
    {
     "data": {
      "text/html": [
       "<div>\n",
       "<style scoped>\n",
       "    .dataframe tbody tr th:only-of-type {\n",
       "        vertical-align: middle;\n",
       "    }\n",
       "\n",
       "    .dataframe tbody tr th {\n",
       "        vertical-align: top;\n",
       "    }\n",
       "\n",
       "    .dataframe thead th {\n",
       "        text-align: right;\n",
       "    }\n",
       "</style>\n",
       "<table border=\"1\" class=\"dataframe\">\n",
       "  <thead>\n",
       "    <tr style=\"text-align: right;\">\n",
       "      <th></th>\n",
       "      <th>id</th>\n",
       "      <th>mb_used</th>\n",
       "      <th>session_date</th>\n",
       "      <th>user_id</th>\n",
       "      <th>ses_month</th>\n",
       "    </tr>\n",
       "  </thead>\n",
       "  <tbody>\n",
       "    <tr>\n",
       "      <th>0</th>\n",
       "      <td>10000</td>\n",
       "      <td>112.95</td>\n",
       "      <td>2018-11-25</td>\n",
       "      <td>1000</td>\n",
       "      <td>2018-11-01</td>\n",
       "    </tr>\n",
       "    <tr>\n",
       "      <th>1</th>\n",
       "      <td>10001</td>\n",
       "      <td>1052.81</td>\n",
       "      <td>2018-09-07</td>\n",
       "      <td>1000</td>\n",
       "      <td>2018-09-01</td>\n",
       "    </tr>\n",
       "    <tr>\n",
       "      <th>2</th>\n",
       "      <td>10002</td>\n",
       "      <td>1197.26</td>\n",
       "      <td>2018-06-25</td>\n",
       "      <td>1000</td>\n",
       "      <td>2018-06-01</td>\n",
       "    </tr>\n",
       "    <tr>\n",
       "      <th>3</th>\n",
       "      <td>10003</td>\n",
       "      <td>550.27</td>\n",
       "      <td>2018-08-22</td>\n",
       "      <td>1000</td>\n",
       "      <td>2018-08-01</td>\n",
       "    </tr>\n",
       "    <tr>\n",
       "      <th>4</th>\n",
       "      <td>10004</td>\n",
       "      <td>302.56</td>\n",
       "      <td>2018-09-24</td>\n",
       "      <td>1000</td>\n",
       "      <td>2018-09-01</td>\n",
       "    </tr>\n",
       "  </tbody>\n",
       "</table>\n",
       "</div>"
      ],
      "text/plain": [
       "      id  mb_used session_date  user_id  ses_month\n",
       "0  10000   112.95   2018-11-25     1000 2018-11-01\n",
       "1  10001  1052.81   2018-09-07     1000 2018-09-01\n",
       "2  10002  1197.26   2018-06-25     1000 2018-06-01\n",
       "3  10003   550.27   2018-08-22     1000 2018-08-01\n",
       "4  10004   302.56   2018-09-24     1000 2018-09-01"
      ]
     },
     "execution_count": 49,
     "metadata": {},
     "output_type": "execute_result"
    }
   ],
   "source": [
    "#добавим в таблицу `internet` столбец с месяцем интернет-сессии\n",
    "internet['ses_month'] = internet['session_date'].astype('datetime64[M]')\n",
    "internet.head()"
   ]
  },
  {
   "cell_type": "code",
   "execution_count": 50,
   "id": "993c6c95",
   "metadata": {
    "scrolled": true
   },
   "outputs": [
    {
     "data": {
      "text/html": [
       "<div>\n",
       "<style scoped>\n",
       "    .dataframe tbody tr th:only-of-type {\n",
       "        vertical-align: middle;\n",
       "    }\n",
       "\n",
       "    .dataframe tbody tr th {\n",
       "        vertical-align: top;\n",
       "    }\n",
       "\n",
       "    .dataframe thead th {\n",
       "        text-align: right;\n",
       "    }\n",
       "</style>\n",
       "<table border=\"1\" class=\"dataframe\">\n",
       "  <thead>\n",
       "    <tr style=\"text-align: right;\">\n",
       "      <th></th>\n",
       "      <th>user_id</th>\n",
       "      <th>ses_month</th>\n",
       "      <th>mb_used</th>\n",
       "    </tr>\n",
       "  </thead>\n",
       "  <tbody>\n",
       "    <tr>\n",
       "      <th>3198</th>\n",
       "      <td>1498</td>\n",
       "      <td>2018-10-01</td>\n",
       "      <td>20579.36</td>\n",
       "    </tr>\n",
       "    <tr>\n",
       "      <th>3199</th>\n",
       "      <td>1499</td>\n",
       "      <td>2018-09-01</td>\n",
       "      <td>1845.75</td>\n",
       "    </tr>\n",
       "    <tr>\n",
       "      <th>3200</th>\n",
       "      <td>1499</td>\n",
       "      <td>2018-10-01</td>\n",
       "      <td>17788.51</td>\n",
       "    </tr>\n",
       "    <tr>\n",
       "      <th>3201</th>\n",
       "      <td>1499</td>\n",
       "      <td>2018-11-01</td>\n",
       "      <td>17963.31</td>\n",
       "    </tr>\n",
       "    <tr>\n",
       "      <th>3202</th>\n",
       "      <td>1499</td>\n",
       "      <td>2018-12-01</td>\n",
       "      <td>13055.58</td>\n",
       "    </tr>\n",
       "  </tbody>\n",
       "</table>\n",
       "</div>"
      ],
      "text/plain": [
       "      user_id  ses_month   mb_used\n",
       "3198     1498 2018-10-01  20579.36\n",
       "3199     1499 2018-09-01   1845.75\n",
       "3200     1499 2018-10-01  17788.51\n",
       "3201     1499 2018-11-01  17963.31\n",
       "3202     1499 2018-12-01  13055.58"
      ]
     },
     "execution_count": 50,
     "metadata": {},
     "output_type": "execute_result"
    }
   ],
   "source": [
    "# сгруппируем таблицу по пользователям и посмотрим объем израсходованного интернет-трафика по месяцам\n",
    "int_pivot = (\n",
    "    internet.pivot_table(index=['user_id', 'ses_month'], values='mb_used', aggfunc='sum')\n",
    "    .reset_index()\n",
    ")\n",
    "int_pivot.tail()"
   ]
  },
  {
   "cell_type": "code",
   "execution_count": 51,
   "id": "faac16b4",
   "metadata": {},
   "outputs": [
    {
     "data": {
      "text/html": [
       "<div>\n",
       "<style scoped>\n",
       "    .dataframe tbody tr th:only-of-type {\n",
       "        vertical-align: middle;\n",
       "    }\n",
       "\n",
       "    .dataframe tbody tr th {\n",
       "        vertical-align: top;\n",
       "    }\n",
       "\n",
       "    .dataframe thead th {\n",
       "        text-align: right;\n",
       "    }\n",
       "</style>\n",
       "<table border=\"1\" class=\"dataframe\">\n",
       "  <thead>\n",
       "    <tr style=\"text-align: right;\">\n",
       "      <th></th>\n",
       "      <th>user_id</th>\n",
       "      <th>ses_month</th>\n",
       "      <th>mb_used</th>\n",
       "    </tr>\n",
       "  </thead>\n",
       "  <tbody>\n",
       "    <tr>\n",
       "      <th>3198</th>\n",
       "      <td>1498</td>\n",
       "      <td>2018-10-01</td>\n",
       "      <td>21.0</td>\n",
       "    </tr>\n",
       "    <tr>\n",
       "      <th>3199</th>\n",
       "      <td>1499</td>\n",
       "      <td>2018-09-01</td>\n",
       "      <td>2.0</td>\n",
       "    </tr>\n",
       "    <tr>\n",
       "      <th>3200</th>\n",
       "      <td>1499</td>\n",
       "      <td>2018-10-01</td>\n",
       "      <td>18.0</td>\n",
       "    </tr>\n",
       "    <tr>\n",
       "      <th>3201</th>\n",
       "      <td>1499</td>\n",
       "      <td>2018-11-01</td>\n",
       "      <td>18.0</td>\n",
       "    </tr>\n",
       "    <tr>\n",
       "      <th>3202</th>\n",
       "      <td>1499</td>\n",
       "      <td>2018-12-01</td>\n",
       "      <td>13.0</td>\n",
       "    </tr>\n",
       "  </tbody>\n",
       "</table>\n",
       "</div>"
      ],
      "text/plain": [
       "      user_id  ses_month  mb_used\n",
       "3198     1498 2018-10-01     21.0\n",
       "3199     1499 2018-09-01      2.0\n",
       "3200     1499 2018-10-01     18.0\n",
       "3201     1499 2018-11-01     18.0\n",
       "3202     1499 2018-12-01     13.0"
      ]
     },
     "execution_count": 51,
     "metadata": {},
     "output_type": "execute_result"
    }
   ],
   "source": [
    "#переводим мегабайты в гигабайты, округляем в большую сторону\n",
    "int_pivot['mb_used'] = int_pivot['mb_used'].apply(lambda x: np.ceil(x / 1024))\n",
    "int_pivot.tail()"
   ]
  },
  {
   "cell_type": "code",
   "execution_count": 52,
   "id": "cdbcbfc2",
   "metadata": {},
   "outputs": [
    {
     "data": {
      "text/html": [
       "<div>\n",
       "<style scoped>\n",
       "    .dataframe tbody tr th:only-of-type {\n",
       "        vertical-align: middle;\n",
       "    }\n",
       "\n",
       "    .dataframe tbody tr th {\n",
       "        vertical-align: top;\n",
       "    }\n",
       "\n",
       "    .dataframe thead th {\n",
       "        text-align: right;\n",
       "    }\n",
       "</style>\n",
       "<table border=\"1\" class=\"dataframe\">\n",
       "  <thead>\n",
       "    <tr style=\"text-align: right;\">\n",
       "      <th></th>\n",
       "      <th>user_id</th>\n",
       "      <th>month</th>\n",
       "      <th>gb_used</th>\n",
       "    </tr>\n",
       "  </thead>\n",
       "  <tbody>\n",
       "    <tr>\n",
       "      <th>3198</th>\n",
       "      <td>1498</td>\n",
       "      <td>2018-10-01</td>\n",
       "      <td>21.0</td>\n",
       "    </tr>\n",
       "    <tr>\n",
       "      <th>3199</th>\n",
       "      <td>1499</td>\n",
       "      <td>2018-09-01</td>\n",
       "      <td>2.0</td>\n",
       "    </tr>\n",
       "    <tr>\n",
       "      <th>3200</th>\n",
       "      <td>1499</td>\n",
       "      <td>2018-10-01</td>\n",
       "      <td>18.0</td>\n",
       "    </tr>\n",
       "    <tr>\n",
       "      <th>3201</th>\n",
       "      <td>1499</td>\n",
       "      <td>2018-11-01</td>\n",
       "      <td>18.0</td>\n",
       "    </tr>\n",
       "    <tr>\n",
       "      <th>3202</th>\n",
       "      <td>1499</td>\n",
       "      <td>2018-12-01</td>\n",
       "      <td>13.0</td>\n",
       "    </tr>\n",
       "  </tbody>\n",
       "</table>\n",
       "</div>"
      ],
      "text/plain": [
       "      user_id      month  gb_used\n",
       "3198     1498 2018-10-01     21.0\n",
       "3199     1499 2018-09-01      2.0\n",
       "3200     1499 2018-10-01     18.0\n",
       "3201     1499 2018-11-01     18.0\n",
       "3202     1499 2018-12-01     13.0"
      ]
     },
     "execution_count": 52,
     "metadata": {},
     "output_type": "execute_result"
    }
   ],
   "source": [
    "int_pivot.columns = ['user_id', 'month', 'gb_used']\n",
    "int_pivot.tail()"
   ]
  },
  {
   "cell_type": "code",
   "execution_count": 53,
   "id": "88f93c40",
   "metadata": {},
   "outputs": [
    {
     "data": {
      "text/plain": [
       "count    3203.000000\n",
       "mean       17.358414\n",
       "std         7.343379\n",
       "min         0.000000\n",
       "25%        13.000000\n",
       "50%        17.000000\n",
       "75%        21.000000\n",
       "max        49.000000\n",
       "Name: gb_used, dtype: float64"
      ]
     },
     "execution_count": 53,
     "metadata": {},
     "output_type": "execute_result"
    }
   ],
   "source": [
    "# теперь посмотрим общую информацию о данных по столбцам\n",
    "int_pivot['gb_used'].describe()"
   ]
  },
  {
   "cell_type": "markdown",
   "id": "479cef42",
   "metadata": {},
   "source": [
    "По данной таблице видим, что среднний объём интернет-трафика в месяц (17,36) не очень сильно отличается от медианы (17)."
   ]
  },
  {
   "cell_type": "code",
   "execution_count": 54,
   "id": "56de9a54",
   "metadata": {},
   "outputs": [
    {
     "data": {
      "image/png": "[encoded data removed]",
      "text/plain": [
       "<Figure size 576x360 with 1 Axes>"
      ]
     },
     "metadata": {
      "needs_background": "light"
     },
     "output_type": "display_data"
    }
   ],
   "source": [
    "# посмотрим распределение частот объёмов интернет-трафика в месяц\n",
    "buildHist(int_pivot['gb_used'], 'Объём интернет-трафика', 'Распределение объёмов интернет-трафика')"
   ]
  },
  {
   "cell_type": "markdown",
   "id": "80af18fa",
   "metadata": {},
   "source": [
    "На графике видим, что большинство объёмов интернет-трафика находится в интервале 15-19 гигабайт в месяц. Распределение частот объёмов интернет-трафика является нормальным."
   ]
  },
  {
   "cell_type": "markdown",
   "id": "b86a3fcf",
   "metadata": {
    "tags": []
   },
   "source": [
    "**Выводы**\n",
    "\n",
    "На данном этапе мы преобразовали типы данных в столбцах `id` и `session_date` и изменили их на `int64` и `datetime` соответственно для удобства дальнейшей работы. Посмотрели общую информацию об объёмах израсходованного интернет-трафика  пользователей тарифов. Сгруппировали данные по пользователям и месяцам и рассчитали средний объём израсходованного интернет-трафика в месяц на каждого пользователя."
   ]
  },
  {
   "cell_type": "markdown",
   "id": "6517f91b",
   "metadata": {
    "tags": []
   },
   "source": [
    "### Подготовка данных в таблице `tarif` для проверки гипотез"
   ]
  },
  {
   "cell_type": "code",
   "execution_count": 55,
   "id": "88f562a3",
   "metadata": {},
   "outputs": [
    {
     "data": {
      "text/html": [
       "<div>\n",
       "<style scoped>\n",
       "    .dataframe tbody tr th:only-of-type {\n",
       "        vertical-align: middle;\n",
       "    }\n",
       "\n",
       "    .dataframe tbody tr th {\n",
       "        vertical-align: top;\n",
       "    }\n",
       "\n",
       "    .dataframe thead th {\n",
       "        text-align: right;\n",
       "    }\n",
       "</style>\n",
       "<table border=\"1\" class=\"dataframe\">\n",
       "  <thead>\n",
       "    <tr style=\"text-align: right;\">\n",
       "      <th></th>\n",
       "      <th>messages_included</th>\n",
       "      <th>mb_per_month_included</th>\n",
       "      <th>minutes_included</th>\n",
       "      <th>rub_monthly_fee</th>\n",
       "      <th>rub_per_gb</th>\n",
       "      <th>rub_per_message</th>\n",
       "      <th>rub_per_minute</th>\n",
       "      <th>tariff</th>\n",
       "    </tr>\n",
       "  </thead>\n",
       "  <tbody>\n",
       "    <tr>\n",
       "      <th>0</th>\n",
       "      <td>50</td>\n",
       "      <td>15360</td>\n",
       "      <td>500</td>\n",
       "      <td>550</td>\n",
       "      <td>200</td>\n",
       "      <td>3</td>\n",
       "      <td>3</td>\n",
       "      <td>smart</td>\n",
       "    </tr>\n",
       "    <tr>\n",
       "      <th>1</th>\n",
       "      <td>1000</td>\n",
       "      <td>30720</td>\n",
       "      <td>3000</td>\n",
       "      <td>1950</td>\n",
       "      <td>150</td>\n",
       "      <td>1</td>\n",
       "      <td>1</td>\n",
       "      <td>ultra</td>\n",
       "    </tr>\n",
       "  </tbody>\n",
       "</table>\n",
       "</div>"
      ],
      "text/plain": [
       "   messages_included  mb_per_month_included  minutes_included  \\\n",
       "0                 50                  15360               500   \n",
       "1               1000                  30720              3000   \n",
       "\n",
       "   rub_monthly_fee  rub_per_gb  rub_per_message  rub_per_minute tariff  \n",
       "0              550         200                3               3  smart  \n",
       "1             1950         150                1               1  ultra  "
      ]
     },
     "execution_count": 55,
     "metadata": {},
     "output_type": "execute_result"
    }
   ],
   "source": [
    "tarif"
   ]
  },
  {
   "cell_type": "markdown",
   "id": "daa96e78",
   "metadata": {},
   "source": [
    "В таблице `tarif` объём интернет-трафика указан в мегабайтах, однако нам для проверки гипотез удобнее использовать объёмы в гигабайтах. Переведём значения столбца `mb_per_month_included` в нужные единицы и переименуем столбец."
   ]
  },
  {
   "cell_type": "code",
   "execution_count": 56,
   "id": "5e814955",
   "metadata": {},
   "outputs": [
    {
     "data": {
      "text/html": [
       "<div>\n",
       "<style scoped>\n",
       "    .dataframe tbody tr th:only-of-type {\n",
       "        vertical-align: middle;\n",
       "    }\n",
       "\n",
       "    .dataframe tbody tr th {\n",
       "        vertical-align: top;\n",
       "    }\n",
       "\n",
       "    .dataframe thead th {\n",
       "        text-align: right;\n",
       "    }\n",
       "</style>\n",
       "<table border=\"1\" class=\"dataframe\">\n",
       "  <thead>\n",
       "    <tr style=\"text-align: right;\">\n",
       "      <th></th>\n",
       "      <th>messages_included</th>\n",
       "      <th>mb_per_month_included</th>\n",
       "      <th>minutes_included</th>\n",
       "      <th>rub_monthly_fee</th>\n",
       "      <th>rub_per_gb</th>\n",
       "      <th>rub_per_message</th>\n",
       "      <th>rub_per_minute</th>\n",
       "      <th>tariff</th>\n",
       "    </tr>\n",
       "  </thead>\n",
       "  <tbody>\n",
       "    <tr>\n",
       "      <th>0</th>\n",
       "      <td>50</td>\n",
       "      <td>15.0</td>\n",
       "      <td>500</td>\n",
       "      <td>550</td>\n",
       "      <td>200</td>\n",
       "      <td>3</td>\n",
       "      <td>3</td>\n",
       "      <td>smart</td>\n",
       "    </tr>\n",
       "    <tr>\n",
       "      <th>1</th>\n",
       "      <td>1000</td>\n",
       "      <td>30.0</td>\n",
       "      <td>3000</td>\n",
       "      <td>1950</td>\n",
       "      <td>150</td>\n",
       "      <td>1</td>\n",
       "      <td>1</td>\n",
       "      <td>ultra</td>\n",
       "    </tr>\n",
       "  </tbody>\n",
       "</table>\n",
       "</div>"
      ],
      "text/plain": [
       "   messages_included  mb_per_month_included  minutes_included  \\\n",
       "0                 50                   15.0               500   \n",
       "1               1000                   30.0              3000   \n",
       "\n",
       "   rub_monthly_fee  rub_per_gb  rub_per_message  rub_per_minute tariff  \n",
       "0              550         200                3               3  smart  \n",
       "1             1950         150                1               1  ultra  "
      ]
     },
     "execution_count": 56,
     "metadata": {},
     "output_type": "execute_result"
    }
   ],
   "source": [
    "# переводим мегабайты в гигабайты\n",
    "tarif['mb_per_month_included'] = tarif['mb_per_month_included'] / 1024\n",
    "tarif"
   ]
  },
  {
   "cell_type": "code",
   "execution_count": 57,
   "id": "31fd0d07",
   "metadata": {},
   "outputs": [
    {
     "data": {
      "text/html": [
       "<div>\n",
       "<style scoped>\n",
       "    .dataframe tbody tr th:only-of-type {\n",
       "        vertical-align: middle;\n",
       "    }\n",
       "\n",
       "    .dataframe tbody tr th {\n",
       "        vertical-align: top;\n",
       "    }\n",
       "\n",
       "    .dataframe thead th {\n",
       "        text-align: right;\n",
       "    }\n",
       "</style>\n",
       "<table border=\"1\" class=\"dataframe\">\n",
       "  <thead>\n",
       "    <tr style=\"text-align: right;\">\n",
       "      <th></th>\n",
       "      <th>messages_included</th>\n",
       "      <th>mb_per_month_included</th>\n",
       "      <th>minutes_included</th>\n",
       "      <th>rub_monthly_fee</th>\n",
       "      <th>rub_per_gb</th>\n",
       "      <th>rub_per_message</th>\n",
       "      <th>rub_per_minute</th>\n",
       "      <th>tariff</th>\n",
       "    </tr>\n",
       "  </thead>\n",
       "  <tbody>\n",
       "    <tr>\n",
       "      <th>0</th>\n",
       "      <td>50</td>\n",
       "      <td>15</td>\n",
       "      <td>500</td>\n",
       "      <td>550</td>\n",
       "      <td>200</td>\n",
       "      <td>3</td>\n",
       "      <td>3</td>\n",
       "      <td>smart</td>\n",
       "    </tr>\n",
       "    <tr>\n",
       "      <th>1</th>\n",
       "      <td>1000</td>\n",
       "      <td>30</td>\n",
       "      <td>3000</td>\n",
       "      <td>1950</td>\n",
       "      <td>150</td>\n",
       "      <td>1</td>\n",
       "      <td>1</td>\n",
       "      <td>ultra</td>\n",
       "    </tr>\n",
       "  </tbody>\n",
       "</table>\n",
       "</div>"
      ],
      "text/plain": [
       "   messages_included  mb_per_month_included  minutes_included  \\\n",
       "0                 50                     15               500   \n",
       "1               1000                     30              3000   \n",
       "\n",
       "   rub_monthly_fee  rub_per_gb  rub_per_message  rub_per_minute tariff  \n",
       "0              550         200                3               3  smart  \n",
       "1             1950         150                1               1  ultra  "
      ]
     },
     "execution_count": 57,
     "metadata": {},
     "output_type": "execute_result"
    }
   ],
   "source": [
    "# меняем формат данных в столбце `mb_per_month_included` на `int64`\n",
    "tarif['mb_per_month_included'] = tarif['mb_per_month_included'].astype('int')\n",
    "tarif"
   ]
  },
  {
   "cell_type": "code",
   "execution_count": 58,
   "id": "5a4e6922",
   "metadata": {},
   "outputs": [],
   "source": [
    "# переименуем столбец `mb_per_month_included` в `gb_per_month_included`\n",
    "tarif = tarif.rename(columns={'mb_per_month_included': 'gb_per_month_included'})"
   ]
  },
  {
   "cell_type": "code",
   "execution_count": 59,
   "id": "8ee9c82d",
   "metadata": {},
   "outputs": [
    {
     "data": {
      "text/html": [
       "<div>\n",
       "<style scoped>\n",
       "    .dataframe tbody tr th:only-of-type {\n",
       "        vertical-align: middle;\n",
       "    }\n",
       "\n",
       "    .dataframe tbody tr th {\n",
       "        vertical-align: top;\n",
       "    }\n",
       "\n",
       "    .dataframe thead th {\n",
       "        text-align: right;\n",
       "    }\n",
       "</style>\n",
       "<table border=\"1\" class=\"dataframe\">\n",
       "  <thead>\n",
       "    <tr style=\"text-align: right;\">\n",
       "      <th></th>\n",
       "      <th>messages_included</th>\n",
       "      <th>gb_per_month_included</th>\n",
       "      <th>minutes_included</th>\n",
       "      <th>rub_monthly_fee</th>\n",
       "      <th>rub_per_gb</th>\n",
       "      <th>rub_per_message</th>\n",
       "      <th>rub_per_minute</th>\n",
       "      <th>tariff</th>\n",
       "    </tr>\n",
       "  </thead>\n",
       "  <tbody>\n",
       "    <tr>\n",
       "      <th>0</th>\n",
       "      <td>50</td>\n",
       "      <td>15</td>\n",
       "      <td>500</td>\n",
       "      <td>550</td>\n",
       "      <td>200</td>\n",
       "      <td>3</td>\n",
       "      <td>3</td>\n",
       "      <td>smart</td>\n",
       "    </tr>\n",
       "    <tr>\n",
       "      <th>1</th>\n",
       "      <td>1000</td>\n",
       "      <td>30</td>\n",
       "      <td>3000</td>\n",
       "      <td>1950</td>\n",
       "      <td>150</td>\n",
       "      <td>1</td>\n",
       "      <td>1</td>\n",
       "      <td>ultra</td>\n",
       "    </tr>\n",
       "  </tbody>\n",
       "</table>\n",
       "</div>"
      ],
      "text/plain": [
       "   messages_included  gb_per_month_included  minutes_included  \\\n",
       "0                 50                     15               500   \n",
       "1               1000                     30              3000   \n",
       "\n",
       "   rub_monthly_fee  rub_per_gb  rub_per_message  rub_per_minute tariff  \n",
       "0              550         200                3               3  smart  \n",
       "1             1950         150                1               1  ultra  "
      ]
     },
     "execution_count": 59,
     "metadata": {},
     "output_type": "execute_result"
    }
   ],
   "source": [
    "# проверим изменения\n",
    "tarif"
   ]
  },
  {
   "cell_type": "markdown",
   "id": "5bd0d91f",
   "metadata": {
    "tags": []
   },
   "source": [
    "### Расчёт помесячной выручки с каждого пользователя"
   ]
  },
  {
   "cell_type": "markdown",
   "id": "92629d38",
   "metadata": {},
   "source": [
    "Для того чтобы рассчитать помесячную выручку с каждого пользователя необходимо объединить данные из таблиц `users`, `tarif`, `calls_pivot`, `message_pivot` и `int_pivot`. Создадим таблицу `df`, в которую соберём все необходимы нам данные."
   ]
  },
  {
   "cell_type": "code",
   "execution_count": 60,
   "id": "e23a2c36",
   "metadata": {
    "scrolled": true
   },
   "outputs": [
    {
     "data": {
      "text/html": [
       "<div>\n",
       "<style scoped>\n",
       "    .dataframe tbody tr th:only-of-type {\n",
       "        vertical-align: middle;\n",
       "    }\n",
       "\n",
       "    .dataframe tbody tr th {\n",
       "        vertical-align: top;\n",
       "    }\n",
       "\n",
       "    .dataframe thead th {\n",
       "        text-align: right;\n",
       "    }\n",
       "</style>\n",
       "<table border=\"1\" class=\"dataframe\">\n",
       "  <thead>\n",
       "    <tr style=\"text-align: right;\">\n",
       "      <th></th>\n",
       "      <th>user_id</th>\n",
       "      <th>month</th>\n",
       "      <th>call_count</th>\n",
       "      <th>call_vol</th>\n",
       "      <th>mes_count</th>\n",
       "      <th>gb_used</th>\n",
       "    </tr>\n",
       "  </thead>\n",
       "  <tbody>\n",
       "    <tr>\n",
       "      <th>0</th>\n",
       "      <td>1000</td>\n",
       "      <td>2018-05-01</td>\n",
       "      <td>22.0</td>\n",
       "      <td>159.0</td>\n",
       "      <td>22.0</td>\n",
       "      <td>3.0</td>\n",
       "    </tr>\n",
       "    <tr>\n",
       "      <th>1</th>\n",
       "      <td>1000</td>\n",
       "      <td>2018-06-01</td>\n",
       "      <td>43.0</td>\n",
       "      <td>172.0</td>\n",
       "      <td>60.0</td>\n",
       "      <td>23.0</td>\n",
       "    </tr>\n",
       "    <tr>\n",
       "      <th>2</th>\n",
       "      <td>1000</td>\n",
       "      <td>2018-07-01</td>\n",
       "      <td>47.0</td>\n",
       "      <td>340.0</td>\n",
       "      <td>75.0</td>\n",
       "      <td>14.0</td>\n",
       "    </tr>\n",
       "    <tr>\n",
       "      <th>3</th>\n",
       "      <td>1000</td>\n",
       "      <td>2018-08-01</td>\n",
       "      <td>52.0</td>\n",
       "      <td>408.0</td>\n",
       "      <td>81.0</td>\n",
       "      <td>14.0</td>\n",
       "    </tr>\n",
       "    <tr>\n",
       "      <th>4</th>\n",
       "      <td>1000</td>\n",
       "      <td>2018-09-01</td>\n",
       "      <td>58.0</td>\n",
       "      <td>466.0</td>\n",
       "      <td>57.0</td>\n",
       "      <td>15.0</td>\n",
       "    </tr>\n",
       "  </tbody>\n",
       "</table>\n",
       "</div>"
      ],
      "text/plain": [
       "   user_id      month  call_count  call_vol  mes_count  gb_used\n",
       "0     1000 2018-05-01        22.0     159.0       22.0      3.0\n",
       "1     1000 2018-06-01        43.0     172.0       60.0     23.0\n",
       "2     1000 2018-07-01        47.0     340.0       75.0     14.0\n",
       "3     1000 2018-08-01        52.0     408.0       81.0     14.0\n",
       "4     1000 2018-09-01        58.0     466.0       57.0     15.0"
      ]
     },
     "execution_count": 60,
     "metadata": {},
     "output_type": "execute_result"
    }
   ],
   "source": [
    "data_frames = [calls_pivot, message_pivot, int_pivot]\n",
    "traffic = reduce(lambda left,right: pd.merge(left,right,on=['user_id', 'month'], how='outer'), data_frames)\n",
    "traffic.head()"
   ]
  },
  {
   "cell_type": "code",
   "execution_count": 61,
   "id": "903a7836",
   "metadata": {},
   "outputs": [
    {
     "data": {
      "text/plain": [
       "user_id       0.0\n",
       "month         0.0\n",
       "call_count    0.0\n",
       "call_vol      0.0\n",
       "mes_count     0.0\n",
       "gb_used       0.0\n",
       "dtype: float64"
      ]
     },
     "execution_count": 61,
     "metadata": {},
     "output_type": "execute_result"
    }
   ],
   "source": [
    "# заполним 0 значения трафика, которого у клиентов не было\n",
    "traffic = traffic.fillna(0)\n",
    "traffic.isna().mean()"
   ]
  },
  {
   "cell_type": "code",
   "execution_count": 62,
   "id": "e71f7c8a",
   "metadata": {},
   "outputs": [
    {
     "data": {
      "text/html": [
       "<div>\n",
       "<style scoped>\n",
       "    .dataframe tbody tr th:only-of-type {\n",
       "        vertical-align: middle;\n",
       "    }\n",
       "\n",
       "    .dataframe tbody tr th {\n",
       "        vertical-align: top;\n",
       "    }\n",
       "\n",
       "    .dataframe thead th {\n",
       "        text-align: right;\n",
       "    }\n",
       "</style>\n",
       "<table border=\"1\" class=\"dataframe\">\n",
       "  <thead>\n",
       "    <tr style=\"text-align: right;\">\n",
       "      <th></th>\n",
       "      <th>user_id</th>\n",
       "      <th>age</th>\n",
       "      <th>churn_date</th>\n",
       "      <th>city</th>\n",
       "      <th>first_name</th>\n",
       "      <th>last_name</th>\n",
       "      <th>reg_date</th>\n",
       "      <th>tariff</th>\n",
       "      <th>month</th>\n",
       "      <th>call_count</th>\n",
       "      <th>call_vol</th>\n",
       "      <th>mes_count</th>\n",
       "      <th>gb_used</th>\n",
       "    </tr>\n",
       "  </thead>\n",
       "  <tbody>\n",
       "    <tr>\n",
       "      <th>0</th>\n",
       "      <td>1000</td>\n",
       "      <td>52</td>\n",
       "      <td>-1</td>\n",
       "      <td>Краснодар</td>\n",
       "      <td>Рафаил</td>\n",
       "      <td>Верещагин</td>\n",
       "      <td>2018-05-25</td>\n",
       "      <td>ultra</td>\n",
       "      <td>2018-05-01</td>\n",
       "      <td>22.0</td>\n",
       "      <td>159.0</td>\n",
       "      <td>22.0</td>\n",
       "      <td>3.0</td>\n",
       "    </tr>\n",
       "    <tr>\n",
       "      <th>1</th>\n",
       "      <td>1000</td>\n",
       "      <td>52</td>\n",
       "      <td>-1</td>\n",
       "      <td>Краснодар</td>\n",
       "      <td>Рафаил</td>\n",
       "      <td>Верещагин</td>\n",
       "      <td>2018-05-25</td>\n",
       "      <td>ultra</td>\n",
       "      <td>2018-06-01</td>\n",
       "      <td>43.0</td>\n",
       "      <td>172.0</td>\n",
       "      <td>60.0</td>\n",
       "      <td>23.0</td>\n",
       "    </tr>\n",
       "    <tr>\n",
       "      <th>2</th>\n",
       "      <td>1000</td>\n",
       "      <td>52</td>\n",
       "      <td>-1</td>\n",
       "      <td>Краснодар</td>\n",
       "      <td>Рафаил</td>\n",
       "      <td>Верещагин</td>\n",
       "      <td>2018-05-25</td>\n",
       "      <td>ultra</td>\n",
       "      <td>2018-07-01</td>\n",
       "      <td>47.0</td>\n",
       "      <td>340.0</td>\n",
       "      <td>75.0</td>\n",
       "      <td>14.0</td>\n",
       "    </tr>\n",
       "    <tr>\n",
       "      <th>3</th>\n",
       "      <td>1000</td>\n",
       "      <td>52</td>\n",
       "      <td>-1</td>\n",
       "      <td>Краснодар</td>\n",
       "      <td>Рафаил</td>\n",
       "      <td>Верещагин</td>\n",
       "      <td>2018-05-25</td>\n",
       "      <td>ultra</td>\n",
       "      <td>2018-08-01</td>\n",
       "      <td>52.0</td>\n",
       "      <td>408.0</td>\n",
       "      <td>81.0</td>\n",
       "      <td>14.0</td>\n",
       "    </tr>\n",
       "    <tr>\n",
       "      <th>4</th>\n",
       "      <td>1000</td>\n",
       "      <td>52</td>\n",
       "      <td>-1</td>\n",
       "      <td>Краснодар</td>\n",
       "      <td>Рафаил</td>\n",
       "      <td>Верещагин</td>\n",
       "      <td>2018-05-25</td>\n",
       "      <td>ultra</td>\n",
       "      <td>2018-09-01</td>\n",
       "      <td>58.0</td>\n",
       "      <td>466.0</td>\n",
       "      <td>57.0</td>\n",
       "      <td>15.0</td>\n",
       "    </tr>\n",
       "  </tbody>\n",
       "</table>\n",
       "</div>"
      ],
      "text/plain": [
       "   user_id  age churn_date       city first_name  last_name    reg_date  \\\n",
       "0     1000   52         -1  Краснодар     Рафаил  Верещагин  2018-05-25   \n",
       "1     1000   52         -1  Краснодар     Рафаил  Верещагин  2018-05-25   \n",
       "2     1000   52         -1  Краснодар     Рафаил  Верещагин  2018-05-25   \n",
       "3     1000   52         -1  Краснодар     Рафаил  Верещагин  2018-05-25   \n",
       "4     1000   52         -1  Краснодар     Рафаил  Верещагин  2018-05-25   \n",
       "\n",
       "  tariff      month  call_count  call_vol  mes_count  gb_used  \n",
       "0  ultra 2018-05-01        22.0     159.0       22.0      3.0  \n",
       "1  ultra 2018-06-01        43.0     172.0       60.0     23.0  \n",
       "2  ultra 2018-07-01        47.0     340.0       75.0     14.0  \n",
       "3  ultra 2018-08-01        52.0     408.0       81.0     14.0  \n",
       "4  ultra 2018-09-01        58.0     466.0       57.0     15.0  "
      ]
     },
     "execution_count": 62,
     "metadata": {},
     "output_type": "execute_result"
    }
   ],
   "source": [
    "# объединим нужные нам таблицы в одну общую `df` по `user_id`\n",
    "data_frames = [users, traffic]\n",
    "df = reduce(lambda left,right: pd.merge(left,right,on=['user_id'], how='outer'), data_frames)\n",
    "df.head()"
   ]
  },
  {
   "cell_type": "markdown",
   "id": "af03f469",
   "metadata": {},
   "source": [
    "В данном случае будем считать, что в случае проусков в столбцах с объёмами минут, сообщений и интернет-трафика данного трафика у пользователей не было, поэтому заменим пропуски на 0."
   ]
  },
  {
   "cell_type": "code",
   "execution_count": 63,
   "id": "4eedef73",
   "metadata": {
    "scrolled": true
   },
   "outputs": [
    {
     "data": {
      "text/plain": [
       "user_id       0.000000\n",
       "age           0.000000\n",
       "churn_date    0.000000\n",
       "city          0.000000\n",
       "first_name    0.000000\n",
       "last_name     0.000000\n",
       "reg_date      0.000000\n",
       "tariff        0.000000\n",
       "month         0.000622\n",
       "call_count    0.000622\n",
       "call_vol      0.000622\n",
       "mes_count     0.000622\n",
       "gb_used       0.000622\n",
       "dtype: float64"
      ]
     },
     "execution_count": 63,
     "metadata": {},
     "output_type": "execute_result"
    }
   ],
   "source": [
    "df.isna().mean()"
   ]
  },
  {
   "cell_type": "code",
   "execution_count": 64,
   "id": "ac105269",
   "metadata": {},
   "outputs": [],
   "source": [
    "df = df.dropna()"
   ]
  },
  {
   "cell_type": "code",
   "execution_count": 65,
   "id": "90214af9",
   "metadata": {
    "scrolled": true
   },
   "outputs": [
    {
     "data": {
      "text/html": [
       "<div>\n",
       "<style scoped>\n",
       "    .dataframe tbody tr th:only-of-type {\n",
       "        vertical-align: middle;\n",
       "    }\n",
       "\n",
       "    .dataframe tbody tr th {\n",
       "        vertical-align: top;\n",
       "    }\n",
       "\n",
       "    .dataframe thead th {\n",
       "        text-align: right;\n",
       "    }\n",
       "</style>\n",
       "<table border=\"1\" class=\"dataframe\">\n",
       "  <thead>\n",
       "    <tr style=\"text-align: right;\">\n",
       "      <th></th>\n",
       "      <th>user_id</th>\n",
       "      <th>age</th>\n",
       "      <th>churn_date</th>\n",
       "      <th>city</th>\n",
       "      <th>first_name</th>\n",
       "      <th>last_name</th>\n",
       "      <th>reg_date</th>\n",
       "      <th>tariff</th>\n",
       "      <th>month</th>\n",
       "      <th>call_count</th>\n",
       "      <th>call_vol</th>\n",
       "      <th>mes_count</th>\n",
       "      <th>gb_used</th>\n",
       "      <th>messages_included</th>\n",
       "      <th>gb_per_month_included</th>\n",
       "      <th>minutes_included</th>\n",
       "      <th>rub_monthly_fee</th>\n",
       "      <th>rub_per_gb</th>\n",
       "      <th>rub_per_message</th>\n",
       "      <th>rub_per_minute</th>\n",
       "    </tr>\n",
       "  </thead>\n",
       "  <tbody>\n",
       "    <tr>\n",
       "      <th>0</th>\n",
       "      <td>1000</td>\n",
       "      <td>52</td>\n",
       "      <td>-1</td>\n",
       "      <td>Краснодар</td>\n",
       "      <td>Рафаил</td>\n",
       "      <td>Верещагин</td>\n",
       "      <td>2018-05-25</td>\n",
       "      <td>ultra</td>\n",
       "      <td>2018-05-01</td>\n",
       "      <td>22.0</td>\n",
       "      <td>159.0</td>\n",
       "      <td>22.0</td>\n",
       "      <td>3.0</td>\n",
       "      <td>1000</td>\n",
       "      <td>30</td>\n",
       "      <td>3000</td>\n",
       "      <td>1950</td>\n",
       "      <td>150</td>\n",
       "      <td>1</td>\n",
       "      <td>1</td>\n",
       "    </tr>\n",
       "    <tr>\n",
       "      <th>1</th>\n",
       "      <td>1000</td>\n",
       "      <td>52</td>\n",
       "      <td>-1</td>\n",
       "      <td>Краснодар</td>\n",
       "      <td>Рафаил</td>\n",
       "      <td>Верещагин</td>\n",
       "      <td>2018-05-25</td>\n",
       "      <td>ultra</td>\n",
       "      <td>2018-06-01</td>\n",
       "      <td>43.0</td>\n",
       "      <td>172.0</td>\n",
       "      <td>60.0</td>\n",
       "      <td>23.0</td>\n",
       "      <td>1000</td>\n",
       "      <td>30</td>\n",
       "      <td>3000</td>\n",
       "      <td>1950</td>\n",
       "      <td>150</td>\n",
       "      <td>1</td>\n",
       "      <td>1</td>\n",
       "    </tr>\n",
       "    <tr>\n",
       "      <th>2</th>\n",
       "      <td>1000</td>\n",
       "      <td>52</td>\n",
       "      <td>-1</td>\n",
       "      <td>Краснодар</td>\n",
       "      <td>Рафаил</td>\n",
       "      <td>Верещагин</td>\n",
       "      <td>2018-05-25</td>\n",
       "      <td>ultra</td>\n",
       "      <td>2018-07-01</td>\n",
       "      <td>47.0</td>\n",
       "      <td>340.0</td>\n",
       "      <td>75.0</td>\n",
       "      <td>14.0</td>\n",
       "      <td>1000</td>\n",
       "      <td>30</td>\n",
       "      <td>3000</td>\n",
       "      <td>1950</td>\n",
       "      <td>150</td>\n",
       "      <td>1</td>\n",
       "      <td>1</td>\n",
       "    </tr>\n",
       "    <tr>\n",
       "      <th>3</th>\n",
       "      <td>1000</td>\n",
       "      <td>52</td>\n",
       "      <td>-1</td>\n",
       "      <td>Краснодар</td>\n",
       "      <td>Рафаил</td>\n",
       "      <td>Верещагин</td>\n",
       "      <td>2018-05-25</td>\n",
       "      <td>ultra</td>\n",
       "      <td>2018-08-01</td>\n",
       "      <td>52.0</td>\n",
       "      <td>408.0</td>\n",
       "      <td>81.0</td>\n",
       "      <td>14.0</td>\n",
       "      <td>1000</td>\n",
       "      <td>30</td>\n",
       "      <td>3000</td>\n",
       "      <td>1950</td>\n",
       "      <td>150</td>\n",
       "      <td>1</td>\n",
       "      <td>1</td>\n",
       "    </tr>\n",
       "    <tr>\n",
       "      <th>4</th>\n",
       "      <td>1000</td>\n",
       "      <td>52</td>\n",
       "      <td>-1</td>\n",
       "      <td>Краснодар</td>\n",
       "      <td>Рафаил</td>\n",
       "      <td>Верещагин</td>\n",
       "      <td>2018-05-25</td>\n",
       "      <td>ultra</td>\n",
       "      <td>2018-09-01</td>\n",
       "      <td>58.0</td>\n",
       "      <td>466.0</td>\n",
       "      <td>57.0</td>\n",
       "      <td>15.0</td>\n",
       "      <td>1000</td>\n",
       "      <td>30</td>\n",
       "      <td>3000</td>\n",
       "      <td>1950</td>\n",
       "      <td>150</td>\n",
       "      <td>1</td>\n",
       "      <td>1</td>\n",
       "    </tr>\n",
       "  </tbody>\n",
       "</table>\n",
       "</div>"
      ],
      "text/plain": [
       "   user_id  age churn_date       city first_name  last_name    reg_date  \\\n",
       "0     1000   52         -1  Краснодар     Рафаил  Верещагин  2018-05-25   \n",
       "1     1000   52         -1  Краснодар     Рафаил  Верещагин  2018-05-25   \n",
       "2     1000   52         -1  Краснодар     Рафаил  Верещагин  2018-05-25   \n",
       "3     1000   52         -1  Краснодар     Рафаил  Верещагин  2018-05-25   \n",
       "4     1000   52         -1  Краснодар     Рафаил  Верещагин  2018-05-25   \n",
       "\n",
       "  tariff      month  call_count  call_vol  mes_count  gb_used  \\\n",
       "0  ultra 2018-05-01        22.0     159.0       22.0      3.0   \n",
       "1  ultra 2018-06-01        43.0     172.0       60.0     23.0   \n",
       "2  ultra 2018-07-01        47.0     340.0       75.0     14.0   \n",
       "3  ultra 2018-08-01        52.0     408.0       81.0     14.0   \n",
       "4  ultra 2018-09-01        58.0     466.0       57.0     15.0   \n",
       "\n",
       "   messages_included  gb_per_month_included  minutes_included  \\\n",
       "0               1000                     30              3000   \n",
       "1               1000                     30              3000   \n",
       "2               1000                     30              3000   \n",
       "3               1000                     30              3000   \n",
       "4               1000                     30              3000   \n",
       "\n",
       "   rub_monthly_fee  rub_per_gb  rub_per_message  rub_per_minute  \n",
       "0             1950         150                1               1  \n",
       "1             1950         150                1               1  \n",
       "2             1950         150                1               1  \n",
       "3             1950         150                1               1  \n",
       "4             1950         150                1               1  "
      ]
     },
     "execution_count": 65,
     "metadata": {},
     "output_type": "execute_result"
    }
   ],
   "source": [
    "# добавим в таблицу `df` параметры тарифов «Смарт» и «Ультра»\n",
    "df = df.merge(tarif, on='tariff', how='left')\n",
    "df.head()"
   ]
  },
  {
   "cell_type": "markdown",
   "id": "9ddbe4df",
   "metadata": {},
   "source": [
    "Вычислим выручку от тарифных планов по пользователям: вычтем бесплатный лимит из суммарного количества звонков, сообщений и интернет-трафика; остаток умножим на значение из тарифного плана и прибавим абонентскую плату, соответствующую тарифному плану. Сохраним рассчётное значение в столбце `tariff_revenue`."
   ]
  },
  {
   "cell_type": "code",
   "execution_count": 66,
   "id": "8c75c6e0",
   "metadata": {
    "scrolled": false
   },
   "outputs": [
    {
     "data": {
      "text/html": [
       "<div>\n",
       "<style scoped>\n",
       "    .dataframe tbody tr th:only-of-type {\n",
       "        vertical-align: middle;\n",
       "    }\n",
       "\n",
       "    .dataframe tbody tr th {\n",
       "        vertical-align: top;\n",
       "    }\n",
       "\n",
       "    .dataframe thead th {\n",
       "        text-align: right;\n",
       "    }\n",
       "</style>\n",
       "<table border=\"1\" class=\"dataframe\">\n",
       "  <thead>\n",
       "    <tr style=\"text-align: right;\">\n",
       "      <th></th>\n",
       "      <th>user_id</th>\n",
       "      <th>age</th>\n",
       "      <th>churn_date</th>\n",
       "      <th>city</th>\n",
       "      <th>first_name</th>\n",
       "      <th>last_name</th>\n",
       "      <th>reg_date</th>\n",
       "      <th>tariff</th>\n",
       "      <th>month</th>\n",
       "      <th>call_count</th>\n",
       "      <th>...</th>\n",
       "      <th>mes_count</th>\n",
       "      <th>gb_used</th>\n",
       "      <th>messages_included</th>\n",
       "      <th>gb_per_month_included</th>\n",
       "      <th>minutes_included</th>\n",
       "      <th>rub_monthly_fee</th>\n",
       "      <th>rub_per_gb</th>\n",
       "      <th>rub_per_message</th>\n",
       "      <th>rub_per_minute</th>\n",
       "      <th>rub_min_over</th>\n",
       "    </tr>\n",
       "  </thead>\n",
       "  <tbody>\n",
       "    <tr>\n",
       "      <th>0</th>\n",
       "      <td>1000</td>\n",
       "      <td>52</td>\n",
       "      <td>-1</td>\n",
       "      <td>Краснодар</td>\n",
       "      <td>Рафаил</td>\n",
       "      <td>Верещагин</td>\n",
       "      <td>2018-05-25</td>\n",
       "      <td>ultra</td>\n",
       "      <td>2018-05-01</td>\n",
       "      <td>22.0</td>\n",
       "      <td>...</td>\n",
       "      <td>22.0</td>\n",
       "      <td>3.0</td>\n",
       "      <td>1000</td>\n",
       "      <td>30</td>\n",
       "      <td>3000</td>\n",
       "      <td>1950</td>\n",
       "      <td>150</td>\n",
       "      <td>1</td>\n",
       "      <td>1</td>\n",
       "      <td>0.0</td>\n",
       "    </tr>\n",
       "    <tr>\n",
       "      <th>1</th>\n",
       "      <td>1000</td>\n",
       "      <td>52</td>\n",
       "      <td>-1</td>\n",
       "      <td>Краснодар</td>\n",
       "      <td>Рафаил</td>\n",
       "      <td>Верещагин</td>\n",
       "      <td>2018-05-25</td>\n",
       "      <td>ultra</td>\n",
       "      <td>2018-06-01</td>\n",
       "      <td>43.0</td>\n",
       "      <td>...</td>\n",
       "      <td>60.0</td>\n",
       "      <td>23.0</td>\n",
       "      <td>1000</td>\n",
       "      <td>30</td>\n",
       "      <td>3000</td>\n",
       "      <td>1950</td>\n",
       "      <td>150</td>\n",
       "      <td>1</td>\n",
       "      <td>1</td>\n",
       "      <td>0.0</td>\n",
       "    </tr>\n",
       "    <tr>\n",
       "      <th>2</th>\n",
       "      <td>1000</td>\n",
       "      <td>52</td>\n",
       "      <td>-1</td>\n",
       "      <td>Краснодар</td>\n",
       "      <td>Рафаил</td>\n",
       "      <td>Верещагин</td>\n",
       "      <td>2018-05-25</td>\n",
       "      <td>ultra</td>\n",
       "      <td>2018-07-01</td>\n",
       "      <td>47.0</td>\n",
       "      <td>...</td>\n",
       "      <td>75.0</td>\n",
       "      <td>14.0</td>\n",
       "      <td>1000</td>\n",
       "      <td>30</td>\n",
       "      <td>3000</td>\n",
       "      <td>1950</td>\n",
       "      <td>150</td>\n",
       "      <td>1</td>\n",
       "      <td>1</td>\n",
       "      <td>0.0</td>\n",
       "    </tr>\n",
       "    <tr>\n",
       "      <th>3</th>\n",
       "      <td>1000</td>\n",
       "      <td>52</td>\n",
       "      <td>-1</td>\n",
       "      <td>Краснодар</td>\n",
       "      <td>Рафаил</td>\n",
       "      <td>Верещагин</td>\n",
       "      <td>2018-05-25</td>\n",
       "      <td>ultra</td>\n",
       "      <td>2018-08-01</td>\n",
       "      <td>52.0</td>\n",
       "      <td>...</td>\n",
       "      <td>81.0</td>\n",
       "      <td>14.0</td>\n",
       "      <td>1000</td>\n",
       "      <td>30</td>\n",
       "      <td>3000</td>\n",
       "      <td>1950</td>\n",
       "      <td>150</td>\n",
       "      <td>1</td>\n",
       "      <td>1</td>\n",
       "      <td>0.0</td>\n",
       "    </tr>\n",
       "    <tr>\n",
       "      <th>4</th>\n",
       "      <td>1000</td>\n",
       "      <td>52</td>\n",
       "      <td>-1</td>\n",
       "      <td>Краснодар</td>\n",
       "      <td>Рафаил</td>\n",
       "      <td>Верещагин</td>\n",
       "      <td>2018-05-25</td>\n",
       "      <td>ultra</td>\n",
       "      <td>2018-09-01</td>\n",
       "      <td>58.0</td>\n",
       "      <td>...</td>\n",
       "      <td>57.0</td>\n",
       "      <td>15.0</td>\n",
       "      <td>1000</td>\n",
       "      <td>30</td>\n",
       "      <td>3000</td>\n",
       "      <td>1950</td>\n",
       "      <td>150</td>\n",
       "      <td>1</td>\n",
       "      <td>1</td>\n",
       "      <td>0.0</td>\n",
       "    </tr>\n",
       "  </tbody>\n",
       "</table>\n",
       "<p>5 rows × 21 columns</p>\n",
       "</div>"
      ],
      "text/plain": [
       "   user_id  age churn_date       city first_name  last_name    reg_date  \\\n",
       "0     1000   52         -1  Краснодар     Рафаил  Верещагин  2018-05-25   \n",
       "1     1000   52         -1  Краснодар     Рафаил  Верещагин  2018-05-25   \n",
       "2     1000   52         -1  Краснодар     Рафаил  Верещагин  2018-05-25   \n",
       "3     1000   52         -1  Краснодар     Рафаил  Верещагин  2018-05-25   \n",
       "4     1000   52         -1  Краснодар     Рафаил  Верещагин  2018-05-25   \n",
       "\n",
       "  tariff      month  call_count  ...  mes_count  gb_used  messages_included  \\\n",
       "0  ultra 2018-05-01        22.0  ...       22.0      3.0               1000   \n",
       "1  ultra 2018-06-01        43.0  ...       60.0     23.0               1000   \n",
       "2  ultra 2018-07-01        47.0  ...       75.0     14.0               1000   \n",
       "3  ultra 2018-08-01        52.0  ...       81.0     14.0               1000   \n",
       "4  ultra 2018-09-01        58.0  ...       57.0     15.0               1000   \n",
       "\n",
       "   gb_per_month_included  minutes_included  rub_monthly_fee  rub_per_gb  \\\n",
       "0                     30              3000             1950         150   \n",
       "1                     30              3000             1950         150   \n",
       "2                     30              3000             1950         150   \n",
       "3                     30              3000             1950         150   \n",
       "4                     30              3000             1950         150   \n",
       "\n",
       "   rub_per_message  rub_per_minute  rub_min_over  \n",
       "0                1               1           0.0  \n",
       "1                1               1           0.0  \n",
       "2                1               1           0.0  \n",
       "3                1               1           0.0  \n",
       "4                1               1           0.0  \n",
       "\n",
       "[5 rows x 21 columns]"
      ]
     },
     "execution_count": 66,
     "metadata": {},
     "output_type": "execute_result"
    }
   ],
   "source": [
    "df['rub_min_over'] = (\n",
    "    np.where((df['call_vol'] - df['minutes_included']) <= 0, 0 ,\n",
    "             (df['call_vol'] - df['minutes_included']) * df['rub_per_minute'])\n",
    ")\n",
    "df.head()"
   ]
  },
  {
   "cell_type": "code",
   "execution_count": 67,
   "id": "cdc57234",
   "metadata": {},
   "outputs": [],
   "source": [
    "pd.set_option('display.max_columns', None)"
   ]
  },
  {
   "cell_type": "code",
   "execution_count": 68,
   "id": "21d5a367",
   "metadata": {},
   "outputs": [
    {
     "data": {
      "text/html": [
       "<div>\n",
       "<style scoped>\n",
       "    .dataframe tbody tr th:only-of-type {\n",
       "        vertical-align: middle;\n",
       "    }\n",
       "\n",
       "    .dataframe tbody tr th {\n",
       "        vertical-align: top;\n",
       "    }\n",
       "\n",
       "    .dataframe thead th {\n",
       "        text-align: right;\n",
       "    }\n",
       "</style>\n",
       "<table border=\"1\" class=\"dataframe\">\n",
       "  <thead>\n",
       "    <tr style=\"text-align: right;\">\n",
       "      <th></th>\n",
       "      <th>user_id</th>\n",
       "      <th>age</th>\n",
       "      <th>churn_date</th>\n",
       "      <th>city</th>\n",
       "      <th>first_name</th>\n",
       "      <th>last_name</th>\n",
       "      <th>reg_date</th>\n",
       "      <th>tariff</th>\n",
       "      <th>month</th>\n",
       "      <th>call_count</th>\n",
       "      <th>call_vol</th>\n",
       "      <th>mes_count</th>\n",
       "      <th>gb_used</th>\n",
       "      <th>messages_included</th>\n",
       "      <th>gb_per_month_included</th>\n",
       "      <th>minutes_included</th>\n",
       "      <th>rub_monthly_fee</th>\n",
       "      <th>rub_per_gb</th>\n",
       "      <th>rub_per_message</th>\n",
       "      <th>rub_per_minute</th>\n",
       "      <th>rub_min_over</th>\n",
       "      <th>rub_mes_over</th>\n",
       "    </tr>\n",
       "  </thead>\n",
       "  <tbody>\n",
       "    <tr>\n",
       "      <th>0</th>\n",
       "      <td>1000</td>\n",
       "      <td>52</td>\n",
       "      <td>-1</td>\n",
       "      <td>Краснодар</td>\n",
       "      <td>Рафаил</td>\n",
       "      <td>Верещагин</td>\n",
       "      <td>2018-05-25</td>\n",
       "      <td>ultra</td>\n",
       "      <td>2018-05-01</td>\n",
       "      <td>22.0</td>\n",
       "      <td>159.0</td>\n",
       "      <td>22.0</td>\n",
       "      <td>3.0</td>\n",
       "      <td>1000</td>\n",
       "      <td>30</td>\n",
       "      <td>3000</td>\n",
       "      <td>1950</td>\n",
       "      <td>150</td>\n",
       "      <td>1</td>\n",
       "      <td>1</td>\n",
       "      <td>0.0</td>\n",
       "      <td>0.0</td>\n",
       "    </tr>\n",
       "    <tr>\n",
       "      <th>1</th>\n",
       "      <td>1000</td>\n",
       "      <td>52</td>\n",
       "      <td>-1</td>\n",
       "      <td>Краснодар</td>\n",
       "      <td>Рафаил</td>\n",
       "      <td>Верещагин</td>\n",
       "      <td>2018-05-25</td>\n",
       "      <td>ultra</td>\n",
       "      <td>2018-06-01</td>\n",
       "      <td>43.0</td>\n",
       "      <td>172.0</td>\n",
       "      <td>60.0</td>\n",
       "      <td>23.0</td>\n",
       "      <td>1000</td>\n",
       "      <td>30</td>\n",
       "      <td>3000</td>\n",
       "      <td>1950</td>\n",
       "      <td>150</td>\n",
       "      <td>1</td>\n",
       "      <td>1</td>\n",
       "      <td>0.0</td>\n",
       "      <td>0.0</td>\n",
       "    </tr>\n",
       "    <tr>\n",
       "      <th>2</th>\n",
       "      <td>1000</td>\n",
       "      <td>52</td>\n",
       "      <td>-1</td>\n",
       "      <td>Краснодар</td>\n",
       "      <td>Рафаил</td>\n",
       "      <td>Верещагин</td>\n",
       "      <td>2018-05-25</td>\n",
       "      <td>ultra</td>\n",
       "      <td>2018-07-01</td>\n",
       "      <td>47.0</td>\n",
       "      <td>340.0</td>\n",
       "      <td>75.0</td>\n",
       "      <td>14.0</td>\n",
       "      <td>1000</td>\n",
       "      <td>30</td>\n",
       "      <td>3000</td>\n",
       "      <td>1950</td>\n",
       "      <td>150</td>\n",
       "      <td>1</td>\n",
       "      <td>1</td>\n",
       "      <td>0.0</td>\n",
       "      <td>0.0</td>\n",
       "    </tr>\n",
       "    <tr>\n",
       "      <th>3</th>\n",
       "      <td>1000</td>\n",
       "      <td>52</td>\n",
       "      <td>-1</td>\n",
       "      <td>Краснодар</td>\n",
       "      <td>Рафаил</td>\n",
       "      <td>Верещагин</td>\n",
       "      <td>2018-05-25</td>\n",
       "      <td>ultra</td>\n",
       "      <td>2018-08-01</td>\n",
       "      <td>52.0</td>\n",
       "      <td>408.0</td>\n",
       "      <td>81.0</td>\n",
       "      <td>14.0</td>\n",
       "      <td>1000</td>\n",
       "      <td>30</td>\n",
       "      <td>3000</td>\n",
       "      <td>1950</td>\n",
       "      <td>150</td>\n",
       "      <td>1</td>\n",
       "      <td>1</td>\n",
       "      <td>0.0</td>\n",
       "      <td>0.0</td>\n",
       "    </tr>\n",
       "    <tr>\n",
       "      <th>4</th>\n",
       "      <td>1000</td>\n",
       "      <td>52</td>\n",
       "      <td>-1</td>\n",
       "      <td>Краснодар</td>\n",
       "      <td>Рафаил</td>\n",
       "      <td>Верещагин</td>\n",
       "      <td>2018-05-25</td>\n",
       "      <td>ultra</td>\n",
       "      <td>2018-09-01</td>\n",
       "      <td>58.0</td>\n",
       "      <td>466.0</td>\n",
       "      <td>57.0</td>\n",
       "      <td>15.0</td>\n",
       "      <td>1000</td>\n",
       "      <td>30</td>\n",
       "      <td>3000</td>\n",
       "      <td>1950</td>\n",
       "      <td>150</td>\n",
       "      <td>1</td>\n",
       "      <td>1</td>\n",
       "      <td>0.0</td>\n",
       "      <td>0.0</td>\n",
       "    </tr>\n",
       "  </tbody>\n",
       "</table>\n",
       "</div>"
      ],
      "text/plain": [
       "   user_id  age churn_date       city first_name  last_name    reg_date  \\\n",
       "0     1000   52         -1  Краснодар     Рафаил  Верещагин  2018-05-25   \n",
       "1     1000   52         -1  Краснодар     Рафаил  Верещагин  2018-05-25   \n",
       "2     1000   52         -1  Краснодар     Рафаил  Верещагин  2018-05-25   \n",
       "3     1000   52         -1  Краснодар     Рафаил  Верещагин  2018-05-25   \n",
       "4     1000   52         -1  Краснодар     Рафаил  Верещагин  2018-05-25   \n",
       "\n",
       "  tariff      month  call_count  call_vol  mes_count  gb_used  \\\n",
       "0  ultra 2018-05-01        22.0     159.0       22.0      3.0   \n",
       "1  ultra 2018-06-01        43.0     172.0       60.0     23.0   \n",
       "2  ultra 2018-07-01        47.0     340.0       75.0     14.0   \n",
       "3  ultra 2018-08-01        52.0     408.0       81.0     14.0   \n",
       "4  ultra 2018-09-01        58.0     466.0       57.0     15.0   \n",
       "\n",
       "   messages_included  gb_per_month_included  minutes_included  \\\n",
       "0               1000                     30              3000   \n",
       "1               1000                     30              3000   \n",
       "2               1000                     30              3000   \n",
       "3               1000                     30              3000   \n",
       "4               1000                     30              3000   \n",
       "\n",
       "   rub_monthly_fee  rub_per_gb  rub_per_message  rub_per_minute  rub_min_over  \\\n",
       "0             1950         150                1               1           0.0   \n",
       "1             1950         150                1               1           0.0   \n",
       "2             1950         150                1               1           0.0   \n",
       "3             1950         150                1               1           0.0   \n",
       "4             1950         150                1               1           0.0   \n",
       "\n",
       "   rub_mes_over  \n",
       "0           0.0  \n",
       "1           0.0  \n",
       "2           0.0  \n",
       "3           0.0  \n",
       "4           0.0  "
      ]
     },
     "execution_count": 68,
     "metadata": {},
     "output_type": "execute_result"
    }
   ],
   "source": [
    "df['rub_mes_over'] = (\n",
    "    np.where((df['mes_count'] - df['messages_included']) <= 0, 0 ,\n",
    "             (df['mes_count'] - df['messages_included']) * df['rub_per_message'])\n",
    ")\n",
    "df.head()"
   ]
  },
  {
   "cell_type": "code",
   "execution_count": 69,
   "id": "771e985d",
   "metadata": {
    "scrolled": true
   },
   "outputs": [
    {
     "data": {
      "text/html": [
       "<div>\n",
       "<style scoped>\n",
       "    .dataframe tbody tr th:only-of-type {\n",
       "        vertical-align: middle;\n",
       "    }\n",
       "\n",
       "    .dataframe tbody tr th {\n",
       "        vertical-align: top;\n",
       "    }\n",
       "\n",
       "    .dataframe thead th {\n",
       "        text-align: right;\n",
       "    }\n",
       "</style>\n",
       "<table border=\"1\" class=\"dataframe\">\n",
       "  <thead>\n",
       "    <tr style=\"text-align: right;\">\n",
       "      <th></th>\n",
       "      <th>user_id</th>\n",
       "      <th>age</th>\n",
       "      <th>churn_date</th>\n",
       "      <th>city</th>\n",
       "      <th>first_name</th>\n",
       "      <th>last_name</th>\n",
       "      <th>reg_date</th>\n",
       "      <th>tariff</th>\n",
       "      <th>month</th>\n",
       "      <th>call_count</th>\n",
       "      <th>call_vol</th>\n",
       "      <th>mes_count</th>\n",
       "      <th>gb_used</th>\n",
       "      <th>messages_included</th>\n",
       "      <th>gb_per_month_included</th>\n",
       "      <th>minutes_included</th>\n",
       "      <th>rub_monthly_fee</th>\n",
       "      <th>rub_per_gb</th>\n",
       "      <th>rub_per_message</th>\n",
       "      <th>rub_per_minute</th>\n",
       "      <th>rub_min_over</th>\n",
       "      <th>rub_mes_over</th>\n",
       "      <th>rub_gb_over</th>\n",
       "    </tr>\n",
       "  </thead>\n",
       "  <tbody>\n",
       "    <tr>\n",
       "      <th>0</th>\n",
       "      <td>1000</td>\n",
       "      <td>52</td>\n",
       "      <td>-1</td>\n",
       "      <td>Краснодар</td>\n",
       "      <td>Рафаил</td>\n",
       "      <td>Верещагин</td>\n",
       "      <td>2018-05-25</td>\n",
       "      <td>ultra</td>\n",
       "      <td>2018-05-01</td>\n",
       "      <td>22.0</td>\n",
       "      <td>159.0</td>\n",
       "      <td>22.0</td>\n",
       "      <td>3.0</td>\n",
       "      <td>1000</td>\n",
       "      <td>30</td>\n",
       "      <td>3000</td>\n",
       "      <td>1950</td>\n",
       "      <td>150</td>\n",
       "      <td>1</td>\n",
       "      <td>1</td>\n",
       "      <td>0.0</td>\n",
       "      <td>0.0</td>\n",
       "      <td>0.0</td>\n",
       "    </tr>\n",
       "    <tr>\n",
       "      <th>1</th>\n",
       "      <td>1000</td>\n",
       "      <td>52</td>\n",
       "      <td>-1</td>\n",
       "      <td>Краснодар</td>\n",
       "      <td>Рафаил</td>\n",
       "      <td>Верещагин</td>\n",
       "      <td>2018-05-25</td>\n",
       "      <td>ultra</td>\n",
       "      <td>2018-06-01</td>\n",
       "      <td>43.0</td>\n",
       "      <td>172.0</td>\n",
       "      <td>60.0</td>\n",
       "      <td>23.0</td>\n",
       "      <td>1000</td>\n",
       "      <td>30</td>\n",
       "      <td>3000</td>\n",
       "      <td>1950</td>\n",
       "      <td>150</td>\n",
       "      <td>1</td>\n",
       "      <td>1</td>\n",
       "      <td>0.0</td>\n",
       "      <td>0.0</td>\n",
       "      <td>0.0</td>\n",
       "    </tr>\n",
       "    <tr>\n",
       "      <th>2</th>\n",
       "      <td>1000</td>\n",
       "      <td>52</td>\n",
       "      <td>-1</td>\n",
       "      <td>Краснодар</td>\n",
       "      <td>Рафаил</td>\n",
       "      <td>Верещагин</td>\n",
       "      <td>2018-05-25</td>\n",
       "      <td>ultra</td>\n",
       "      <td>2018-07-01</td>\n",
       "      <td>47.0</td>\n",
       "      <td>340.0</td>\n",
       "      <td>75.0</td>\n",
       "      <td>14.0</td>\n",
       "      <td>1000</td>\n",
       "      <td>30</td>\n",
       "      <td>3000</td>\n",
       "      <td>1950</td>\n",
       "      <td>150</td>\n",
       "      <td>1</td>\n",
       "      <td>1</td>\n",
       "      <td>0.0</td>\n",
       "      <td>0.0</td>\n",
       "      <td>0.0</td>\n",
       "    </tr>\n",
       "    <tr>\n",
       "      <th>3</th>\n",
       "      <td>1000</td>\n",
       "      <td>52</td>\n",
       "      <td>-1</td>\n",
       "      <td>Краснодар</td>\n",
       "      <td>Рафаил</td>\n",
       "      <td>Верещагин</td>\n",
       "      <td>2018-05-25</td>\n",
       "      <td>ultra</td>\n",
       "      <td>2018-08-01</td>\n",
       "      <td>52.0</td>\n",
       "      <td>408.0</td>\n",
       "      <td>81.0</td>\n",
       "      <td>14.0</td>\n",
       "      <td>1000</td>\n",
       "      <td>30</td>\n",
       "      <td>3000</td>\n",
       "      <td>1950</td>\n",
       "      <td>150</td>\n",
       "      <td>1</td>\n",
       "      <td>1</td>\n",
       "      <td>0.0</td>\n",
       "      <td>0.0</td>\n",
       "      <td>0.0</td>\n",
       "    </tr>\n",
       "    <tr>\n",
       "      <th>4</th>\n",
       "      <td>1000</td>\n",
       "      <td>52</td>\n",
       "      <td>-1</td>\n",
       "      <td>Краснодар</td>\n",
       "      <td>Рафаил</td>\n",
       "      <td>Верещагин</td>\n",
       "      <td>2018-05-25</td>\n",
       "      <td>ultra</td>\n",
       "      <td>2018-09-01</td>\n",
       "      <td>58.0</td>\n",
       "      <td>466.0</td>\n",
       "      <td>57.0</td>\n",
       "      <td>15.0</td>\n",
       "      <td>1000</td>\n",
       "      <td>30</td>\n",
       "      <td>3000</td>\n",
       "      <td>1950</td>\n",
       "      <td>150</td>\n",
       "      <td>1</td>\n",
       "      <td>1</td>\n",
       "      <td>0.0</td>\n",
       "      <td>0.0</td>\n",
       "      <td>0.0</td>\n",
       "    </tr>\n",
       "  </tbody>\n",
       "</table>\n",
       "</div>"
      ],
      "text/plain": [
       "   user_id  age churn_date       city first_name  last_name    reg_date  \\\n",
       "0     1000   52         -1  Краснодар     Рафаил  Верещагин  2018-05-25   \n",
       "1     1000   52         -1  Краснодар     Рафаил  Верещагин  2018-05-25   \n",
       "2     1000   52         -1  Краснодар     Рафаил  Верещагин  2018-05-25   \n",
       "3     1000   52         -1  Краснодар     Рафаил  Верещагин  2018-05-25   \n",
       "4     1000   52         -1  Краснодар     Рафаил  Верещагин  2018-05-25   \n",
       "\n",
       "  tariff      month  call_count  call_vol  mes_count  gb_used  \\\n",
       "0  ultra 2018-05-01        22.0     159.0       22.0      3.0   \n",
       "1  ultra 2018-06-01        43.0     172.0       60.0     23.0   \n",
       "2  ultra 2018-07-01        47.0     340.0       75.0     14.0   \n",
       "3  ultra 2018-08-01        52.0     408.0       81.0     14.0   \n",
       "4  ultra 2018-09-01        58.0     466.0       57.0     15.0   \n",
       "\n",
       "   messages_included  gb_per_month_included  minutes_included  \\\n",
       "0               1000                     30              3000   \n",
       "1               1000                     30              3000   \n",
       "2               1000                     30              3000   \n",
       "3               1000                     30              3000   \n",
       "4               1000                     30              3000   \n",
       "\n",
       "   rub_monthly_fee  rub_per_gb  rub_per_message  rub_per_minute  rub_min_over  \\\n",
       "0             1950         150                1               1           0.0   \n",
       "1             1950         150                1               1           0.0   \n",
       "2             1950         150                1               1           0.0   \n",
       "3             1950         150                1               1           0.0   \n",
       "4             1950         150                1               1           0.0   \n",
       "\n",
       "   rub_mes_over  rub_gb_over  \n",
       "0           0.0          0.0  \n",
       "1           0.0          0.0  \n",
       "2           0.0          0.0  \n",
       "3           0.0          0.0  \n",
       "4           0.0          0.0  "
      ]
     },
     "execution_count": 69,
     "metadata": {},
     "output_type": "execute_result"
    }
   ],
   "source": [
    "df['rub_gb_over'] = (\n",
    "    np.where((df['gb_used'] - df['gb_per_month_included']) <= 0, 0 ,\n",
    "             (df['gb_used'] - df['gb_per_month_included']) * df['rub_per_gb'])\n",
    ")\n",
    "df.head()"
   ]
  },
  {
   "cell_type": "code",
   "execution_count": 70,
   "id": "b2672d26",
   "metadata": {},
   "outputs": [
    {
     "data": {
      "text/html": [
       "<div>\n",
       "<style scoped>\n",
       "    .dataframe tbody tr th:only-of-type {\n",
       "        vertical-align: middle;\n",
       "    }\n",
       "\n",
       "    .dataframe tbody tr th {\n",
       "        vertical-align: top;\n",
       "    }\n",
       "\n",
       "    .dataframe thead th {\n",
       "        text-align: right;\n",
       "    }\n",
       "</style>\n",
       "<table border=\"1\" class=\"dataframe\">\n",
       "  <thead>\n",
       "    <tr style=\"text-align: right;\">\n",
       "      <th></th>\n",
       "      <th>user_id</th>\n",
       "      <th>age</th>\n",
       "      <th>churn_date</th>\n",
       "      <th>city</th>\n",
       "      <th>first_name</th>\n",
       "      <th>last_name</th>\n",
       "      <th>reg_date</th>\n",
       "      <th>tariff</th>\n",
       "      <th>month</th>\n",
       "      <th>call_count</th>\n",
       "      <th>call_vol</th>\n",
       "      <th>mes_count</th>\n",
       "      <th>gb_used</th>\n",
       "      <th>messages_included</th>\n",
       "      <th>gb_per_month_included</th>\n",
       "      <th>minutes_included</th>\n",
       "      <th>rub_monthly_fee</th>\n",
       "      <th>rub_per_gb</th>\n",
       "      <th>rub_per_message</th>\n",
       "      <th>rub_per_minute</th>\n",
       "      <th>rub_min_over</th>\n",
       "      <th>rub_mes_over</th>\n",
       "      <th>rub_gb_over</th>\n",
       "      <th>revenue</th>\n",
       "    </tr>\n",
       "  </thead>\n",
       "  <tbody>\n",
       "    <tr>\n",
       "      <th>0</th>\n",
       "      <td>1000</td>\n",
       "      <td>52</td>\n",
       "      <td>-1</td>\n",
       "      <td>Краснодар</td>\n",
       "      <td>Рафаил</td>\n",
       "      <td>Верещагин</td>\n",
       "      <td>2018-05-25</td>\n",
       "      <td>ultra</td>\n",
       "      <td>2018-05-01</td>\n",
       "      <td>22.0</td>\n",
       "      <td>159.0</td>\n",
       "      <td>22.0</td>\n",
       "      <td>3.0</td>\n",
       "      <td>1000</td>\n",
       "      <td>30</td>\n",
       "      <td>3000</td>\n",
       "      <td>1950</td>\n",
       "      <td>150</td>\n",
       "      <td>1</td>\n",
       "      <td>1</td>\n",
       "      <td>0.0</td>\n",
       "      <td>0.0</td>\n",
       "      <td>0.0</td>\n",
       "      <td>1950.0</td>\n",
       "    </tr>\n",
       "    <tr>\n",
       "      <th>1</th>\n",
       "      <td>1000</td>\n",
       "      <td>52</td>\n",
       "      <td>-1</td>\n",
       "      <td>Краснодар</td>\n",
       "      <td>Рафаил</td>\n",
       "      <td>Верещагин</td>\n",
       "      <td>2018-05-25</td>\n",
       "      <td>ultra</td>\n",
       "      <td>2018-06-01</td>\n",
       "      <td>43.0</td>\n",
       "      <td>172.0</td>\n",
       "      <td>60.0</td>\n",
       "      <td>23.0</td>\n",
       "      <td>1000</td>\n",
       "      <td>30</td>\n",
       "      <td>3000</td>\n",
       "      <td>1950</td>\n",
       "      <td>150</td>\n",
       "      <td>1</td>\n",
       "      <td>1</td>\n",
       "      <td>0.0</td>\n",
       "      <td>0.0</td>\n",
       "      <td>0.0</td>\n",
       "      <td>1950.0</td>\n",
       "    </tr>\n",
       "    <tr>\n",
       "      <th>2</th>\n",
       "      <td>1000</td>\n",
       "      <td>52</td>\n",
       "      <td>-1</td>\n",
       "      <td>Краснодар</td>\n",
       "      <td>Рафаил</td>\n",
       "      <td>Верещагин</td>\n",
       "      <td>2018-05-25</td>\n",
       "      <td>ultra</td>\n",
       "      <td>2018-07-01</td>\n",
       "      <td>47.0</td>\n",
       "      <td>340.0</td>\n",
       "      <td>75.0</td>\n",
       "      <td>14.0</td>\n",
       "      <td>1000</td>\n",
       "      <td>30</td>\n",
       "      <td>3000</td>\n",
       "      <td>1950</td>\n",
       "      <td>150</td>\n",
       "      <td>1</td>\n",
       "      <td>1</td>\n",
       "      <td>0.0</td>\n",
       "      <td>0.0</td>\n",
       "      <td>0.0</td>\n",
       "      <td>1950.0</td>\n",
       "    </tr>\n",
       "    <tr>\n",
       "      <th>3</th>\n",
       "      <td>1000</td>\n",
       "      <td>52</td>\n",
       "      <td>-1</td>\n",
       "      <td>Краснодар</td>\n",
       "      <td>Рафаил</td>\n",
       "      <td>Верещагин</td>\n",
       "      <td>2018-05-25</td>\n",
       "      <td>ultra</td>\n",
       "      <td>2018-08-01</td>\n",
       "      <td>52.0</td>\n",
       "      <td>408.0</td>\n",
       "      <td>81.0</td>\n",
       "      <td>14.0</td>\n",
       "      <td>1000</td>\n",
       "      <td>30</td>\n",
       "      <td>3000</td>\n",
       "      <td>1950</td>\n",
       "      <td>150</td>\n",
       "      <td>1</td>\n",
       "      <td>1</td>\n",
       "      <td>0.0</td>\n",
       "      <td>0.0</td>\n",
       "      <td>0.0</td>\n",
       "      <td>1950.0</td>\n",
       "    </tr>\n",
       "    <tr>\n",
       "      <th>4</th>\n",
       "      <td>1000</td>\n",
       "      <td>52</td>\n",
       "      <td>-1</td>\n",
       "      <td>Краснодар</td>\n",
       "      <td>Рафаил</td>\n",
       "      <td>Верещагин</td>\n",
       "      <td>2018-05-25</td>\n",
       "      <td>ultra</td>\n",
       "      <td>2018-09-01</td>\n",
       "      <td>58.0</td>\n",
       "      <td>466.0</td>\n",
       "      <td>57.0</td>\n",
       "      <td>15.0</td>\n",
       "      <td>1000</td>\n",
       "      <td>30</td>\n",
       "      <td>3000</td>\n",
       "      <td>1950</td>\n",
       "      <td>150</td>\n",
       "      <td>1</td>\n",
       "      <td>1</td>\n",
       "      <td>0.0</td>\n",
       "      <td>0.0</td>\n",
       "      <td>0.0</td>\n",
       "      <td>1950.0</td>\n",
       "    </tr>\n",
       "  </tbody>\n",
       "</table>\n",
       "</div>"
      ],
      "text/plain": [
       "   user_id  age churn_date       city first_name  last_name    reg_date  \\\n",
       "0     1000   52         -1  Краснодар     Рафаил  Верещагин  2018-05-25   \n",
       "1     1000   52         -1  Краснодар     Рафаил  Верещагин  2018-05-25   \n",
       "2     1000   52         -1  Краснодар     Рафаил  Верещагин  2018-05-25   \n",
       "3     1000   52         -1  Краснодар     Рафаил  Верещагин  2018-05-25   \n",
       "4     1000   52         -1  Краснодар     Рафаил  Верещагин  2018-05-25   \n",
       "\n",
       "  tariff      month  call_count  call_vol  mes_count  gb_used  \\\n",
       "0  ultra 2018-05-01        22.0     159.0       22.0      3.0   \n",
       "1  ultra 2018-06-01        43.0     172.0       60.0     23.0   \n",
       "2  ultra 2018-07-01        47.0     340.0       75.0     14.0   \n",
       "3  ultra 2018-08-01        52.0     408.0       81.0     14.0   \n",
       "4  ultra 2018-09-01        58.0     466.0       57.0     15.0   \n",
       "\n",
       "   messages_included  gb_per_month_included  minutes_included  \\\n",
       "0               1000                     30              3000   \n",
       "1               1000                     30              3000   \n",
       "2               1000                     30              3000   \n",
       "3               1000                     30              3000   \n",
       "4               1000                     30              3000   \n",
       "\n",
       "   rub_monthly_fee  rub_per_gb  rub_per_message  rub_per_minute  rub_min_over  \\\n",
       "0             1950         150                1               1           0.0   \n",
       "1             1950         150                1               1           0.0   \n",
       "2             1950         150                1               1           0.0   \n",
       "3             1950         150                1               1           0.0   \n",
       "4             1950         150                1               1           0.0   \n",
       "\n",
       "   rub_mes_over  rub_gb_over  revenue  \n",
       "0           0.0          0.0   1950.0  \n",
       "1           0.0          0.0   1950.0  \n",
       "2           0.0          0.0   1950.0  \n",
       "3           0.0          0.0   1950.0  \n",
       "4           0.0          0.0   1950.0  "
      ]
     },
     "execution_count": 70,
     "metadata": {},
     "output_type": "execute_result"
    }
   ],
   "source": [
    "df['revenue'] = df['rub_monthly_fee'] + df['rub_min_over'] + df['rub_mes_over'] + df['rub_gb_over']\n",
    "df.head()"
   ]
  },
  {
   "cell_type": "markdown",
   "id": "10cf851f",
   "metadata": {},
   "source": [
    "Оставим в финальной таблице только те столбцы, которые нужны для последующего анализа и проверки гипотез."
   ]
  },
  {
   "cell_type": "code",
   "execution_count": 71,
   "id": "689b6cca",
   "metadata": {},
   "outputs": [
    {
     "data": {
      "text/html": [
       "<div>\n",
       "<style scoped>\n",
       "    .dataframe tbody tr th:only-of-type {\n",
       "        vertical-align: middle;\n",
       "    }\n",
       "\n",
       "    .dataframe tbody tr th {\n",
       "        vertical-align: top;\n",
       "    }\n",
       "\n",
       "    .dataframe thead th {\n",
       "        text-align: right;\n",
       "    }\n",
       "</style>\n",
       "<table border=\"1\" class=\"dataframe\">\n",
       "  <thead>\n",
       "    <tr style=\"text-align: right;\">\n",
       "      <th></th>\n",
       "      <th>user_id</th>\n",
       "      <th>churn_date</th>\n",
       "      <th>city</th>\n",
       "      <th>reg_date</th>\n",
       "      <th>tariff</th>\n",
       "      <th>month</th>\n",
       "      <th>call_count</th>\n",
       "      <th>call_vol</th>\n",
       "      <th>mes_count</th>\n",
       "      <th>gb_used</th>\n",
       "      <th>revenue</th>\n",
       "    </tr>\n",
       "  </thead>\n",
       "  <tbody>\n",
       "    <tr>\n",
       "      <th>0</th>\n",
       "      <td>1000</td>\n",
       "      <td>-1</td>\n",
       "      <td>Краснодар</td>\n",
       "      <td>2018-05-25</td>\n",
       "      <td>ultra</td>\n",
       "      <td>2018-05-01</td>\n",
       "      <td>22.0</td>\n",
       "      <td>159.0</td>\n",
       "      <td>22.0</td>\n",
       "      <td>3.0</td>\n",
       "      <td>1950.0</td>\n",
       "    </tr>\n",
       "    <tr>\n",
       "      <th>1</th>\n",
       "      <td>1000</td>\n",
       "      <td>-1</td>\n",
       "      <td>Краснодар</td>\n",
       "      <td>2018-05-25</td>\n",
       "      <td>ultra</td>\n",
       "      <td>2018-06-01</td>\n",
       "      <td>43.0</td>\n",
       "      <td>172.0</td>\n",
       "      <td>60.0</td>\n",
       "      <td>23.0</td>\n",
       "      <td>1950.0</td>\n",
       "    </tr>\n",
       "    <tr>\n",
       "      <th>2</th>\n",
       "      <td>1000</td>\n",
       "      <td>-1</td>\n",
       "      <td>Краснодар</td>\n",
       "      <td>2018-05-25</td>\n",
       "      <td>ultra</td>\n",
       "      <td>2018-07-01</td>\n",
       "      <td>47.0</td>\n",
       "      <td>340.0</td>\n",
       "      <td>75.0</td>\n",
       "      <td>14.0</td>\n",
       "      <td>1950.0</td>\n",
       "    </tr>\n",
       "  </tbody>\n",
       "</table>\n",
       "</div>"
      ],
      "text/plain": [
       "   user_id churn_date       city    reg_date tariff      month  call_count  \\\n",
       "0     1000         -1  Краснодар  2018-05-25  ultra 2018-05-01        22.0   \n",
       "1     1000         -1  Краснодар  2018-05-25  ultra 2018-06-01        43.0   \n",
       "2     1000         -1  Краснодар  2018-05-25  ultra 2018-07-01        47.0   \n",
       "\n",
       "   call_vol  mes_count  gb_used  revenue  \n",
       "0     159.0       22.0      3.0   1950.0  \n",
       "1     172.0       60.0     23.0   1950.0  \n",
       "2     340.0       75.0     14.0   1950.0  "
      ]
     },
     "execution_count": 71,
     "metadata": {},
     "output_type": "execute_result"
    }
   ],
   "source": [
    "df_final = df[['user_id', 'churn_date', 'city', 'reg_date', 'tariff', 'month', 'call_count', 'call_vol',\n",
    "              'mes_count', 'gb_used', 'revenue']]\n",
    "df_final.head(3)"
   ]
  },
  {
   "cell_type": "markdown",
   "id": "243501c7",
   "metadata": {
    "tags": []
   },
   "source": [
    "**Выводы**\n",
    "\n",
    "На данном этапе мы собрали все необходимые для анализа данные в общую таблицу `df_final`, заменили пропущенные значения, которые получились в результате объединения таблиц и рассчитали вуручку по месяцам от клиентов по тарифам."
   ]
  },
  {
   "cell_type": "markdown",
   "id": "0f0ded4a",
   "metadata": {},
   "source": [
    "### Выводы"
   ]
  },
  {
   "cell_type": "markdown",
   "id": "6af9ab51",
   "metadata": {},
   "source": [
    "На данном этапе мы подготовили данные для дальнейшего анализа и проверки гипотез:\n",
    "* обработали пропуски в таблице `users` в соответствие с описанием в документации;\n",
    "* привели в соотвествие название столбца  с тарифом в таблицах `users` и `tarif`;\n",
    "* удалили несущественный столбец из таблицы `internet`;\n",
    "* подготовили сводные таблицы с объёмами минут, сообщений и интернет-трафика в месяц по пользователям;\n",
    "* подготовили таблицу `tarif` для дальнейшей работы;\n",
    "* собрали все необходимые для рассчетов и анализа данные в таблицу `df_final` и рассчитали выручку в месяц по пользователям тарифов."
   ]
  },
  {
   "cell_type": "markdown",
   "id": "9444d572",
   "metadata": {},
   "source": [
    "## Исследовательский анализ данных"
   ]
  },
  {
   "cell_type": "markdown",
   "id": "7b6f5dcb",
   "metadata": {},
   "source": [
    "Проанализируем основные метрики потребления трафика и выручки пользователей тарифных планов «Смарт» и «Ультра». Добавим в таблицу `df_final` столбцы со средним объёмом минут, сообщений, интернет-трафика и средней выручкой в месяц."
   ]
  },
  {
   "cell_type": "code",
   "execution_count": 72,
   "id": "bb3b34fd",
   "metadata": {},
   "outputs": [
    {
     "data": {
      "text/html": [
       "<div>\n",
       "<style scoped>\n",
       "    .dataframe tbody tr th:only-of-type {\n",
       "        vertical-align: middle;\n",
       "    }\n",
       "\n",
       "    .dataframe tbody tr th {\n",
       "        vertical-align: top;\n",
       "    }\n",
       "\n",
       "    .dataframe thead th {\n",
       "        text-align: right;\n",
       "    }\n",
       "</style>\n",
       "<table border=\"1\" class=\"dataframe\">\n",
       "  <thead>\n",
       "    <tr style=\"text-align: right;\">\n",
       "      <th></th>\n",
       "      <th>user_id</th>\n",
       "      <th>churn_date</th>\n",
       "      <th>city</th>\n",
       "      <th>reg_date</th>\n",
       "      <th>tariff</th>\n",
       "      <th>month</th>\n",
       "      <th>call_count</th>\n",
       "      <th>call_vol</th>\n",
       "      <th>mes_count</th>\n",
       "      <th>gb_used</th>\n",
       "      <th>revenue</th>\n",
       "    </tr>\n",
       "  </thead>\n",
       "  <tbody>\n",
       "    <tr>\n",
       "      <th>8</th>\n",
       "      <td>1001</td>\n",
       "      <td>-1</td>\n",
       "      <td>Москва</td>\n",
       "      <td>2018-11-01</td>\n",
       "      <td>smart</td>\n",
       "      <td>2018-11-01</td>\n",
       "      <td>59.0</td>\n",
       "      <td>430.0</td>\n",
       "      <td>0.0</td>\n",
       "      <td>18.0</td>\n",
       "      <td>1150.0</td>\n",
       "    </tr>\n",
       "    <tr>\n",
       "      <th>9</th>\n",
       "      <td>1001</td>\n",
       "      <td>-1</td>\n",
       "      <td>Москва</td>\n",
       "      <td>2018-11-01</td>\n",
       "      <td>smart</td>\n",
       "      <td>2018-12-01</td>\n",
       "      <td>63.0</td>\n",
       "      <td>414.0</td>\n",
       "      <td>0.0</td>\n",
       "      <td>14.0</td>\n",
       "      <td>550.0</td>\n",
       "    </tr>\n",
       "    <tr>\n",
       "      <th>10</th>\n",
       "      <td>1002</td>\n",
       "      <td>-1</td>\n",
       "      <td>Стерлитамак</td>\n",
       "      <td>2018-06-17</td>\n",
       "      <td>smart</td>\n",
       "      <td>2018-06-01</td>\n",
       "      <td>15.0</td>\n",
       "      <td>117.0</td>\n",
       "      <td>4.0</td>\n",
       "      <td>11.0</td>\n",
       "      <td>550.0</td>\n",
       "    </tr>\n",
       "    <tr>\n",
       "      <th>11</th>\n",
       "      <td>1002</td>\n",
       "      <td>-1</td>\n",
       "      <td>Стерлитамак</td>\n",
       "      <td>2018-06-17</td>\n",
       "      <td>smart</td>\n",
       "      <td>2018-07-01</td>\n",
       "      <td>26.0</td>\n",
       "      <td>214.0</td>\n",
       "      <td>11.0</td>\n",
       "      <td>18.0</td>\n",
       "      <td>1150.0</td>\n",
       "    </tr>\n",
       "    <tr>\n",
       "      <th>12</th>\n",
       "      <td>1002</td>\n",
       "      <td>-1</td>\n",
       "      <td>Стерлитамак</td>\n",
       "      <td>2018-06-17</td>\n",
       "      <td>smart</td>\n",
       "      <td>2018-08-01</td>\n",
       "      <td>42.0</td>\n",
       "      <td>289.0</td>\n",
       "      <td>13.0</td>\n",
       "      <td>20.0</td>\n",
       "      <td>1550.0</td>\n",
       "    </tr>\n",
       "  </tbody>\n",
       "</table>\n",
       "</div>"
      ],
      "text/plain": [
       "    user_id churn_date         city    reg_date tariff      month  call_count  \\\n",
       "8      1001         -1       Москва  2018-11-01  smart 2018-11-01        59.0   \n",
       "9      1001         -1       Москва  2018-11-01  smart 2018-12-01        63.0   \n",
       "10     1002         -1  Стерлитамак  2018-06-17  smart 2018-06-01        15.0   \n",
       "11     1002         -1  Стерлитамак  2018-06-17  smart 2018-07-01        26.0   \n",
       "12     1002         -1  Стерлитамак  2018-06-17  smart 2018-08-01        42.0   \n",
       "\n",
       "    call_vol  mes_count  gb_used  revenue  \n",
       "8      430.0        0.0     18.0   1150.0  \n",
       "9      414.0        0.0     14.0    550.0  \n",
       "10     117.0        4.0     11.0    550.0  \n",
       "11     214.0       11.0     18.0   1150.0  \n",
       "12     289.0       13.0     20.0   1550.0  "
      ]
     },
     "execution_count": 72,
     "metadata": {},
     "output_type": "execute_result"
    }
   ],
   "source": [
    "# сохраним в переменную `smart` все данные о пользователях на тарифе «Смарт»\n",
    "smart = df_final.query('tariff == \"smart\"')\n",
    "smart.head()"
   ]
  },
  {
   "cell_type": "code",
   "execution_count": 73,
   "id": "c5d4b3a8",
   "metadata": {
    "scrolled": false
   },
   "outputs": [
    {
     "data": {
      "text/html": [
       "<div>\n",
       "<style scoped>\n",
       "    .dataframe tbody tr th:only-of-type {\n",
       "        vertical-align: middle;\n",
       "    }\n",
       "\n",
       "    .dataframe tbody tr th {\n",
       "        vertical-align: top;\n",
       "    }\n",
       "\n",
       "    .dataframe thead th {\n",
       "        text-align: right;\n",
       "    }\n",
       "</style>\n",
       "<table border=\"1\" class=\"dataframe\">\n",
       "  <thead>\n",
       "    <tr style=\"text-align: right;\">\n",
       "      <th></th>\n",
       "      <th>user_id</th>\n",
       "      <th>churn_date</th>\n",
       "      <th>city</th>\n",
       "      <th>reg_date</th>\n",
       "      <th>tariff</th>\n",
       "      <th>month</th>\n",
       "      <th>call_count</th>\n",
       "      <th>call_vol</th>\n",
       "      <th>mes_count</th>\n",
       "      <th>gb_used</th>\n",
       "      <th>revenue</th>\n",
       "    </tr>\n",
       "  </thead>\n",
       "  <tbody>\n",
       "    <tr>\n",
       "      <th>0</th>\n",
       "      <td>1000</td>\n",
       "      <td>-1</td>\n",
       "      <td>Краснодар</td>\n",
       "      <td>2018-05-25</td>\n",
       "      <td>ultra</td>\n",
       "      <td>2018-05-01</td>\n",
       "      <td>22.0</td>\n",
       "      <td>159.0</td>\n",
       "      <td>22.0</td>\n",
       "      <td>3.0</td>\n",
       "      <td>1950.0</td>\n",
       "    </tr>\n",
       "    <tr>\n",
       "      <th>1</th>\n",
       "      <td>1000</td>\n",
       "      <td>-1</td>\n",
       "      <td>Краснодар</td>\n",
       "      <td>2018-05-25</td>\n",
       "      <td>ultra</td>\n",
       "      <td>2018-06-01</td>\n",
       "      <td>43.0</td>\n",
       "      <td>172.0</td>\n",
       "      <td>60.0</td>\n",
       "      <td>23.0</td>\n",
       "      <td>1950.0</td>\n",
       "    </tr>\n",
       "    <tr>\n",
       "      <th>2</th>\n",
       "      <td>1000</td>\n",
       "      <td>-1</td>\n",
       "      <td>Краснодар</td>\n",
       "      <td>2018-05-25</td>\n",
       "      <td>ultra</td>\n",
       "      <td>2018-07-01</td>\n",
       "      <td>47.0</td>\n",
       "      <td>340.0</td>\n",
       "      <td>75.0</td>\n",
       "      <td>14.0</td>\n",
       "      <td>1950.0</td>\n",
       "    </tr>\n",
       "    <tr>\n",
       "      <th>3</th>\n",
       "      <td>1000</td>\n",
       "      <td>-1</td>\n",
       "      <td>Краснодар</td>\n",
       "      <td>2018-05-25</td>\n",
       "      <td>ultra</td>\n",
       "      <td>2018-08-01</td>\n",
       "      <td>52.0</td>\n",
       "      <td>408.0</td>\n",
       "      <td>81.0</td>\n",
       "      <td>14.0</td>\n",
       "      <td>1950.0</td>\n",
       "    </tr>\n",
       "    <tr>\n",
       "      <th>4</th>\n",
       "      <td>1000</td>\n",
       "      <td>-1</td>\n",
       "      <td>Краснодар</td>\n",
       "      <td>2018-05-25</td>\n",
       "      <td>ultra</td>\n",
       "      <td>2018-09-01</td>\n",
       "      <td>58.0</td>\n",
       "      <td>466.0</td>\n",
       "      <td>57.0</td>\n",
       "      <td>15.0</td>\n",
       "      <td>1950.0</td>\n",
       "    </tr>\n",
       "  </tbody>\n",
       "</table>\n",
       "</div>"
      ],
      "text/plain": [
       "   user_id churn_date       city    reg_date tariff      month  call_count  \\\n",
       "0     1000         -1  Краснодар  2018-05-25  ultra 2018-05-01        22.0   \n",
       "1     1000         -1  Краснодар  2018-05-25  ultra 2018-06-01        43.0   \n",
       "2     1000         -1  Краснодар  2018-05-25  ultra 2018-07-01        47.0   \n",
       "3     1000         -1  Краснодар  2018-05-25  ultra 2018-08-01        52.0   \n",
       "4     1000         -1  Краснодар  2018-05-25  ultra 2018-09-01        58.0   \n",
       "\n",
       "   call_vol  mes_count  gb_used  revenue  \n",
       "0     159.0       22.0      3.0   1950.0  \n",
       "1     172.0       60.0     23.0   1950.0  \n",
       "2     340.0       75.0     14.0   1950.0  \n",
       "3     408.0       81.0     14.0   1950.0  \n",
       "4     466.0       57.0     15.0   1950.0  "
      ]
     },
     "execution_count": 73,
     "metadata": {},
     "output_type": "execute_result"
    }
   ],
   "source": [
    "# сохраним в переменную `ultra` все данные о пользователях на тарифе «Ультра»\n",
    "ultra = df_final.query('tariff == \"ultra\"')\n",
    "ultra.head()"
   ]
  },
  {
   "cell_type": "code",
   "execution_count": 74,
   "id": "8e847ab4",
   "metadata": {},
   "outputs": [
    {
     "data": {
      "text/html": [
       "<div>\n",
       "<style scoped>\n",
       "    .dataframe tbody tr th:only-of-type {\n",
       "        vertical-align: middle;\n",
       "    }\n",
       "\n",
       "    .dataframe tbody tr th {\n",
       "        vertical-align: top;\n",
       "    }\n",
       "\n",
       "    .dataframe thead th {\n",
       "        text-align: right;\n",
       "    }\n",
       "</style>\n",
       "<table border=\"1\" class=\"dataframe\">\n",
       "  <thead>\n",
       "    <tr style=\"text-align: right;\">\n",
       "      <th></th>\n",
       "      <th>call_count</th>\n",
       "      <th>call_vol</th>\n",
       "      <th>mes_count</th>\n",
       "      <th>gb_used</th>\n",
       "      <th>revenue</th>\n",
       "    </tr>\n",
       "  </thead>\n",
       "  <tbody>\n",
       "    <tr>\n",
       "      <th>count</th>\n",
       "      <td>2229.000000</td>\n",
       "      <td>2229.000000</td>\n",
       "      <td>2229.000000</td>\n",
       "      <td>2229.000000</td>\n",
       "      <td>2229.000000</td>\n",
       "    </tr>\n",
       "    <tr>\n",
       "      <th>mean</th>\n",
       "      <td>58.463437</td>\n",
       "      <td>417.934948</td>\n",
       "      <td>33.384029</td>\n",
       "      <td>16.328847</td>\n",
       "      <td>1289.973531</td>\n",
       "    </tr>\n",
       "    <tr>\n",
       "      <th>std</th>\n",
       "      <td>25.939858</td>\n",
       "      <td>190.313730</td>\n",
       "      <td>28.227876</td>\n",
       "      <td>5.747061</td>\n",
       "      <td>818.404367</td>\n",
       "    </tr>\n",
       "    <tr>\n",
       "      <th>min</th>\n",
       "      <td>0.000000</td>\n",
       "      <td>0.000000</td>\n",
       "      <td>0.000000</td>\n",
       "      <td>0.000000</td>\n",
       "      <td>550.000000</td>\n",
       "    </tr>\n",
       "    <tr>\n",
       "      <th>25%</th>\n",
       "      <td>40.000000</td>\n",
       "      <td>282.000000</td>\n",
       "      <td>10.000000</td>\n",
       "      <td>13.000000</td>\n",
       "      <td>550.000000</td>\n",
       "    </tr>\n",
       "    <tr>\n",
       "      <th>50%</th>\n",
       "      <td>60.000000</td>\n",
       "      <td>422.000000</td>\n",
       "      <td>28.000000</td>\n",
       "      <td>17.000000</td>\n",
       "      <td>1023.000000</td>\n",
       "    </tr>\n",
       "    <tr>\n",
       "      <th>75%</th>\n",
       "      <td>76.000000</td>\n",
       "      <td>545.000000</td>\n",
       "      <td>51.000000</td>\n",
       "      <td>20.000000</td>\n",
       "      <td>1750.000000</td>\n",
       "    </tr>\n",
       "    <tr>\n",
       "      <th>max</th>\n",
       "      <td>198.000000</td>\n",
       "      <td>1435.000000</td>\n",
       "      <td>143.000000</td>\n",
       "      <td>38.000000</td>\n",
       "      <td>6770.000000</td>\n",
       "    </tr>\n",
       "  </tbody>\n",
       "</table>\n",
       "</div>"
      ],
      "text/plain": [
       "        call_count     call_vol    mes_count      gb_used      revenue\n",
       "count  2229.000000  2229.000000  2229.000000  2229.000000  2229.000000\n",
       "mean     58.463437   417.934948    33.384029    16.328847  1289.973531\n",
       "std      25.939858   190.313730    28.227876     5.747061   818.404367\n",
       "min       0.000000     0.000000     0.000000     0.000000   550.000000\n",
       "25%      40.000000   282.000000    10.000000    13.000000   550.000000\n",
       "50%      60.000000   422.000000    28.000000    17.000000  1023.000000\n",
       "75%      76.000000   545.000000    51.000000    20.000000  1750.000000\n",
       "max     198.000000  1435.000000   143.000000    38.000000  6770.000000"
      ]
     },
     "execution_count": 74,
     "metadata": {},
     "output_type": "execute_result"
    }
   ],
   "source": [
    "# посмотрим общую информацию о среднем трафике и выручке в месяц пользователей таблицы `smart`\n",
    "smart[['call_count', 'call_vol', 'mes_count', 'gb_used', 'revenue']].describe()"
   ]
  },
  {
   "cell_type": "markdown",
   "id": "dee6d4cf",
   "metadata": {},
   "source": [
    "Из таблицы видно, что в среднем пользователи тарифа «Смарт» не расходуют полностью пакеты минут и сообщений, включенных в тариф: 418 минут из 500 доступных и 33 сообщения из 50 доступных, при этом пакет интернета в среднем перерасходуется на 1,3 гигабайта. Также стоит отметить, что стандартное отклонение метрик достаточно велико."
   ]
  },
  {
   "cell_type": "code",
   "execution_count": 75,
   "id": "a755545e",
   "metadata": {},
   "outputs": [
    {
     "data": {
      "text/html": [
       "<div>\n",
       "<style scoped>\n",
       "    .dataframe tbody tr th:only-of-type {\n",
       "        vertical-align: middle;\n",
       "    }\n",
       "\n",
       "    .dataframe tbody tr th {\n",
       "        vertical-align: top;\n",
       "    }\n",
       "\n",
       "    .dataframe thead th {\n",
       "        text-align: right;\n",
       "    }\n",
       "</style>\n",
       "<table border=\"1\" class=\"dataframe\">\n",
       "  <thead>\n",
       "    <tr style=\"text-align: right;\">\n",
       "      <th></th>\n",
       "      <th>call_count</th>\n",
       "      <th>call_vol</th>\n",
       "      <th>mes_count</th>\n",
       "      <th>gb_used</th>\n",
       "      <th>revenue</th>\n",
       "    </tr>\n",
       "  </thead>\n",
       "  <tbody>\n",
       "    <tr>\n",
       "      <th>count</th>\n",
       "      <td>985.000000</td>\n",
       "      <td>985.000000</td>\n",
       "      <td>985.000000</td>\n",
       "      <td>985.000000</td>\n",
       "      <td>985.000000</td>\n",
       "    </tr>\n",
       "    <tr>\n",
       "      <th>mean</th>\n",
       "      <td>73.392893</td>\n",
       "      <td>526.623350</td>\n",
       "      <td>49.363452</td>\n",
       "      <td>19.494416</td>\n",
       "      <td>2070.152284</td>\n",
       "    </tr>\n",
       "    <tr>\n",
       "      <th>std</th>\n",
       "      <td>43.916853</td>\n",
       "      <td>317.606098</td>\n",
       "      <td>47.804457</td>\n",
       "      <td>9.853511</td>\n",
       "      <td>376.187114</td>\n",
       "    </tr>\n",
       "    <tr>\n",
       "      <th>min</th>\n",
       "      <td>0.000000</td>\n",
       "      <td>0.000000</td>\n",
       "      <td>0.000000</td>\n",
       "      <td>0.000000</td>\n",
       "      <td>1950.000000</td>\n",
       "    </tr>\n",
       "    <tr>\n",
       "      <th>25%</th>\n",
       "      <td>41.000000</td>\n",
       "      <td>284.000000</td>\n",
       "      <td>6.000000</td>\n",
       "      <td>12.000000</td>\n",
       "      <td>1950.000000</td>\n",
       "    </tr>\n",
       "    <tr>\n",
       "      <th>50%</th>\n",
       "      <td>74.000000</td>\n",
       "      <td>518.000000</td>\n",
       "      <td>38.000000</td>\n",
       "      <td>19.000000</td>\n",
       "      <td>1950.000000</td>\n",
       "    </tr>\n",
       "    <tr>\n",
       "      <th>75%</th>\n",
       "      <td>104.000000</td>\n",
       "      <td>752.000000</td>\n",
       "      <td>79.000000</td>\n",
       "      <td>27.000000</td>\n",
       "      <td>1950.000000</td>\n",
       "    </tr>\n",
       "    <tr>\n",
       "      <th>max</th>\n",
       "      <td>244.000000</td>\n",
       "      <td>1673.000000</td>\n",
       "      <td>224.000000</td>\n",
       "      <td>49.000000</td>\n",
       "      <td>4800.000000</td>\n",
       "    </tr>\n",
       "  </tbody>\n",
       "</table>\n",
       "</div>"
      ],
      "text/plain": [
       "       call_count     call_vol   mes_count     gb_used      revenue\n",
       "count  985.000000   985.000000  985.000000  985.000000   985.000000\n",
       "mean    73.392893   526.623350   49.363452   19.494416  2070.152284\n",
       "std     43.916853   317.606098   47.804457    9.853511   376.187114\n",
       "min      0.000000     0.000000    0.000000    0.000000  1950.000000\n",
       "25%     41.000000   284.000000    6.000000   12.000000  1950.000000\n",
       "50%     74.000000   518.000000   38.000000   19.000000  1950.000000\n",
       "75%    104.000000   752.000000   79.000000   27.000000  1950.000000\n",
       "max    244.000000  1673.000000  224.000000   49.000000  4800.000000"
      ]
     },
     "execution_count": 75,
     "metadata": {},
     "output_type": "execute_result"
    }
   ],
   "source": [
    "# посмотрим общую информацию о среднем трафике и выручке в месяц пользователей таблицы `ultra`\n",
    "ultra[['call_count', 'call_vol', 'mes_count', 'gb_used', 'revenue']].describe()"
   ]
  },
  {
   "cell_type": "markdown",
   "id": "c5d707db",
   "metadata": {},
   "source": [
    "Из таблицы видно, что в среднем пользователи тарифа «Ультра» не расходуют полностью никакие пакеты, включенные в тариф: 527 минут из 3000 доступных, 49 сообщения из 1000 доступных и 19.5 гигабайт из 30 доступных. Также стоит отметить, что стандартное отклонение для метрик достаточно велико."
   ]
  },
  {
   "cell_type": "markdown",
   "id": "8b252a6f",
   "metadata": {},
   "source": [
    "### Анализ голосового трафика пользователей"
   ]
  },
  {
   "cell_type": "markdown",
   "id": "5b4b9a79",
   "metadata": {},
   "source": [
    "Построим гистограмму частот распределения объёмов минут по пользователям тарифного плана «Смарт», исключив из расчёта значение 0 минут, так как в документации указано, что это пропущенные звонки."
   ]
  },
  {
   "cell_type": "code",
   "execution_count": 76,
   "id": "f95f23d7",
   "metadata": {},
   "outputs": [
    {
     "data": {
      "image/png": "[encoded data removed]",
      "text/plain": [
       "<Figure size 576x360 with 1 Axes>"
      ]
     },
     "metadata": {
      "needs_background": "light"
     },
     "output_type": "display_data"
    }
   ],
   "source": [
    "buildHist(smart['call_vol'], 'Объём минут', 'Распределение объёмов минут тарифа «Смарт»')"
   ]
  },
  {
   "cell_type": "markdown",
   "id": "16862abc",
   "metadata": {},
   "source": [
    "Распределение нормальное, большинство пользователей тарифа «Смарт» расходуют порядка 500 минут."
   ]
  },
  {
   "cell_type": "markdown",
   "id": "19f633b4",
   "metadata": {},
   "source": [
    "Построим гистограмму частот распределения объёмов минут по пользователям тарифного плана «Ультра», исключив из расчёта значение 0 минут, так как в документации указано, что это пропущенные звонки."
   ]
  },
  {
   "cell_type": "code",
   "execution_count": 77,
   "id": "466358d7",
   "metadata": {},
   "outputs": [
    {
     "data": {
      "image/png": "[encoded data removed]",
      "text/plain": [
       "<Figure size 576x360 with 1 Axes>"
      ]
     },
     "metadata": {
      "needs_background": "light"
     },
     "output_type": "display_data"
    }
   ],
   "source": [
    "buildHist(ultra['call_vol'], 'Объём минут', 'Распределение объёмов минут тарифа «Ультра»')"
   ]
  },
  {
   "cell_type": "markdown",
   "id": "a3b669d0",
   "metadata": {},
   "source": [
    "Распределение также нормальное, большинство пользователей тарифа «Ультра» расходуют порядка 600 минут."
   ]
  },
  {
   "cell_type": "markdown",
   "id": "d15d3bec",
   "metadata": {},
   "source": [
    "Сравним распределение метрик двух тарифов."
   ]
  },
  {
   "cell_type": "code",
   "execution_count": 78,
   "id": "0fcee438",
   "metadata": {},
   "outputs": [
    {
     "data": {
      "image/png": "[encoded data removed]",
      "text/plain": [
       "<Figure size 720x360 with 1 Axes>"
      ]
     },
     "metadata": {
      "needs_background": "light"
     },
     "output_type": "display_data"
    }
   ],
   "source": [
    "ax = ultra.plot(\n",
    "    kind='hist',\n",
    "    y='call_vol',\n",
    "    histtype='step',\n",
    "    range=(0, 1200),\n",
    "    bins=15,\n",
    "    linewidth=5,\n",
    "    alpha=0.7,\n",
    "    label='vol_min_ultra',\n",
    "    figsize=(10,5)\n",
    ")\n",
    "smart.plot(\n",
    "    kind='hist',\n",
    "    y='call_vol',\n",
    "    histtype='step',\n",
    "    range=(0, 1200),\n",
    "    bins=15,\n",
    "    linewidth=5,\n",
    "    alpha=0.7,\n",
    "    label='vol_min_smart',\n",
    "    ax=ax,\n",
    "    grid=True,\n",
    "    legend=True,\n",
    "    figsize=(10,5)\n",
    ");"
   ]
  },
  {
   "cell_type": "markdown",
   "id": "73c6f2a3",
   "metadata": {},
   "source": [
    "На данном графике видно, что пользователей тарифа «Смарт» гораздо больше, чем тарифа «Ультра» и распределение объёма минут тарифа «Ультра» имеет более равномерную частоту, то есть количество пользователей, которые расходуют 200, 500 и 800 минут отличается не очень сильно. В то время как на тарифе «Смарт» большинство пользователей расходуют около 500 минут по тарифу."
   ]
  },
  {
   "cell_type": "code",
   "execution_count": 79,
   "id": "791d0a89",
   "metadata": {},
   "outputs": [
    {
     "name": "stdout",
     "output_type": "stream",
     "text": [
      "Средний объём минут в месяц на тарифе \"Смарт\": 417.9349484073576\n",
      "Средний объём минут в месяц на тарифе \"Ультра\": 526.6233502538071\n"
     ]
    }
   ],
   "source": [
    "# среднее значение объёма минут в месяц по тарифам\n",
    "print('Средний объём минут в месяц на тарифе \"Смарт\":', smart['call_vol'].mean())\n",
    "print('Средний объём минут в месяц на тарифе \"Ультра\":', ultra['call_vol'].mean())"
   ]
  },
  {
   "cell_type": "markdown",
   "id": "50e5a3c0",
   "metadata": {},
   "source": [
    "**Выводы**\n",
    "\n",
    "На данном этапе мы проанализировали сколько минут разговора требуется пользователям каждого тарифа в месяц: 419 минут на тарифе «Смарт»  и 525 минут на тарифе «Ультра», стандартное отклонение достаточно большое, что означает широкий разброс значений по данной метрике. Распределение количества минут нормальное, бОльшее количество пользователей тарифа «Смарт» расходуют порядка 400 минут в месяц, тарифа «Ультра» - 500 минут в месяц."
   ]
  },
  {
   "cell_type": "markdown",
   "id": "e0ea6ac6",
   "metadata": {},
   "source": [
    "### Анализ количества сообщений пользователей"
   ]
  },
  {
   "cell_type": "markdown",
   "id": "6b43ac53",
   "metadata": {},
   "source": [
    "Построим гистограмму частот распределения объёмов сообщений по пользователям тарифного плана «Смарт»."
   ]
  },
  {
   "cell_type": "code",
   "execution_count": 80,
   "id": "d9471976",
   "metadata": {},
   "outputs": [
    {
     "data": {
      "image/png": "[encoded data removed]",
      "text/plain": [
       "<Figure size 576x360 with 1 Axes>"
      ]
     },
     "metadata": {
      "needs_background": "light"
     },
     "output_type": "display_data"
    }
   ],
   "source": [
    "buildHist(smart['mes_count'], 'Объём сообщений', 'Распределение объёмов сообщений тарифа «Смарт»')"
   ]
  },
  {
   "cell_type": "markdown",
   "id": "9844f140",
   "metadata": {},
   "source": [
    "Распределение Пуассоновское, большинство пользователей тарифа «Смарт» расходуют порядка 10 сообщений."
   ]
  },
  {
   "cell_type": "markdown",
   "id": "09a4baaf",
   "metadata": {},
   "source": [
    "Построим гистограмму частот распределения объёмов сообщений по пользователям тарифного плана «Ультра»."
   ]
  },
  {
   "cell_type": "code",
   "execution_count": 81,
   "id": "f2d52fa6",
   "metadata": {},
   "outputs": [
    {
     "data": {
      "image/png": "[encoded data removed]",
      "text/plain": [
       "<Figure size 576x360 with 1 Axes>"
      ]
     },
     "metadata": {
      "needs_background": "light"
     },
     "output_type": "display_data"
    }
   ],
   "source": [
    "buildHist(ultra['mes_count'], 'Объём сообщений', 'Распределение объёмов сообщений тарифа «Ультра»')"
   ]
  },
  {
   "cell_type": "markdown",
   "id": "058ef8fb",
   "metadata": {},
   "source": [
    "Распределение также Пуассоновское, большинство пользователей тарифа «Ультра» расходуют порядка 20 сообщений."
   ]
  },
  {
   "cell_type": "markdown",
   "id": "5736ccfb",
   "metadata": {},
   "source": [
    "Сравним распределение метрик двух тарифов."
   ]
  },
  {
   "cell_type": "code",
   "execution_count": 82,
   "id": "12b3e663",
   "metadata": {},
   "outputs": [
    {
     "data": {
      "image/png": "[encoded data removed]",
      "text/plain": [
       "<Figure size 720x360 with 1 Axes>"
      ]
     },
     "metadata": {
      "needs_background": "light"
     },
     "output_type": "display_data"
    }
   ],
   "source": [
    "ax = ultra.plot(\n",
    "    kind='hist',\n",
    "    y='mes_count',\n",
    "    histtype='step',\n",
    "    range=(0, 200),\n",
    "    bins=15,\n",
    "    linewidth=5,\n",
    "    alpha=0.7,\n",
    "    label='vol_mes_ultra',\n",
    "    figsize=(10,5)\n",
    ")\n",
    "smart.plot(\n",
    "    kind='hist',\n",
    "    y='mes_count',\n",
    "    histtype='step',\n",
    "    range=(0, 200),\n",
    "    bins=15,\n",
    "    linewidth=5,\n",
    "    alpha=0.7,\n",
    "    label='vol_mes_smart',\n",
    "    ax=ax,\n",
    "    grid=True,\n",
    "    legend=True,\n",
    "    figsize=(10,5)\n",
    ");"
   ]
  },
  {
   "cell_type": "markdown",
   "id": "cfd37f39",
   "metadata": {},
   "source": [
    "На данном графике также видно, что пользователей тарифа «Смарт» гораздо больше, чем тарифа «Ультра» и распределение объёма сообщений тарифа «Ультра» имеет более равномерную частоту. В то время как на тарифе «Смарт» большинство пользователей расходуют около 10 сообщений по тарифу."
   ]
  },
  {
   "cell_type": "code",
   "execution_count": 83,
   "id": "25244d06",
   "metadata": {},
   "outputs": [
    {
     "name": "stdout",
     "output_type": "stream",
     "text": [
      "Средний объём минут в месяц на тарифе \"Смарт\": 33.384028712427096\n",
      "Средний объём минут в месяц на тарифе \"Ультра\": 49.36345177664975\n"
     ]
    }
   ],
   "source": [
    "# среднее значение объёма сообщений в месяц по тарифам\n",
    "print('Средний объём минут в месяц на тарифе \"Смарт\":', smart['mes_count'].mean())\n",
    "print('Средний объём минут в месяц на тарифе \"Ультра\":', ultra['mes_count'].mean())"
   ]
  },
  {
   "cell_type": "markdown",
   "id": "5ada219d",
   "metadata": {},
   "source": [
    "**Выводы**\n",
    "\n",
    "На данном этапе мы проанализировали сколько сообщений требуется пользователям каждого тарифа в месяц: 32 шт. на тарифе «Смарт» и 54 шт. на тарифе «Ультра», стандартное отклонение достаточно большое, что означает широкий разброс значений по данной метрике. Распределение количества сообщений Пуассоновское, бОльшее количество пользователей тарифа «Смарт» расходуют порядка 10 сообщений в месяц, тарифа «Ультра» - 20 сообщений в месяц."
   ]
  },
  {
   "cell_type": "markdown",
   "id": "1ce0ff9a",
   "metadata": {},
   "source": [
    "### Анализ интернет-трафика пользователей"
   ]
  },
  {
   "cell_type": "markdown",
   "id": "25224089",
   "metadata": {},
   "source": [
    "Построим гистограмму частот распределения объёмов интернет-трафика по пользователям тарифного плана «Смарт»."
   ]
  },
  {
   "cell_type": "code",
   "execution_count": 84,
   "id": "11f4feac",
   "metadata": {},
   "outputs": [
    {
     "data": {
      "image/png": "[encoded data removed]",
      "text/plain": [
       "<Figure size 576x360 with 1 Axes>"
      ]
     },
     "metadata": {
      "needs_background": "light"
     },
     "output_type": "display_data"
    }
   ],
   "source": [
    "buildHist(smart['gb_used'], 'Объём интернет-трафика', 'Распределение объёмов интернет-трафика тарифа «Смарт»')"
   ]
  },
  {
   "cell_type": "markdown",
   "id": "a73e2862",
   "metadata": {},
   "source": [
    "Распределение нормальное, большинство пользователей тарифа «Смарт» расходуют порядка 19 гигабайт, при этом заметим, что небольшая часть пользователей вообще не пользуется интернетов на данном тарифе."
   ]
  },
  {
   "cell_type": "markdown",
   "id": "e94da9fe",
   "metadata": {},
   "source": [
    "Построим гистограмму частот распределения объёмов интернет-трафика по пользователям тарифного плана «Ультра»."
   ]
  },
  {
   "cell_type": "code",
   "execution_count": 85,
   "id": "3f04ae63",
   "metadata": {},
   "outputs": [
    {
     "data": {
      "image/png": "[encoded data removed]",
      "text/plain": [
       "<Figure size 576x360 with 1 Axes>"
      ]
     },
     "metadata": {
      "needs_background": "light"
     },
     "output_type": "display_data"
    }
   ],
   "source": [
    "buildHist(ultra['gb_used'], 'Объём интернет-трафика', 'Распределение объёмов интернет-трафика тарифа «Ультра»')"
   ]
  },
  {
   "cell_type": "markdown",
   "id": "487bd133",
   "metadata": {},
   "source": [
    "Распределение также нормальное, большинство пользователей тарифа «Ультра» расходуют порядка 18 гигабайт."
   ]
  },
  {
   "cell_type": "markdown",
   "id": "0d649c94",
   "metadata": {},
   "source": [
    "Сравним распределение метрик двух тарифов."
   ]
  },
  {
   "cell_type": "code",
   "execution_count": 86,
   "id": "e8a9d39b",
   "metadata": {},
   "outputs": [
    {
     "data": {
      "image/png": "[encoded data removed]",
      "text/plain": [
       "<Figure size 720x360 with 1 Axes>"
      ]
     },
     "metadata": {
      "needs_background": "light"
     },
     "output_type": "display_data"
    }
   ],
   "source": [
    "ax = ultra.plot(\n",
    "    kind='hist',\n",
    "    y='gb_used',\n",
    "    histtype='step',\n",
    "    range=(0, 40),\n",
    "    bins=15,\n",
    "    linewidth=5,\n",
    "    alpha=0.7,\n",
    "    label='vol_int_ultra',\n",
    "    figsize=(10,5)\n",
    ")\n",
    "smart.plot(\n",
    "    kind='hist',\n",
    "    y='gb_used',\n",
    "    histtype='step',\n",
    "    range=(0, 40),\n",
    "    bins=15,\n",
    "    linewidth=5,\n",
    "    alpha=0.7,\n",
    "    label='vol_int_smart',\n",
    "    ax=ax,\n",
    "    grid=True,\n",
    "    legend=True,\n",
    "    figsize=(10,5)\n",
    ");"
   ]
  },
  {
   "cell_type": "markdown",
   "id": "41784148",
   "metadata": {},
   "source": [
    "На данном графике также видно, что пользователей тарифа «Смарт» гораздо больше, чем тарифа «Ультра» и распределение объёма интернет-трафика тарифа «Ультра» имеет более равномерную частоту с небольшим пиком 18 гигабайт. В то время как на тарифе «Смарт» большинство пользователей расходуют около 19 гигабайт по тарифу."
   ]
  },
  {
   "cell_type": "code",
   "execution_count": 87,
   "id": "5f836055",
   "metadata": {},
   "outputs": [
    {
     "name": "stdout",
     "output_type": "stream",
     "text": [
      "Средний объём минут в месяц на тарифе \"Смарт\": 16.328847016599372\n",
      "Средний объём минут в месяц на тарифе \"Ультра\": 19.494416243654822\n"
     ]
    }
   ],
   "source": [
    "# среднее значение объёма интернет-трафика в месяц по тарифам\n",
    "print('Средний объём минут в месяц на тарифе \"Смарт\":', smart['gb_used'].mean())\n",
    "print('Средний объём минут в месяц на тарифе \"Ультра\":', ultra['gb_used'].mean())"
   ]
  },
  {
   "cell_type": "markdown",
   "id": "5bd951c2",
   "metadata": {},
   "source": [
    "**Выводы**\n",
    "\n",
    "На данном этапе мы проанализировали сколько интернет-трафика требуется пользователям каждого тарифа в месяц: 17 гигабайт на тарифе «Смарт» и 20 гигабайт на тарифе «Ультра», стандартное отклонение достаточно большое, что означает широкий разброс значений по данной метрике. Распределение объёма интернет-трафика нормальное, бОльшее количество пользователей тарифа «Смарт» расходуют порядка 19 гигабайт в месяц, тарифа «Ультра» - 18 гигабайт в месяц."
   ]
  },
  {
   "cell_type": "markdown",
   "id": "34273636",
   "metadata": {},
   "source": [
    "### Анализ выручки пользователей"
   ]
  },
  {
   "cell_type": "markdown",
   "id": "da07ff40",
   "metadata": {},
   "source": [
    "Построим гистограмму частот распределения размера выручки по пользователям тарифного плана «Смарт»."
   ]
  },
  {
   "cell_type": "code",
   "execution_count": 88,
   "id": "b93c4c5d",
   "metadata": {},
   "outputs": [
    {
     "data": {
      "image/png": "[encoded data removed]",
      "text/plain": [
       "<Figure size 576x360 with 1 Axes>"
      ]
     },
     "metadata": {
      "needs_background": "light"
     },
     "output_type": "display_data"
    }
   ],
   "source": [
    "buildHist(smart['revenue'], 'Размер выручки', 'Распределение размера выручки тарифа «Смарт»')"
   ]
  },
  {
   "cell_type": "markdown",
   "id": "b242dea1",
   "metadata": {},
   "source": [
    "Распределение Пуассоновское, большинство пользователей тарифа «Смарт» расходуют в порядка 700 руб. в месяц."
   ]
  },
  {
   "cell_type": "markdown",
   "id": "d3ce735f",
   "metadata": {},
   "source": [
    "Построим гистограмму частот распределения размера выручки по пользователям тарифного плана «Ультра»."
   ]
  },
  {
   "cell_type": "code",
   "execution_count": 89,
   "id": "e9464724",
   "metadata": {},
   "outputs": [
    {
     "data": {
      "image/png": "[encoded data removed]",
      "text/plain": [
       "<Figure size 576x360 with 1 Axes>"
      ]
     },
     "metadata": {
      "needs_background": "light"
     },
     "output_type": "display_data"
    }
   ],
   "source": [
    "buildHist(ultra['revenue'], 'Объём выручки', 'Распределение размера выручки тарифа «Ультра»')"
   ]
  },
  {
   "cell_type": "markdown",
   "id": "2e48351d",
   "metadata": {},
   "source": [
    "Распределение также тяготеет к Пуассоновскому, большинство пользователей тарифа «Ультра» расходуют порядка 2000руб. в месяц."
   ]
  },
  {
   "cell_type": "markdown",
   "id": "6d5887a0",
   "metadata": {},
   "source": [
    "Сравним распределение метрик двух тарифов."
   ]
  },
  {
   "cell_type": "code",
   "execution_count": 90,
   "id": "3ceeb7bb",
   "metadata": {},
   "outputs": [
    {
     "data": {
      "image/png": "[encoded data removed]",
      "text/plain": [
       "<Figure size 720x360 with 1 Axes>"
      ]
     },
     "metadata": {
      "needs_background": "light"
     },
     "output_type": "display_data"
    }
   ],
   "source": [
    "ax = ultra.plot(\n",
    "    kind='hist',\n",
    "    y='revenue',\n",
    "    histtype='step',\n",
    "    range=(0, 3300),\n",
    "    bins=15,\n",
    "    linewidth=5,\n",
    "    alpha=0.7,\n",
    "    label='revenue_ultra',\n",
    "    figsize=(10,5)\n",
    ")\n",
    "smart.plot(\n",
    "    kind='hist',\n",
    "    y='revenue',\n",
    "    histtype='step',\n",
    "    range=(0, 3300),\n",
    "    bins=15,\n",
    "    linewidth=5,\n",
    "    alpha=0.7,\n",
    "    label='revenue_smart',\n",
    "    ax=ax,\n",
    "    grid=True,\n",
    "    legend=True,\n",
    "    figsize=(10,5)\n",
    ");"
   ]
  },
  {
   "cell_type": "markdown",
   "id": "de56826b",
   "metadata": {},
   "source": [
    "На данном графике видно, что почти все пользователи тарифа «Ультра» приносят выручку в размере 2000руб. и их количество даже больше, чем количество пользователей тарифа «Смарт» приносящих самую частотную выручку на этом тарифе - 700руб."
   ]
  },
  {
   "cell_type": "code",
   "execution_count": 91,
   "id": "9bd2be9c",
   "metadata": {},
   "outputs": [
    {
     "name": "stdout",
     "output_type": "stream",
     "text": [
      "Средняя выручка в месяц на тарифе \"Смарт\": 1289.9735307312696\n",
      "Средняя выручка в месяц на тарифе \"Ультра\": 2070.1522842639592\n"
     ]
    }
   ],
   "source": [
    "# среднее значение выручки в месяц по тарифам\n",
    "print('Средняя выручка в месяц на тарифе \"Смарт\":', smart['revenue'].mean())\n",
    "print('Средняя выручка в месяц на тарифе \"Ультра\":', ultra['revenue'].mean())"
   ]
  },
  {
   "cell_type": "markdown",
   "id": "0418a2a2",
   "metadata": {},
   "source": [
    "**Выводы**\n",
    "\n",
    "На данном этапе мы проанализировали выручку пользователей каждого тарифа в месяц: 1044 руб. на тарифе «Смарт» и 2011 руб. на тарифе «Ультра». Распределение выручки пользователей тяготеет к Пуассоновскому, бОльшее количество пользователей тарифа «Смарт» приносят выручку порядка 700 руб. в месяц, почти все пользователи тарифа «Ультра» - 2000 руб. в месяц."
   ]
  },
  {
   "cell_type": "markdown",
   "id": "f59b229d",
   "metadata": {},
   "source": [
    "### Выводы"
   ]
  },
  {
   "cell_type": "markdown",
   "id": "f8d5ea88",
   "metadata": {},
   "source": [
    "На данном этапе мы проанализировали сколько минут разговора, сообщений и какой объём интернет-трафика требуется пользователям каждого тарифа в месяц. Посчитали среднее количество и стандартное отклонение, посмотрели минимальные и максимальные значения. Построли гистограммы и описали распределения метрик."
   ]
  },
  {
   "cell_type": "markdown",
   "id": "c5726ad7",
   "metadata": {},
   "source": [
    "## Проверка гипотез"
   ]
  },
  {
   "cell_type": "markdown",
   "id": "ef39ab18",
   "metadata": {},
   "source": [
    "### Cредняя выручка пользователей тарифов «Ультра» и «Смарт» различаются"
   ]
  },
  {
   "cell_type": "markdown",
   "id": "9c8001d6",
   "metadata": {},
   "source": [
    "Сформулируем нулевую и альтернативную гипотезы:\n",
    "* H0: Cредняя выручка пользователей тарифа «Ультра» равна средней выручке тарифа «Смарт»;\n",
    "* H1: Cредняя выручка пользователей тарифа «Ультра» не равна средней выручке тарифа «Смарт»."
   ]
  },
  {
   "cell_type": "markdown",
   "id": "4ad70d0e",
   "metadata": {},
   "source": [
    "Используем метод scipy.stats.ttest_ind (array1, array2,equal_var), проверим размер выборок пользователей тарифов «Ультра» и «Смарт» и дисперсии выручки на тарифах для того чтобы принять решение о значении параметра equal_var."
   ]
  },
  {
   "cell_type": "code",
   "execution_count": 92,
   "id": "ea4bb3e1",
   "metadata": {},
   "outputs": [
    {
     "name": "stdout",
     "output_type": "stream",
     "text": [
      "Размер выборки пользователей тарифов «Ультра»: 985\n",
      "Размер выборки пользователей тарифов «Смарт»: 2229\n"
     ]
    }
   ],
   "source": [
    "print('Размер выборки пользователей тарифов «Ультра»:', len(ultra['user_id']))\n",
    "print('Размер выборки пользователей тарифов «Смарт»:', len(smart['user_id']))"
   ]
  },
  {
   "cell_type": "code",
   "execution_count": 93,
   "id": "4339eec1",
   "metadata": {},
   "outputs": [
    {
     "name": "stdout",
     "output_type": "stream",
     "text": [
      "Дисперсия выручки тарифа «Ультра»: 141516.745078617\n",
      "Дисперсия выручки тарифа «Смарт»: 669785.7080064153\n"
     ]
    }
   ],
   "source": [
    "# установим ddof=1, так как в нашем датасете только часть пользователей исследуемых тарифных планов\n",
    "variance_estimate_ultra = np.var(ultra['revenue'], ddof=1)\n",
    "variance_estimate_smart = np.var(smart['revenue'], ddof=1)\n",
    "print('Дисперсия выручки тарифа «Ультра»:', variance_estimate_ultra)\n",
    "print('Дисперсия выручки тарифа «Смарт»:', variance_estimate_smart)"
   ]
  },
  {
   "cell_type": "markdown",
   "id": "fb9a51c9",
   "metadata": {},
   "source": [
    "Так как размеры выборок разные и дисперсии не равны, устанавливаем значение параметра equal_var = False."
   ]
  },
  {
   "cell_type": "code",
   "execution_count": 94,
   "id": "b6f37171",
   "metadata": {},
   "outputs": [
    {
     "name": "stdout",
     "output_type": "stream",
     "text": [
      "p-значение:  4.2606313931076085e-250\n",
      "Отвергаем нулевую гипотезу\n"
     ]
    }
   ],
   "source": [
    "# проверка гипотезы\n",
    "# зададим критический уровень статистической значимости, если p-value окажется меньше него - отвегнем гипотезу\n",
    "alpha = .01\n",
    "\n",
    "results = st.ttest_ind(\n",
    "    ultra['revenue'], \n",
    "    smart['revenue'],\n",
    "    equal_var = False\n",
    ")\n",
    "\n",
    "print('p-значение: ', results.pvalue)\n",
    "\n",
    "if results.pvalue < alpha:\n",
    "    print(\"Отвергаем нулевую гипотезу\")\n",
    "else:\n",
    "    print(\"Не получилось отвергнуть нулевую гипотезу\")"
   ]
  },
  {
   "cell_type": "markdown",
   "id": "aee2de1f",
   "metadata": {},
   "source": [
    "Отклоняем нулевую гипотезу в пользу альтернативной = Cредняя выручка пользователей тарифа «Ультра» не равна средней выручке тарифа «Смарт»."
   ]
  },
  {
   "cell_type": "markdown",
   "id": "66555661",
   "metadata": {},
   "source": [
    "Однако, чтобы понять какой из двух тарифных планов («Смарт» или «Ультра») приносит компании «Мегалайн» больше денег не достаточно проверить только равенство или неравенство, необходимос также узнать выручка от какого тарифа больше.\n",
    "\n",
    "Сформулируем нулевую и альтернативную гипотезы:\n",
    "* H0: Cредняя выручка тарифа «Смарт» равна 2011 руб. (размер средней выручки тарифа «Ультра»);\n",
    "* H1: Cредняя выручка тарифа «Смарт» меньше 2011 руб. (размер средней выручки тарифа «Ультра»)."
   ]
  },
  {
   "cell_type": "code",
   "execution_count": 95,
   "id": "caa4e205",
   "metadata": {},
   "outputs": [
    {
     "name": "stdout",
     "output_type": "stream",
     "text": [
      "p-значение: 1.2050177943521484e-280\n",
      "Отвергаем нулевую гипотезу\n"
     ]
    }
   ],
   "source": [
    "prev_screens_value = 2011\n",
    "\n",
    "alpha = .05 # уровень статистической значимости\n",
    "\n",
    "results = st.ttest_1samp(\n",
    "    smart['revenue'], \n",
    "    prev_screens_value)\n",
    "\n",
    "# тест односторонний: p-value будет в два раза меньше\n",
    "print('p-значение:', results.pvalue / 2)\n",
    "\n",
    "# тест односторонний влево:\n",
    "# отвергаем гипотезу только тогда, когда выборочное среднее значимо меньше предполагаемого значения\n",
    "if (results.pvalue / 2 < alpha) and (smart['revenue'].mean() < prev_screens_value):\n",
    "    print(\"Отвергаем нулевую гипотезу\")\n",
    "else:\n",
    "    print(\"Не отвергаем нулевую гипотезу\")"
   ]
  },
  {
   "cell_type": "markdown",
   "id": "dc74eb3a",
   "metadata": {},
   "source": [
    "Отклоняем нулевую гипотезу в пользу альтернативной = Cредняя выручка тарифа «Смарт» меньше 2011 руб. (размер средней выручки тарифа «Ультра»)."
   ]
  },
  {
   "cell_type": "markdown",
   "id": "3d9d9648",
   "metadata": {},
   "source": [
    "**Выводы**\n",
    "\n",
    "Гипотеза Cредняя выручка пользователей тарифов «Ультра» и «Смарт» различаются подтвердилась, при этом средняя выручка тарифного плана «Смарт» меньше, чем средняя выручка тарифного плана «Ультра»."
   ]
  },
  {
   "cell_type": "markdown",
   "id": "75aa1714",
   "metadata": {},
   "source": [
    "### Cредняя выручка пользователей из Москвы отличается от выручки пользователей из других регионов"
   ]
  },
  {
   "cell_type": "markdown",
   "id": "7faee83b",
   "metadata": {},
   "source": [
    "Для того чтобы проверить данную гипотезу сохраним в отдельные переменные данные пользователей из Москвы и из других регионов."
   ]
  },
  {
   "cell_type": "code",
   "execution_count": 96,
   "id": "4cfe2bb1",
   "metadata": {},
   "outputs": [
    {
     "data": {
      "text/html": [
       "<div>\n",
       "<style scoped>\n",
       "    .dataframe tbody tr th:only-of-type {\n",
       "        vertical-align: middle;\n",
       "    }\n",
       "\n",
       "    .dataframe tbody tr th {\n",
       "        vertical-align: top;\n",
       "    }\n",
       "\n",
       "    .dataframe thead th {\n",
       "        text-align: right;\n",
       "    }\n",
       "</style>\n",
       "<table border=\"1\" class=\"dataframe\">\n",
       "  <thead>\n",
       "    <tr style=\"text-align: right;\">\n",
       "      <th></th>\n",
       "      <th>user_id</th>\n",
       "      <th>churn_date</th>\n",
       "      <th>city</th>\n",
       "      <th>reg_date</th>\n",
       "      <th>tariff</th>\n",
       "      <th>month</th>\n",
       "      <th>call_count</th>\n",
       "      <th>call_vol</th>\n",
       "      <th>mes_count</th>\n",
       "      <th>gb_used</th>\n",
       "      <th>revenue</th>\n",
       "    </tr>\n",
       "  </thead>\n",
       "  <tbody>\n",
       "    <tr>\n",
       "      <th>0</th>\n",
       "      <td>1000</td>\n",
       "      <td>-1</td>\n",
       "      <td>Краснодар</td>\n",
       "      <td>2018-05-25</td>\n",
       "      <td>ultra</td>\n",
       "      <td>2018-05-01</td>\n",
       "      <td>22.0</td>\n",
       "      <td>159.0</td>\n",
       "      <td>22.0</td>\n",
       "      <td>3.0</td>\n",
       "      <td>1950.0</td>\n",
       "    </tr>\n",
       "    <tr>\n",
       "      <th>1</th>\n",
       "      <td>1000</td>\n",
       "      <td>-1</td>\n",
       "      <td>Краснодар</td>\n",
       "      <td>2018-05-25</td>\n",
       "      <td>ultra</td>\n",
       "      <td>2018-06-01</td>\n",
       "      <td>43.0</td>\n",
       "      <td>172.0</td>\n",
       "      <td>60.0</td>\n",
       "      <td>23.0</td>\n",
       "      <td>1950.0</td>\n",
       "    </tr>\n",
       "    <tr>\n",
       "      <th>2</th>\n",
       "      <td>1000</td>\n",
       "      <td>-1</td>\n",
       "      <td>Краснодар</td>\n",
       "      <td>2018-05-25</td>\n",
       "      <td>ultra</td>\n",
       "      <td>2018-07-01</td>\n",
       "      <td>47.0</td>\n",
       "      <td>340.0</td>\n",
       "      <td>75.0</td>\n",
       "      <td>14.0</td>\n",
       "      <td>1950.0</td>\n",
       "    </tr>\n",
       "    <tr>\n",
       "      <th>3</th>\n",
       "      <td>1000</td>\n",
       "      <td>-1</td>\n",
       "      <td>Краснодар</td>\n",
       "      <td>2018-05-25</td>\n",
       "      <td>ultra</td>\n",
       "      <td>2018-08-01</td>\n",
       "      <td>52.0</td>\n",
       "      <td>408.0</td>\n",
       "      <td>81.0</td>\n",
       "      <td>14.0</td>\n",
       "      <td>1950.0</td>\n",
       "    </tr>\n",
       "    <tr>\n",
       "      <th>4</th>\n",
       "      <td>1000</td>\n",
       "      <td>-1</td>\n",
       "      <td>Краснодар</td>\n",
       "      <td>2018-05-25</td>\n",
       "      <td>ultra</td>\n",
       "      <td>2018-09-01</td>\n",
       "      <td>58.0</td>\n",
       "      <td>466.0</td>\n",
       "      <td>57.0</td>\n",
       "      <td>15.0</td>\n",
       "      <td>1950.0</td>\n",
       "    </tr>\n",
       "  </tbody>\n",
       "</table>\n",
       "</div>"
      ],
      "text/plain": [
       "   user_id churn_date       city    reg_date tariff      month  call_count  \\\n",
       "0     1000         -1  Краснодар  2018-05-25  ultra 2018-05-01        22.0   \n",
       "1     1000         -1  Краснодар  2018-05-25  ultra 2018-06-01        43.0   \n",
       "2     1000         -1  Краснодар  2018-05-25  ultra 2018-07-01        47.0   \n",
       "3     1000         -1  Краснодар  2018-05-25  ultra 2018-08-01        52.0   \n",
       "4     1000         -1  Краснодар  2018-05-25  ultra 2018-09-01        58.0   \n",
       "\n",
       "   call_vol  mes_count  gb_used  revenue  \n",
       "0     159.0       22.0      3.0   1950.0  \n",
       "1     172.0       60.0     23.0   1950.0  \n",
       "2     340.0       75.0     14.0   1950.0  \n",
       "3     408.0       81.0     14.0   1950.0  \n",
       "4     466.0       57.0     15.0   1950.0  "
      ]
     },
     "execution_count": 96,
     "metadata": {},
     "output_type": "execute_result"
    }
   ],
   "source": [
    "df_final.head()"
   ]
  },
  {
   "cell_type": "code",
   "execution_count": 97,
   "id": "dae091bf",
   "metadata": {},
   "outputs": [
    {
     "data": {
      "text/html": [
       "<div>\n",
       "<style scoped>\n",
       "    .dataframe tbody tr th:only-of-type {\n",
       "        vertical-align: middle;\n",
       "    }\n",
       "\n",
       "    .dataframe tbody tr th {\n",
       "        vertical-align: top;\n",
       "    }\n",
       "\n",
       "    .dataframe thead th {\n",
       "        text-align: right;\n",
       "    }\n",
       "</style>\n",
       "<table border=\"1\" class=\"dataframe\">\n",
       "  <thead>\n",
       "    <tr style=\"text-align: right;\">\n",
       "      <th></th>\n",
       "      <th>user_id</th>\n",
       "      <th>churn_date</th>\n",
       "      <th>city</th>\n",
       "      <th>reg_date</th>\n",
       "      <th>tariff</th>\n",
       "      <th>month</th>\n",
       "      <th>call_count</th>\n",
       "      <th>call_vol</th>\n",
       "      <th>mes_count</th>\n",
       "      <th>gb_used</th>\n",
       "      <th>revenue</th>\n",
       "    </tr>\n",
       "  </thead>\n",
       "  <tbody>\n",
       "    <tr>\n",
       "      <th>8</th>\n",
       "      <td>1001</td>\n",
       "      <td>-1</td>\n",
       "      <td>Москва</td>\n",
       "      <td>2018-11-01</td>\n",
       "      <td>smart</td>\n",
       "      <td>2018-11-01</td>\n",
       "      <td>59.0</td>\n",
       "      <td>430.0</td>\n",
       "      <td>0.0</td>\n",
       "      <td>18.0</td>\n",
       "      <td>1150.0</td>\n",
       "    </tr>\n",
       "    <tr>\n",
       "      <th>9</th>\n",
       "      <td>1001</td>\n",
       "      <td>-1</td>\n",
       "      <td>Москва</td>\n",
       "      <td>2018-11-01</td>\n",
       "      <td>smart</td>\n",
       "      <td>2018-12-01</td>\n",
       "      <td>63.0</td>\n",
       "      <td>414.0</td>\n",
       "      <td>0.0</td>\n",
       "      <td>14.0</td>\n",
       "      <td>550.0</td>\n",
       "    </tr>\n",
       "    <tr>\n",
       "      <th>17</th>\n",
       "      <td>1003</td>\n",
       "      <td>-1</td>\n",
       "      <td>Москва</td>\n",
       "      <td>2018-08-17</td>\n",
       "      <td>ultra</td>\n",
       "      <td>2018-08-01</td>\n",
       "      <td>55.0</td>\n",
       "      <td>380.0</td>\n",
       "      <td>37.0</td>\n",
       "      <td>9.0</td>\n",
       "      <td>1950.0</td>\n",
       "    </tr>\n",
       "    <tr>\n",
       "      <th>18</th>\n",
       "      <td>1003</td>\n",
       "      <td>-1</td>\n",
       "      <td>Москва</td>\n",
       "      <td>2018-08-17</td>\n",
       "      <td>ultra</td>\n",
       "      <td>2018-09-01</td>\n",
       "      <td>134.0</td>\n",
       "      <td>961.0</td>\n",
       "      <td>91.0</td>\n",
       "      <td>13.0</td>\n",
       "      <td>1950.0</td>\n",
       "    </tr>\n",
       "    <tr>\n",
       "      <th>19</th>\n",
       "      <td>1003</td>\n",
       "      <td>-1</td>\n",
       "      <td>Москва</td>\n",
       "      <td>2018-08-17</td>\n",
       "      <td>ultra</td>\n",
       "      <td>2018-10-01</td>\n",
       "      <td>108.0</td>\n",
       "      <td>855.0</td>\n",
       "      <td>83.0</td>\n",
       "      <td>15.0</td>\n",
       "      <td>1950.0</td>\n",
       "    </tr>\n",
       "  </tbody>\n",
       "</table>\n",
       "</div>"
      ],
      "text/plain": [
       "    user_id churn_date    city    reg_date tariff      month  call_count  \\\n",
       "8      1001         -1  Москва  2018-11-01  smart 2018-11-01        59.0   \n",
       "9      1001         -1  Москва  2018-11-01  smart 2018-12-01        63.0   \n",
       "17     1003         -1  Москва  2018-08-17  ultra 2018-08-01        55.0   \n",
       "18     1003         -1  Москва  2018-08-17  ultra 2018-09-01       134.0   \n",
       "19     1003         -1  Москва  2018-08-17  ultra 2018-10-01       108.0   \n",
       "\n",
       "    call_vol  mes_count  gb_used  revenue  \n",
       "8      430.0        0.0     18.0   1150.0  \n",
       "9      414.0        0.0     14.0    550.0  \n",
       "17     380.0       37.0      9.0   1950.0  \n",
       "18     961.0       91.0     13.0   1950.0  \n",
       "19     855.0       83.0     15.0   1950.0  "
      ]
     },
     "execution_count": 97,
     "metadata": {},
     "output_type": "execute_result"
    }
   ],
   "source": [
    "# данные пользователей из Москвы \n",
    "df_msk = df_final.query('city == \"Москва\"')\n",
    "df_msk.head()"
   ]
  },
  {
   "cell_type": "code",
   "execution_count": 98,
   "id": "8d29ec00",
   "metadata": {},
   "outputs": [
    {
     "data": {
      "text/html": [
       "<div>\n",
       "<style scoped>\n",
       "    .dataframe tbody tr th:only-of-type {\n",
       "        vertical-align: middle;\n",
       "    }\n",
       "\n",
       "    .dataframe tbody tr th {\n",
       "        vertical-align: top;\n",
       "    }\n",
       "\n",
       "    .dataframe thead th {\n",
       "        text-align: right;\n",
       "    }\n",
       "</style>\n",
       "<table border=\"1\" class=\"dataframe\">\n",
       "  <thead>\n",
       "    <tr style=\"text-align: right;\">\n",
       "      <th></th>\n",
       "      <th>user_id</th>\n",
       "      <th>churn_date</th>\n",
       "      <th>city</th>\n",
       "      <th>reg_date</th>\n",
       "      <th>tariff</th>\n",
       "      <th>month</th>\n",
       "      <th>call_count</th>\n",
       "      <th>call_vol</th>\n",
       "      <th>mes_count</th>\n",
       "      <th>gb_used</th>\n",
       "      <th>revenue</th>\n",
       "    </tr>\n",
       "  </thead>\n",
       "  <tbody>\n",
       "    <tr>\n",
       "      <th>0</th>\n",
       "      <td>1000</td>\n",
       "      <td>-1</td>\n",
       "      <td>Краснодар</td>\n",
       "      <td>2018-05-25</td>\n",
       "      <td>ultra</td>\n",
       "      <td>2018-05-01</td>\n",
       "      <td>22.0</td>\n",
       "      <td>159.0</td>\n",
       "      <td>22.0</td>\n",
       "      <td>3.0</td>\n",
       "      <td>1950.0</td>\n",
       "    </tr>\n",
       "    <tr>\n",
       "      <th>1</th>\n",
       "      <td>1000</td>\n",
       "      <td>-1</td>\n",
       "      <td>Краснодар</td>\n",
       "      <td>2018-05-25</td>\n",
       "      <td>ultra</td>\n",
       "      <td>2018-06-01</td>\n",
       "      <td>43.0</td>\n",
       "      <td>172.0</td>\n",
       "      <td>60.0</td>\n",
       "      <td>23.0</td>\n",
       "      <td>1950.0</td>\n",
       "    </tr>\n",
       "    <tr>\n",
       "      <th>2</th>\n",
       "      <td>1000</td>\n",
       "      <td>-1</td>\n",
       "      <td>Краснодар</td>\n",
       "      <td>2018-05-25</td>\n",
       "      <td>ultra</td>\n",
       "      <td>2018-07-01</td>\n",
       "      <td>47.0</td>\n",
       "      <td>340.0</td>\n",
       "      <td>75.0</td>\n",
       "      <td>14.0</td>\n",
       "      <td>1950.0</td>\n",
       "    </tr>\n",
       "    <tr>\n",
       "      <th>3</th>\n",
       "      <td>1000</td>\n",
       "      <td>-1</td>\n",
       "      <td>Краснодар</td>\n",
       "      <td>2018-05-25</td>\n",
       "      <td>ultra</td>\n",
       "      <td>2018-08-01</td>\n",
       "      <td>52.0</td>\n",
       "      <td>408.0</td>\n",
       "      <td>81.0</td>\n",
       "      <td>14.0</td>\n",
       "      <td>1950.0</td>\n",
       "    </tr>\n",
       "    <tr>\n",
       "      <th>4</th>\n",
       "      <td>1000</td>\n",
       "      <td>-1</td>\n",
       "      <td>Краснодар</td>\n",
       "      <td>2018-05-25</td>\n",
       "      <td>ultra</td>\n",
       "      <td>2018-09-01</td>\n",
       "      <td>58.0</td>\n",
       "      <td>466.0</td>\n",
       "      <td>57.0</td>\n",
       "      <td>15.0</td>\n",
       "      <td>1950.0</td>\n",
       "    </tr>\n",
       "  </tbody>\n",
       "</table>\n",
       "</div>"
      ],
      "text/plain": [
       "   user_id churn_date       city    reg_date tariff      month  call_count  \\\n",
       "0     1000         -1  Краснодар  2018-05-25  ultra 2018-05-01        22.0   \n",
       "1     1000         -1  Краснодар  2018-05-25  ultra 2018-06-01        43.0   \n",
       "2     1000         -1  Краснодар  2018-05-25  ultra 2018-07-01        47.0   \n",
       "3     1000         -1  Краснодар  2018-05-25  ultra 2018-08-01        52.0   \n",
       "4     1000         -1  Краснодар  2018-05-25  ultra 2018-09-01        58.0   \n",
       "\n",
       "   call_vol  mes_count  gb_used  revenue  \n",
       "0     159.0       22.0      3.0   1950.0  \n",
       "1     172.0       60.0     23.0   1950.0  \n",
       "2     340.0       75.0     14.0   1950.0  \n",
       "3     408.0       81.0     14.0   1950.0  \n",
       "4     466.0       57.0     15.0   1950.0  "
      ]
     },
     "execution_count": 98,
     "metadata": {},
     "output_type": "execute_result"
    }
   ],
   "source": [
    "# данные пользователей из других регионов\n",
    "df_other = df_final.query('city != \"Москва\"')\n",
    "df_other.head()"
   ]
  },
  {
   "cell_type": "markdown",
   "id": "93f391b8",
   "metadata": {},
   "source": [
    "Сформулируем нулевую и альтернативную гипотезы:\n",
    "* H0: Cредняя выручка пользователей из Москвы равна средней выручке пользователей из других регионов;\n",
    "* H1: Cредняя выручка пользователей из Москвы не равна средней выручке пользователей из других регионов."
   ]
  },
  {
   "cell_type": "markdown",
   "id": "7132ecdf",
   "metadata": {},
   "source": [
    "Рассчитаем среднюю выручку пользователей из Москвы и из других регионов."
   ]
  },
  {
   "cell_type": "code",
   "execution_count": 99,
   "id": "de20ab25",
   "metadata": {},
   "outputs": [
    {
     "name": "stdout",
     "output_type": "stream",
     "text": [
      "Размер средней выручки пользователей из Москвы: 1546.7135842880523\n",
      "Размер средней выручки пользователей из других регионов: 1524.9362274298885\n"
     ]
    }
   ],
   "source": [
    "print('Размер средней выручки пользователей из Москвы:', df_msk['revenue'].mean())\n",
    "print('Размер средней выручки пользователей из других регионов:', df_other['revenue'].mean())"
   ]
  },
  {
   "cell_type": "markdown",
   "id": "5433a53b",
   "metadata": {},
   "source": [
    "Используем метод scipy.stats.ttest_ind (array1, array2,equal_var), проверим размер выборок пользователей из Москвы и из других регионов и дисперсии выручки по этим группам для того чтобы принять решение о значении параметра equal_var."
   ]
  },
  {
   "cell_type": "code",
   "execution_count": 100,
   "id": "17c62c06",
   "metadata": {},
   "outputs": [
    {
     "name": "stdout",
     "output_type": "stream",
     "text": [
      "Размер выборки пользователей из Москвы: 611\n",
      "Размер выборки пользователей из других регионов: 2603\n"
     ]
    }
   ],
   "source": [
    "print('Размер выборки пользователей из Москвы:', len(df_msk['user_id']))\n",
    "print('Размер выборки пользователей из других регионов:', len(df_other['user_id']))"
   ]
  },
  {
   "cell_type": "code",
   "execution_count": 101,
   "id": "a713c24d",
   "metadata": {},
   "outputs": [
    {
     "name": "stdout",
     "output_type": "stream",
     "text": [
      "Дисперсия выручки пользователей из Москвы: 565636.4670118855\n",
      "Дисперсия выручки пользователей из других регионов: 654137.6285218045\n"
     ]
    }
   ],
   "source": [
    "# установим ddof=1, так как в нашем датасете только часть пользователей от общей базы\n",
    "variance_estimate_msk = np.var(df_msk['revenue'], ddof=1)\n",
    "variance_estimate_other = np.var(df_other['revenue'], ddof=1)\n",
    "print('Дисперсия выручки пользователей из Москвы:', variance_estimate_msk)\n",
    "print('Дисперсия выручки пользователей из других регионов:', variance_estimate_other)"
   ]
  },
  {
   "cell_type": "markdown",
   "id": "cca2bb3f",
   "metadata": {},
   "source": [
    "Так как размеры выборок очень разные и дисперсии не равны, устанавливаем значение параметра equal_var = False."
   ]
  },
  {
   "cell_type": "code",
   "execution_count": 102,
   "id": "dc925342",
   "metadata": {},
   "outputs": [
    {
     "name": "stdout",
     "output_type": "stream",
     "text": [
      "p-значение:  0.5257376663729298\n",
      "Не получилось отвергнуть нулевую гипотезу\n"
     ]
    }
   ],
   "source": [
    "# проверка гипотезы\n",
    "# зададим критический уровень статистической значимости, если p-value окажется меньше него - отвегнем гипотезу\n",
    "alpha = .01\n",
    "\n",
    "results = st.ttest_ind(\n",
    "    df_msk['revenue'], \n",
    "    df_other['revenue'],\n",
    "    equal_var = False\n",
    ")\n",
    "\n",
    "print('p-значение: ', results.pvalue)\n",
    "\n",
    "if results.pvalue < alpha:\n",
    "    print(\"Отвергаем нулевую гипотезу\")\n",
    "else:\n",
    "    print(\"Не получилось отвергнуть нулевую гипотезу\")"
   ]
  },
  {
   "cell_type": "markdown",
   "id": "4dbe2e44",
   "metadata": {},
   "source": [
    "На основании полученных данных не можем отклонить нулевую гипотезу. Полученное значение p-value говорит о том, что вероятность получить такое или большее различие случайно почти 53%, хотя средняя выручка пользователей из Москвы и других регионов отличается. Это явно слишком большая вероятность, чтобы делать вывод о значимом различии между значениями средней выручки пользователей из двух групп."
   ]
  },
  {
   "cell_type": "markdown",
   "id": "167b0e53",
   "metadata": {},
   "source": [
    "**Выводы**\n",
    "\n",
    "Гипотеза Cредняя выручка пользователей из Москвы отличается от выручки пользователей из других регионов не подтвердилась."
   ]
  },
  {
   "cell_type": "markdown",
   "id": "5a80b2af",
   "metadata": {},
   "source": [
    "### Выводы"
   ]
  },
  {
   "cell_type": "markdown",
   "id": "1aafbea4",
   "metadata": {},
   "source": [
    "Проверка гипотез показала, что гипотеза о средней выручке пользователей тарифов «Ультра» и «Смарт» подтвердилась, а гипотеза о средней выручке пользователей из Москвы и других регионов - нет."
   ]
  },
  {
   "cell_type": "markdown",
   "id": "fa185b72",
   "metadata": {},
   "source": [
    "## Общий вывод"
   ]
  },
  {
   "cell_type": "markdown",
   "id": "b4cdab9f",
   "metadata": {},
   "source": [
    "Исследование проводилось в 4 этапа:\n",
    " 1. На этапе Обзор данных мы ознакомились с данными во всех предоставленных таблицах, обнаружили пропуски, некоректные названия столбцов, определили дальнейший план обработки данных и зафиксировали, что предварительно данных для проведения исследования достаточно.\n",
    " 2. На этапе Предобработка данных мы обработали пропуски, исправили названия столбцов, рассчитали количество израсходованных минут разговора, количество отправленных сообщений, объем израсходованного интернет-трафика по месяцам, а также помесячную выручку с каждого пользователя.\n",
    " 3. На этапе Исследовательский анализ данных мы проанализировали:\n",
    "     * сколько в среднем минут разговора требуется пользователям каждого тарифа в месяц и выяснили, что пользователи обоих тарифов не расходуют полностью пакеты минут, но при этом на тарифе «Смарт» пользователи почти полностью выговаривают пакет;\n",
    "     * сколько в среднем сообщений требуется пользователям каждого тарифа в месяц и выяснили, что пользователи пользователи обоих тарифов в среднем не расходуют полностью пакеты сообщений;\n",
    "     * сколько в среднем интернет-трафика требуется пользователям каждого тарифа в месяц и выяснили, что пользователи тарифа «Смарт» перерасходуют пакет интернет-трафика, а пользователи тарифа «Ультра» не расходуют полностью пакеты интернета;\n",
    "     * среднемесячную выручку пользователей и выяснили, что на тарифе «Смарт» это 1044 руб. и на тарифе «Ультра» - 2011 руб. При этом бОльшее количество пользователей тарифа «Смарт» приносят выручку порядка 700 руб. в месяц, почти все пользователи тарифа «Ультра» - 2000 руб. в месяц.\n",
    " 4. На этапе Проверка гипотез мы выявили, что гипотеза Cредняя выручка пользователей тарифов «Ультра» и «Смарт» различаются подтвердилась, а ипотеза о том, что средняя выручка пользователей из Москвы и других регионов отличается не подтвердилась.\n",
    "\n",
    "По результатам исследования можно сделать следующий вывод: тарифный план «Ультра» приносит компании «Мегалайн» больше денег, чем тарифный план «Смарт».\n",
    "\n",
    "Можно рекомендовать скорректировать рекламный бюджет компании «Мегалайн» в пользу продвижения тарифного плана «Ультра»."
   ]
  }
 ],
 "metadata": {
  "ExecuteTimeLog": [
   {
    "duration": 1312,
    "start_time": "2022-03-16T20:52:01.181Z"
   },
   {
    "duration": 27,
    "start_time": "2022-03-16T20:52:02.501Z"
   },
   {
    "duration": 59,
    "start_time": "2022-03-16T20:52:02.530Z"
   },
   {
    "duration": 165,
    "start_time": "2022-03-16T20:52:02.591Z"
   },
   {
    "duration": 31,
    "start_time": "2022-03-16T20:52:02.758Z"
   },
   {
    "duration": 28,
    "start_time": "2022-03-16T20:52:02.791Z"
   },
   {
    "duration": 53,
    "start_time": "2022-03-16T20:52:02.821Z"
   },
   {
    "duration": 196,
    "start_time": "2022-03-16T20:52:02.877Z"
   },
   {
    "duration": 10,
    "start_time": "2022-03-16T20:52:03.075Z"
   },
   {
    "duration": 257,
    "start_time": "2022-03-16T20:52:03.087Z"
   },
   {
    "duration": 185,
    "start_time": "2022-03-16T20:52:03.346Z"
   },
   {
    "duration": 9,
    "start_time": "2022-03-16T20:52:03.534Z"
   },
   {
    "duration": 81,
    "start_time": "2022-03-16T20:52:03.545Z"
   },
   {
    "duration": 411,
    "start_time": "2022-03-16T20:52:03.629Z"
   },
   {
    "duration": 11,
    "start_time": "2022-03-16T20:52:04.042Z"
   },
   {
    "duration": 47,
    "start_time": "2022-03-16T20:52:04.056Z"
   },
   {
    "duration": 15,
    "start_time": "2022-03-16T20:52:04.106Z"
   },
   {
    "duration": 40,
    "start_time": "2022-03-16T20:52:04.123Z"
   },
   {
    "duration": 40,
    "start_time": "2022-03-16T20:52:04.166Z"
   },
   {
    "duration": 40,
    "start_time": "2022-03-16T20:52:04.208Z"
   },
   {
    "duration": 26,
    "start_time": "2022-03-16T20:52:04.250Z"
   },
   {
    "duration": 43,
    "start_time": "2022-03-16T20:52:04.278Z"
   },
   {
    "duration": 35,
    "start_time": "2022-03-16T20:52:04.326Z"
   },
   {
    "duration": 30,
    "start_time": "2022-03-16T20:52:04.365Z"
   },
   {
    "duration": 40,
    "start_time": "2022-03-16T20:52:04.397Z"
   },
   {
    "duration": 119,
    "start_time": "2022-03-16T20:52:04.439Z"
   },
   {
    "duration": 65,
    "start_time": "2022-03-16T20:52:04.560Z"
   },
   {
    "duration": 275,
    "start_time": "2022-03-16T20:52:04.627Z"
   },
   {
    "duration": 4,
    "start_time": "2022-03-16T20:52:04.905Z"
   },
   {
    "duration": 313,
    "start_time": "2022-03-16T20:52:04.912Z"
   },
   {
    "duration": 31,
    "start_time": "2022-03-16T20:52:05.227Z"
   },
   {
    "duration": 126,
    "start_time": "2022-03-16T20:52:05.260Z"
   },
   {
    "duration": 14,
    "start_time": "2022-03-16T20:52:05.388Z"
   },
   {
    "duration": 55,
    "start_time": "2022-03-16T20:52:05.404Z"
   },
   {
    "duration": 18,
    "start_time": "2022-03-16T20:52:05.461Z"
   },
   {
    "duration": 24,
    "start_time": "2022-03-16T20:52:05.481Z"
   },
   {
    "duration": 51,
    "start_time": "2022-03-16T20:52:05.507Z"
   },
   {
    "duration": 37,
    "start_time": "2022-03-16T20:52:05.560Z"
   },
   {
    "duration": 28,
    "start_time": "2022-03-16T20:52:05.599Z"
   },
   {
    "duration": 25,
    "start_time": "2022-03-16T20:52:05.629Z"
   },
   {
    "duration": 75,
    "start_time": "2022-03-16T20:52:05.655Z"
   },
   {
    "duration": 13,
    "start_time": "2022-03-16T20:52:05.732Z"
   },
   {
    "duration": 185,
    "start_time": "2022-03-16T20:52:05.747Z"
   },
   {
    "duration": 259,
    "start_time": "2022-03-16T20:52:05.934Z"
   },
   {
    "duration": 14,
    "start_time": "2022-03-16T20:52:06.194Z"
   },
   {
    "duration": 20,
    "start_time": "2022-03-16T20:52:06.210Z"
   },
   {
    "duration": 23,
    "start_time": "2022-03-16T20:52:06.233Z"
   },
   {
    "duration": 45,
    "start_time": "2022-03-16T20:52:06.258Z"
   },
   {
    "duration": 52,
    "start_time": "2022-03-16T20:52:06.306Z"
   },
   {
    "duration": 50,
    "start_time": "2022-03-16T20:52:06.360Z"
   },
   {
    "duration": 44,
    "start_time": "2022-03-16T20:52:06.412Z"
   },
   {
    "duration": 15,
    "start_time": "2022-03-16T20:52:06.458Z"
   },
   {
    "duration": 35,
    "start_time": "2022-03-16T20:52:06.475Z"
   },
   {
    "duration": 220,
    "start_time": "2022-03-16T20:52:06.512Z"
   },
   {
    "duration": 19,
    "start_time": "2022-03-16T20:52:06.734Z"
   },
   {
    "duration": 20,
    "start_time": "2022-03-16T20:52:06.755Z"
   },
   {
    "duration": 41,
    "start_time": "2022-03-16T20:52:06.777Z"
   },
   {
    "duration": 14,
    "start_time": "2022-03-16T20:52:06.819Z"
   },
   {
    "duration": 26,
    "start_time": "2022-03-16T20:52:06.834Z"
   },
   {
    "duration": 37,
    "start_time": "2022-03-16T20:52:06.862Z"
   },
   {
    "duration": 25,
    "start_time": "2022-03-16T20:52:06.901Z"
   },
   {
    "duration": 27,
    "start_time": "2022-03-16T20:52:06.927Z"
   },
   {
    "duration": 36,
    "start_time": "2022-03-16T20:52:06.956Z"
   },
   {
    "duration": 42,
    "start_time": "2022-03-16T20:52:06.994Z"
   },
   {
    "duration": 8,
    "start_time": "2022-03-16T20:52:07.039Z"
   },
   {
    "duration": 35,
    "start_time": "2022-03-16T20:52:07.049Z"
   },
   {
    "duration": 11,
    "start_time": "2022-03-16T20:52:07.086Z"
   },
   {
    "duration": 30,
    "start_time": "2022-03-16T20:52:07.104Z"
   },
   {
    "duration": 7,
    "start_time": "2022-03-16T20:52:07.136Z"
   },
   {
    "duration": 15,
    "start_time": "2022-03-16T20:52:07.145Z"
   },
   {
    "duration": 22,
    "start_time": "2022-03-16T20:52:07.162Z"
   },
   {
    "duration": 38,
    "start_time": "2022-03-16T20:52:07.185Z"
   },
   {
    "duration": 27,
    "start_time": "2022-03-16T20:52:07.225Z"
   },
   {
    "duration": 45,
    "start_time": "2022-03-16T20:52:07.254Z"
   },
   {
    "duration": 22,
    "start_time": "2022-03-16T20:52:07.302Z"
   },
   {
    "duration": 39,
    "start_time": "2022-03-16T20:52:07.326Z"
   },
   {
    "duration": 52,
    "start_time": "2022-03-16T20:52:07.367Z"
   },
   {
    "duration": 38,
    "start_time": "2022-03-16T20:52:07.421Z"
   },
   {
    "duration": 26,
    "start_time": "2022-03-16T20:52:07.461Z"
   },
   {
    "duration": 346,
    "start_time": "2022-03-16T20:52:07.489Z"
   },
   {
    "duration": 243,
    "start_time": "2022-03-16T20:52:07.838Z"
   },
   {
    "duration": 272,
    "start_time": "2022-03-16T20:52:08.084Z"
   },
   {
    "duration": 5,
    "start_time": "2022-03-16T20:52:08.358Z"
   },
   {
    "duration": 236,
    "start_time": "2022-03-16T20:52:08.365Z"
   },
   {
    "duration": 246,
    "start_time": "2022-03-16T20:52:08.603Z"
   },
   {
    "duration": 342,
    "start_time": "2022-03-16T20:52:08.850Z"
   },
   {
    "duration": 10,
    "start_time": "2022-03-16T20:52:09.194Z"
   },
   {
    "duration": 311,
    "start_time": "2022-03-16T20:52:09.206Z"
   },
   {
    "duration": 624,
    "start_time": "2022-03-16T20:52:09.519Z"
   },
   {
    "duration": 408,
    "start_time": "2022-03-16T20:52:10.145Z"
   },
   {
    "duration": 6,
    "start_time": "2022-03-16T20:52:10.556Z"
   },
   {
    "duration": 371,
    "start_time": "2022-03-16T20:52:10.564Z"
   },
   {
    "duration": 257,
    "start_time": "2022-03-16T20:52:10.937Z"
   },
   {
    "duration": 262,
    "start_time": "2022-03-16T20:52:11.196Z"
   },
   {
    "duration": 5,
    "start_time": "2022-03-16T20:52:11.460Z"
   },
   {
    "duration": 32,
    "start_time": "2022-03-16T20:52:11.466Z"
   },
   {
    "duration": 26,
    "start_time": "2022-03-16T20:52:11.500Z"
   },
   {
    "duration": 27,
    "start_time": "2022-03-16T20:52:11.528Z"
   },
   {
    "duration": 38,
    "start_time": "2022-03-16T20:52:11.558Z"
   },
   {
    "duration": 43,
    "start_time": "2022-03-16T20:52:11.599Z"
   },
   {
    "duration": 36,
    "start_time": "2022-03-16T20:52:11.644Z"
   },
   {
    "duration": 37,
    "start_time": "2022-03-16T20:52:11.682Z"
   },
   {
    "duration": 44,
    "start_time": "2022-03-16T20:52:11.721Z"
   },
   {
    "duration": 24,
    "start_time": "2022-03-16T20:52:11.767Z"
   },
   {
    "duration": 46,
    "start_time": "2022-03-16T20:52:11.793Z"
   },
   {
    "duration": 23,
    "start_time": "2022-03-16T20:52:11.841Z"
   },
   {
    "duration": 1160,
    "start_time": "2022-03-16T20:53:18.542Z"
   },
   {
    "duration": 20,
    "start_time": "2022-03-16T20:53:19.704Z"
   },
   {
    "duration": 15,
    "start_time": "2022-03-16T20:53:19.727Z"
   },
   {
    "duration": 9,
    "start_time": "2022-03-16T20:53:19.744Z"
   },
   {
    "duration": 20,
    "start_time": "2022-03-16T20:53:19.755Z"
   },
   {
    "duration": 16,
    "start_time": "2022-03-16T20:53:19.777Z"
   },
   {
    "duration": 11,
    "start_time": "2022-03-16T20:53:19.795Z"
   },
   {
    "duration": 170,
    "start_time": "2022-03-16T20:53:19.809Z"
   },
   {
    "duration": 9,
    "start_time": "2022-03-16T20:53:19.982Z"
   },
   {
    "duration": 26,
    "start_time": "2022-03-16T20:53:20.002Z"
   },
   {
    "duration": 109,
    "start_time": "2022-03-16T20:53:20.030Z"
   },
   {
    "duration": 10,
    "start_time": "2022-03-16T20:53:20.141Z"
   },
   {
    "duration": 20,
    "start_time": "2022-03-16T20:53:20.153Z"
   },
   {
    "duration": 149,
    "start_time": "2022-03-16T20:53:20.175Z"
   },
   {
    "duration": 9,
    "start_time": "2022-03-16T20:53:20.326Z"
   },
   {
    "duration": 27,
    "start_time": "2022-03-16T20:53:20.337Z"
   },
   {
    "duration": 6,
    "start_time": "2022-03-16T20:53:20.366Z"
   },
   {
    "duration": 31,
    "start_time": "2022-03-16T20:53:20.374Z"
   },
   {
    "duration": 19,
    "start_time": "2022-03-16T20:53:20.408Z"
   },
   {
    "duration": 19,
    "start_time": "2022-03-16T20:53:20.429Z"
   },
   {
    "duration": 15,
    "start_time": "2022-03-16T20:53:20.450Z"
   },
   {
    "duration": 41,
    "start_time": "2022-03-16T20:53:20.467Z"
   },
   {
    "duration": 35,
    "start_time": "2022-03-16T20:53:20.515Z"
   },
   {
    "duration": 23,
    "start_time": "2022-03-16T20:53:20.554Z"
   },
   {
    "duration": 32,
    "start_time": "2022-03-16T20:53:20.579Z"
   },
   {
    "duration": 120,
    "start_time": "2022-03-16T20:53:20.613Z"
   },
   {
    "duration": 66,
    "start_time": "2022-03-16T20:53:20.735Z"
   },
   {
    "duration": 255,
    "start_time": "2022-03-16T20:53:20.804Z"
   },
   {
    "duration": 4,
    "start_time": "2022-03-16T20:53:21.061Z"
   },
   {
    "duration": 355,
    "start_time": "2022-03-16T20:53:21.067Z"
   },
   {
    "duration": 30,
    "start_time": "2022-03-16T20:53:21.424Z"
   },
   {
    "duration": 95,
    "start_time": "2022-03-16T20:53:21.456Z"
   },
   {
    "duration": 11,
    "start_time": "2022-03-16T20:53:21.552Z"
   },
   {
    "duration": 39,
    "start_time": "2022-03-16T20:53:21.565Z"
   },
   {
    "duration": 14,
    "start_time": "2022-03-16T20:53:21.607Z"
   },
   {
    "duration": 21,
    "start_time": "2022-03-16T20:53:21.623Z"
   },
   {
    "duration": 21,
    "start_time": "2022-03-16T20:53:21.647Z"
   },
   {
    "duration": 43,
    "start_time": "2022-03-16T20:53:21.670Z"
   },
   {
    "duration": 17,
    "start_time": "2022-03-16T20:53:21.715Z"
   },
   {
    "duration": 22,
    "start_time": "2022-03-16T20:53:21.734Z"
   },
   {
    "duration": 53,
    "start_time": "2022-03-16T20:53:21.758Z"
   },
   {
    "duration": 14,
    "start_time": "2022-03-16T20:53:21.813Z"
   },
   {
    "duration": 18,
    "start_time": "2022-03-16T20:53:21.828Z"
   },
   {
    "duration": 257,
    "start_time": "2022-03-16T20:53:21.848Z"
   },
   {
    "duration": 20,
    "start_time": "2022-03-16T20:53:22.107Z"
   },
   {
    "duration": 20,
    "start_time": "2022-03-16T20:53:22.129Z"
   },
   {
    "duration": 52,
    "start_time": "2022-03-16T20:53:22.152Z"
   },
   {
    "duration": 29,
    "start_time": "2022-03-16T20:53:22.207Z"
   },
   {
    "duration": 16,
    "start_time": "2022-03-16T20:53:22.238Z"
   },
   {
    "duration": 46,
    "start_time": "2022-03-16T20:53:22.257Z"
   },
   {
    "duration": 42,
    "start_time": "2022-03-16T20:53:22.305Z"
   },
   {
    "duration": 17,
    "start_time": "2022-03-16T20:53:22.349Z"
   },
   {
    "duration": 53,
    "start_time": "2022-03-16T20:53:22.368Z"
   },
   {
    "duration": 220,
    "start_time": "2022-03-16T20:53:22.424Z"
   },
   {
    "duration": 19,
    "start_time": "2022-03-16T20:53:22.646Z"
   },
   {
    "duration": 16,
    "start_time": "2022-03-16T20:53:22.666Z"
   },
   {
    "duration": 32,
    "start_time": "2022-03-16T20:53:22.684Z"
   },
   {
    "duration": 26,
    "start_time": "2022-03-16T20:53:22.718Z"
   },
   {
    "duration": 19,
    "start_time": "2022-03-16T20:53:22.747Z"
   },
   {
    "duration": 13,
    "start_time": "2022-03-16T20:53:22.768Z"
   },
   {
    "duration": 29,
    "start_time": "2022-03-16T20:53:22.784Z"
   },
   {
    "duration": 52,
    "start_time": "2022-03-16T20:53:22.815Z"
   },
   {
    "duration": 19,
    "start_time": "2022-03-16T20:53:22.869Z"
   },
   {
    "duration": 34,
    "start_time": "2022-03-16T20:53:22.890Z"
   },
   {
    "duration": 12,
    "start_time": "2022-03-16T20:53:22.925Z"
   },
   {
    "duration": 32,
    "start_time": "2022-03-16T20:53:22.939Z"
   },
   {
    "duration": 7,
    "start_time": "2022-03-16T20:53:22.973Z"
   },
   {
    "duration": 35,
    "start_time": "2022-03-16T20:53:22.986Z"
   },
   {
    "duration": 22,
    "start_time": "2022-03-16T20:53:23.023Z"
   },
   {
    "duration": 23,
    "start_time": "2022-03-16T20:53:23.047Z"
   },
   {
    "duration": 21,
    "start_time": "2022-03-16T20:53:23.072Z"
   },
   {
    "duration": 43,
    "start_time": "2022-03-16T20:53:23.096Z"
   },
   {
    "duration": 28,
    "start_time": "2022-03-16T20:53:23.142Z"
   },
   {
    "duration": 24,
    "start_time": "2022-03-16T20:53:23.172Z"
   },
   {
    "duration": 26,
    "start_time": "2022-03-16T20:53:23.199Z"
   },
   {
    "duration": 25,
    "start_time": "2022-03-16T20:53:23.227Z"
   },
   {
    "duration": 22,
    "start_time": "2022-03-16T20:53:23.254Z"
   },
   {
    "duration": 42,
    "start_time": "2022-03-16T20:53:23.278Z"
   },
   {
    "duration": 26,
    "start_time": "2022-03-16T20:53:23.323Z"
   },
   {
    "duration": 243,
    "start_time": "2022-03-16T20:53:23.352Z"
   },
   {
    "duration": 241,
    "start_time": "2022-03-16T20:53:23.600Z"
   },
   {
    "duration": 275,
    "start_time": "2022-03-16T20:53:23.844Z"
   },
   {
    "duration": 6,
    "start_time": "2022-03-16T20:53:24.122Z"
   },
   {
    "duration": 241,
    "start_time": "2022-03-16T20:53:24.130Z"
   },
   {
    "duration": 257,
    "start_time": "2022-03-16T20:53:24.374Z"
   },
   {
    "duration": 332,
    "start_time": "2022-03-16T20:53:24.633Z"
   },
   {
    "duration": 5,
    "start_time": "2022-03-16T20:53:24.967Z"
   },
   {
    "duration": 260,
    "start_time": "2022-03-16T20:53:24.974Z"
   },
   {
    "duration": 253,
    "start_time": "2022-03-16T20:53:25.236Z"
   },
   {
    "duration": 262,
    "start_time": "2022-03-16T20:53:25.491Z"
   },
   {
    "duration": 4,
    "start_time": "2022-03-16T20:53:25.755Z"
   },
   {
    "duration": 240,
    "start_time": "2022-03-16T20:53:25.761Z"
   },
   {
    "duration": 256,
    "start_time": "2022-03-16T20:53:26.003Z"
   },
   {
    "duration": 273,
    "start_time": "2022-03-16T20:53:26.261Z"
   },
   {
    "duration": 4,
    "start_time": "2022-03-16T20:53:26.536Z"
   },
   {
    "duration": 9,
    "start_time": "2022-03-16T20:53:26.542Z"
   },
   {
    "duration": 7,
    "start_time": "2022-03-16T20:53:26.553Z"
   },
   {
    "duration": 6,
    "start_time": "2022-03-16T20:53:26.562Z"
   },
   {
    "duration": 33,
    "start_time": "2022-03-16T20:53:26.570Z"
   },
   {
    "duration": 31,
    "start_time": "2022-03-16T20:53:26.605Z"
   },
   {
    "duration": 23,
    "start_time": "2022-03-16T20:53:26.638Z"
   },
   {
    "duration": 21,
    "start_time": "2022-03-16T20:53:26.663Z"
   },
   {
    "duration": 18,
    "start_time": "2022-03-16T20:53:26.686Z"
   },
   {
    "duration": 17,
    "start_time": "2022-03-16T20:53:26.706Z"
   },
   {
    "duration": 14,
    "start_time": "2022-03-16T20:53:26.725Z"
   },
   {
    "duration": 13,
    "start_time": "2022-03-16T20:53:26.741Z"
   },
   {
    "duration": 22,
    "start_time": "2022-03-16T21:00:20.011Z"
   },
   {
    "duration": 22,
    "start_time": "2022-03-16T21:02:23.047Z"
   },
   {
    "duration": 6,
    "start_time": "2022-03-16T21:06:40.288Z"
   },
   {
    "duration": 64,
    "start_time": "2022-03-18T11:16:26.338Z"
   },
   {
    "duration": 1239,
    "start_time": "2022-03-18T11:16:39.666Z"
   },
   {
    "duration": 68,
    "start_time": "2022-03-18T11:16:40.908Z"
   },
   {
    "duration": 15,
    "start_time": "2022-03-18T11:16:40.977Z"
   },
   {
    "duration": 47,
    "start_time": "2022-03-18T11:16:40.994Z"
   },
   {
    "duration": 32,
    "start_time": "2022-03-18T11:16:41.043Z"
   },
   {
    "duration": 10,
    "start_time": "2022-03-18T11:16:41.076Z"
   },
   {
    "duration": 48,
    "start_time": "2022-03-18T11:16:41.088Z"
   },
   {
    "duration": 193,
    "start_time": "2022-03-18T11:16:41.138Z"
   },
   {
    "duration": 9,
    "start_time": "2022-03-18T11:16:41.335Z"
   },
   {
    "duration": 49,
    "start_time": "2022-03-18T11:16:41.347Z"
   },
   {
    "duration": 137,
    "start_time": "2022-03-18T11:16:41.399Z"
   },
   {
    "duration": 10,
    "start_time": "2022-03-18T11:16:41.538Z"
   },
   {
    "duration": 60,
    "start_time": "2022-03-18T11:16:41.549Z"
   },
   {
    "duration": 173,
    "start_time": "2022-03-18T11:16:41.611Z"
   },
   {
    "duration": 11,
    "start_time": "2022-03-18T11:16:41.786Z"
   },
   {
    "duration": 51,
    "start_time": "2022-03-18T11:16:41.798Z"
   },
   {
    "duration": 25,
    "start_time": "2022-03-18T11:16:41.851Z"
   },
   {
    "duration": 53,
    "start_time": "2022-03-18T11:16:41.877Z"
   },
   {
    "duration": 34,
    "start_time": "2022-03-18T11:16:41.932Z"
   },
   {
    "duration": 62,
    "start_time": "2022-03-18T11:16:41.968Z"
   },
   {
    "duration": 38,
    "start_time": "2022-03-18T11:16:42.032Z"
   },
   {
    "duration": 50,
    "start_time": "2022-03-18T11:16:42.072Z"
   },
   {
    "duration": 61,
    "start_time": "2022-03-18T11:16:42.124Z"
   },
   {
    "duration": 49,
    "start_time": "2022-03-18T11:16:42.189Z"
   },
   {
    "duration": 29,
    "start_time": "2022-03-18T11:16:42.240Z"
   },
   {
    "duration": 53,
    "start_time": "2022-03-18T11:16:42.271Z"
   },
   {
    "duration": 32,
    "start_time": "2022-03-18T11:16:42.326Z"
   },
   {
    "duration": 90,
    "start_time": "2022-03-18T11:16:42.362Z"
   },
   {
    "duration": 210,
    "start_time": "2022-03-18T11:16:42.454Z"
   },
   {
    "duration": 3,
    "start_time": "2022-03-18T11:16:42.666Z"
   },
   {
    "duration": 214,
    "start_time": "2022-03-18T11:16:42.671Z"
   },
   {
    "duration": 36,
    "start_time": "2022-03-18T11:16:42.887Z"
   },
   {
    "duration": 88,
    "start_time": "2022-03-18T11:16:42.925Z"
   },
   {
    "duration": 13,
    "start_time": "2022-03-18T11:16:43.015Z"
   },
   {
    "duration": 22,
    "start_time": "2022-03-18T11:16:43.029Z"
   },
   {
    "duration": 31,
    "start_time": "2022-03-18T11:16:43.053Z"
   },
   {
    "duration": 59,
    "start_time": "2022-03-18T11:16:43.086Z"
   },
   {
    "duration": 29,
    "start_time": "2022-03-18T11:16:43.147Z"
   },
   {
    "duration": 90,
    "start_time": "2022-03-18T11:16:43.178Z"
   },
   {
    "duration": 61,
    "start_time": "2022-03-18T11:16:43.270Z"
   },
   {
    "duration": 43,
    "start_time": "2022-03-18T11:16:43.332Z"
   },
   {
    "duration": 262,
    "start_time": "2022-03-18T11:16:43.378Z"
   },
   {
    "duration": 18,
    "start_time": "2022-03-18T11:16:43.642Z"
   },
   {
    "duration": 48,
    "start_time": "2022-03-18T11:16:43.662Z"
   },
   {
    "duration": 55,
    "start_time": "2022-03-18T11:16:43.712Z"
   },
   {
    "duration": 27,
    "start_time": "2022-03-18T11:16:43.768Z"
   },
   {
    "duration": 40,
    "start_time": "2022-03-18T11:16:43.799Z"
   },
   {
    "duration": 46,
    "start_time": "2022-03-18T11:16:43.841Z"
   },
   {
    "duration": 78,
    "start_time": "2022-03-18T11:16:43.889Z"
   },
   {
    "duration": 33,
    "start_time": "2022-03-18T11:16:43.969Z"
   },
   {
    "duration": 67,
    "start_time": "2022-03-18T11:16:44.004Z"
   },
   {
    "duration": 56,
    "start_time": "2022-03-18T11:16:44.073Z"
   },
   {
    "duration": 236,
    "start_time": "2022-03-18T11:16:44.130Z"
   },
   {
    "duration": 19,
    "start_time": "2022-03-18T11:16:44.368Z"
   },
   {
    "duration": 63,
    "start_time": "2022-03-18T11:16:44.397Z"
   },
   {
    "duration": 58,
    "start_time": "2022-03-18T11:16:44.461Z"
   },
   {
    "duration": 44,
    "start_time": "2022-03-18T11:16:44.522Z"
   },
   {
    "duration": 83,
    "start_time": "2022-03-18T11:16:44.567Z"
   },
   {
    "duration": 84,
    "start_time": "2022-03-18T11:16:44.652Z"
   },
   {
    "duration": 3,
    "start_time": "2022-03-18T11:16:44.738Z"
   },
   {
    "duration": 25,
    "start_time": "2022-03-18T11:16:44.743Z"
   },
   {
    "duration": 100,
    "start_time": "2022-03-18T11:16:44.769Z"
   },
   {
    "duration": 89,
    "start_time": "2022-03-18T11:16:44.871Z"
   },
   {
    "duration": 86,
    "start_time": "2022-03-18T11:16:44.962Z"
   },
   {
    "duration": 74,
    "start_time": "2022-03-18T11:16:45.050Z"
   },
   {
    "duration": 129,
    "start_time": "2022-03-18T11:16:45.126Z"
   },
   {
    "duration": 83,
    "start_time": "2022-03-18T11:16:45.257Z"
   },
   {
    "duration": 86,
    "start_time": "2022-03-18T11:16:45.342Z"
   },
   {
    "duration": 89,
    "start_time": "2022-03-18T11:16:45.429Z"
   },
   {
    "duration": 87,
    "start_time": "2022-03-18T11:16:45.521Z"
   },
   {
    "duration": 123,
    "start_time": "2022-03-18T11:16:45.610Z"
   },
   {
    "duration": 102,
    "start_time": "2022-03-18T11:16:45.734Z"
   },
   {
    "duration": 135,
    "start_time": "2022-03-18T11:16:45.838Z"
   },
   {
    "duration": 33,
    "start_time": "2022-03-18T11:16:45.975Z"
   },
   {
    "duration": 115,
    "start_time": "2022-03-18T11:16:46.012Z"
   },
   {
    "duration": 28,
    "start_time": "2022-03-18T11:16:46.131Z"
   },
   {
    "duration": 68,
    "start_time": "2022-03-18T11:16:46.161Z"
   },
   {
    "duration": 43,
    "start_time": "2022-03-18T11:16:46.231Z"
   },
   {
    "duration": 35,
    "start_time": "2022-03-18T11:16:46.276Z"
   },
   {
    "duration": 40,
    "start_time": "2022-03-18T11:16:46.317Z"
   },
   {
    "duration": 71,
    "start_time": "2022-03-18T11:16:46.359Z"
   },
   {
    "duration": 26,
    "start_time": "2022-03-18T11:16:46.438Z"
   },
   {
    "duration": 25,
    "start_time": "2022-03-18T11:16:46.466Z"
   },
   {
    "duration": 94,
    "start_time": "2022-03-18T11:16:46.493Z"
   },
   {
    "duration": 56,
    "start_time": "2022-03-18T11:16:46.589Z"
   },
   {
    "duration": 102,
    "start_time": "2022-03-18T11:16:46.647Z"
   },
   {
    "duration": 77,
    "start_time": "2022-03-18T11:16:46.751Z"
   },
   {
    "duration": 76,
    "start_time": "2022-03-18T11:16:46.830Z"
   },
   {
    "duration": 15,
    "start_time": "2022-03-18T11:16:46.909Z"
   },
   {
    "duration": 59,
    "start_time": "2022-03-18T11:16:46.926Z"
   },
   {
    "duration": 60,
    "start_time": "2022-03-18T11:16:46.987Z"
   },
   {
    "duration": 86,
    "start_time": "2022-03-18T11:16:47.049Z"
   },
   {
    "duration": 71,
    "start_time": "2022-03-18T11:16:47.137Z"
   },
   {
    "duration": 83,
    "start_time": "2022-03-18T11:16:47.210Z"
   },
   {
    "duration": 80,
    "start_time": "2022-03-18T11:16:47.296Z"
   },
   {
    "duration": 33,
    "start_time": "2022-03-18T11:16:47.378Z"
   },
   {
    "duration": 30,
    "start_time": "2022-03-18T11:16:47.414Z"
   },
   {
    "duration": 190,
    "start_time": "2022-03-18T11:16:47.446Z"
   },
   {
    "duration": 181,
    "start_time": "2022-03-18T11:16:47.639Z"
   },
   {
    "duration": 242,
    "start_time": "2022-03-18T11:16:47.822Z"
   },
   {
    "duration": 4,
    "start_time": "2022-03-18T11:16:48.066Z"
   },
   {
    "duration": 204,
    "start_time": "2022-03-18T11:16:48.080Z"
   },
   {
    "duration": 238,
    "start_time": "2022-03-18T11:16:48.286Z"
   },
   {
    "duration": 247,
    "start_time": "2022-03-18T11:16:48.526Z"
   },
   {
    "duration": 11,
    "start_time": "2022-03-18T11:16:48.775Z"
   },
   {
    "duration": 173,
    "start_time": "2022-03-18T11:16:48.788Z"
   },
   {
    "duration": 156,
    "start_time": "2022-03-18T11:16:48.963Z"
   },
   {
    "duration": 229,
    "start_time": "2022-03-18T11:16:49.121Z"
   },
   {
    "duration": 5,
    "start_time": "2022-03-18T11:16:49.352Z"
   },
   {
    "duration": 174,
    "start_time": "2022-03-18T11:16:49.359Z"
   },
   {
    "duration": 168,
    "start_time": "2022-03-18T11:16:49.535Z"
   },
   {
    "duration": 163,
    "start_time": "2022-03-18T11:16:49.705Z"
   },
   {
    "duration": 11,
    "start_time": "2022-03-18T11:16:49.869Z"
   },
   {
    "duration": 6,
    "start_time": "2022-03-18T11:16:49.882Z"
   },
   {
    "duration": 26,
    "start_time": "2022-03-18T11:16:49.890Z"
   },
   {
    "duration": 17,
    "start_time": "2022-03-18T11:16:49.918Z"
   },
   {
    "duration": 7,
    "start_time": "2022-03-18T11:16:49.937Z"
   },
   {
    "duration": 75,
    "start_time": "2022-03-18T11:16:49.946Z"
   },
   {
    "duration": 79,
    "start_time": "2022-03-18T11:16:50.023Z"
   },
   {
    "duration": 76,
    "start_time": "2022-03-18T11:16:50.104Z"
   },
   {
    "duration": 8,
    "start_time": "2022-03-18T11:16:50.182Z"
   },
   {
    "duration": 36,
    "start_time": "2022-03-18T11:16:50.192Z"
   },
   {
    "duration": 9,
    "start_time": "2022-03-18T11:16:50.229Z"
   },
   {
    "duration": 20,
    "start_time": "2022-03-18T11:16:50.240Z"
   },
   {
    "duration": 32,
    "start_time": "2022-03-18T11:17:04.732Z"
   }
  ],
  "kernelspec": {
   "display_name": "Python 3 (ipykernel)",
   "language": "python",
   "name": "python3"
  },
  "language_info": {
   "codemirror_mode": {
    "name": "ipython",
    "version": 3
   },
   "file_extension": ".py",
   "mimetype": "text/x-python",
   "name": "python",
   "nbconvert_exporter": "python",
   "pygments_lexer": "ipython3",
   "version": "3.9.7"
  },
  "toc": {
   "base_numbering": 1,
   "nav_menu": {},
   "number_sections": true,
   "sideBar": true,
   "skip_h1_title": true,
   "title_cell": "Содержание",
   "title_sidebar": "Contents",
   "toc_cell": false,
   "toc_position": {},
   "toc_section_display": true,
   "toc_window_display": true
  },
  "toc-autonumbering": false
 },
 "nbformat": 4,
 "nbformat_minor": 5
}
